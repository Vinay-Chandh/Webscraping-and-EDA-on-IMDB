{
 "cells": [
  {
   "cell_type": "code",
   "execution_count": 5,
   "metadata": {},
   "outputs": [],
   "source": [
    "import pandas as pd\n",
    "import regex as re\n"
   ]
  },
  {
   "cell_type": "code",
   "execution_count": 6,
   "metadata": {},
   "outputs": [],
   "source": [
    "import requests\n",
    "from bs4 import BeautifulSoup\n",
    "import pandas as pd"
   ]
  },
  {
   "cell_type": "code",
   "execution_count": 114,
   "metadata": {},
   "outputs": [],
   "source": [
    "name=[]\n",
    "y=[]\n",
    "ra=[]\n",
    "R=[]\n",
    "g=[]\n",
    "da=[]\n",
    "s=[]\n",
    "t=[]\n",
    "v=[]"
   ]
  },
  {
   "cell_type": "code",
   "execution_count": 115,
   "metadata": {},
   "outputs": [
    {
     "data": {
      "text/plain": [
       "0"
      ]
     },
     "execution_count": 115,
     "metadata": {},
     "output_type": "execute_result"
    }
   ],
   "source": [
    "len(v)"
   ]
  },
  {
   "cell_type": "code",
   "execution_count": null,
   "metadata": {},
   "outputs": [],
   "source": [
    "for i in range(1,5):\n",
    "    url=f\"https://www.imdb.com/list/ls047058982/?sort=list_order,asc&st_dt=&mode=detail&page={i}\"\n",
    "    r = requests.get(url)\n",
    "    soup = BeautifulSoup(r.content)\n",
    "    a = soup.find_all('h3', class_=\"lister-item-header\")\n",
    "    b=soup.find_all(\"span\",class_=\"lister-item-year text-muted unbold\")\n",
    "    c=soup.find_all(\"div\",class_=\"ipl-rating-star small\")\n",
    "    d=soup.find_all(\"span\",class_=\"genre\")\n",
    "    e=soup.findAll(\"p\",class_=\"text-muted text-small\")\n",
    "    at=soup.find_all(\"span\",class_=\"runtime\")\n",
    "    b_d=e[1::3]\n",
    "    av=soup.find_all(\"p\",class_=\"text-muted text-small\")\n",
    "    bv=av[2::3]\n",
    "    for i in range(len(a)):\n",
    "        name.append(a[i].find(\"a\").text)\n",
    "        y.append(b[i].text)\n",
    "        #ra.append(re.findall(\"\\d+[.]?\",c[i].text))\n",
    "        #aa=\"\".join(ra[i])\n",
    "        #R.append(aa)\n",
    "        #g.append(re.findall(\"[A-z]+\",d[i].text))\n",
    "        cd=b_d[i].text.split(\"|\")\n",
    "        da.append(re.findall(\":([A-z\\D]+)\",cd[0].replace(\"\\n\",\"\")))\n",
    "        #s.append(re.findall(\"Stars:([A-z\\D]+)\",cd[1].replace(\"\\n\",\"\")))\n",
    "        #t.append(at[i].text)\n",
    "        v.append(re.findall(\"Votes:(\\d+,\\d+)\",bv[i].text.replace(\"\\n\",\"\")))"
   ]
  },
  {
   "cell_type": "code",
   "execution_count": 107,
   "metadata": {},
   "outputs": [
    {
     "data": {
      "text/plain": [
       "100"
      ]
     },
     "execution_count": 107,
     "metadata": {},
     "output_type": "execute_result"
    }
   ],
   "source": [
    "len(a)"
   ]
  },
  {
   "cell_type": "code",
   "execution_count": null,
   "metadata": {},
   "outputs": [],
   "source": []
  },
  {
   "cell_type": "code",
   "execution_count": null,
   "metadata": {},
   "outputs": [],
   "source": []
  }
 ],
 "metadata": {
  "kernelspec": {
   "display_name": "Python 3",
   "language": "python",
   "name": "python3"
  },
  "language_info": {
   "codemirror_mode": {
    "name": "ipython",
    "version": 3
   },
   "file_extension": ".py",
   "mimetype": "text/x-python",
   "name": "python",
   "nbconvert_exporter": "python",
   "pygments_lexer": "ipython3",
   "version": "3.8.5"
  }
 },
 "nbformat": 4,
 "nbformat_minor": 5
}
