{
 "cells": [
  {
   "cell_type": "code",
   "execution_count": 2,
   "metadata": {},
   "outputs": [],
   "source": [
    "import pandas as pd\n",
    "import os\n",
    "import seaborn as sns\n",
    "import matplotlib.pyplot as plt\n",
    "import plotly.express as px"
   ]
  },
  {
   "cell_type": "code",
   "execution_count": 3,
   "metadata": {},
   "outputs": [],
   "source": [
    "df=pd.read_csv(\"final_hindi_movies.csv\",index_col=0)"
   ]
  },
  {
   "cell_type": "code",
   "execution_count": 4,
   "metadata": {},
   "outputs": [
    {
     "data": {
      "text/html": [
       "<div>\n",
       "<style scoped>\n",
       "    .dataframe tbody tr th:only-of-type {\n",
       "        vertical-align: middle;\n",
       "    }\n",
       "\n",
       "    .dataframe tbody tr th {\n",
       "        vertical-align: top;\n",
       "    }\n",
       "\n",
       "    .dataframe thead th {\n",
       "        text-align: right;\n",
       "    }\n",
       "</style>\n",
       "<table border=\"1\" class=\"dataframe\">\n",
       "  <thead>\n",
       "    <tr style=\"text-align: right;\">\n",
       "      <th></th>\n",
       "      <th>title</th>\n",
       "      <th>director</th>\n",
       "      <th>year</th>\n",
       "      <th>stars</th>\n",
       "      <th>rating</th>\n",
       "      <th>votes</th>\n",
       "      <th>duration</th>\n",
       "      <th>genre</th>\n",
       "    </tr>\n",
       "  </thead>\n",
       "  <tbody>\n",
       "    <tr>\n",
       "      <th>0</th>\n",
       "      <td>Pink</td>\n",
       "      <td>Aniruddha Roy Chowdhury</td>\n",
       "      <td>2016</td>\n",
       "      <td>Taapsee PannuAmitabh BachchanKirti Kulhari</td>\n",
       "      <td>8.1</td>\n",
       "      <td>43000</td>\n",
       "      <td>136</td>\n",
       "      <td>Crime</td>\n",
       "    </tr>\n",
       "    <tr>\n",
       "      <th>1</th>\n",
       "      <td>Masaan</td>\n",
       "      <td>Neeraj Ghaywan</td>\n",
       "      <td>2015</td>\n",
       "      <td>Richa ChadhaSanjay MishraVicky Kaushal</td>\n",
       "      <td>8.2</td>\n",
       "      <td>27000</td>\n",
       "      <td>144</td>\n",
       "      <td>Drama</td>\n",
       "    </tr>\n",
       "    <tr>\n",
       "      <th>2</th>\n",
       "      <td>Talvar</td>\n",
       "      <td>Meghna Gulzar</td>\n",
       "      <td>2015</td>\n",
       "      <td>Irrfan KhanKonkona Sen SharmaNeeraj Kabi</td>\n",
       "      <td>8.2</td>\n",
       "      <td>34000</td>\n",
       "      <td>132</td>\n",
       "      <td>Crime</td>\n",
       "    </tr>\n",
       "    <tr>\n",
       "      <th>3</th>\n",
       "      <td>Deewaar</td>\n",
       "      <td>Yash Chopra</td>\n",
       "      <td>1975</td>\n",
       "      <td>Amitabh BachchanShashi KapoorNirupa Roy</td>\n",
       "      <td>8.1</td>\n",
       "      <td>11000</td>\n",
       "      <td>174</td>\n",
       "      <td>Action</td>\n",
       "    </tr>\n",
       "    <tr>\n",
       "      <th>4</th>\n",
       "      <td>Ab Tak Chhappan</td>\n",
       "      <td>Shimit Amin</td>\n",
       "      <td>2004</td>\n",
       "      <td>Nana PatekarRevathiYashpal Sharma</td>\n",
       "      <td>7.8</td>\n",
       "      <td>8700</td>\n",
       "      <td>129</td>\n",
       "      <td>Action</td>\n",
       "    </tr>\n",
       "    <tr>\n",
       "      <th>...</th>\n",
       "      <td>...</td>\n",
       "      <td>...</td>\n",
       "      <td>...</td>\n",
       "      <td>...</td>\n",
       "      <td>...</td>\n",
       "      <td>...</td>\n",
       "      <td>...</td>\n",
       "      <td>...</td>\n",
       "    </tr>\n",
       "    <tr>\n",
       "      <th>593</th>\n",
       "      <td>Vaastav: The Reality</td>\n",
       "      <td>Mahesh Manjrekar</td>\n",
       "      <td>1999</td>\n",
       "      <td>Sanjay DuttNamrata ShirodkarReema Lagoo</td>\n",
       "      <td>8.0</td>\n",
       "      <td>13000</td>\n",
       "      <td>145</td>\n",
       "      <td>Action</td>\n",
       "    </tr>\n",
       "    <tr>\n",
       "      <th>594</th>\n",
       "      <td>Oye Lucky! Lucky Oye!</td>\n",
       "      <td>Dibakar Banerjee</td>\n",
       "      <td>2008</td>\n",
       "      <td>Abhay DeolParesh RawalNitu Chandra</td>\n",
       "      <td>7.7</td>\n",
       "      <td>17000</td>\n",
       "      <td>125</td>\n",
       "      <td>Action</td>\n",
       "    </tr>\n",
       "    <tr>\n",
       "      <th>595</th>\n",
       "      <td>Chupke Chupke</td>\n",
       "      <td>Hrishikesh Mukherjee</td>\n",
       "      <td>1975</td>\n",
       "      <td>DharmendraSharmila TagoreAmitabh Bachchan</td>\n",
       "      <td>8.3</td>\n",
       "      <td>12000</td>\n",
       "      <td>146</td>\n",
       "      <td>Comedy</td>\n",
       "    </tr>\n",
       "    <tr>\n",
       "      <th>596</th>\n",
       "      <td>Jaane Bhi Do Yaaro</td>\n",
       "      <td>Kundan Shah</td>\n",
       "      <td>1983</td>\n",
       "      <td>Naseeruddin ShahRavi BaswaniBhakti Barve</td>\n",
       "      <td>8.4</td>\n",
       "      <td>14000</td>\n",
       "      <td>132</td>\n",
       "      <td>Comedy</td>\n",
       "    </tr>\n",
       "    <tr>\n",
       "      <th>597</th>\n",
       "      <td>The Lunchbox</td>\n",
       "      <td>Ritesh Batra</td>\n",
       "      <td>2013</td>\n",
       "      <td>Irrfan KhanNimrat KaurNawazuddin Siddiqui</td>\n",
       "      <td>7.8</td>\n",
       "      <td>54000</td>\n",
       "      <td>104</td>\n",
       "      <td>Drama</td>\n",
       "    </tr>\n",
       "  </tbody>\n",
       "</table>\n",
       "<p>598 rows × 8 columns</p>\n",
       "</div>"
      ],
      "text/plain": [
       "                     title                 director  year  \\\n",
       "0                     Pink  Aniruddha Roy Chowdhury  2016   \n",
       "1                   Masaan           Neeraj Ghaywan  2015   \n",
       "2                   Talvar            Meghna Gulzar  2015   \n",
       "3                  Deewaar              Yash Chopra  1975   \n",
       "4          Ab Tak Chhappan              Shimit Amin  2004   \n",
       "..                     ...                      ...   ...   \n",
       "593   Vaastav: The Reality         Mahesh Manjrekar  1999   \n",
       "594  Oye Lucky! Lucky Oye!         Dibakar Banerjee  2008   \n",
       "595          Chupke Chupke     Hrishikesh Mukherjee  1975   \n",
       "596     Jaane Bhi Do Yaaro              Kundan Shah  1983   \n",
       "597           The Lunchbox             Ritesh Batra  2013   \n",
       "\n",
       "                                          stars  rating  votes  duration  \\\n",
       "0    Taapsee PannuAmitabh BachchanKirti Kulhari     8.1  43000       136   \n",
       "1        Richa ChadhaSanjay MishraVicky Kaushal     8.2  27000       144   \n",
       "2      Irrfan KhanKonkona Sen SharmaNeeraj Kabi     8.2  34000       132   \n",
       "3       Amitabh BachchanShashi KapoorNirupa Roy     8.1  11000       174   \n",
       "4             Nana PatekarRevathiYashpal Sharma     7.8   8700       129   \n",
       "..                                          ...     ...    ...       ...   \n",
       "593     Sanjay DuttNamrata ShirodkarReema Lagoo     8.0  13000       145   \n",
       "594          Abhay DeolParesh RawalNitu Chandra     7.7  17000       125   \n",
       "595   DharmendraSharmila TagoreAmitabh Bachchan     8.3  12000       146   \n",
       "596    Naseeruddin ShahRavi BaswaniBhakti Barve     8.4  14000       132   \n",
       "597   Irrfan KhanNimrat KaurNawazuddin Siddiqui     7.8  54000       104   \n",
       "\n",
       "      genre  \n",
       "0     Crime  \n",
       "1     Drama  \n",
       "2     Crime  \n",
       "3    Action  \n",
       "4    Action  \n",
       "..      ...  \n",
       "593  Action  \n",
       "594  Action  \n",
       "595  Comedy  \n",
       "596  Comedy  \n",
       "597   Drama  \n",
       "\n",
       "[598 rows x 8 columns]"
      ]
     },
     "execution_count": 4,
     "metadata": {},
     "output_type": "execute_result"
    }
   ],
   "source": [
    "df"
   ]
  },
  {
   "cell_type": "code",
   "execution_count": 5,
   "metadata": {},
   "outputs": [
    {
     "data": {
      "text/plain": [
       "<matplotlib.collections.PathCollection at 0x2b3cf56cca0>"
      ]
     },
     "execution_count": 5,
     "metadata": {},
     "output_type": "execute_result"
    },
    {
     "data": {
      "image/png": "[encoded data removed]",
      "text/plain": [
       "<Figure size 432x288 with 1 Axes>"
      ]
     },
     "metadata": {
      "needs_background": "light"
     },
     "output_type": "display_data"
    }
   ],
   "source": [
    "plt.scatter(df.genre,df.rating)"
   ]
  },
  {
   "cell_type": "code",
   "execution_count": null,
   "metadata": {},
   "outputs": [],
   "source": []
  },
  {
   "cell_type": "code",
   "execution_count": 6,
   "metadata": {},
   "outputs": [
    {
     "data": {
      "text/plain": [
       "<AxesSubplot:xlabel='genre', ylabel='rating'>"
      ]
     },
     "execution_count": 6,
     "metadata": {},
     "output_type": "execute_result"
    },
    {
     "data": {
      "image/png": "[encoded data removed]",
      "text/plain": [
       "<Figure size 432x288 with 1 Axes>"
      ]
     },
     "metadata": {
      "needs_background": "light"
     },
     "output_type": "display_data"
    }
   ],
   "source": [
    "sns.barplot(x=df.genre,y= df.rating)"
   ]
  },
  {
   "cell_type": "code",
   "execution_count": 7,
   "metadata": {},
   "outputs": [
    {
     "data": {
      "text/plain": [
       "<AxesSubplot:xlabel='genre', ylabel='rating'>"
      ]
     },
     "execution_count": 7,
     "metadata": {},
     "output_type": "execute_result"
    },
    {
     "data": {
      "image/png": "[encoded data removed]",
      "text/plain": [
       "<Figure size 432x288 with 1 Axes>"
      ]
     },
     "metadata": {
      "needs_background": "light"
     },
     "output_type": "display_data"
    }
   ],
   "source": [
    "sns.boxplot(x=df.genre,y=df.rating)"
   ]
  },
  {
   "cell_type": "markdown",
   "metadata": {},
   "source": [
    "Here in this graph I had observed that the most rating is given to the movies which are come under the genre of the \"COMEDY\" and the second most rating is given to the "
   ]
  },
  {
   "cell_type": "code",
   "execution_count": 12,
   "metadata": {},
   "outputs": [
    {
     "data": {
      "application/vnd.plotly.v1+json": {
       "config": {
        "plotlyServerURL": "https://plot.ly"
       },
       "data": [
        {
         "alignmentgroup": "True",
         "hovertemplate": "genre=%{x}<br>rating=%{y}<extra></extra>",
         "legendgroup": "",
         "marker": {
          "color": "#636efa"
         },
         "name": "",
         "notched": false,
         "offsetgroup": "",
         "orientation": "v",
         "showlegend": false,
         "type": "box",
         "x": [
          "Crime",
          "Drama",
          "Crime",
          "Action",
          "Action",
          "Action",
          "Drama",
          "Comedy",
          "Comedy",
          "Comedy",
          "Action",
          "Comedy",
          "Crime",
          "Action",
          "Action",
          "Action",
          "Comedy",
          "Crime",
          "Action",
          "Drama",
          "Action",
          "Drama",
          "Mystery",
          "Action",
          "Comedy",
          "Drama",
          "Drama",
          "Drama",
          "Comedy",
          "Action",
          "Action",
          "Action",
          "Comedy",
          "Biography",
          "Biography",
          "Comedy",
          "Action",
          "Comedy",
          "Drama",
          "Comedy",
          "Comedy",
          "Action",
          "Drama",
          "Crime",
          "Action",
          "Action",
          "Action",
          "Comedy",
          "Drama",
          "Drama",
          "Action",
          "Comedy",
          "Action",
          "Crime",
          "Action",
          "Action",
          "Drama",
          "Comedy",
          "Action",
          "Adventure",
          "Comedy",
          "Comedy",
          "Drama",
          "Comedy",
          "Comedy",
          "Drama",
          "Drama",
          "Action",
          "Drama",
          "Comedy",
          "Biography",
          "Action",
          "Comedy",
          "Action",
          "Crime",
          "Comedy",
          "Action",
          "Action",
          "Comedy",
          "Action",
          "Drama",
          "Action",
          "Comedy",
          "Drama",
          "Comedy",
          "Action",
          "Action",
          "Comedy",
          "Comedy",
          "Crime",
          "Crime",
          "Crime",
          "Action",
          "Biography",
          "Drama",
          "Comedy",
          "Action",
          "Drama",
          "Action",
          "Drama",
          "Action",
          "Comedy",
          "Crime",
          "Action",
          "Drama",
          "Action",
          "Biography",
          "Comedy",
          "Comedy",
          "Comedy",
          "Comedy",
          "Drama",
          "Crime",
          "Musical",
          "Adventure",
          "Action",
          "Drama",
          "Drama",
          "Comedy",
          "Drama",
          "Comedy",
          "Action",
          "Comedy",
          "Drama",
          "Crime",
          "Comedy",
          "Comedy",
          "Action",
          "Crime",
          "Comedy",
          "Drama",
          "Drama",
          "Drama",
          "Action",
          "Comedy",
          "Drama",
          "Adventure",
          "Comedy",
          "Comedy",
          "Crime",
          "Comedy",
          "Drama",
          "Biography",
          "Action",
          "Action",
          "Action",
          "Crime",
          "Drama",
          "Action",
          "Drama",
          "Action",
          "Crime",
          "Drama",
          "Comedy",
          "Action",
          "Drama",
          "Action",
          "Action",
          "Crime",
          "Crime",
          "Comedy",
          "Drama",
          "Drama",
          "Comedy",
          "Action",
          "Drama",
          "Drama",
          "Comedy",
          "Comedy",
          "Comedy",
          "Comedy",
          "Drama",
          "Action",
          "Comedy",
          "Action",
          "Action",
          "Comedy",
          "Comedy",
          "Action",
          "Action",
          "Action",
          "Biography",
          "Biography",
          "Comedy",
          "Drama",
          "Action",
          "Comedy",
          "Drama",
          "Action",
          "Comedy",
          "Action",
          "Action",
          "Action",
          "Action",
          "Action",
          "Mystery",
          "Comedy",
          "Action",
          "Comedy",
          "Action",
          "Comedy",
          "Action",
          "Comedy",
          "Comedy",
          "Drama",
          "Drama",
          "Comedy",
          "Drama",
          "Action",
          "Comedy",
          "Comedy",
          "Comedy",
          "Action",
          "Crime",
          "Comedy",
          "Action",
          "Drama",
          "Action",
          "Action",
          "Crime",
          "Action",
          "Action",
          "Comedy",
          "Comedy",
          "Action",
          "Comedy",
          "Drama",
          "Biography",
          "Action",
          "Drama",
          "Action",
          "Comedy",
          "Action",
          "Action",
          "Action",
          "Drama",
          "Comedy",
          "Drama",
          "Action",
          "Comedy",
          "Action",
          "Drama",
          "Crime",
          "Drama",
          "Drama",
          "Action",
          "Action",
          "Comedy",
          "Action",
          "Action",
          "Drama",
          "Crime",
          "Action",
          "Crime",
          "Drama",
          "Adventure",
          "Comedy",
          "Crime",
          "Drama",
          "Comedy",
          "Comedy",
          "Crime",
          "Drama",
          "Comedy",
          "Crime",
          "Drama",
          "Crime",
          "Drama",
          "Action",
          "Biography",
          "Comedy",
          "Action",
          "Action",
          "Drama",
          "Action",
          "Comedy",
          "Comedy",
          "Action",
          "Action",
          "Action",
          "Comedy",
          "Comedy",
          "Comedy",
          "Action",
          "Drama",
          "Crime",
          "Action",
          "Action",
          "Drama",
          "Adventure",
          "Comedy",
          "Action",
          "Action",
          "Comedy",
          "Action",
          "Drama",
          "Comedy",
          "Comedy",
          "Crime",
          "Adventure",
          "Crime",
          "Drama",
          "Crime",
          "Drama",
          "Action",
          "Crime",
          "Crime",
          "Crime",
          "Crime",
          "Action",
          "Action",
          "Drama",
          "Comedy",
          "Biography",
          "Comedy",
          "Action",
          "Comedy",
          "Drama",
          "Comedy",
          "Drama",
          "Crime",
          "Drama",
          "Comedy",
          "Comedy",
          "Crime",
          "Drama",
          "Comedy",
          "Comedy",
          "Comedy",
          "Comedy",
          "Drama",
          "Action",
          "Action",
          "Action",
          "Comedy",
          "Crime",
          "Comedy",
          "Comedy",
          "Action",
          "Action",
          "Action",
          "Adventure",
          "Action",
          "Drama",
          "Drama",
          "Adventure",
          "Action",
          "Action",
          "Action",
          "Drama",
          "Action",
          "Comedy",
          "Action",
          "Crime",
          "Action",
          "Biography",
          "Action",
          "Comedy",
          "Action",
          "Comedy",
          "Drama",
          "Drama",
          "Drama",
          "Action",
          "Drama",
          "Action",
          "Action",
          "Comedy",
          "Action",
          "Action",
          "Drama",
          "Comedy",
          "Action",
          "Comedy",
          "Drama",
          "Action",
          "Action",
          "Comedy",
          "Comedy",
          "Action",
          "Drama",
          "Drama",
          "Comedy",
          "Crime",
          "Comedy",
          "Action",
          "Drama",
          "Comedy",
          "Comedy",
          "Action",
          "Action",
          "Comedy",
          "Comedy",
          "Action",
          "Crime",
          "Action",
          "Action",
          "Drama",
          "Mystery",
          "Action",
          "Comedy",
          "Action",
          "Action",
          "Biography",
          "Drama",
          "Drama",
          "Action",
          "Comedy",
          "Comedy",
          "Comedy",
          "Action",
          "Comedy",
          "Comedy",
          "Drama",
          "Drama",
          "Crime",
          "Action",
          "Drama",
          "Comedy",
          "Crime",
          "Comedy",
          "Crime",
          "Drama",
          "Drama",
          "Action",
          "Biography",
          "Comedy",
          "Comedy",
          "Drama",
          "Action",
          "Comedy",
          "Action",
          "Crime",
          "Drama",
          "Action",
          "Comedy",
          "Comedy",
          "Drama",
          "Action",
          "Biography",
          "Drama",
          "Action",
          "Comedy",
          "Action",
          "Comedy",
          "Action",
          "Comedy",
          "Action",
          "Drama",
          "Comedy",
          "Action",
          "Action",
          "Action",
          "Comedy",
          "Action",
          "Action",
          "Comedy",
          "Action",
          "Crime",
          "Biography",
          "Drama",
          "Comedy",
          "Crime",
          "Action",
          "Comedy",
          "Drama",
          "Action",
          "Action",
          "Comedy",
          "Drama",
          "Comedy",
          "Action",
          "Action",
          "Drama",
          "Drama",
          "Crime",
          "Drama",
          "Action",
          "Comedy",
          "Action",
          "Comedy",
          "Comedy",
          "Comedy",
          "Drama",
          "Comedy",
          "Comedy",
          "Action",
          "Action",
          "Comedy",
          "Drama",
          "Comedy",
          "Action",
          "Drama",
          "Musical",
          "Comedy",
          "Adventure",
          "Drama",
          "Crime",
          "Action",
          "Action",
          "Drama",
          "Crime",
          "Action",
          "Biography",
          "Comedy",
          "Drama",
          "Action",
          "Comedy",
          "Action",
          "Action",
          "Comedy",
          "Comedy",
          "Comedy",
          "Action",
          "Comedy",
          "Action",
          "Comedy",
          "Action",
          "Comedy",
          "Adventure",
          "Action",
          "Biography",
          "Drama",
          "Crime",
          "Crime",
          "Comedy",
          "Action",
          "Comedy",
          "Comedy",
          "Comedy",
          "Comedy",
          "Drama",
          "Biography",
          "Action",
          "Crime",
          "Action",
          "Comedy",
          "Comedy",
          "Action",
          "Crime",
          "Drama",
          "Action",
          "Action",
          "Comedy",
          "Drama",
          "Drama",
          "Action",
          "Crime",
          "Action",
          "Comedy",
          "Drama",
          "Drama",
          "Drama",
          "Action",
          "Action",
          "Action",
          "Comedy",
          "Drama",
          "Crime",
          "Action",
          "Comedy",
          "Comedy",
          "Comedy",
          "Drama",
          "Drama",
          "Action",
          "Comedy",
          "Biography",
          "Drama",
          "Action",
          "Drama",
          "Drama",
          "Action",
          "Crime",
          "Action",
          "Comedy",
          "Crime",
          "Action",
          "Comedy",
          "Drama",
          "Action",
          "Drama",
          "Drama",
          "Action",
          "Crime",
          "Mystery",
          "Comedy",
          "Action",
          "Drama",
          "Action",
          "Comedy",
          "Action",
          "Action",
          "Action",
          "Action",
          "Comedy",
          "Comedy",
          "Drama"
         ],
         "x0": " ",
         "xaxis": "x",
         "y": [
          8.1,
          8.2,
          8.2,
          8.1,
          7.8,
          8.1,
          8.1,
          8.3,
          7.9,
          7.8,
          7.7,
          8.1,
          8.2,
          8,
          7.7,
          8,
          7.8,
          8.1,
          7.8,
          8.2,
          8,
          8.4,
          8.1,
          7.9,
          7.9,
          8,
          8.2,
          7.8,
          8.1,
          7.8,
          8.1,
          8.2,
          8,
          8.2,
          8,
          8.2,
          8.3,
          8.2,
          7.8,
          7.9,
          7.8,
          8,
          8.4,
          8,
          8.5,
          7.9,
          8,
          8,
          8.2,
          7.7,
          8.1,
          8.3,
          7.8,
          8.1,
          8.1,
          8.2,
          7.7,
          8.1,
          7.8,
          8.2,
          8.4,
          7.6,
          7.7,
          8,
          7.7,
          8,
          8.2,
          8.1,
          8.1,
          8.1,
          7.6,
          8.2,
          7.8,
          7.7,
          8,
          8.1,
          7.6,
          8.4,
          8.4,
          8.2,
          8.1,
          8.2,
          8.6,
          8.2,
          7.9,
          7.8,
          8,
          7.7,
          8.1,
          7.8,
          7.6,
          8,
          8.1,
          8.2,
          8.2,
          8.1,
          7.8,
          8.2,
          7.8,
          7.8,
          7.7,
          7.7,
          7.3,
          8.2,
          7.3,
          7.8,
          8.2,
          7.5,
          8,
          7.9,
          7.4,
          7.8,
          7.2,
          7.6,
          7.6,
          7.4,
          7.6,
          7.3,
          8.6,
          7.8,
          8.3,
          8.1,
          8,
          8.4,
          7.2,
          7.9,
          7.5,
          8.5,
          7.4,
          7,
          7.6,
          7.9,
          7.7,
          8.3,
          7.7,
          7.8,
          7.7,
          8.1,
          7.9,
          8.2,
          7.6,
          8.2,
          7.2,
          7.5,
          8.2,
          7.9,
          8,
          7.6,
          7.7,
          8.2,
          8.2,
          8,
          7.3,
          8.4,
          8.1,
          8.1,
          7.6,
          7.6,
          7.7,
          7.8,
          8.4,
          7.3,
          7.4,
          7.5,
          7.2,
          8.2,
          7.5,
          8.1,
          7.6,
          8.1,
          7.8,
          7.6,
          8.1,
          8.3,
          8,
          7.3,
          7.5,
          8.2,
          8,
          7.6,
          7.6,
          8,
          7.6,
          7.3,
          7.7,
          7.6,
          7.5,
          7.4,
          7.3,
          7.5,
          8.3,
          8.2,
          7.5,
          7.7,
          8.1,
          8.1,
          7.4,
          7.8,
          7.3,
          7.8,
          6.9,
          7.4,
          8.1,
          7.4,
          7.5,
          7.3,
          7.6,
          8.4,
          7.2,
          7.6,
          7.1,
          7.2,
          7.8,
          8.2,
          7.6,
          7.4,
          8,
          7.3,
          7.4,
          7.5,
          7.1,
          7.5,
          7.8,
          7.8,
          8.1,
          8,
          7.9,
          8,
          8.4,
          7.2,
          7.6,
          7.4,
          7.8,
          7.2,
          7.3,
          8.2,
          7.2,
          7.7,
          7.4,
          8.1,
          8.3,
          8.2,
          8,
          7.5,
          8.1,
          8.1,
          7.8,
          7.5,
          7.4,
          7.2,
          8.2,
          7.6,
          8,
          8.1,
          8.2,
          7.6,
          7.4,
          7.6,
          8.1,
          7.6,
          7.2,
          8.1,
          7.5,
          8.2,
          8.1,
          8,
          8.2,
          7.6,
          8.1,
          8.2,
          7.5,
          7.7,
          7.8,
          7.8,
          7.8,
          8.3,
          7.5,
          8.1,
          8,
          8,
          7.8,
          8.1,
          8.1,
          7.9,
          8.2,
          8.1,
          8,
          7.4,
          8.1,
          8.2,
          7.5,
          8.2,
          8.3,
          7.3,
          7.6,
          7.7,
          7.9,
          7.6,
          7.4,
          8.2,
          8.1,
          7.7,
          7.4,
          8.4,
          8.2,
          8.1,
          7.6,
          8.2,
          7.6,
          8,
          7.6,
          8.2,
          8.3,
          7.6,
          7.6,
          7.6,
          7.9,
          7.2,
          7.1,
          7.7,
          8.1,
          8,
          7.3,
          8.1,
          8.1,
          7.6,
          7.5,
          7.8,
          8.2,
          8.4,
          7.7,
          7.5,
          7.6,
          8.1,
          7.2,
          7.4,
          8.1,
          8.3,
          7.6,
          8,
          7.8,
          7.6,
          7.8,
          7.7,
          7.8,
          7.6,
          7.7,
          7.4,
          7.4,
          7.8,
          8,
          8.3,
          8.1,
          8,
          7.3,
          8.2,
          7.8,
          7.5,
          7.4,
          8.2,
          7.5,
          7.3,
          7.6,
          8.3,
          7.3,
          7.4,
          7.2,
          7.7,
          7.7,
          8.1,
          7.6,
          8,
          8.1,
          7.4,
          7.3,
          7.4,
          8.4,
          7.9,
          7.3,
          7.2,
          8.1,
          8.1,
          8,
          7.3,
          7.6,
          7.5,
          7.6,
          8.1,
          7.5,
          7.6,
          7.3,
          7.5,
          7.9,
          7.6,
          7.2,
          8.2,
          8.3,
          7.8,
          8.1,
          8.1,
          7.6,
          7.8,
          7.4,
          8,
          8.2,
          7.4,
          7.6,
          7.2,
          7.3,
          7.8,
          7.3,
          8.1,
          7,
          7.3,
          8,
          7.5,
          7.9,
          8.2,
          8,
          8.2,
          8.1,
          8,
          8.4,
          7.3,
          8.2,
          8.2,
          7.4,
          7.6,
          7.9,
          7.8,
          7.6,
          7.1,
          7.2,
          7.6,
          7.4,
          7.5,
          8.4,
          8.2,
          8.5,
          7.2,
          8.2,
          8,
          7.5,
          7.8,
          7.5,
          8.1,
          7.9,
          7.7,
          7.5,
          7.4,
          7.8,
          7.2,
          8.2,
          7.6,
          7.7,
          8.1,
          7.7,
          8,
          8,
          8,
          8.2,
          7.4,
          7.7,
          7.9,
          7.5,
          8.2,
          7.8,
          8.3,
          7.8,
          7.5,
          7.4,
          7.5,
          7.3,
          7.9,
          8.2,
          8.2,
          7.5,
          8.2,
          7.6,
          7.2,
          6.9,
          7.5,
          8.6,
          8.1,
          7.5,
          8.1,
          8,
          8.1,
          7.2,
          7.4,
          7.8,
          8.3,
          8.1,
          7.6,
          8.1,
          7.7,
          7.8,
          7.8,
          8.5,
          7.8,
          8.2,
          8.1,
          7.7,
          8.2,
          8,
          8.2,
          8.4,
          7.9,
          7.8,
          8.3,
          8.1,
          7.9,
          8.2,
          7.9,
          7.9,
          8,
          8.1,
          8.1,
          7.8,
          8.2,
          8.1,
          7.6,
          8,
          7.6,
          8.1,
          7.7,
          8,
          7.8,
          8.3,
          7.8,
          8.4,
          7.8,
          8,
          8,
          8.2,
          8.1,
          8.2,
          8,
          8.1,
          8,
          8.2,
          8.2,
          8.1,
          8.1,
          7.8,
          8.1,
          7.8,
          7.8,
          8,
          8.6,
          8,
          8.4,
          8.2,
          7.6,
          7.8,
          8.2,
          8.1,
          8.1,
          8.1,
          8.1,
          7.6,
          7.9,
          8,
          8.2,
          7.7,
          7.8,
          8.1,
          8.2,
          7.7,
          7.8,
          8.4,
          8.2,
          8.2,
          8,
          8.1,
          7.8,
          8,
          8.2,
          8.1,
          8.1,
          7.7,
          8.2,
          8.2,
          7.8,
          8.2,
          8.1,
          8.1,
          7.8,
          7.7,
          8.2,
          7.7,
          8,
          7.9,
          8,
          7.7,
          8.3,
          8.4,
          7.8
         ],
         "y0": " ",
         "yaxis": "y"
        }
       ],
       "layout": {
        "boxmode": "group",
        "legend": {
         "tracegroupgap": 0
        },
        "margin": {
         "t": 60
        },
        "template": {
         "data": {
          "bar": [
           {
            "error_x": {
             "color": "#2a3f5f"
            },
            "error_y": {
             "color": "#2a3f5f"
            },
            "marker": {
             "line": {
              "color": "#E5ECF6",
              "width": 0.5
             },
             "pattern": {
              "fillmode": "overlay",
              "size": 10,
              "solidity": 0.2
             }
            },
            "type": "bar"
           }
          ],
          "barpolar": [
           {
            "marker": {
             "line": {
              "color": "#E5ECF6",
              "width": 0.5
             },
             "pattern": {
              "fillmode": "overlay",
              "size": 10,
              "solidity": 0.2
             }
            },
            "type": "barpolar"
           }
          ],
          "carpet": [
           {
            "aaxis": {
             "endlinecolor": "#2a3f5f",
             "gridcolor": "white",
             "linecolor": "white",
             "minorgridcolor": "white",
             "startlinecolor": "#2a3f5f"
            },
            "baxis": {
             "endlinecolor": "#2a3f5f",
             "gridcolor": "white",
             "linecolor": "white",
             "minorgridcolor": "white",
             "startlinecolor": "#2a3f5f"
            },
            "type": "carpet"
           }
          ],
          "choropleth": [
           {
            "colorbar": {
             "outlinewidth": 0,
             "ticks": ""
            },
            "type": "choropleth"
           }
          ],
          "contour": [
           {
            "colorbar": {
             "outlinewidth": 0,
             "ticks": ""
            },
            "colorscale": [
             [
              0,
              "#0d0887"
             ],
             [
              0.1111111111111111,
              "#46039f"
             ],
             [
              0.2222222222222222,
              "#7201a8"
             ],
             [
              0.3333333333333333,
              "#9c179e"
             ],
             [
              0.4444444444444444,
              "#bd3786"
             ],
             [
              0.5555555555555556,
              "#d8576b"
             ],
             [
              0.6666666666666666,
              "#ed7953"
             ],
             [
              0.7777777777777778,
              "#fb9f3a"
             ],
             [
              0.8888888888888888,
              "#fdca26"
             ],
             [
              1,
              "#f0f921"
             ]
            ],
            "type": "contour"
           }
          ],
          "contourcarpet": [
           {
            "colorbar": {
             "outlinewidth": 0,
             "ticks": ""
            },
            "type": "contourcarpet"
           }
          ],
          "heatmap": [
           {
            "colorbar": {
             "outlinewidth": 0,
             "ticks": ""
            },
            "colorscale": [
             [
              0,
              "#0d0887"
             ],
             [
              0.1111111111111111,
              "#46039f"
             ],
             [
              0.2222222222222222,
              "#7201a8"
             ],
             [
              0.3333333333333333,
              "#9c179e"
             ],
             [
              0.4444444444444444,
              "#bd3786"
             ],
             [
              0.5555555555555556,
              "#d8576b"
             ],
             [
              0.6666666666666666,
              "#ed7953"
             ],
             [
              0.7777777777777778,
              "#fb9f3a"
             ],
             [
              0.8888888888888888,
              "#fdca26"
             ],
             [
              1,
              "#f0f921"
             ]
            ],
            "type": "heatmap"
           }
          ],
          "heatmapgl": [
           {
            "colorbar": {
             "outlinewidth": 0,
             "ticks": ""
            },
            "colorscale": [
             [
              0,
              "#0d0887"
             ],
             [
              0.1111111111111111,
              "#46039f"
             ],
             [
              0.2222222222222222,
              "#7201a8"
             ],
             [
              0.3333333333333333,
              "#9c179e"
             ],
             [
              0.4444444444444444,
              "#bd3786"
             ],
             [
              0.5555555555555556,
              "#d8576b"
             ],
             [
              0.6666666666666666,
              "#ed7953"
             ],
             [
              0.7777777777777778,
              "#fb9f3a"
             ],
             [
              0.8888888888888888,
              "#fdca26"
             ],
             [
              1,
              "#f0f921"
             ]
            ],
            "type": "heatmapgl"
           }
          ],
          "histogram": [
           {
            "marker": {
             "pattern": {
              "fillmode": "overlay",
              "size": 10,
              "solidity": 0.2
             }
            },
            "type": "histogram"
           }
          ],
          "histogram2d": [
           {
            "colorbar": {
             "outlinewidth": 0,
             "ticks": ""
            },
            "colorscale": [
             [
              0,
              "#0d0887"
             ],
             [
              0.1111111111111111,
              "#46039f"
             ],
             [
              0.2222222222222222,
              "#7201a8"
             ],
             [
              0.3333333333333333,
              "#9c179e"
             ],
             [
              0.4444444444444444,
              "#bd3786"
             ],
             [
              0.5555555555555556,
              "#d8576b"
             ],
             [
              0.6666666666666666,
              "#ed7953"
             ],
             [
              0.7777777777777778,
              "#fb9f3a"
             ],
             [
              0.8888888888888888,
              "#fdca26"
             ],
             [
              1,
              "#f0f921"
             ]
            ],
            "type": "histogram2d"
           }
          ],
          "histogram2dcontour": [
           {
            "colorbar": {
             "outlinewidth": 0,
             "ticks": ""
            },
            "colorscale": [
             [
              0,
              "#0d0887"
             ],
             [
              0.1111111111111111,
              "#46039f"
             ],
             [
              0.2222222222222222,
              "#7201a8"
             ],
             [
              0.3333333333333333,
              "#9c179e"
             ],
             [
              0.4444444444444444,
              "#bd3786"
             ],
             [
              0.5555555555555556,
              "#d8576b"
             ],
             [
              0.6666666666666666,
              "#ed7953"
             ],
             [
              0.7777777777777778,
              "#fb9f3a"
             ],
             [
              0.8888888888888888,
              "#fdca26"
             ],
             [
              1,
              "#f0f921"
             ]
            ],
            "type": "histogram2dcontour"
           }
          ],
          "mesh3d": [
           {
            "colorbar": {
             "outlinewidth": 0,
             "ticks": ""
            },
            "type": "mesh3d"
           }
          ],
          "parcoords": [
           {
            "line": {
             "colorbar": {
              "outlinewidth": 0,
              "ticks": ""
             }
            },
            "type": "parcoords"
           }
          ],
          "pie": [
           {
            "automargin": true,
            "type": "pie"
           }
          ],
          "scatter": [
           {
            "marker": {
             "colorbar": {
              "outlinewidth": 0,
              "ticks": ""
             }
            },
            "type": "scatter"
           }
          ],
          "scatter3d": [
           {
            "line": {
             "colorbar": {
              "outlinewidth": 0,
              "ticks": ""
             }
            },
            "marker": {
             "colorbar": {
              "outlinewidth": 0,
              "ticks": ""
             }
            },
            "type": "scatter3d"
           }
          ],
          "scattercarpet": [
           {
            "marker": {
             "colorbar": {
              "outlinewidth": 0,
              "ticks": ""
             }
            },
            "type": "scattercarpet"
           }
          ],
          "scattergeo": [
           {
            "marker": {
             "colorbar": {
              "outlinewidth": 0,
              "ticks": ""
             }
            },
            "type": "scattergeo"
           }
          ],
          "scattergl": [
           {
            "marker": {
             "colorbar": {
              "outlinewidth": 0,
              "ticks": ""
             }
            },
            "type": "scattergl"
           }
          ],
          "scattermapbox": [
           {
            "marker": {
             "colorbar": {
              "outlinewidth": 0,
              "ticks": ""
             }
            },
            "type": "scattermapbox"
           }
          ],
          "scatterpolar": [
           {
            "marker": {
             "colorbar": {
              "outlinewidth": 0,
              "ticks": ""
             }
            },
            "type": "scatterpolar"
           }
          ],
          "scatterpolargl": [
           {
            "marker": {
             "colorbar": {
              "outlinewidth": 0,
              "ticks": ""
             }
            },
            "type": "scatterpolargl"
           }
          ],
          "scatterternary": [
           {
            "marker": {
             "colorbar": {
              "outlinewidth": 0,
              "ticks": ""
             }
            },
            "type": "scatterternary"
           }
          ],
          "surface": [
           {
            "colorbar": {
             "outlinewidth": 0,
             "ticks": ""
            },
            "colorscale": [
             [
              0,
              "#0d0887"
             ],
             [
              0.1111111111111111,
              "#46039f"
             ],
             [
              0.2222222222222222,
              "#7201a8"
             ],
             [
              0.3333333333333333,
              "#9c179e"
             ],
             [
              0.4444444444444444,
              "#bd3786"
             ],
             [
              0.5555555555555556,
              "#d8576b"
             ],
             [
              0.6666666666666666,
              "#ed7953"
             ],
             [
              0.7777777777777778,
              "#fb9f3a"
             ],
             [
              0.8888888888888888,
              "#fdca26"
             ],
             [
              1,
              "#f0f921"
             ]
            ],
            "type": "surface"
           }
          ],
          "table": [
           {
            "cells": {
             "fill": {
              "color": "#EBF0F8"
             },
             "line": {
              "color": "white"
             }
            },
            "header": {
             "fill": {
              "color": "#C8D4E3"
             },
             "line": {
              "color": "white"
             }
            },
            "type": "table"
           }
          ]
         },
         "layout": {
          "annotationdefaults": {
           "arrowcolor": "#2a3f5f",
           "arrowhead": 0,
           "arrowwidth": 1
          },
          "autotypenumbers": "strict",
          "coloraxis": {
           "colorbar": {
            "outlinewidth": 0,
            "ticks": ""
           }
          },
          "colorscale": {
           "diverging": [
            [
             0,
             "#8e0152"
            ],
            [
             0.1,
             "#c51b7d"
            ],
            [
             0.2,
             "#de77ae"
            ],
            [
             0.3,
             "#f1b6da"
            ],
            [
             0.4,
             "#fde0ef"
            ],
            [
             0.5,
             "#f7f7f7"
            ],
            [
             0.6,
             "#e6f5d0"
            ],
            [
             0.7,
             "#b8e186"
            ],
            [
             0.8,
             "#7fbc41"
            ],
            [
             0.9,
             "#4d9221"
            ],
            [
             1,
             "#276419"
            ]
           ],
           "sequential": [
            [
             0,
             "#0d0887"
            ],
            [
             0.1111111111111111,
             "#46039f"
            ],
            [
             0.2222222222222222,
             "#7201a8"
            ],
            [
             0.3333333333333333,
             "#9c179e"
            ],
            [
             0.4444444444444444,
             "#bd3786"
            ],
            [
             0.5555555555555556,
             "#d8576b"
            ],
            [
             0.6666666666666666,
             "#ed7953"
            ],
            [
             0.7777777777777778,
             "#fb9f3a"
            ],
            [
             0.8888888888888888,
             "#fdca26"
            ],
            [
             1,
             "#f0f921"
            ]
           ],
           "sequentialminus": [
            [
             0,
             "#0d0887"
            ],
            [
             0.1111111111111111,
             "#46039f"
            ],
            [
             0.2222222222222222,
             "#7201a8"
            ],
            [
             0.3333333333333333,
             "#9c179e"
            ],
            [
             0.4444444444444444,
             "#bd3786"
            ],
            [
             0.5555555555555556,
             "#d8576b"
            ],
            [
             0.6666666666666666,
             "#ed7953"
            ],
            [
             0.7777777777777778,
             "#fb9f3a"
            ],
            [
             0.8888888888888888,
             "#fdca26"
            ],
            [
             1,
             "#f0f921"
            ]
           ]
          },
          "colorway": [
           "#636efa",
           "#EF553B",
           "#00cc96",
           "#ab63fa",
           "#FFA15A",
           "#19d3f3",
           "#FF6692",
           "#B6E880",
           "#FF97FF",
           "#FECB52"
          ],
          "font": {
           "color": "#2a3f5f"
          },
          "geo": {
           "bgcolor": "white",
           "lakecolor": "white",
           "landcolor": "#E5ECF6",
           "showlakes": true,
           "showland": true,
           "subunitcolor": "white"
          },
          "hoverlabel": {
           "align": "left"
          },
          "hovermode": "closest",
          "mapbox": {
           "style": "light"
          },
          "paper_bgcolor": "white",
          "plot_bgcolor": "#E5ECF6",
          "polar": {
           "angularaxis": {
            "gridcolor": "white",
            "linecolor": "white",
            "ticks": ""
           },
           "bgcolor": "#E5ECF6",
           "radialaxis": {
            "gridcolor": "white",
            "linecolor": "white",
            "ticks": ""
           }
          },
          "scene": {
           "xaxis": {
            "backgroundcolor": "#E5ECF6",
            "gridcolor": "white",
            "gridwidth": 2,
            "linecolor": "white",
            "showbackground": true,
            "ticks": "",
            "zerolinecolor": "white"
           },
           "yaxis": {
            "backgroundcolor": "#E5ECF6",
            "gridcolor": "white",
            "gridwidth": 2,
            "linecolor": "white",
            "showbackground": true,
            "ticks": "",
            "zerolinecolor": "white"
           },
           "zaxis": {
            "backgroundcolor": "#E5ECF6",
            "gridcolor": "white",
            "gridwidth": 2,
            "linecolor": "white",
            "showbackground": true,
            "ticks": "",
            "zerolinecolor": "white"
           }
          },
          "shapedefaults": {
           "line": {
            "color": "#2a3f5f"
           }
          },
          "ternary": {
           "aaxis": {
            "gridcolor": "white",
            "linecolor": "white",
            "ticks": ""
           },
           "baxis": {
            "gridcolor": "white",
            "linecolor": "white",
            "ticks": ""
           },
           "bgcolor": "#E5ECF6",
           "caxis": {
            "gridcolor": "white",
            "linecolor": "white",
            "ticks": ""
           }
          },
          "title": {
           "x": 0.05
          },
          "xaxis": {
           "automargin": true,
           "gridcolor": "white",
           "linecolor": "white",
           "ticks": "",
           "title": {
            "standoff": 15
           },
           "zerolinecolor": "white",
           "zerolinewidth": 2
          },
          "yaxis": {
           "automargin": true,
           "gridcolor": "white",
           "linecolor": "white",
           "ticks": "",
           "title": {
            "standoff": 15
           },
           "zerolinecolor": "white",
           "zerolinewidth": 2
          }
         }
        },
        "xaxis": {
         "anchor": "y",
         "domain": [
          0,
          1
         ],
         "title": {
          "text": "genre"
         }
        },
        "yaxis": {
         "anchor": "x",
         "domain": [
          0,
          1
         ],
         "title": {
          "text": "rating"
         }
        }
       }
      },
      "text/html": [
       "<div>                            <div id=\"cd52f47c-226a-4165-a226-4c222119c166\" class=\"plotly-graph-div\" style=\"height:525px; width:100%;\"></div>            <script type=\"text/javascript\">                require([\"plotly\"], function(Plotly) {                    window.PLOTLYENV=window.PLOTLYENV || {};                                    if (document.getElementById(\"cd52f47c-226a-4165-a226-4c222119c166\")) {                    Plotly.newPlot(                        \"cd52f47c-226a-4165-a226-4c222119c166\",                        [{\"alignmentgroup\":\"True\",\"hovertemplate\":\"genre=%{x}<br>rating=%{y}<extra></extra>\",\"legendgroup\":\"\",\"marker\":{\"color\":\"#636efa\"},\"name\":\"\",\"notched\":false,\"offsetgroup\":\"\",\"orientation\":\"v\",\"showlegend\":false,\"x\":[\"Crime\",\"Drama\",\"Crime\",\"Action\",\"Action\",\"Action\",\"Drama\",\"Comedy\",\"Comedy\",\"Comedy\",\"Action\",\"Comedy\",\"Crime\",\"Action\",\"Action\",\"Action\",\"Comedy\",\"Crime\",\"Action\",\"Drama\",\"Action\",\"Drama\",\"Mystery\",\"Action\",\"Comedy\",\"Drama\",\"Drama\",\"Drama\",\"Comedy\",\"Action\",\"Action\",\"Action\",\"Comedy\",\"Biography\",\"Biography\",\"Comedy\",\"Action\",\"Comedy\",\"Drama\",\"Comedy\",\"Comedy\",\"Action\",\"Drama\",\"Crime\",\"Action\",\"Action\",\"Action\",\"Comedy\",\"Drama\",\"Drama\",\"Action\",\"Comedy\",\"Action\",\"Crime\",\"Action\",\"Action\",\"Drama\",\"Comedy\",\"Action\",\"Adventure\",\"Comedy\",\"Comedy\",\"Drama\",\"Comedy\",\"Comedy\",\"Drama\",\"Drama\",\"Action\",\"Drama\",\"Comedy\",\"Biography\",\"Action\",\"Comedy\",\"Action\",\"Crime\",\"Comedy\",\"Action\",\"Action\",\"Comedy\",\"Action\",\"Drama\",\"Action\",\"Comedy\",\"Drama\",\"Comedy\",\"Action\",\"Action\",\"Comedy\",\"Comedy\",\"Crime\",\"Crime\",\"Crime\",\"Action\",\"Biography\",\"Drama\",\"Comedy\",\"Action\",\"Drama\",\"Action\",\"Drama\",\"Action\",\"Comedy\",\"Crime\",\"Action\",\"Drama\",\"Action\",\"Biography\",\"Comedy\",\"Comedy\",\"Comedy\",\"Comedy\",\"Drama\",\"Crime\",\"Musical\",\"Adventure\",\"Action\",\"Drama\",\"Drama\",\"Comedy\",\"Drama\",\"Comedy\",\"Action\",\"Comedy\",\"Drama\",\"Crime\",\"Comedy\",\"Comedy\",\"Action\",\"Crime\",\"Comedy\",\"Drama\",\"Drama\",\"Drama\",\"Action\",\"Comedy\",\"Drama\",\"Adventure\",\"Comedy\",\"Comedy\",\"Crime\",\"Comedy\",\"Drama\",\"Biography\",\"Action\",\"Action\",\"Action\",\"Crime\",\"Drama\",\"Action\",\"Drama\",\"Action\",\"Crime\",\"Drama\",\"Comedy\",\"Action\",\"Drama\",\"Action\",\"Action\",\"Crime\",\"Crime\",\"Comedy\",\"Drama\",\"Drama\",\"Comedy\",\"Action\",\"Drama\",\"Drama\",\"Comedy\",\"Comedy\",\"Comedy\",\"Comedy\",\"Drama\",\"Action\",\"Comedy\",\"Action\",\"Action\",\"Comedy\",\"Comedy\",\"Action\",\"Action\",\"Action\",\"Biography\",\"Biography\",\"Comedy\",\"Drama\",\"Action\",\"Comedy\",\"Drama\",\"Action\",\"Comedy\",\"Action\",\"Action\",\"Action\",\"Action\",\"Action\",\"Mystery\",\"Comedy\",\"Action\",\"Comedy\",\"Action\",\"Comedy\",\"Action\",\"Comedy\",\"Comedy\",\"Drama\",\"Drama\",\"Comedy\",\"Drama\",\"Action\",\"Comedy\",\"Comedy\",\"Comedy\",\"Action\",\"Crime\",\"Comedy\",\"Action\",\"Drama\",\"Action\",\"Action\",\"Crime\",\"Action\",\"Action\",\"Comedy\",\"Comedy\",\"Action\",\"Comedy\",\"Drama\",\"Biography\",\"Action\",\"Drama\",\"Action\",\"Comedy\",\"Action\",\"Action\",\"Action\",\"Drama\",\"Comedy\",\"Drama\",\"Action\",\"Comedy\",\"Action\",\"Drama\",\"Crime\",\"Drama\",\"Drama\",\"Action\",\"Action\",\"Comedy\",\"Action\",\"Action\",\"Drama\",\"Crime\",\"Action\",\"Crime\",\"Drama\",\"Adventure\",\"Comedy\",\"Crime\",\"Drama\",\"Comedy\",\"Comedy\",\"Crime\",\"Drama\",\"Comedy\",\"Crime\",\"Drama\",\"Crime\",\"Drama\",\"Action\",\"Biography\",\"Comedy\",\"Action\",\"Action\",\"Drama\",\"Action\",\"Comedy\",\"Comedy\",\"Action\",\"Action\",\"Action\",\"Comedy\",\"Comedy\",\"Comedy\",\"Action\",\"Drama\",\"Crime\",\"Action\",\"Action\",\"Drama\",\"Adventure\",\"Comedy\",\"Action\",\"Action\",\"Comedy\",\"Action\",\"Drama\",\"Comedy\",\"Comedy\",\"Crime\",\"Adventure\",\"Crime\",\"Drama\",\"Crime\",\"Drama\",\"Action\",\"Crime\",\"Crime\",\"Crime\",\"Crime\",\"Action\",\"Action\",\"Drama\",\"Comedy\",\"Biography\",\"Comedy\",\"Action\",\"Comedy\",\"Drama\",\"Comedy\",\"Drama\",\"Crime\",\"Drama\",\"Comedy\",\"Comedy\",\"Crime\",\"Drama\",\"Comedy\",\"Comedy\",\"Comedy\",\"Comedy\",\"Drama\",\"Action\",\"Action\",\"Action\",\"Comedy\",\"Crime\",\"Comedy\",\"Comedy\",\"Action\",\"Action\",\"Action\",\"Adventure\",\"Action\",\"Drama\",\"Drama\",\"Adventure\",\"Action\",\"Action\",\"Action\",\"Drama\",\"Action\",\"Comedy\",\"Action\",\"Crime\",\"Action\",\"Biography\",\"Action\",\"Comedy\",\"Action\",\"Comedy\",\"Drama\",\"Drama\",\"Drama\",\"Action\",\"Drama\",\"Action\",\"Action\",\"Comedy\",\"Action\",\"Action\",\"Drama\",\"Comedy\",\"Action\",\"Comedy\",\"Drama\",\"Action\",\"Action\",\"Comedy\",\"Comedy\",\"Action\",\"Drama\",\"Drama\",\"Comedy\",\"Crime\",\"Comedy\",\"Action\",\"Drama\",\"Comedy\",\"Comedy\",\"Action\",\"Action\",\"Comedy\",\"Comedy\",\"Action\",\"Crime\",\"Action\",\"Action\",\"Drama\",\"Mystery\",\"Action\",\"Comedy\",\"Action\",\"Action\",\"Biography\",\"Drama\",\"Drama\",\"Action\",\"Comedy\",\"Comedy\",\"Comedy\",\"Action\",\"Comedy\",\"Comedy\",\"Drama\",\"Drama\",\"Crime\",\"Action\",\"Drama\",\"Comedy\",\"Crime\",\"Comedy\",\"Crime\",\"Drama\",\"Drama\",\"Action\",\"Biography\",\"Comedy\",\"Comedy\",\"Drama\",\"Action\",\"Comedy\",\"Action\",\"Crime\",\"Drama\",\"Action\",\"Comedy\",\"Comedy\",\"Drama\",\"Action\",\"Biography\",\"Drama\",\"Action\",\"Comedy\",\"Action\",\"Comedy\",\"Action\",\"Comedy\",\"Action\",\"Drama\",\"Comedy\",\"Action\",\"Action\",\"Action\",\"Comedy\",\"Action\",\"Action\",\"Comedy\",\"Action\",\"Crime\",\"Biography\",\"Drama\",\"Comedy\",\"Crime\",\"Action\",\"Comedy\",\"Drama\",\"Action\",\"Action\",\"Comedy\",\"Drama\",\"Comedy\",\"Action\",\"Action\",\"Drama\",\"Drama\",\"Crime\",\"Drama\",\"Action\",\"Comedy\",\"Action\",\"Comedy\",\"Comedy\",\"Comedy\",\"Drama\",\"Comedy\",\"Comedy\",\"Action\",\"Action\",\"Comedy\",\"Drama\",\"Comedy\",\"Action\",\"Drama\",\"Musical\",\"Comedy\",\"Adventure\",\"Drama\",\"Crime\",\"Action\",\"Action\",\"Drama\",\"Crime\",\"Action\",\"Biography\",\"Comedy\",\"Drama\",\"Action\",\"Comedy\",\"Action\",\"Action\",\"Comedy\",\"Comedy\",\"Comedy\",\"Action\",\"Comedy\",\"Action\",\"Comedy\",\"Action\",\"Comedy\",\"Adventure\",\"Action\",\"Biography\",\"Drama\",\"Crime\",\"Crime\",\"Comedy\",\"Action\",\"Comedy\",\"Comedy\",\"Comedy\",\"Comedy\",\"Drama\",\"Biography\",\"Action\",\"Crime\",\"Action\",\"Comedy\",\"Comedy\",\"Action\",\"Crime\",\"Drama\",\"Action\",\"Action\",\"Comedy\",\"Drama\",\"Drama\",\"Action\",\"Crime\",\"Action\",\"Comedy\",\"Drama\",\"Drama\",\"Drama\",\"Action\",\"Action\",\"Action\",\"Comedy\",\"Drama\",\"Crime\",\"Action\",\"Comedy\",\"Comedy\",\"Comedy\",\"Drama\",\"Drama\",\"Action\",\"Comedy\",\"Biography\",\"Drama\",\"Action\",\"Drama\",\"Drama\",\"Action\",\"Crime\",\"Action\",\"Comedy\",\"Crime\",\"Action\",\"Comedy\",\"Drama\",\"Action\",\"Drama\",\"Drama\",\"Action\",\"Crime\",\"Mystery\",\"Comedy\",\"Action\",\"Drama\",\"Action\",\"Comedy\",\"Action\",\"Action\",\"Action\",\"Action\",\"Comedy\",\"Comedy\",\"Drama\"],\"x0\":\" \",\"xaxis\":\"x\",\"y\":[8.1,8.2,8.2,8.1,7.8,8.1,8.1,8.3,7.9,7.8,7.7,8.1,8.2,8.0,7.7,8.0,7.8,8.1,7.8,8.2,8.0,8.4,8.1,7.9,7.9,8.0,8.2,7.8,8.1,7.8,8.1,8.2,8.0,8.2,8.0,8.2,8.3,8.2,7.8,7.9,7.8,8.0,8.4,8.0,8.5,7.9,8.0,8.0,8.2,7.7,8.1,8.3,7.8,8.1,8.1,8.2,7.7,8.1,7.8,8.2,8.4,7.6,7.7,8.0,7.7,8.0,8.2,8.1,8.1,8.1,7.6,8.2,7.8,7.7,8.0,8.1,7.6,8.4,8.4,8.2,8.1,8.2,8.6,8.2,7.9,7.8,8.0,7.7,8.1,7.8,7.6,8.0,8.1,8.2,8.2,8.1,7.8,8.2,7.8,7.8,7.7,7.7,7.3,8.2,7.3,7.8,8.2,7.5,8.0,7.9,7.4,7.8,7.2,7.6,7.6,7.4,7.6,7.3,8.6,7.8,8.3,8.1,8.0,8.4,7.2,7.9,7.5,8.5,7.4,7.0,7.6,7.9,7.7,8.3,7.7,7.8,7.7,8.1,7.9,8.2,7.6,8.2,7.2,7.5,8.2,7.9,8.0,7.6,7.7,8.2,8.2,8.0,7.3,8.4,8.1,8.1,7.6,7.6,7.7,7.8,8.4,7.3,7.4,7.5,7.2,8.2,7.5,8.1,7.6,8.1,7.8,7.6,8.1,8.3,8.0,7.3,7.5,8.2,8.0,7.6,7.6,8.0,7.6,7.3,7.7,7.6,7.5,7.4,7.3,7.5,8.3,8.2,7.5,7.7,8.1,8.1,7.4,7.8,7.3,7.8,6.9,7.4,8.1,7.4,7.5,7.3,7.6,8.4,7.2,7.6,7.1,7.2,7.8,8.2,7.6,7.4,8.0,7.3,7.4,7.5,7.1,7.5,7.8,7.8,8.1,8.0,7.9,8.0,8.4,7.2,7.6,7.4,7.8,7.2,7.3,8.2,7.2,7.7,7.4,8.1,8.3,8.2,8.0,7.5,8.1,8.1,7.8,7.5,7.4,7.2,8.2,7.6,8.0,8.1,8.2,7.6,7.4,7.6,8.1,7.6,7.2,8.1,7.5,8.2,8.1,8.0,8.2,7.6,8.1,8.2,7.5,7.7,7.8,7.8,7.8,8.3,7.5,8.1,8.0,8.0,7.8,8.1,8.1,7.9,8.2,8.1,8.0,7.4,8.1,8.2,7.5,8.2,8.3,7.3,7.6,7.7,7.9,7.6,7.4,8.2,8.1,7.7,7.4,8.4,8.2,8.1,7.6,8.2,7.6,8.0,7.6,8.2,8.3,7.6,7.6,7.6,7.9,7.2,7.1,7.7,8.1,8.0,7.3,8.1,8.1,7.6,7.5,7.8,8.2,8.4,7.7,7.5,7.6,8.1,7.2,7.4,8.1,8.3,7.6,8.0,7.8,7.6,7.8,7.7,7.8,7.6,7.7,7.4,7.4,7.8,8.0,8.3,8.1,8.0,7.3,8.2,7.8,7.5,7.4,8.2,7.5,7.3,7.6,8.3,7.3,7.4,7.2,7.7,7.7,8.1,7.6,8.0,8.1,7.4,7.3,7.4,8.4,7.9,7.3,7.2,8.1,8.1,8.0,7.3,7.6,7.5,7.6,8.1,7.5,7.6,7.3,7.5,7.9,7.6,7.2,8.2,8.3,7.8,8.1,8.1,7.6,7.8,7.4,8.0,8.2,7.4,7.6,7.2,7.3,7.8,7.3,8.1,7.0,7.3,8.0,7.5,7.9,8.2,8.0,8.2,8.1,8.0,8.4,7.3,8.2,8.2,7.4,7.6,7.9,7.8,7.6,7.1,7.2,7.6,7.4,7.5,8.4,8.2,8.5,7.2,8.2,8.0,7.5,7.8,7.5,8.1,7.9,7.7,7.5,7.4,7.8,7.2,8.2,7.6,7.7,8.1,7.7,8.0,8.0,8.0,8.2,7.4,7.7,7.9,7.5,8.2,7.8,8.3,7.8,7.5,7.4,7.5,7.3,7.9,8.2,8.2,7.5,8.2,7.6,7.2,6.9,7.5,8.6,8.1,7.5,8.1,8.0,8.1,7.2,7.4,7.8,8.3,8.1,7.6,8.1,7.7,7.8,7.8,8.5,7.8,8.2,8.1,7.7,8.2,8.0,8.2,8.4,7.9,7.8,8.3,8.1,7.9,8.2,7.9,7.9,8.0,8.1,8.1,7.8,8.2,8.1,7.6,8.0,7.6,8.1,7.7,8.0,7.8,8.3,7.8,8.4,7.8,8.0,8.0,8.2,8.1,8.2,8.0,8.1,8.0,8.2,8.2,8.1,8.1,7.8,8.1,7.8,7.8,8.0,8.6,8.0,8.4,8.2,7.6,7.8,8.2,8.1,8.1,8.1,8.1,7.6,7.9,8.0,8.2,7.7,7.8,8.1,8.2,7.7,7.8,8.4,8.2,8.2,8.0,8.1,7.8,8.0,8.2,8.1,8.1,7.7,8.2,8.2,7.8,8.2,8.1,8.1,7.8,7.7,8.2,7.7,8.0,7.9,8.0,7.7,8.3,8.4,7.8],\"y0\":\" \",\"yaxis\":\"y\",\"type\":\"box\"}],                        {\"template\":{\"data\":{\"bar\":[{\"error_x\":{\"color\":\"#2a3f5f\"},\"error_y\":{\"color\":\"#2a3f5f\"},\"marker\":{\"line\":{\"color\":\"#E5ECF6\",\"width\":0.5},\"pattern\":{\"fillmode\":\"overlay\",\"size\":10,\"solidity\":0.2}},\"type\":\"bar\"}],\"barpolar\":[{\"marker\":{\"line\":{\"color\":\"#E5ECF6\",\"width\":0.5},\"pattern\":{\"fillmode\":\"overlay\",\"size\":10,\"solidity\":0.2}},\"type\":\"barpolar\"}],\"carpet\":[{\"aaxis\":{\"endlinecolor\":\"#2a3f5f\",\"gridcolor\":\"white\",\"linecolor\":\"white\",\"minorgridcolor\":\"white\",\"startlinecolor\":\"#2a3f5f\"},\"baxis\":{\"endlinecolor\":\"#2a3f5f\",\"gridcolor\":\"white\",\"linecolor\":\"white\",\"minorgridcolor\":\"white\",\"startlinecolor\":\"#2a3f5f\"},\"type\":\"carpet\"}],\"choropleth\":[{\"colorbar\":{\"outlinewidth\":0,\"ticks\":\"\"},\"type\":\"choropleth\"}],\"contour\":[{\"colorbar\":{\"outlinewidth\":0,\"ticks\":\"\"},\"colorscale\":[[0.0,\"#0d0887\"],[0.1111111111111111,\"#46039f\"],[0.2222222222222222,\"#7201a8\"],[0.3333333333333333,\"#9c179e\"],[0.4444444444444444,\"#bd3786\"],[0.5555555555555556,\"#d8576b\"],[0.6666666666666666,\"#ed7953\"],[0.7777777777777778,\"#fb9f3a\"],[0.8888888888888888,\"#fdca26\"],[1.0,\"#f0f921\"]],\"type\":\"contour\"}],\"contourcarpet\":[{\"colorbar\":{\"outlinewidth\":0,\"ticks\":\"\"},\"type\":\"contourcarpet\"}],\"heatmap\":[{\"colorbar\":{\"outlinewidth\":0,\"ticks\":\"\"},\"colorscale\":[[0.0,\"#0d0887\"],[0.1111111111111111,\"#46039f\"],[0.2222222222222222,\"#7201a8\"],[0.3333333333333333,\"#9c179e\"],[0.4444444444444444,\"#bd3786\"],[0.5555555555555556,\"#d8576b\"],[0.6666666666666666,\"#ed7953\"],[0.7777777777777778,\"#fb9f3a\"],[0.8888888888888888,\"#fdca26\"],[1.0,\"#f0f921\"]],\"type\":\"heatmap\"}],\"heatmapgl\":[{\"colorbar\":{\"outlinewidth\":0,\"ticks\":\"\"},\"colorscale\":[[0.0,\"#0d0887\"],[0.1111111111111111,\"#46039f\"],[0.2222222222222222,\"#7201a8\"],[0.3333333333333333,\"#9c179e\"],[0.4444444444444444,\"#bd3786\"],[0.5555555555555556,\"#d8576b\"],[0.6666666666666666,\"#ed7953\"],[0.7777777777777778,\"#fb9f3a\"],[0.8888888888888888,\"#fdca26\"],[1.0,\"#f0f921\"]],\"type\":\"heatmapgl\"}],\"histogram\":[{\"marker\":{\"pattern\":{\"fillmode\":\"overlay\",\"size\":10,\"solidity\":0.2}},\"type\":\"histogram\"}],\"histogram2d\":[{\"colorbar\":{\"outlinewidth\":0,\"ticks\":\"\"},\"colorscale\":[[0.0,\"#0d0887\"],[0.1111111111111111,\"#46039f\"],[0.2222222222222222,\"#7201a8\"],[0.3333333333333333,\"#9c179e\"],[0.4444444444444444,\"#bd3786\"],[0.5555555555555556,\"#d8576b\"],[0.6666666666666666,\"#ed7953\"],[0.7777777777777778,\"#fb9f3a\"],[0.8888888888888888,\"#fdca26\"],[1.0,\"#f0f921\"]],\"type\":\"histogram2d\"}],\"histogram2dcontour\":[{\"colorbar\":{\"outlinewidth\":0,\"ticks\":\"\"},\"colorscale\":[[0.0,\"#0d0887\"],[0.1111111111111111,\"#46039f\"],[0.2222222222222222,\"#7201a8\"],[0.3333333333333333,\"#9c179e\"],[0.4444444444444444,\"#bd3786\"],[0.5555555555555556,\"#d8576b\"],[0.6666666666666666,\"#ed7953\"],[0.7777777777777778,\"#fb9f3a\"],[0.8888888888888888,\"#fdca26\"],[1.0,\"#f0f921\"]],\"type\":\"histogram2dcontour\"}],\"mesh3d\":[{\"colorbar\":{\"outlinewidth\":0,\"ticks\":\"\"},\"type\":\"mesh3d\"}],\"parcoords\":[{\"line\":{\"colorbar\":{\"outlinewidth\":0,\"ticks\":\"\"}},\"type\":\"parcoords\"}],\"pie\":[{\"automargin\":true,\"type\":\"pie\"}],\"scatter\":[{\"marker\":{\"colorbar\":{\"outlinewidth\":0,\"ticks\":\"\"}},\"type\":\"scatter\"}],\"scatter3d\":[{\"line\":{\"colorbar\":{\"outlinewidth\":0,\"ticks\":\"\"}},\"marker\":{\"colorbar\":{\"outlinewidth\":0,\"ticks\":\"\"}},\"type\":\"scatter3d\"}],\"scattercarpet\":[{\"marker\":{\"colorbar\":{\"outlinewidth\":0,\"ticks\":\"\"}},\"type\":\"scattercarpet\"}],\"scattergeo\":[{\"marker\":{\"colorbar\":{\"outlinewidth\":0,\"ticks\":\"\"}},\"type\":\"scattergeo\"}],\"scattergl\":[{\"marker\":{\"colorbar\":{\"outlinewidth\":0,\"ticks\":\"\"}},\"type\":\"scattergl\"}],\"scattermapbox\":[{\"marker\":{\"colorbar\":{\"outlinewidth\":0,\"ticks\":\"\"}},\"type\":\"scattermapbox\"}],\"scatterpolar\":[{\"marker\":{\"colorbar\":{\"outlinewidth\":0,\"ticks\":\"\"}},\"type\":\"scatterpolar\"}],\"scatterpolargl\":[{\"marker\":{\"colorbar\":{\"outlinewidth\":0,\"ticks\":\"\"}},\"type\":\"scatterpolargl\"}],\"scatterternary\":[{\"marker\":{\"colorbar\":{\"outlinewidth\":0,\"ticks\":\"\"}},\"type\":\"scatterternary\"}],\"surface\":[{\"colorbar\":{\"outlinewidth\":0,\"ticks\":\"\"},\"colorscale\":[[0.0,\"#0d0887\"],[0.1111111111111111,\"#46039f\"],[0.2222222222222222,\"#7201a8\"],[0.3333333333333333,\"#9c179e\"],[0.4444444444444444,\"#bd3786\"],[0.5555555555555556,\"#d8576b\"],[0.6666666666666666,\"#ed7953\"],[0.7777777777777778,\"#fb9f3a\"],[0.8888888888888888,\"#fdca26\"],[1.0,\"#f0f921\"]],\"type\":\"surface\"}],\"table\":[{\"cells\":{\"fill\":{\"color\":\"#EBF0F8\"},\"line\":{\"color\":\"white\"}},\"header\":{\"fill\":{\"color\":\"#C8D4E3\"},\"line\":{\"color\":\"white\"}},\"type\":\"table\"}]},\"layout\":{\"annotationdefaults\":{\"arrowcolor\":\"#2a3f5f\",\"arrowhead\":0,\"arrowwidth\":1},\"autotypenumbers\":\"strict\",\"coloraxis\":{\"colorbar\":{\"outlinewidth\":0,\"ticks\":\"\"}},\"colorscale\":{\"diverging\":[[0,\"#8e0152\"],[0.1,\"#c51b7d\"],[0.2,\"#de77ae\"],[0.3,\"#f1b6da\"],[0.4,\"#fde0ef\"],[0.5,\"#f7f7f7\"],[0.6,\"#e6f5d0\"],[0.7,\"#b8e186\"],[0.8,\"#7fbc41\"],[0.9,\"#4d9221\"],[1,\"#276419\"]],\"sequential\":[[0.0,\"#0d0887\"],[0.1111111111111111,\"#46039f\"],[0.2222222222222222,\"#7201a8\"],[0.3333333333333333,\"#9c179e\"],[0.4444444444444444,\"#bd3786\"],[0.5555555555555556,\"#d8576b\"],[0.6666666666666666,\"#ed7953\"],[0.7777777777777778,\"#fb9f3a\"],[0.8888888888888888,\"#fdca26\"],[1.0,\"#f0f921\"]],\"sequentialminus\":[[0.0,\"#0d0887\"],[0.1111111111111111,\"#46039f\"],[0.2222222222222222,\"#7201a8\"],[0.3333333333333333,\"#9c179e\"],[0.4444444444444444,\"#bd3786\"],[0.5555555555555556,\"#d8576b\"],[0.6666666666666666,\"#ed7953\"],[0.7777777777777778,\"#fb9f3a\"],[0.8888888888888888,\"#fdca26\"],[1.0,\"#f0f921\"]]},\"colorway\":[\"#636efa\",\"#EF553B\",\"#00cc96\",\"#ab63fa\",\"#FFA15A\",\"#19d3f3\",\"#FF6692\",\"#B6E880\",\"#FF97FF\",\"#FECB52\"],\"font\":{\"color\":\"#2a3f5f\"},\"geo\":{\"bgcolor\":\"white\",\"lakecolor\":\"white\",\"landcolor\":\"#E5ECF6\",\"showlakes\":true,\"showland\":true,\"subunitcolor\":\"white\"},\"hoverlabel\":{\"align\":\"left\"},\"hovermode\":\"closest\",\"mapbox\":{\"style\":\"light\"},\"paper_bgcolor\":\"white\",\"plot_bgcolor\":\"#E5ECF6\",\"polar\":{\"angularaxis\":{\"gridcolor\":\"white\",\"linecolor\":\"white\",\"ticks\":\"\"},\"bgcolor\":\"#E5ECF6\",\"radialaxis\":{\"gridcolor\":\"white\",\"linecolor\":\"white\",\"ticks\":\"\"}},\"scene\":{\"xaxis\":{\"backgroundcolor\":\"#E5ECF6\",\"gridcolor\":\"white\",\"gridwidth\":2,\"linecolor\":\"white\",\"showbackground\":true,\"ticks\":\"\",\"zerolinecolor\":\"white\"},\"yaxis\":{\"backgroundcolor\":\"#E5ECF6\",\"gridcolor\":\"white\",\"gridwidth\":2,\"linecolor\":\"white\",\"showbackground\":true,\"ticks\":\"\",\"zerolinecolor\":\"white\"},\"zaxis\":{\"backgroundcolor\":\"#E5ECF6\",\"gridcolor\":\"white\",\"gridwidth\":2,\"linecolor\":\"white\",\"showbackground\":true,\"ticks\":\"\",\"zerolinecolor\":\"white\"}},\"shapedefaults\":{\"line\":{\"color\":\"#2a3f5f\"}},\"ternary\":{\"aaxis\":{\"gridcolor\":\"white\",\"linecolor\":\"white\",\"ticks\":\"\"},\"baxis\":{\"gridcolor\":\"white\",\"linecolor\":\"white\",\"ticks\":\"\"},\"bgcolor\":\"#E5ECF6\",\"caxis\":{\"gridcolor\":\"white\",\"linecolor\":\"white\",\"ticks\":\"\"}},\"title\":{\"x\":0.05},\"xaxis\":{\"automargin\":true,\"gridcolor\":\"white\",\"linecolor\":\"white\",\"ticks\":\"\",\"title\":{\"standoff\":15},\"zerolinecolor\":\"white\",\"zerolinewidth\":2},\"yaxis\":{\"automargin\":true,\"gridcolor\":\"white\",\"linecolor\":\"white\",\"ticks\":\"\",\"title\":{\"standoff\":15},\"zerolinecolor\":\"white\",\"zerolinewidth\":2}}},\"xaxis\":{\"anchor\":\"y\",\"domain\":[0.0,1.0],\"title\":{\"text\":\"genre\"}},\"yaxis\":{\"anchor\":\"x\",\"domain\":[0.0,1.0],\"title\":{\"text\":\"rating\"}},\"legend\":{\"tracegroupgap\":0},\"margin\":{\"t\":60},\"boxmode\":\"group\"},                        {\"responsive\": true}                    ).then(function(){\n",
       "                            \n",
       "var gd = document.getElementById('cd52f47c-226a-4165-a226-4c222119c166');\n",
       "var x = new MutationObserver(function (mutations, observer) {{\n",
       "        var display = window.getComputedStyle(gd).display;\n",
       "        if (!display || display === 'none') {{\n",
       "            console.log([gd, 'removed!']);\n",
       "            Plotly.purge(gd);\n",
       "            observer.disconnect();\n",
       "        }}\n",
       "}});\n",
       "\n",
       "// Listen for the removal of the full notebook cells\n",
       "var notebookContainer = gd.closest('#notebook-container');\n",
       "if (notebookContainer) {{\n",
       "    x.observe(notebookContainer, {childList: true});\n",
       "}}\n",
       "\n",
       "// Listen for the clearing of the current output cell\n",
       "var outputEl = gd.closest('.output');\n",
       "if (outputEl) {{\n",
       "    x.observe(outputEl, {childList: true});\n",
       "}}\n",
       "\n",
       "                        })                };                });            </script>        </div>"
      ]
     },
     "metadata": {},
     "output_type": "display_data"
    }
   ],
   "source": [
    "fig = px.box(df, x=\"genre\", y=\"rating\",color=\"smoker \")\n",
    "fig.show()"
   ]
  },
  {
   "cell_type": "markdown",
   "metadata": {},
   "source": [
    "# Here in this graph I had observed that the most rating is given to the movies which are come under the genre of the \"COMEDY\" and the second most rating is given to the movies which comes under the genre of \"ACTION\""
   ]
  },
  {
   "cell_type": "code",
   "execution_count": 15,
   "metadata": {},
   "outputs": [
    {
     "data": {
      "application/vnd.plotly.v1+json": {
       "config": {
        "plotlyServerURL": "https://plot.ly"
       },
       "data": [
        {
         "alignmentgroup": "True",
         "hovertemplate": "director=%{x}<br>rating=%{y}<extra></extra>",
         "legendgroup": "",
         "marker": {
          "color": "#636efa"
         },
         "name": "",
         "notched": false,
         "offsetgroup": "",
         "orientation": "v",
         "showlegend": false,
         "type": "box",
         "x": [
          "Aniruddha Roy Chowdhury",
          "Neeraj Ghaywan",
          "Meghna Gulzar",
          "Yash Chopra",
          "Shimit Amin",
          "Rajkumar Santoshi",
          "Nagesh Kukunoor",
          "Hrishikesh Mukherjee",
          "Nikkhil Advani",
          "Kundan Shah",
          "Dibakar Banerjee",
          "Rajkumar Hirani",
          "Nishikant Kamat",
          "Ram Gopal Varma",
          "Mukul Anand",
          "S.S. Rajamouli",
          "Gauri Shinde",
          "Vishal Bhardwaj",
          "Abhishek Chaubey",
          "K. Asif",
          "Kabir Khan",
          "Aamir Khan",
          "Sujoy Ghosh",
          "Farhan Akhtar",
          "Imtiaz Ali",
          "Karan Johar",
          "Mani Ratnam",
          "Yash Chopra",
          "Umesh Shukla",
          "Shekhar Kapur",
          "Vishal Bhardwaj",
          "Anurag Kashyap",
          "Anurag Kashyap",
          "Rakeysh Omprakash Mehra",
          "Ketan Mehta",
          "Mansoor Khan",
          "Ram Gopal Varma",
          "Zoya Akhtar",
          "Advait Chandan",
          "R. Balki",
          "Shoojit Sircar",
          "Mahesh Manjrekar",
          "Vijay Anand",
          "Neeraj Pandey",
          "Anurag Kashyap",
          "J.P. Dutta",
          "Neeraj Pandey",
          "Amit Ravindernath Sharma",
          "Ashutosh Gowariker",
          "Abhishek Kapoor",
          "John Mathew Matthan",
          "Dibakar Banerjee",
          "Meghna Gulzar",
          "Anurag Kashyap",
          "Vishal Bhardwaj",
          "S.S. Rajamouli",
          "Deepa Mehta",
          "Rajkumar Hirani",
          "Chandra Barot",
          "Vikas Bahl",
          "Rajkumar Hirani",
          "Sagar Ballary",
          "Mani Ratnam",
          "Rajat Kapoor",
          "Shakun Batra",
          "Raja Menon",
          "Sanjay Leela Bhansali",
          "Neeraj Pandey",
          "Aditya Chopra",
          "Rajkumar Hirani",
          "Ram Madhvani",
          "Tigmanshu Dhulia",
          "Shashant Shah",
          "Shoojit Sircar",
          "Anurag Kashyap",
          "Rakeysh Omprakash Mehra",
          "Ram Gopal Varma",
          "Nitesh Tiwari",
          "Kundan Shah",
          "Ramesh Sippy",
          "Ashutosh Gowariker",
          "Priyadarshan",
          "Hrishikesh Mukherjee",
          "Vikramaditya Motwane",
          "Saket Chaudhary",
          "S. Shankar",
          "Mehboob Khan",
          "Amit Masurkar",
          "Farhan Akhtar",
          "Sriram Raghavan",
          "Navdeep Singh",
          "Kamal Haasan",
          "Rajkumar Santoshi",
          "Hansal Mehta",
          "Shimit Amin",
          "Anurag Basu",
          "Prakash Jha",
          "Hrishikesh Mukherjee",
          "Yash Chopra",
          "Ritesh Batra",
          "Mukul Anand",
          "Shakun Batra",
          "Ravi Udyawar",
          "Priyadarshan",
          "Lawrence D'Souza",
          "Shimit Amin",
          "Rakeysh Omprakash Mehra",
          "Vikas Bahl",
          "Rajat Kapoor",
          "R. Balki",
          "Mira Nair",
          "Abhishek Kapoor",
          "Dibakar Banerjee",
          "Gautham Vasudev Menon",
          "Akarsh Khurana",
          "A.R. Murugadoss",
          "Mani Ratnam",
          "Sooraj R. Barjatya",
          "Hrishikesh Mukherjee",
          "Yash Chopra",
          "Nitesh Tiwari",
          "Rajkumar Santoshi",
          "Anurag Kashyap",
          "Aamir Khan",
          "Reema Kagti",
          "Imtiaz Ali",
          "Ram Gopal Varma",
          "Anurag Kashyap",
          "Vipul Amrutlal Shah",
          "Raaj Shaandilyaa",
          "Aanand L. Rai",
          "Zoya Akhtar",
          "Deepa Mehta",
          "S. Shankar",
          "Amit Masurkar",
          "Advait Chandan",
          "Pan Nalin",
          "Umesh Shukla",
          "Nikkhil Advani",
          "Anubhav Sinha",
          "Subhash Kapoor",
          "Mani Ratnam",
          "Raj Kumar Gupta",
          "Manmohan Desai",
          "Ramesh Sippy",
          "Farhan Akhtar",
          "Neeraj Pandey",
          "Vikramaditya Motwane",
          "Dibakar Banerjee",
          "Ashutosh Gowariker",
          "Anurag Kashyap",
          "Anurag Kashyap",
          "Madhur Bhandarkar",
          "Rajkumar Hirani",
          "Rajkumar Santoshi",
          "Ashutosh Gowariker",
          "Sudha Kongara",
          "Abhinay Deo",
          "Abbas Alibhai Burmawalla",
          "Sriram Raghavan",
          "Kundan Shah",
          "Vikramaditya Motwane",
          "Karan Johar",
          "Sidharth Malhotra",
          "Abbas Alibhai Burmawalla",
          "Neeraj Ghaywan",
          "Mansoor Khan",
          "Rajkumar Hirani",
          "Priyadarshan",
          "Rajkumar Hirani",
          "Shoojit Sircar",
          "Sanjay Leela Bhansali",
          "Vishal Bhardwaj",
          "Hrishikesh Mukherjee",
          "Ram Gopal Varma",
          "Vikram Bhatt",
          "Sooraj R. Barjatya",
          "Mansoor Khan",
          "S.S. Rajamouli",
          "Ashutosh Gowariker",
          "Ram Gopal Varma",
          "Neeraj Pandey",
          "Ram Madhvani",
          "Abhishek Chaubey",
          "Imtiaz Ali",
          "Trivikram Srinivas",
          "Abbas Tyrewala",
          "Ravi Chopra",
          "Anil Sharma",
          "Ashwiny Iyer Tiwari",
          "Aditya Dhar",
          "Tigmanshu Dhulia",
          "S. Shankar",
          "Shoojit Sircar",
          "Vishal Bhardwaj",
          "Sujoy Ghosh",
          "Anusha Rizvi",
          "Shekhar Kapur",
          "Milan Luthria",
          "Meghna Gulzar",
          "Mrighdeep Lamba",
          "Raj Kumar Gupta",
          "Rakeysh Omprakash Mehra",
          "Anurag Basu",
          "Gauri Shinde",
          "Ribhu Dasgupta",
          "Sagar Ballary",
          "Vijay Anand",
          "Bejoy Nambiar",
          "Shoojit Sircar",
          "Vipul Amrutlal Shah",
          "Shree Narayan Singh",
          "Yash Chopra",
          "Nishikant Kamat",
          "Aanand L. Rai",
          "Rajkumar Santoshi",
          "Raja Menon",
          "Pradeep Sarkar",
          "Sriram Raghavan",
          "Sriram Raghavan",
          "Sandeep Reddy Vanga",
          "Rohit Shetty",
          "Kundan Shah",
          "Shashant Shah",
          "Neeraj Pandey",
          "Amit Ravindernath Sharma",
          "Vivek Agnihotri",
          "Ketan Mehta",
          "Nitesh Tiwari",
          "Pradeep Sarkar",
          "Sankalp Reddy",
          "Kamal Haasan",
          "Abhishek Chaubey",
          "Nikkhil Advani",
          "Mohit Suri",
          "Sanjay Leela Bhansali",
          "Subhash Kapoor",
          "Abhishek Kapoor",
          "Mani Ratnam",
          "Anurag Basu",
          "Suresh Krishna",
          "Vikramaditya Motwane",
          "Kamal Haasan",
          "Sanjay Leela Bhansali",
          "Anand Gandhi",
          "John Mathew Matthan",
          "Chandra Barot",
          "Umesh Shukla",
          "Milan Luthria",
          "Navdeep Singh",
          "Hrishikesh Mukherjee",
          "Imtiaz Ali",
          "Mahesh Manjrekar",
          "Vishal Bhardwaj",
          "K. Asif",
          "Nishikant Kamat",
          "Imtiaz Ali",
          "Navdeep Singh",
          "Nagesh Kukunoor",
          "Karan Johar",
          "Maneesh Sharma",
          "Anurag Kashyap",
          "Shoojit Sircar",
          "Zoya Akhtar",
          "Ajay Bahl",
          "Karan Johar",
          "Meghna Gulzar",
          "Ratnaa Sinha",
          "Yash Chopra",
          "Hansal Mehta",
          "Shimit Amin",
          "Dibakar Banerjee",
          "S. Shankar",
          "Ritesh Batra",
          "Prakash Jha",
          "Dibakar Banerjee",
          "Sanjay Leela Bhansali",
          "S. Shankar",
          "Neeraj Pandey",
          "Kabir Khan",
          "Gauri Shinde",
          "Rajkumar Hirani",
          "Farhan Akhtar",
          "J.P. Dutta",
          "Shimit Amin",
          "Aniruddha Roy Chowdhury",
          "Mehboob Khan",
          "Vishal Bhardwaj",
          "Aditya Chopra",
          "Vikas Bahl",
          "Sharat Katariya",
          "S.S. Rajamouli",
          "Ram Gopal Varma",
          "Priyadarshan",
          "Abhishek Sharma",
          "Mani Ratnam",
          "Saket Chaudhary",
          "Ayan Mukherjee",
          "Anurag Kashyap",
          "Vikas Bahl",
          "Ajay Bahl",
          "Abhishek Kapoor",
          "Vipul Amrutlal Shah",
          "Vijay Anand",
          "Tigmanshu Dhulia",
          "Vishal Bhardwaj",
          "Navdeep Singh",
          "Nishikant Kamat",
          "Imtiaz Ali",
          "Neeraj Pandey",
          "Sudha Kongara",
          "Mani Ratnam",
          "Dibakar Banerjee",
          "Ram Madhvani",
          "Priyadarshan",
          "Ram Gopal Varma",
          "Saket Chaudhary",
          "Pradeep Sarkar",
          "Vipul Amrutlal Shah",
          "Deepa Mehta",
          "Aniruddha Roy Chowdhury",
          "Karan Johar",
          "Milan Luthria",
          "Rakeysh Omprakash Mehra",
          "Anurag Kashyap",
          "Sanjay Leela Bhansali",
          "Ram Gopal Varma",
          "Gauri Shinde",
          "Zoya Akhtar",
          "Rajkumar Hirani",
          "Imtiaz Ali",
          "Manmohan Desai",
          "Abhishek Sharma",
          "John Mathew Matthan",
          "Shree Narayan Singh",
          "Anurag Kashyap",
          "Farhan Akhtar",
          "Hrishikesh Mukherjee",
          "Trivikram Srinivas",
          "S.S. Rajamouli",
          "Yash Chopra",
          "Nishikant Kamat",
          "Shimit Amin",
          "Mani Ratnam",
          "Yash Chopra",
          "Akarsh Khurana",
          "Dibakar Banerjee",
          "Vishal Bhardwaj",
          "Mani Ratnam",
          "Ritesh Batra",
          "Kabir Khan",
          "Nitesh Tiwari",
          "Vishal Bhardwaj",
          "Neeraj Pandey",
          "Mohit Suri",
          "Rakeysh Omprakash Mehra",
          "Prakash Jha",
          "Umesh Shukla",
          "Sriram Raghavan",
          "Mansoor Khan",
          "Sanjay Leela Bhansali",
          "Sooraj R. Barjatya",
          "Vikramaditya Motwane",
          "S. Shankar",
          "Ribhu Dasgupta",
          "Rajkumar Santoshi",
          "Bejoy Nambiar",
          "Shakun Batra",
          "Dibakar Banerjee",
          "S. Shankar",
          "Mani Ratnam",
          "Anurag Kashyap",
          "Neeraj Pandey",
          "Kamal Haasan",
          "Lawrence D'Souza",
          "Milan Luthria",
          "Nitesh Tiwari",
          "Imtiaz Ali",
          "Abhishek Chaubey",
          "Navdeep Singh",
          "Anand Gandhi",
          "Aditya Chopra",
          "Amit Ravindernath Sharma",
          "Ravi Udyawar",
          "Shoojit Sircar",
          "S. Shankar",
          "Ratnaa Sinha",
          "Rajkumar Hirani",
          "Ashwiny Iyer Tiwari",
          "Ashutosh Gowariker",
          "Anil Sharma",
          "Sooraj R. Barjatya",
          "R. Balki",
          "Sankalp Reddy",
          "Dibakar Banerjee",
          "S.S. Rajamouli",
          "Suresh Krishna",
          "Abhishek Kapoor",
          "Sujoy Ghosh",
          "Yash Chopra",
          "Karan Johar",
          "Chandra Barot",
          "A.R. Murugadoss",
          "Ketan Mehta",
          "Shimit Amin",
          "Karan Johar",
          "Abhinay Deo",
          "Subhash Kapoor",
          "Priyadarshan",
          "Kundan Shah",
          "Pradeep Sarkar",
          "Rajkumar Hirani",
          "Raaj Shaandilyaa",
          "Madhur Bhandarkar",
          "Raja Menon",
          "Sriram Raghavan",
          "Farhan Akhtar",
          "Ashutosh Gowariker",
          "Rajat Kapoor",
          "Anubhav Sinha",
          "Umesh Shukla",
          "Anurag Kashyap",
          "Aamir Khan",
          "Vikramaditya Motwane",
          "Ramesh Sippy",
          "Hansal Mehta",
          "Mira Nair",
          "Sagar Ballary",
          "Zoya Akhtar",
          "Abhishek Chaubey",
          "Aanand L. Rai",
          "Sandeep Reddy Vanga",
          "Reema Kagti",
          "Aanand L. Rai",
          "Raj Kumar Gupta",
          "Sidharth Malhotra",
          "Kundan Shah",
          "Vikramaditya Motwane",
          "Anurag Kashyap",
          "Raj Kumar Gupta",
          "Sanjay Leela Bhansali",
          "Mehboob Khan",
          "Sharat Katariya",
          "Shekhar Kapur",
          "Abbas Tyrewala",
          "Vishal Bhardwaj",
          "Nikkhil Advani",
          "Mukul Anand",
          "Gauri Shinde",
          "Anusha Rizvi",
          "S. Shankar",
          "Nikkhil Advani",
          "Anurag Kashyap",
          "Subhash Kapoor",
          "Shoojit Sircar",
          "Rajkumar Santoshi",
          "Amit Masurkar",
          "Mahesh Manjrekar",
          "Kamal Haasan",
          "Neeraj Pandey",
          "K. Asif",
          "Imtiaz Ali",
          "Abbas Alibhai Burmawalla",
          "J.P. Dutta",
          "Shimit Amin",
          "Neeraj Ghaywan",
          "Meghna Gulzar",
          "Ram Gopal Varma",
          "Shashant Shah",
          "Mansoor Khan",
          "Anurag Basu",
          "Rohit Shetty",
          "Vikram Bhatt",
          "Vivek Agnihotri",
          "Hrishikesh Mukherjee",
          "Meghna Gulzar",
          "Shoojit Sircar",
          "Priyadarshan",
          "Ayan Mukherjee",
          "Abbas Alibhai Burmawalla",
          "Mrighdeep Lamba",
          "Vikas Bahl",
          "Hrishikesh Mukherjee",
          "Ashutosh Gowariker",
          "Sanjay Leela Bhansali",
          "Anurag Basu",
          "Ram Gopal Varma",
          "Rajkumar Santoshi",
          "Maneesh Sharma",
          "Ravi Chopra",
          "Shoojit Sircar",
          "Aditya Dhar",
          "Nagesh Kukunoor",
          "Gautham Vasudev Menon",
          "Rajkumar Hirani",
          "Pan Nalin",
          "Advait Chandan",
          "Sriram Raghavan",
          "Anurag Kashyap",
          "Chandra Barot",
          "Shimit Amin",
          "Vishal Bhardwaj",
          "Shoojit Sircar",
          "Rakeysh Omprakash Mehra",
          "Rajat Kapoor",
          "Ashutosh Gowariker",
          "Nitesh Tiwari",
          "Nikkhil Advani",
          "Meghna Gulzar",
          "Ram Gopal Varma",
          "Rajkumar Hirani",
          "R. Balki",
          "Zoya Akhtar",
          "Farhan Akhtar",
          "Imtiaz Ali",
          "Neeraj Pandey",
          "Rajkumar Hirani",
          "Vishal Bhardwaj",
          "Gauri Shinde",
          "Vikas Bahl",
          "Yash Chopra",
          "Ram Madhvani",
          "Karan Johar",
          "Navdeep Singh",
          "Anurag Kashyap",
          "Amit Masurkar",
          "Mehboob Khan",
          "Shoojit Sircar",
          "Dibakar Banerjee",
          "Kundan Shah",
          "Rajkumar Hirani",
          "Advait Chandan",
          "Ketan Mehta",
          "S.S. Rajamouli",
          "Meghna Gulzar",
          "Vishal Bhardwaj",
          "Mansoor Khan",
          "Anurag Kashyap",
          "Rajkumar Santoshi",
          "Kamal Haasan",
          "Vikramaditya Motwane",
          "Ramesh Sippy",
          "Neeraj Pandey",
          "Rakeysh Omprakash Mehra",
          "Yash Chopra",
          "Ashutosh Gowariker",
          "Shekhar Kapur",
          "Sriram Raghavan",
          "Ram Gopal Varma",
          "Hrishikesh Mukherjee",
          "Raja Menon",
          "Aamir Khan",
          "Neeraj Ghaywan",
          "Ram Gopal Varma",
          "Prakash Jha",
          "S.S. Rajamouli",
          "Anurag Basu",
          "Aditya Chopra",
          "Aniruddha Roy Chowdhury",
          "Rajkumar Santoshi",
          "Sagar Ballary",
          "Saket Chaudhary",
          "Amit Ravindernath Sharma",
          "Hrishikesh Mukherjee",
          "Mani Ratnam",
          "Shimit Amin",
          "Rajkumar Hirani",
          "Hansal Mehta",
          "Abhishek Kapoor",
          "Abhishek Chaubey",
          "Vijay Anand",
          "K. Asif",
          "Tigmanshu Dhulia",
          "Anurag Kashyap",
          "John Mathew Matthan",
          "Shashant Shah",
          "Neeraj Pandey",
          "Anurag Kashyap",
          "Farhan Akhtar",
          "Nagesh Kukunoor",
          "Mukul Anand",
          "Sanjay Leela Bhansali",
          "Mani Ratnam",
          "Yash Chopra",
          "Nishikant Kamat",
          "Sujoy Ghosh",
          "Umesh Shukla",
          "S. Shankar",
          "Deepa Mehta",
          "Priyadarshan",
          "Shakun Batra",
          "Kabir Khan",
          "J.P. Dutta",
          "Mahesh Manjrekar",
          "Dibakar Banerjee",
          "Hrishikesh Mukherjee",
          "Kundan Shah",
          "Ritesh Batra"
         ],
         "x0": " ",
         "xaxis": "x",
         "y": [
          8.1,
          8.2,
          8.2,
          8.1,
          7.8,
          8.1,
          8.1,
          8.3,
          7.9,
          7.8,
          7.7,
          8.1,
          8.2,
          8,
          7.7,
          8,
          7.8,
          8.1,
          7.8,
          8.2,
          8,
          8.4,
          8.1,
          7.9,
          7.9,
          8,
          8.2,
          7.8,
          8.1,
          7.8,
          8.1,
          8.2,
          8,
          8.2,
          8,
          8.2,
          8.3,
          8.2,
          7.8,
          7.9,
          7.8,
          8,
          8.4,
          8,
          8.5,
          7.9,
          8,
          8,
          8.2,
          7.7,
          8.1,
          8.3,
          7.8,
          8.1,
          8.1,
          8.2,
          7.7,
          8.1,
          7.8,
          8.2,
          8.4,
          7.6,
          7.7,
          8,
          7.7,
          8,
          8.2,
          8.1,
          8.1,
          8.1,
          7.6,
          8.2,
          7.8,
          7.7,
          8,
          8.1,
          7.6,
          8.4,
          8.4,
          8.2,
          8.1,
          8.2,
          8.6,
          8.2,
          7.9,
          7.8,
          8,
          7.7,
          8.1,
          7.8,
          7.6,
          8,
          8.1,
          8.2,
          8.2,
          8.1,
          7.8,
          8.2,
          7.8,
          7.8,
          7.7,
          7.7,
          7.3,
          8.2,
          7.3,
          7.8,
          8.2,
          7.5,
          8,
          7.9,
          7.4,
          7.8,
          7.2,
          7.6,
          7.6,
          7.4,
          7.6,
          7.3,
          8.6,
          7.8,
          8.3,
          8.1,
          8,
          8.4,
          7.2,
          7.9,
          7.5,
          8.5,
          7.4,
          7,
          7.6,
          7.9,
          7.7,
          8.3,
          7.7,
          7.8,
          7.7,
          8.1,
          7.9,
          8.2,
          7.6,
          8.2,
          7.2,
          7.5,
          8.2,
          7.9,
          8,
          7.6,
          7.7,
          8.2,
          8.2,
          8,
          7.3,
          8.4,
          8.1,
          8.1,
          7.6,
          7.6,
          7.7,
          7.8,
          8.4,
          7.3,
          7.4,
          7.5,
          7.2,
          8.2,
          7.5,
          8.1,
          7.6,
          8.1,
          7.8,
          7.6,
          8.1,
          8.3,
          8,
          7.3,
          7.5,
          8.2,
          8,
          7.6,
          7.6,
          8,
          7.6,
          7.3,
          7.7,
          7.6,
          7.5,
          7.4,
          7.3,
          7.5,
          8.3,
          8.2,
          7.5,
          7.7,
          8.1,
          8.1,
          7.4,
          7.8,
          7.3,
          7.8,
          6.9,
          7.4,
          8.1,
          7.4,
          7.5,
          7.3,
          7.6,
          8.4,
          7.2,
          7.6,
          7.1,
          7.2,
          7.8,
          8.2,
          7.6,
          7.4,
          8,
          7.3,
          7.4,
          7.5,
          7.1,
          7.5,
          7.8,
          7.8,
          8.1,
          8,
          7.9,
          8,
          8.4,
          7.2,
          7.6,
          7.4,
          7.8,
          7.2,
          7.3,
          8.2,
          7.2,
          7.7,
          7.4,
          8.1,
          8.3,
          8.2,
          8,
          7.5,
          8.1,
          8.1,
          7.8,
          7.5,
          7.4,
          7.2,
          8.2,
          7.6,
          8,
          8.1,
          8.2,
          7.6,
          7.4,
          7.6,
          8.1,
          7.6,
          7.2,
          8.1,
          7.5,
          8.2,
          8.1,
          8,
          8.2,
          7.6,
          8.1,
          8.2,
          7.5,
          7.7,
          7.8,
          7.8,
          7.8,
          8.3,
          7.5,
          8.1,
          8,
          8,
          7.8,
          8.1,
          8.1,
          7.9,
          8.2,
          8.1,
          8,
          7.4,
          8.1,
          8.2,
          7.5,
          8.2,
          8.3,
          7.3,
          7.6,
          7.7,
          7.9,
          7.6,
          7.4,
          8.2,
          8.1,
          7.7,
          7.4,
          8.4,
          8.2,
          8.1,
          7.6,
          8.2,
          7.6,
          8,
          7.6,
          8.2,
          8.3,
          7.6,
          7.6,
          7.6,
          7.9,
          7.2,
          7.1,
          7.7,
          8.1,
          8,
          7.3,
          8.1,
          8.1,
          7.6,
          7.5,
          7.8,
          8.2,
          8.4,
          7.7,
          7.5,
          7.6,
          8.1,
          7.2,
          7.4,
          8.1,
          8.3,
          7.6,
          8,
          7.8,
          7.6,
          7.8,
          7.7,
          7.8,
          7.6,
          7.7,
          7.4,
          7.4,
          7.8,
          8,
          8.3,
          8.1,
          8,
          7.3,
          8.2,
          7.8,
          7.5,
          7.4,
          8.2,
          7.5,
          7.3,
          7.6,
          8.3,
          7.3,
          7.4,
          7.2,
          7.7,
          7.7,
          8.1,
          7.6,
          8,
          8.1,
          7.4,
          7.3,
          7.4,
          8.4,
          7.9,
          7.3,
          7.2,
          8.1,
          8.1,
          8,
          7.3,
          7.6,
          7.5,
          7.6,
          8.1,
          7.5,
          7.6,
          7.3,
          7.5,
          7.9,
          7.6,
          7.2,
          8.2,
          8.3,
          7.8,
          8.1,
          8.1,
          7.6,
          7.8,
          7.4,
          8,
          8.2,
          7.4,
          7.6,
          7.2,
          7.3,
          7.8,
          7.3,
          8.1,
          7,
          7.3,
          8,
          7.5,
          7.9,
          8.2,
          8,
          8.2,
          8.1,
          8,
          8.4,
          7.3,
          8.2,
          8.2,
          7.4,
          7.6,
          7.9,
          7.8,
          7.6,
          7.1,
          7.2,
          7.6,
          7.4,
          7.5,
          8.4,
          8.2,
          8.5,
          7.2,
          8.2,
          8,
          7.5,
          7.8,
          7.5,
          8.1,
          7.9,
          7.7,
          7.5,
          7.4,
          7.8,
          7.2,
          8.2,
          7.6,
          7.7,
          8.1,
          7.7,
          8,
          8,
          8,
          8.2,
          7.4,
          7.7,
          7.9,
          7.5,
          8.2,
          7.8,
          8.3,
          7.8,
          7.5,
          7.4,
          7.5,
          7.3,
          7.9,
          8.2,
          8.2,
          7.5,
          8.2,
          7.6,
          7.2,
          6.9,
          7.5,
          8.6,
          8.1,
          7.5,
          8.1,
          8,
          8.1,
          7.2,
          7.4,
          7.8,
          8.3,
          8.1,
          7.6,
          8.1,
          7.7,
          7.8,
          7.8,
          8.5,
          7.8,
          8.2,
          8.1,
          7.7,
          8.2,
          8,
          8.2,
          8.4,
          7.9,
          7.8,
          8.3,
          8.1,
          7.9,
          8.2,
          7.9,
          7.9,
          8,
          8.1,
          8.1,
          7.8,
          8.2,
          8.1,
          7.6,
          8,
          7.6,
          8.1,
          7.7,
          8,
          7.8,
          8.3,
          7.8,
          8.4,
          7.8,
          8,
          8,
          8.2,
          8.1,
          8.2,
          8,
          8.1,
          8,
          8.2,
          8.2,
          8.1,
          8.1,
          7.8,
          8.1,
          7.8,
          7.8,
          8,
          8.6,
          8,
          8.4,
          8.2,
          7.6,
          7.8,
          8.2,
          8.1,
          8.1,
          8.1,
          8.1,
          7.6,
          7.9,
          8,
          8.2,
          7.7,
          7.8,
          8.1,
          8.2,
          7.7,
          7.8,
          8.4,
          8.2,
          8.2,
          8,
          8.1,
          7.8,
          8,
          8.2,
          8.1,
          8.1,
          7.7,
          8.2,
          8.2,
          7.8,
          8.2,
          8.1,
          8.1,
          7.8,
          7.7,
          8.2,
          7.7,
          8,
          7.9,
          8,
          7.7,
          8.3,
          8.4,
          7.8
         ],
         "y0": " ",
         "yaxis": "y"
        }
       ],
       "layout": {
        "boxmode": "group",
        "legend": {
         "tracegroupgap": 0
        },
        "margin": {
         "t": 60
        },
        "template": {
         "data": {
          "bar": [
           {
            "error_x": {
             "color": "#2a3f5f"
            },
            "error_y": {
             "color": "#2a3f5f"
            },
            "marker": {
             "line": {
              "color": "#E5ECF6",
              "width": 0.5
             },
             "pattern": {
              "fillmode": "overlay",
              "size": 10,
              "solidity": 0.2
             }
            },
            "type": "bar"
           }
          ],
          "barpolar": [
           {
            "marker": {
             "line": {
              "color": "#E5ECF6",
              "width": 0.5
             },
             "pattern": {
              "fillmode": "overlay",
              "size": 10,
              "solidity": 0.2
             }
            },
            "type": "barpolar"
           }
          ],
          "carpet": [
           {
            "aaxis": {
             "endlinecolor": "#2a3f5f",
             "gridcolor": "white",
             "linecolor": "white",
             "minorgridcolor": "white",
             "startlinecolor": "#2a3f5f"
            },
            "baxis": {
             "endlinecolor": "#2a3f5f",
             "gridcolor": "white",
             "linecolor": "white",
             "minorgridcolor": "white",
             "startlinecolor": "#2a3f5f"
            },
            "type": "carpet"
           }
          ],
          "choropleth": [
           {
            "colorbar": {
             "outlinewidth": 0,
             "ticks": ""
            },
            "type": "choropleth"
           }
          ],
          "contour": [
           {
            "colorbar": {
             "outlinewidth": 0,
             "ticks": ""
            },
            "colorscale": [
             [
              0,
              "#0d0887"
             ],
             [
              0.1111111111111111,
              "#46039f"
             ],
             [
              0.2222222222222222,
              "#7201a8"
             ],
             [
              0.3333333333333333,
              "#9c179e"
             ],
             [
              0.4444444444444444,
              "#bd3786"
             ],
             [
              0.5555555555555556,
              "#d8576b"
             ],
             [
              0.6666666666666666,
              "#ed7953"
             ],
             [
              0.7777777777777778,
              "#fb9f3a"
             ],
             [
              0.8888888888888888,
              "#fdca26"
             ],
             [
              1,
              "#f0f921"
             ]
            ],
            "type": "contour"
           }
          ],
          "contourcarpet": [
           {
            "colorbar": {
             "outlinewidth": 0,
             "ticks": ""
            },
            "type": "contourcarpet"
           }
          ],
          "heatmap": [
           {
            "colorbar": {
             "outlinewidth": 0,
             "ticks": ""
            },
            "colorscale": [
             [
              0,
              "#0d0887"
             ],
             [
              0.1111111111111111,
              "#46039f"
             ],
             [
              0.2222222222222222,
              "#7201a8"
             ],
             [
              0.3333333333333333,
              "#9c179e"
             ],
             [
              0.4444444444444444,
              "#bd3786"
             ],
             [
              0.5555555555555556,
              "#d8576b"
             ],
             [
              0.6666666666666666,
              "#ed7953"
             ],
             [
              0.7777777777777778,
              "#fb9f3a"
             ],
             [
              0.8888888888888888,
              "#fdca26"
             ],
             [
              1,
              "#f0f921"
             ]
            ],
            "type": "heatmap"
           }
          ],
          "heatmapgl": [
           {
            "colorbar": {
             "outlinewidth": 0,
             "ticks": ""
            },
            "colorscale": [
             [
              0,
              "#0d0887"
             ],
             [
              0.1111111111111111,
              "#46039f"
             ],
             [
              0.2222222222222222,
              "#7201a8"
             ],
             [
              0.3333333333333333,
              "#9c179e"
             ],
             [
              0.4444444444444444,
              "#bd3786"
             ],
             [
              0.5555555555555556,
              "#d8576b"
             ],
             [
              0.6666666666666666,
              "#ed7953"
             ],
             [
              0.7777777777777778,
              "#fb9f3a"
             ],
             [
              0.8888888888888888,
              "#fdca26"
             ],
             [
              1,
              "#f0f921"
             ]
            ],
            "type": "heatmapgl"
           }
          ],
          "histogram": [
           {
            "marker": {
             "pattern": {
              "fillmode": "overlay",
              "size": 10,
              "solidity": 0.2
             }
            },
            "type": "histogram"
           }
          ],
          "histogram2d": [
           {
            "colorbar": {
             "outlinewidth": 0,
             "ticks": ""
            },
            "colorscale": [
             [
              0,
              "#0d0887"
             ],
             [
              0.1111111111111111,
              "#46039f"
             ],
             [
              0.2222222222222222,
              "#7201a8"
             ],
             [
              0.3333333333333333,
              "#9c179e"
             ],
             [
              0.4444444444444444,
              "#bd3786"
             ],
             [
              0.5555555555555556,
              "#d8576b"
             ],
             [
              0.6666666666666666,
              "#ed7953"
             ],
             [
              0.7777777777777778,
              "#fb9f3a"
             ],
             [
              0.8888888888888888,
              "#fdca26"
             ],
             [
              1,
              "#f0f921"
             ]
            ],
            "type": "histogram2d"
           }
          ],
          "histogram2dcontour": [
           {
            "colorbar": {
             "outlinewidth": 0,
             "ticks": ""
            },
            "colorscale": [
             [
              0,
              "#0d0887"
             ],
             [
              0.1111111111111111,
              "#46039f"
             ],
             [
              0.2222222222222222,
              "#7201a8"
             ],
             [
              0.3333333333333333,
              "#9c179e"
             ],
             [
              0.4444444444444444,
              "#bd3786"
             ],
             [
              0.5555555555555556,
              "#d8576b"
             ],
             [
              0.6666666666666666,
              "#ed7953"
             ],
             [
              0.7777777777777778,
              "#fb9f3a"
             ],
             [
              0.8888888888888888,
              "#fdca26"
             ],
             [
              1,
              "#f0f921"
             ]
            ],
            "type": "histogram2dcontour"
           }
          ],
          "mesh3d": [
           {
            "colorbar": {
             "outlinewidth": 0,
             "ticks": ""
            },
            "type": "mesh3d"
           }
          ],
          "parcoords": [
           {
            "line": {
             "colorbar": {
              "outlinewidth": 0,
              "ticks": ""
             }
            },
            "type": "parcoords"
           }
          ],
          "pie": [
           {
            "automargin": true,
            "type": "pie"
           }
          ],
          "scatter": [
           {
            "marker": {
             "colorbar": {
              "outlinewidth": 0,
              "ticks": ""
             }
            },
            "type": "scatter"
           }
          ],
          "scatter3d": [
           {
            "line": {
             "colorbar": {
              "outlinewidth": 0,
              "ticks": ""
             }
            },
            "marker": {
             "colorbar": {
              "outlinewidth": 0,
              "ticks": ""
             }
            },
            "type": "scatter3d"
           }
          ],
          "scattercarpet": [
           {
            "marker": {
             "colorbar": {
              "outlinewidth": 0,
              "ticks": ""
             }
            },
            "type": "scattercarpet"
           }
          ],
          "scattergeo": [
           {
            "marker": {
             "colorbar": {
              "outlinewidth": 0,
              "ticks": ""
             }
            },
            "type": "scattergeo"
           }
          ],
          "scattergl": [
           {
            "marker": {
             "colorbar": {
              "outlinewidth": 0,
              "ticks": ""
             }
            },
            "type": "scattergl"
           }
          ],
          "scattermapbox": [
           {
            "marker": {
             "colorbar": {
              "outlinewidth": 0,
              "ticks": ""
             }
            },
            "type": "scattermapbox"
           }
          ],
          "scatterpolar": [
           {
            "marker": {
             "colorbar": {
              "outlinewidth": 0,
              "ticks": ""
             }
            },
            "type": "scatterpolar"
           }
          ],
          "scatterpolargl": [
           {
            "marker": {
             "colorbar": {
              "outlinewidth": 0,
              "ticks": ""
             }
            },
            "type": "scatterpolargl"
           }
          ],
          "scatterternary": [
           {
            "marker": {
             "colorbar": {
              "outlinewidth": 0,
              "ticks": ""
             }
            },
            "type": "scatterternary"
           }
          ],
          "surface": [
           {
            "colorbar": {
             "outlinewidth": 0,
             "ticks": ""
            },
            "colorscale": [
             [
              0,
              "#0d0887"
             ],
             [
              0.1111111111111111,
              "#46039f"
             ],
             [
              0.2222222222222222,
              "#7201a8"
             ],
             [
              0.3333333333333333,
              "#9c179e"
             ],
             [
              0.4444444444444444,
              "#bd3786"
             ],
             [
              0.5555555555555556,
              "#d8576b"
             ],
             [
              0.6666666666666666,
              "#ed7953"
             ],
             [
              0.7777777777777778,
              "#fb9f3a"
             ],
             [
              0.8888888888888888,
              "#fdca26"
             ],
             [
              1,
              "#f0f921"
             ]
            ],
            "type": "surface"
           }
          ],
          "table": [
           {
            "cells": {
             "fill": {
              "color": "#EBF0F8"
             },
             "line": {
              "color": "white"
             }
            },
            "header": {
             "fill": {
              "color": "#C8D4E3"
             },
             "line": {
              "color": "white"
             }
            },
            "type": "table"
           }
          ]
         },
         "layout": {
          "annotationdefaults": {
           "arrowcolor": "#2a3f5f",
           "arrowhead": 0,
           "arrowwidth": 1
          },
          "autotypenumbers": "strict",
          "coloraxis": {
           "colorbar": {
            "outlinewidth": 0,
            "ticks": ""
           }
          },
          "colorscale": {
           "diverging": [
            [
             0,
             "#8e0152"
            ],
            [
             0.1,
             "#c51b7d"
            ],
            [
             0.2,
             "#de77ae"
            ],
            [
             0.3,
             "#f1b6da"
            ],
            [
             0.4,
             "#fde0ef"
            ],
            [
             0.5,
             "#f7f7f7"
            ],
            [
             0.6,
             "#e6f5d0"
            ],
            [
             0.7,
             "#b8e186"
            ],
            [
             0.8,
             "#7fbc41"
            ],
            [
             0.9,
             "#4d9221"
            ],
            [
             1,
             "#276419"
            ]
           ],
           "sequential": [
            [
             0,
             "#0d0887"
            ],
            [
             0.1111111111111111,
             "#46039f"
            ],
            [
             0.2222222222222222,
             "#7201a8"
            ],
            [
             0.3333333333333333,
             "#9c179e"
            ],
            [
             0.4444444444444444,
             "#bd3786"
            ],
            [
             0.5555555555555556,
             "#d8576b"
            ],
            [
             0.6666666666666666,
             "#ed7953"
            ],
            [
             0.7777777777777778,
             "#fb9f3a"
            ],
            [
             0.8888888888888888,
             "#fdca26"
            ],
            [
             1,
             "#f0f921"
            ]
           ],
           "sequentialminus": [
            [
             0,
             "#0d0887"
            ],
            [
             0.1111111111111111,
             "#46039f"
            ],
            [
             0.2222222222222222,
             "#7201a8"
            ],
            [
             0.3333333333333333,
             "#9c179e"
            ],
            [
             0.4444444444444444,
             "#bd3786"
            ],
            [
             0.5555555555555556,
             "#d8576b"
            ],
            [
             0.6666666666666666,
             "#ed7953"
            ],
            [
             0.7777777777777778,
             "#fb9f3a"
            ],
            [
             0.8888888888888888,
             "#fdca26"
            ],
            [
             1,
             "#f0f921"
            ]
           ]
          },
          "colorway": [
           "#636efa",
           "#EF553B",
           "#00cc96",
           "#ab63fa",
           "#FFA15A",
           "#19d3f3",
           "#FF6692",
           "#B6E880",
           "#FF97FF",
           "#FECB52"
          ],
          "font": {
           "color": "#2a3f5f"
          },
          "geo": {
           "bgcolor": "white",
           "lakecolor": "white",
           "landcolor": "#E5ECF6",
           "showlakes": true,
           "showland": true,
           "subunitcolor": "white"
          },
          "hoverlabel": {
           "align": "left"
          },
          "hovermode": "closest",
          "mapbox": {
           "style": "light"
          },
          "paper_bgcolor": "white",
          "plot_bgcolor": "#E5ECF6",
          "polar": {
           "angularaxis": {
            "gridcolor": "white",
            "linecolor": "white",
            "ticks": ""
           },
           "bgcolor": "#E5ECF6",
           "radialaxis": {
            "gridcolor": "white",
            "linecolor": "white",
            "ticks": ""
           }
          },
          "scene": {
           "xaxis": {
            "backgroundcolor": "#E5ECF6",
            "gridcolor": "white",
            "gridwidth": 2,
            "linecolor": "white",
            "showbackground": true,
            "ticks": "",
            "zerolinecolor": "white"
           },
           "yaxis": {
            "backgroundcolor": "#E5ECF6",
            "gridcolor": "white",
            "gridwidth": 2,
            "linecolor": "white",
            "showbackground": true,
            "ticks": "",
            "zerolinecolor": "white"
           },
           "zaxis": {
            "backgroundcolor": "#E5ECF6",
            "gridcolor": "white",
            "gridwidth": 2,
            "linecolor": "white",
            "showbackground": true,
            "ticks": "",
            "zerolinecolor": "white"
           }
          },
          "shapedefaults": {
           "line": {
            "color": "#2a3f5f"
           }
          },
          "ternary": {
           "aaxis": {
            "gridcolor": "white",
            "linecolor": "white",
            "ticks": ""
           },
           "baxis": {
            "gridcolor": "white",
            "linecolor": "white",
            "ticks": ""
           },
           "bgcolor": "#E5ECF6",
           "caxis": {
            "gridcolor": "white",
            "linecolor": "white",
            "ticks": ""
           }
          },
          "title": {
           "x": 0.05
          },
          "xaxis": {
           "automargin": true,
           "gridcolor": "white",
           "linecolor": "white",
           "ticks": "",
           "title": {
            "standoff": 15
           },
           "zerolinecolor": "white",
           "zerolinewidth": 2
          },
          "yaxis": {
           "automargin": true,
           "gridcolor": "white",
           "linecolor": "white",
           "ticks": "",
           "title": {
            "standoff": 15
           },
           "zerolinecolor": "white",
           "zerolinewidth": 2
          }
         }
        },
        "xaxis": {
         "anchor": "y",
         "domain": [
          0,
          1
         ],
         "title": {
          "text": "director"
         }
        },
        "yaxis": {
         "anchor": "x",
         "domain": [
          0,
          1
         ],
         "title": {
          "text": "rating"
         }
        }
       }
      },
      "text/html": [
       "<div>                            <div id=\"1740264f-61fa-474e-b20f-5ab4b1b88647\" class=\"plotly-graph-div\" style=\"height:525px; width:100%;\"></div>            <script type=\"text/javascript\">                require([\"plotly\"], function(Plotly) {                    window.PLOTLYENV=window.PLOTLYENV || {};                                    if (document.getElementById(\"1740264f-61fa-474e-b20f-5ab4b1b88647\")) {                    Plotly.newPlot(                        \"1740264f-61fa-474e-b20f-5ab4b1b88647\",                        [{\"alignmentgroup\":\"True\",\"hovertemplate\":\"director=%{x}<br>rating=%{y}<extra></extra>\",\"legendgroup\":\"\",\"marker\":{\"color\":\"#636efa\"},\"name\":\"\",\"notched\":false,\"offsetgroup\":\"\",\"orientation\":\"v\",\"showlegend\":false,\"x\":[\"Aniruddha Roy Chowdhury\",\"Neeraj Ghaywan\",\"Meghna Gulzar\",\"Yash Chopra\",\"Shimit Amin\",\"Rajkumar Santoshi\",\"Nagesh Kukunoor\",\"Hrishikesh Mukherjee\",\"Nikkhil Advani\",\"Kundan Shah\",\"Dibakar Banerjee\",\"Rajkumar Hirani\",\"Nishikant Kamat\",\"Ram Gopal Varma\",\"Mukul Anand\",\"S.S. Rajamouli\",\"Gauri Shinde\",\"Vishal Bhardwaj\",\"Abhishek Chaubey\",\"K. Asif\",\"Kabir Khan\",\"Aamir Khan\",\"Sujoy Ghosh\",\"Farhan Akhtar\",\"Imtiaz Ali\",\"Karan Johar\",\"Mani Ratnam\",\"Yash Chopra\",\"Umesh Shukla\",\"Shekhar Kapur\",\"Vishal Bhardwaj\",\"Anurag Kashyap\",\"Anurag Kashyap\",\"Rakeysh Omprakash Mehra\",\"Ketan Mehta\",\"Mansoor Khan\",\"Ram Gopal Varma\",\"Zoya Akhtar\",\"Advait Chandan\",\"R. Balki\",\"Shoojit Sircar\",\"Mahesh Manjrekar\",\"Vijay Anand\",\"Neeraj Pandey\",\"Anurag Kashyap\",\"J.P. Dutta\",\"Neeraj Pandey\",\"Amit Ravindernath Sharma\",\"Ashutosh Gowariker\",\"Abhishek Kapoor\",\"John Mathew Matthan\",\"Dibakar Banerjee\",\"Meghna Gulzar\",\"Anurag Kashyap\",\"Vishal Bhardwaj\",\"S.S. Rajamouli\",\"Deepa Mehta\",\"Rajkumar Hirani\",\"Chandra Barot\",\"Vikas Bahl\",\"Rajkumar Hirani\",\"Sagar Ballary\",\"Mani Ratnam\",\"Rajat Kapoor\",\"Shakun Batra\",\"Raja Menon\",\"Sanjay Leela Bhansali\",\"Neeraj Pandey\",\"Aditya Chopra\",\"Rajkumar Hirani\",\"Ram Madhvani\",\"Tigmanshu Dhulia\",\"Shashant Shah\",\"Shoojit Sircar\",\"Anurag Kashyap\",\"Rakeysh Omprakash Mehra\",\"Ram Gopal Varma\",\"Nitesh Tiwari\",\"Kundan Shah\",\"Ramesh Sippy\",\"Ashutosh Gowariker\",\"Priyadarshan\",\"Hrishikesh Mukherjee\",\"Vikramaditya Motwane\",\"Saket Chaudhary\",\"S. Shankar\",\"Mehboob Khan\",\"Amit Masurkar\",\"Farhan Akhtar\",\"Sriram Raghavan\",\"Navdeep Singh\",\"Kamal Haasan\",\"Rajkumar Santoshi\",\"Hansal Mehta\",\"Shimit Amin\",\"Anurag Basu\",\"Prakash Jha\",\"Hrishikesh Mukherjee\",\"Yash Chopra\",\"Ritesh Batra\",\"Mukul Anand\",\"Shakun Batra\",\"Ravi Udyawar\",\"Priyadarshan\",\"Lawrence D'Souza\",\"Shimit Amin\",\"Rakeysh Omprakash Mehra\",\"Vikas Bahl\",\"Rajat Kapoor\",\"R. Balki\",\"Mira Nair\",\"Abhishek Kapoor\",\"Dibakar Banerjee\",\"Gautham Vasudev Menon\",\"Akarsh Khurana\",\"A.R. Murugadoss\",\"Mani Ratnam\",\"Sooraj R. Barjatya\",\"Hrishikesh Mukherjee\",\"Yash Chopra\",\"Nitesh Tiwari\",\"Rajkumar Santoshi\",\"Anurag Kashyap\",\"Aamir Khan\",\"Reema Kagti\",\"Imtiaz Ali\",\"Ram Gopal Varma\",\"Anurag Kashyap\",\"Vipul Amrutlal Shah\",\"Raaj Shaandilyaa\",\"Aanand L. Rai\",\"Zoya Akhtar\",\"Deepa Mehta\",\"S. Shankar\",\"Amit Masurkar\",\"Advait Chandan\",\"Pan Nalin\",\"Umesh Shukla\",\"Nikkhil Advani\",\"Anubhav Sinha\",\"Subhash Kapoor\",\"Mani Ratnam\",\"Raj Kumar Gupta\",\"Manmohan Desai\",\"Ramesh Sippy\",\"Farhan Akhtar\",\"Neeraj Pandey\",\"Vikramaditya Motwane\",\"Dibakar Banerjee\",\"Ashutosh Gowariker\",\"Anurag Kashyap\",\"Anurag Kashyap\",\"Madhur Bhandarkar\",\"Rajkumar Hirani\",\"Rajkumar Santoshi\",\"Ashutosh Gowariker\",\"Sudha Kongara\",\"Abhinay Deo\",\"Abbas Alibhai Burmawalla\",\"Sriram Raghavan\",\"Kundan Shah\",\"Vikramaditya Motwane\",\"Karan Johar\",\"Sidharth Malhotra\",\"Abbas Alibhai Burmawalla\",\"Neeraj Ghaywan\",\"Mansoor Khan\",\"Rajkumar Hirani\",\"Priyadarshan\",\"Rajkumar Hirani\",\"Shoojit Sircar\",\"Sanjay Leela Bhansali\",\"Vishal Bhardwaj\",\"Hrishikesh Mukherjee\",\"Ram Gopal Varma\",\"Vikram Bhatt\",\"Sooraj R. Barjatya\",\"Mansoor Khan\",\"S.S. Rajamouli\",\"Ashutosh Gowariker\",\"Ram Gopal Varma\",\"Neeraj Pandey\",\"Ram Madhvani\",\"Abhishek Chaubey\",\"Imtiaz Ali\",\"Trivikram Srinivas\",\"Abbas Tyrewala\",\"Ravi Chopra\",\"Anil Sharma\",\"Ashwiny Iyer Tiwari\",\"Aditya Dhar\",\"Tigmanshu Dhulia\",\"S. Shankar\",\"Shoojit Sircar\",\"Vishal Bhardwaj\",\"Sujoy Ghosh\",\"Anusha Rizvi\",\"Shekhar Kapur\",\"Milan Luthria\",\"Meghna Gulzar\",\"Mrighdeep Lamba\",\"Raj Kumar Gupta\",\"Rakeysh Omprakash Mehra\",\"Anurag Basu\",\"Gauri Shinde\",\"Ribhu Dasgupta\",\"Sagar Ballary\",\"Vijay Anand\",\"Bejoy Nambiar\",\"Shoojit Sircar\",\"Vipul Amrutlal Shah\",\"Shree Narayan Singh\",\"Yash Chopra\",\"Nishikant Kamat\",\"Aanand L. Rai\",\"Rajkumar Santoshi\",\"Raja Menon\",\"Pradeep Sarkar\",\"Sriram Raghavan\",\"Sriram Raghavan\",\"Sandeep Reddy Vanga\",\"Rohit Shetty\",\"Kundan Shah\",\"Shashant Shah\",\"Neeraj Pandey\",\"Amit Ravindernath Sharma\",\"Vivek Agnihotri\",\"Ketan Mehta\",\"Nitesh Tiwari\",\"Pradeep Sarkar\",\"Sankalp Reddy\",\"Kamal Haasan\",\"Abhishek Chaubey\",\"Nikkhil Advani\",\"Mohit Suri\",\"Sanjay Leela Bhansali\",\"Subhash Kapoor\",\"Abhishek Kapoor\",\"Mani Ratnam\",\"Anurag Basu\",\"Suresh Krishna\",\"Vikramaditya Motwane\",\"Kamal Haasan\",\"Sanjay Leela Bhansali\",\"Anand Gandhi\",\"John Mathew Matthan\",\"Chandra Barot\",\"Umesh Shukla\",\"Milan Luthria\",\"Navdeep Singh\",\"Hrishikesh Mukherjee\",\"Imtiaz Ali\",\"Mahesh Manjrekar\",\"Vishal Bhardwaj\",\"K. Asif\",\"Nishikant Kamat\",\"Imtiaz Ali\",\"Navdeep Singh\",\"Nagesh Kukunoor\",\"Karan Johar\",\"Maneesh Sharma\",\"Anurag Kashyap\",\"Shoojit Sircar\",\"Zoya Akhtar\",\"Ajay Bahl\",\"Karan Johar\",\"Meghna Gulzar\",\"Ratnaa Sinha\",\"Yash Chopra\",\"Hansal Mehta\",\"Shimit Amin\",\"Dibakar Banerjee\",\"S. Shankar\",\"Ritesh Batra\",\"Prakash Jha\",\"Dibakar Banerjee\",\"Sanjay Leela Bhansali\",\"S. Shankar\",\"Neeraj Pandey\",\"Kabir Khan\",\"Gauri Shinde\",\"Rajkumar Hirani\",\"Farhan Akhtar\",\"J.P. Dutta\",\"Shimit Amin\",\"Aniruddha Roy Chowdhury\",\"Mehboob Khan\",\"Vishal Bhardwaj\",\"Aditya Chopra\",\"Vikas Bahl\",\"Sharat Katariya\",\"S.S. Rajamouli\",\"Ram Gopal Varma\",\"Priyadarshan\",\"Abhishek Sharma\",\"Mani Ratnam\",\"Saket Chaudhary\",\"Ayan Mukherjee\",\"Anurag Kashyap\",\"Vikas Bahl\",\"Ajay Bahl\",\"Abhishek Kapoor\",\"Vipul Amrutlal Shah\",\"Vijay Anand\",\"Tigmanshu Dhulia\",\"Vishal Bhardwaj\",\"Navdeep Singh\",\"Nishikant Kamat\",\"Imtiaz Ali\",\"Neeraj Pandey\",\"Sudha Kongara\",\"Mani Ratnam\",\"Dibakar Banerjee\",\"Ram Madhvani\",\"Priyadarshan\",\"Ram Gopal Varma\",\"Saket Chaudhary\",\"Pradeep Sarkar\",\"Vipul Amrutlal Shah\",\"Deepa Mehta\",\"Aniruddha Roy Chowdhury\",\"Karan Johar\",\"Milan Luthria\",\"Rakeysh Omprakash Mehra\",\"Anurag Kashyap\",\"Sanjay Leela Bhansali\",\"Ram Gopal Varma\",\"Gauri Shinde\",\"Zoya Akhtar\",\"Rajkumar Hirani\",\"Imtiaz Ali\",\"Manmohan Desai\",\"Abhishek Sharma\",\"John Mathew Matthan\",\"Shree Narayan Singh\",\"Anurag Kashyap\",\"Farhan Akhtar\",\"Hrishikesh Mukherjee\",\"Trivikram Srinivas\",\"S.S. Rajamouli\",\"Yash Chopra\",\"Nishikant Kamat\",\"Shimit Amin\",\"Mani Ratnam\",\"Yash Chopra\",\"Akarsh Khurana\",\"Dibakar Banerjee\",\"Vishal Bhardwaj\",\"Mani Ratnam\",\"Ritesh Batra\",\"Kabir Khan\",\"Nitesh Tiwari\",\"Vishal Bhardwaj\",\"Neeraj Pandey\",\"Mohit Suri\",\"Rakeysh Omprakash Mehra\",\"Prakash Jha\",\"Umesh Shukla\",\"Sriram Raghavan\",\"Mansoor Khan\",\"Sanjay Leela Bhansali\",\"Sooraj R. Barjatya\",\"Vikramaditya Motwane\",\"S. Shankar\",\"Ribhu Dasgupta\",\"Rajkumar Santoshi\",\"Bejoy Nambiar\",\"Shakun Batra\",\"Dibakar Banerjee\",\"S. Shankar\",\"Mani Ratnam\",\"Anurag Kashyap\",\"Neeraj Pandey\",\"Kamal Haasan\",\"Lawrence D'Souza\",\"Milan Luthria\",\"Nitesh Tiwari\",\"Imtiaz Ali\",\"Abhishek Chaubey\",\"Navdeep Singh\",\"Anand Gandhi\",\"Aditya Chopra\",\"Amit Ravindernath Sharma\",\"Ravi Udyawar\",\"Shoojit Sircar\",\"S. Shankar\",\"Ratnaa Sinha\",\"Rajkumar Hirani\",\"Ashwiny Iyer Tiwari\",\"Ashutosh Gowariker\",\"Anil Sharma\",\"Sooraj R. Barjatya\",\"R. Balki\",\"Sankalp Reddy\",\"Dibakar Banerjee\",\"S.S. Rajamouli\",\"Suresh Krishna\",\"Abhishek Kapoor\",\"Sujoy Ghosh\",\"Yash Chopra\",\"Karan Johar\",\"Chandra Barot\",\"A.R. Murugadoss\",\"Ketan Mehta\",\"Shimit Amin\",\"Karan Johar\",\"Abhinay Deo\",\"Subhash Kapoor\",\"Priyadarshan\",\"Kundan Shah\",\"Pradeep Sarkar\",\"Rajkumar Hirani\",\"Raaj Shaandilyaa\",\"Madhur Bhandarkar\",\"Raja Menon\",\"Sriram Raghavan\",\"Farhan Akhtar\",\"Ashutosh Gowariker\",\"Rajat Kapoor\",\"Anubhav Sinha\",\"Umesh Shukla\",\"Anurag Kashyap\",\"Aamir Khan\",\"Vikramaditya Motwane\",\"Ramesh Sippy\",\"Hansal Mehta\",\"Mira Nair\",\"Sagar Ballary\",\"Zoya Akhtar\",\"Abhishek Chaubey\",\"Aanand L. Rai\",\"Sandeep Reddy Vanga\",\"Reema Kagti\",\"Aanand L. Rai\",\"Raj Kumar Gupta\",\"Sidharth Malhotra\",\"Kundan Shah\",\"Vikramaditya Motwane\",\"Anurag Kashyap\",\"Raj Kumar Gupta\",\"Sanjay Leela Bhansali\",\"Mehboob Khan\",\"Sharat Katariya\",\"Shekhar Kapur\",\"Abbas Tyrewala\",\"Vishal Bhardwaj\",\"Nikkhil Advani\",\"Mukul Anand\",\"Gauri Shinde\",\"Anusha Rizvi\",\"S. Shankar\",\"Nikkhil Advani\",\"Anurag Kashyap\",\"Subhash Kapoor\",\"Shoojit Sircar\",\"Rajkumar Santoshi\",\"Amit Masurkar\",\"Mahesh Manjrekar\",\"Kamal Haasan\",\"Neeraj Pandey\",\"K. Asif\",\"Imtiaz Ali\",\"Abbas Alibhai Burmawalla\",\"J.P. Dutta\",\"Shimit Amin\",\"Neeraj Ghaywan\",\"Meghna Gulzar\",\"Ram Gopal Varma\",\"Shashant Shah\",\"Mansoor Khan\",\"Anurag Basu\",\"Rohit Shetty\",\"Vikram Bhatt\",\"Vivek Agnihotri\",\"Hrishikesh Mukherjee\",\"Meghna Gulzar\",\"Shoojit Sircar\",\"Priyadarshan\",\"Ayan Mukherjee\",\"Abbas Alibhai Burmawalla\",\"Mrighdeep Lamba\",\"Vikas Bahl\",\"Hrishikesh Mukherjee\",\"Ashutosh Gowariker\",\"Sanjay Leela Bhansali\",\"Anurag Basu\",\"Ram Gopal Varma\",\"Rajkumar Santoshi\",\"Maneesh Sharma\",\"Ravi Chopra\",\"Shoojit Sircar\",\"Aditya Dhar\",\"Nagesh Kukunoor\",\"Gautham Vasudev Menon\",\"Rajkumar Hirani\",\"Pan Nalin\",\"Advait Chandan\",\"Sriram Raghavan\",\"Anurag Kashyap\",\"Chandra Barot\",\"Shimit Amin\",\"Vishal Bhardwaj\",\"Shoojit Sircar\",\"Rakeysh Omprakash Mehra\",\"Rajat Kapoor\",\"Ashutosh Gowariker\",\"Nitesh Tiwari\",\"Nikkhil Advani\",\"Meghna Gulzar\",\"Ram Gopal Varma\",\"Rajkumar Hirani\",\"R. Balki\",\"Zoya Akhtar\",\"Farhan Akhtar\",\"Imtiaz Ali\",\"Neeraj Pandey\",\"Rajkumar Hirani\",\"Vishal Bhardwaj\",\"Gauri Shinde\",\"Vikas Bahl\",\"Yash Chopra\",\"Ram Madhvani\",\"Karan Johar\",\"Navdeep Singh\",\"Anurag Kashyap\",\"Amit Masurkar\",\"Mehboob Khan\",\"Shoojit Sircar\",\"Dibakar Banerjee\",\"Kundan Shah\",\"Rajkumar Hirani\",\"Advait Chandan\",\"Ketan Mehta\",\"S.S. Rajamouli\",\"Meghna Gulzar\",\"Vishal Bhardwaj\",\"Mansoor Khan\",\"Anurag Kashyap\",\"Rajkumar Santoshi\",\"Kamal Haasan\",\"Vikramaditya Motwane\",\"Ramesh Sippy\",\"Neeraj Pandey\",\"Rakeysh Omprakash Mehra\",\"Yash Chopra\",\"Ashutosh Gowariker\",\"Shekhar Kapur\",\"Sriram Raghavan\",\"Ram Gopal Varma\",\"Hrishikesh Mukherjee\",\"Raja Menon\",\"Aamir Khan\",\"Neeraj Ghaywan\",\"Ram Gopal Varma\",\"Prakash Jha\",\"S.S. Rajamouli\",\"Anurag Basu\",\"Aditya Chopra\",\"Aniruddha Roy Chowdhury\",\"Rajkumar Santoshi\",\"Sagar Ballary\",\"Saket Chaudhary\",\"Amit Ravindernath Sharma\",\"Hrishikesh Mukherjee\",\"Mani Ratnam\",\"Shimit Amin\",\"Rajkumar Hirani\",\"Hansal Mehta\",\"Abhishek Kapoor\",\"Abhishek Chaubey\",\"Vijay Anand\",\"K. Asif\",\"Tigmanshu Dhulia\",\"Anurag Kashyap\",\"John Mathew Matthan\",\"Shashant Shah\",\"Neeraj Pandey\",\"Anurag Kashyap\",\"Farhan Akhtar\",\"Nagesh Kukunoor\",\"Mukul Anand\",\"Sanjay Leela Bhansali\",\"Mani Ratnam\",\"Yash Chopra\",\"Nishikant Kamat\",\"Sujoy Ghosh\",\"Umesh Shukla\",\"S. Shankar\",\"Deepa Mehta\",\"Priyadarshan\",\"Shakun Batra\",\"Kabir Khan\",\"J.P. Dutta\",\"Mahesh Manjrekar\",\"Dibakar Banerjee\",\"Hrishikesh Mukherjee\",\"Kundan Shah\",\"Ritesh Batra\"],\"x0\":\" \",\"xaxis\":\"x\",\"y\":[8.1,8.2,8.2,8.1,7.8,8.1,8.1,8.3,7.9,7.8,7.7,8.1,8.2,8.0,7.7,8.0,7.8,8.1,7.8,8.2,8.0,8.4,8.1,7.9,7.9,8.0,8.2,7.8,8.1,7.8,8.1,8.2,8.0,8.2,8.0,8.2,8.3,8.2,7.8,7.9,7.8,8.0,8.4,8.0,8.5,7.9,8.0,8.0,8.2,7.7,8.1,8.3,7.8,8.1,8.1,8.2,7.7,8.1,7.8,8.2,8.4,7.6,7.7,8.0,7.7,8.0,8.2,8.1,8.1,8.1,7.6,8.2,7.8,7.7,8.0,8.1,7.6,8.4,8.4,8.2,8.1,8.2,8.6,8.2,7.9,7.8,8.0,7.7,8.1,7.8,7.6,8.0,8.1,8.2,8.2,8.1,7.8,8.2,7.8,7.8,7.7,7.7,7.3,8.2,7.3,7.8,8.2,7.5,8.0,7.9,7.4,7.8,7.2,7.6,7.6,7.4,7.6,7.3,8.6,7.8,8.3,8.1,8.0,8.4,7.2,7.9,7.5,8.5,7.4,7.0,7.6,7.9,7.7,8.3,7.7,7.8,7.7,8.1,7.9,8.2,7.6,8.2,7.2,7.5,8.2,7.9,8.0,7.6,7.7,8.2,8.2,8.0,7.3,8.4,8.1,8.1,7.6,7.6,7.7,7.8,8.4,7.3,7.4,7.5,7.2,8.2,7.5,8.1,7.6,8.1,7.8,7.6,8.1,8.3,8.0,7.3,7.5,8.2,8.0,7.6,7.6,8.0,7.6,7.3,7.7,7.6,7.5,7.4,7.3,7.5,8.3,8.2,7.5,7.7,8.1,8.1,7.4,7.8,7.3,7.8,6.9,7.4,8.1,7.4,7.5,7.3,7.6,8.4,7.2,7.6,7.1,7.2,7.8,8.2,7.6,7.4,8.0,7.3,7.4,7.5,7.1,7.5,7.8,7.8,8.1,8.0,7.9,8.0,8.4,7.2,7.6,7.4,7.8,7.2,7.3,8.2,7.2,7.7,7.4,8.1,8.3,8.2,8.0,7.5,8.1,8.1,7.8,7.5,7.4,7.2,8.2,7.6,8.0,8.1,8.2,7.6,7.4,7.6,8.1,7.6,7.2,8.1,7.5,8.2,8.1,8.0,8.2,7.6,8.1,8.2,7.5,7.7,7.8,7.8,7.8,8.3,7.5,8.1,8.0,8.0,7.8,8.1,8.1,7.9,8.2,8.1,8.0,7.4,8.1,8.2,7.5,8.2,8.3,7.3,7.6,7.7,7.9,7.6,7.4,8.2,8.1,7.7,7.4,8.4,8.2,8.1,7.6,8.2,7.6,8.0,7.6,8.2,8.3,7.6,7.6,7.6,7.9,7.2,7.1,7.7,8.1,8.0,7.3,8.1,8.1,7.6,7.5,7.8,8.2,8.4,7.7,7.5,7.6,8.1,7.2,7.4,8.1,8.3,7.6,8.0,7.8,7.6,7.8,7.7,7.8,7.6,7.7,7.4,7.4,7.8,8.0,8.3,8.1,8.0,7.3,8.2,7.8,7.5,7.4,8.2,7.5,7.3,7.6,8.3,7.3,7.4,7.2,7.7,7.7,8.1,7.6,8.0,8.1,7.4,7.3,7.4,8.4,7.9,7.3,7.2,8.1,8.1,8.0,7.3,7.6,7.5,7.6,8.1,7.5,7.6,7.3,7.5,7.9,7.6,7.2,8.2,8.3,7.8,8.1,8.1,7.6,7.8,7.4,8.0,8.2,7.4,7.6,7.2,7.3,7.8,7.3,8.1,7.0,7.3,8.0,7.5,7.9,8.2,8.0,8.2,8.1,8.0,8.4,7.3,8.2,8.2,7.4,7.6,7.9,7.8,7.6,7.1,7.2,7.6,7.4,7.5,8.4,8.2,8.5,7.2,8.2,8.0,7.5,7.8,7.5,8.1,7.9,7.7,7.5,7.4,7.8,7.2,8.2,7.6,7.7,8.1,7.7,8.0,8.0,8.0,8.2,7.4,7.7,7.9,7.5,8.2,7.8,8.3,7.8,7.5,7.4,7.5,7.3,7.9,8.2,8.2,7.5,8.2,7.6,7.2,6.9,7.5,8.6,8.1,7.5,8.1,8.0,8.1,7.2,7.4,7.8,8.3,8.1,7.6,8.1,7.7,7.8,7.8,8.5,7.8,8.2,8.1,7.7,8.2,8.0,8.2,8.4,7.9,7.8,8.3,8.1,7.9,8.2,7.9,7.9,8.0,8.1,8.1,7.8,8.2,8.1,7.6,8.0,7.6,8.1,7.7,8.0,7.8,8.3,7.8,8.4,7.8,8.0,8.0,8.2,8.1,8.2,8.0,8.1,8.0,8.2,8.2,8.1,8.1,7.8,8.1,7.8,7.8,8.0,8.6,8.0,8.4,8.2,7.6,7.8,8.2,8.1,8.1,8.1,8.1,7.6,7.9,8.0,8.2,7.7,7.8,8.1,8.2,7.7,7.8,8.4,8.2,8.2,8.0,8.1,7.8,8.0,8.2,8.1,8.1,7.7,8.2,8.2,7.8,8.2,8.1,8.1,7.8,7.7,8.2,7.7,8.0,7.9,8.0,7.7,8.3,8.4,7.8],\"y0\":\" \",\"yaxis\":\"y\",\"type\":\"box\"}],                        {\"template\":{\"data\":{\"bar\":[{\"error_x\":{\"color\":\"#2a3f5f\"},\"error_y\":{\"color\":\"#2a3f5f\"},\"marker\":{\"line\":{\"color\":\"#E5ECF6\",\"width\":0.5},\"pattern\":{\"fillmode\":\"overlay\",\"size\":10,\"solidity\":0.2}},\"type\":\"bar\"}],\"barpolar\":[{\"marker\":{\"line\":{\"color\":\"#E5ECF6\",\"width\":0.5},\"pattern\":{\"fillmode\":\"overlay\",\"size\":10,\"solidity\":0.2}},\"type\":\"barpolar\"}],\"carpet\":[{\"aaxis\":{\"endlinecolor\":\"#2a3f5f\",\"gridcolor\":\"white\",\"linecolor\":\"white\",\"minorgridcolor\":\"white\",\"startlinecolor\":\"#2a3f5f\"},\"baxis\":{\"endlinecolor\":\"#2a3f5f\",\"gridcolor\":\"white\",\"linecolor\":\"white\",\"minorgridcolor\":\"white\",\"startlinecolor\":\"#2a3f5f\"},\"type\":\"carpet\"}],\"choropleth\":[{\"colorbar\":{\"outlinewidth\":0,\"ticks\":\"\"},\"type\":\"choropleth\"}],\"contour\":[{\"colorbar\":{\"outlinewidth\":0,\"ticks\":\"\"},\"colorscale\":[[0.0,\"#0d0887\"],[0.1111111111111111,\"#46039f\"],[0.2222222222222222,\"#7201a8\"],[0.3333333333333333,\"#9c179e\"],[0.4444444444444444,\"#bd3786\"],[0.5555555555555556,\"#d8576b\"],[0.6666666666666666,\"#ed7953\"],[0.7777777777777778,\"#fb9f3a\"],[0.8888888888888888,\"#fdca26\"],[1.0,\"#f0f921\"]],\"type\":\"contour\"}],\"contourcarpet\":[{\"colorbar\":{\"outlinewidth\":0,\"ticks\":\"\"},\"type\":\"contourcarpet\"}],\"heatmap\":[{\"colorbar\":{\"outlinewidth\":0,\"ticks\":\"\"},\"colorscale\":[[0.0,\"#0d0887\"],[0.1111111111111111,\"#46039f\"],[0.2222222222222222,\"#7201a8\"],[0.3333333333333333,\"#9c179e\"],[0.4444444444444444,\"#bd3786\"],[0.5555555555555556,\"#d8576b\"],[0.6666666666666666,\"#ed7953\"],[0.7777777777777778,\"#fb9f3a\"],[0.8888888888888888,\"#fdca26\"],[1.0,\"#f0f921\"]],\"type\":\"heatmap\"}],\"heatmapgl\":[{\"colorbar\":{\"outlinewidth\":0,\"ticks\":\"\"},\"colorscale\":[[0.0,\"#0d0887\"],[0.1111111111111111,\"#46039f\"],[0.2222222222222222,\"#7201a8\"],[0.3333333333333333,\"#9c179e\"],[0.4444444444444444,\"#bd3786\"],[0.5555555555555556,\"#d8576b\"],[0.6666666666666666,\"#ed7953\"],[0.7777777777777778,\"#fb9f3a\"],[0.8888888888888888,\"#fdca26\"],[1.0,\"#f0f921\"]],\"type\":\"heatmapgl\"}],\"histogram\":[{\"marker\":{\"pattern\":{\"fillmode\":\"overlay\",\"size\":10,\"solidity\":0.2}},\"type\":\"histogram\"}],\"histogram2d\":[{\"colorbar\":{\"outlinewidth\":0,\"ticks\":\"\"},\"colorscale\":[[0.0,\"#0d0887\"],[0.1111111111111111,\"#46039f\"],[0.2222222222222222,\"#7201a8\"],[0.3333333333333333,\"#9c179e\"],[0.4444444444444444,\"#bd3786\"],[0.5555555555555556,\"#d8576b\"],[0.6666666666666666,\"#ed7953\"],[0.7777777777777778,\"#fb9f3a\"],[0.8888888888888888,\"#fdca26\"],[1.0,\"#f0f921\"]],\"type\":\"histogram2d\"}],\"histogram2dcontour\":[{\"colorbar\":{\"outlinewidth\":0,\"ticks\":\"\"},\"colorscale\":[[0.0,\"#0d0887\"],[0.1111111111111111,\"#46039f\"],[0.2222222222222222,\"#7201a8\"],[0.3333333333333333,\"#9c179e\"],[0.4444444444444444,\"#bd3786\"],[0.5555555555555556,\"#d8576b\"],[0.6666666666666666,\"#ed7953\"],[0.7777777777777778,\"#fb9f3a\"],[0.8888888888888888,\"#fdca26\"],[1.0,\"#f0f921\"]],\"type\":\"histogram2dcontour\"}],\"mesh3d\":[{\"colorbar\":{\"outlinewidth\":0,\"ticks\":\"\"},\"type\":\"mesh3d\"}],\"parcoords\":[{\"line\":{\"colorbar\":{\"outlinewidth\":0,\"ticks\":\"\"}},\"type\":\"parcoords\"}],\"pie\":[{\"automargin\":true,\"type\":\"pie\"}],\"scatter\":[{\"marker\":{\"colorbar\":{\"outlinewidth\":0,\"ticks\":\"\"}},\"type\":\"scatter\"}],\"scatter3d\":[{\"line\":{\"colorbar\":{\"outlinewidth\":0,\"ticks\":\"\"}},\"marker\":{\"colorbar\":{\"outlinewidth\":0,\"ticks\":\"\"}},\"type\":\"scatter3d\"}],\"scattercarpet\":[{\"marker\":{\"colorbar\":{\"outlinewidth\":0,\"ticks\":\"\"}},\"type\":\"scattercarpet\"}],\"scattergeo\":[{\"marker\":{\"colorbar\":{\"outlinewidth\":0,\"ticks\":\"\"}},\"type\":\"scattergeo\"}],\"scattergl\":[{\"marker\":{\"colorbar\":{\"outlinewidth\":0,\"ticks\":\"\"}},\"type\":\"scattergl\"}],\"scattermapbox\":[{\"marker\":{\"colorbar\":{\"outlinewidth\":0,\"ticks\":\"\"}},\"type\":\"scattermapbox\"}],\"scatterpolar\":[{\"marker\":{\"colorbar\":{\"outlinewidth\":0,\"ticks\":\"\"}},\"type\":\"scatterpolar\"}],\"scatterpolargl\":[{\"marker\":{\"colorbar\":{\"outlinewidth\":0,\"ticks\":\"\"}},\"type\":\"scatterpolargl\"}],\"scatterternary\":[{\"marker\":{\"colorbar\":{\"outlinewidth\":0,\"ticks\":\"\"}},\"type\":\"scatterternary\"}],\"surface\":[{\"colorbar\":{\"outlinewidth\":0,\"ticks\":\"\"},\"colorscale\":[[0.0,\"#0d0887\"],[0.1111111111111111,\"#46039f\"],[0.2222222222222222,\"#7201a8\"],[0.3333333333333333,\"#9c179e\"],[0.4444444444444444,\"#bd3786\"],[0.5555555555555556,\"#d8576b\"],[0.6666666666666666,\"#ed7953\"],[0.7777777777777778,\"#fb9f3a\"],[0.8888888888888888,\"#fdca26\"],[1.0,\"#f0f921\"]],\"type\":\"surface\"}],\"table\":[{\"cells\":{\"fill\":{\"color\":\"#EBF0F8\"},\"line\":{\"color\":\"white\"}},\"header\":{\"fill\":{\"color\":\"#C8D4E3\"},\"line\":{\"color\":\"white\"}},\"type\":\"table\"}]},\"layout\":{\"annotationdefaults\":{\"arrowcolor\":\"#2a3f5f\",\"arrowhead\":0,\"arrowwidth\":1},\"autotypenumbers\":\"strict\",\"coloraxis\":{\"colorbar\":{\"outlinewidth\":0,\"ticks\":\"\"}},\"colorscale\":{\"diverging\":[[0,\"#8e0152\"],[0.1,\"#c51b7d\"],[0.2,\"#de77ae\"],[0.3,\"#f1b6da\"],[0.4,\"#fde0ef\"],[0.5,\"#f7f7f7\"],[0.6,\"#e6f5d0\"],[0.7,\"#b8e186\"],[0.8,\"#7fbc41\"],[0.9,\"#4d9221\"],[1,\"#276419\"]],\"sequential\":[[0.0,\"#0d0887\"],[0.1111111111111111,\"#46039f\"],[0.2222222222222222,\"#7201a8\"],[0.3333333333333333,\"#9c179e\"],[0.4444444444444444,\"#bd3786\"],[0.5555555555555556,\"#d8576b\"],[0.6666666666666666,\"#ed7953\"],[0.7777777777777778,\"#fb9f3a\"],[0.8888888888888888,\"#fdca26\"],[1.0,\"#f0f921\"]],\"sequentialminus\":[[0.0,\"#0d0887\"],[0.1111111111111111,\"#46039f\"],[0.2222222222222222,\"#7201a8\"],[0.3333333333333333,\"#9c179e\"],[0.4444444444444444,\"#bd3786\"],[0.5555555555555556,\"#d8576b\"],[0.6666666666666666,\"#ed7953\"],[0.7777777777777778,\"#fb9f3a\"],[0.8888888888888888,\"#fdca26\"],[1.0,\"#f0f921\"]]},\"colorway\":[\"#636efa\",\"#EF553B\",\"#00cc96\",\"#ab63fa\",\"#FFA15A\",\"#19d3f3\",\"#FF6692\",\"#B6E880\",\"#FF97FF\",\"#FECB52\"],\"font\":{\"color\":\"#2a3f5f\"},\"geo\":{\"bgcolor\":\"white\",\"lakecolor\":\"white\",\"landcolor\":\"#E5ECF6\",\"showlakes\":true,\"showland\":true,\"subunitcolor\":\"white\"},\"hoverlabel\":{\"align\":\"left\"},\"hovermode\":\"closest\",\"mapbox\":{\"style\":\"light\"},\"paper_bgcolor\":\"white\",\"plot_bgcolor\":\"#E5ECF6\",\"polar\":{\"angularaxis\":{\"gridcolor\":\"white\",\"linecolor\":\"white\",\"ticks\":\"\"},\"bgcolor\":\"#E5ECF6\",\"radialaxis\":{\"gridcolor\":\"white\",\"linecolor\":\"white\",\"ticks\":\"\"}},\"scene\":{\"xaxis\":{\"backgroundcolor\":\"#E5ECF6\",\"gridcolor\":\"white\",\"gridwidth\":2,\"linecolor\":\"white\",\"showbackground\":true,\"ticks\":\"\",\"zerolinecolor\":\"white\"},\"yaxis\":{\"backgroundcolor\":\"#E5ECF6\",\"gridcolor\":\"white\",\"gridwidth\":2,\"linecolor\":\"white\",\"showbackground\":true,\"ticks\":\"\",\"zerolinecolor\":\"white\"},\"zaxis\":{\"backgroundcolor\":\"#E5ECF6\",\"gridcolor\":\"white\",\"gridwidth\":2,\"linecolor\":\"white\",\"showbackground\":true,\"ticks\":\"\",\"zerolinecolor\":\"white\"}},\"shapedefaults\":{\"line\":{\"color\":\"#2a3f5f\"}},\"ternary\":{\"aaxis\":{\"gridcolor\":\"white\",\"linecolor\":\"white\",\"ticks\":\"\"},\"baxis\":{\"gridcolor\":\"white\",\"linecolor\":\"white\",\"ticks\":\"\"},\"bgcolor\":\"#E5ECF6\",\"caxis\":{\"gridcolor\":\"white\",\"linecolor\":\"white\",\"ticks\":\"\"}},\"title\":{\"x\":0.05},\"xaxis\":{\"automargin\":true,\"gridcolor\":\"white\",\"linecolor\":\"white\",\"ticks\":\"\",\"title\":{\"standoff\":15},\"zerolinecolor\":\"white\",\"zerolinewidth\":2},\"yaxis\":{\"automargin\":true,\"gridcolor\":\"white\",\"linecolor\":\"white\",\"ticks\":\"\",\"title\":{\"standoff\":15},\"zerolinecolor\":\"white\",\"zerolinewidth\":2}}},\"xaxis\":{\"anchor\":\"y\",\"domain\":[0.0,1.0],\"title\":{\"text\":\"director\"}},\"yaxis\":{\"anchor\":\"x\",\"domain\":[0.0,1.0],\"title\":{\"text\":\"rating\"}},\"legend\":{\"tracegroupgap\":0},\"margin\":{\"t\":60},\"boxmode\":\"group\"},                        {\"responsive\": true}                    ).then(function(){\n",
       "                            \n",
       "var gd = document.getElementById('1740264f-61fa-474e-b20f-5ab4b1b88647');\n",
       "var x = new MutationObserver(function (mutations, observer) {{\n",
       "        var display = window.getComputedStyle(gd).display;\n",
       "        if (!display || display === 'none') {{\n",
       "            console.log([gd, 'removed!']);\n",
       "            Plotly.purge(gd);\n",
       "            observer.disconnect();\n",
       "        }}\n",
       "}});\n",
       "\n",
       "// Listen for the removal of the full notebook cells\n",
       "var notebookContainer = gd.closest('#notebook-container');\n",
       "if (notebookContainer) {{\n",
       "    x.observe(notebookContainer, {childList: true});\n",
       "}}\n",
       "\n",
       "// Listen for the clearing of the current output cell\n",
       "var outputEl = gd.closest('.output');\n",
       "if (outputEl) {{\n",
       "    x.observe(outputEl, {childList: true});\n",
       "}}\n",
       "\n",
       "                        })                };                });            </script>        </div>"
      ]
     },
     "metadata": {},
     "output_type": "display_data"
    }
   ],
   "source": [
    "px.box(df,x=\"director\",y=\"rating\")"
   ]
  },
  {
   "cell_type": "markdown",
   "metadata": {},
   "source": [
    "# Here from the graph we had observed that the highest rating had given to the director \"ANURAG KASHYAP\""
   ]
  },
  {
   "cell_type": "code",
   "execution_count": 17,
   "metadata": {},
   "outputs": [
    {
     "data": {
      "text/html": [
       "<div>\n",
       "<style scoped>\n",
       "    .dataframe tbody tr th:only-of-type {\n",
       "        vertical-align: middle;\n",
       "    }\n",
       "\n",
       "    .dataframe tbody tr th {\n",
       "        vertical-align: top;\n",
       "    }\n",
       "\n",
       "    .dataframe thead th {\n",
       "        text-align: right;\n",
       "    }\n",
       "</style>\n",
       "<table border=\"1\" class=\"dataframe\">\n",
       "  <thead>\n",
       "    <tr style=\"text-align: right;\">\n",
       "      <th>rating</th>\n",
       "      <th>6.9</th>\n",
       "      <th>7.0</th>\n",
       "      <th>7.1</th>\n",
       "      <th>7.2</th>\n",
       "      <th>7.3</th>\n",
       "      <th>7.4</th>\n",
       "      <th>7.5</th>\n",
       "      <th>7.6</th>\n",
       "      <th>7.7</th>\n",
       "      <th>7.8</th>\n",
       "      <th>7.9</th>\n",
       "      <th>8.0</th>\n",
       "      <th>8.1</th>\n",
       "      <th>8.2</th>\n",
       "      <th>8.3</th>\n",
       "      <th>8.4</th>\n",
       "      <th>8.5</th>\n",
       "      <th>8.6</th>\n",
       "    </tr>\n",
       "    <tr>\n",
       "      <th>genre</th>\n",
       "      <th></th>\n",
       "      <th></th>\n",
       "      <th></th>\n",
       "      <th></th>\n",
       "      <th></th>\n",
       "      <th></th>\n",
       "      <th></th>\n",
       "      <th></th>\n",
       "      <th></th>\n",
       "      <th></th>\n",
       "      <th></th>\n",
       "      <th></th>\n",
       "      <th></th>\n",
       "      <th></th>\n",
       "      <th></th>\n",
       "      <th></th>\n",
       "      <th></th>\n",
       "      <th></th>\n",
       "    </tr>\n",
       "  </thead>\n",
       "  <tbody>\n",
       "    <tr>\n",
       "      <th>Action</th>\n",
       "      <td>0</td>\n",
       "      <td>0</td>\n",
       "      <td>2</td>\n",
       "      <td>8</td>\n",
       "      <td>8</td>\n",
       "      <td>14</td>\n",
       "      <td>6</td>\n",
       "      <td>16</td>\n",
       "      <td>14</td>\n",
       "      <td>32</td>\n",
       "      <td>8</td>\n",
       "      <td>24</td>\n",
       "      <td>30</td>\n",
       "      <td>20</td>\n",
       "      <td>10</td>\n",
       "      <td>4</td>\n",
       "      <td>4</td>\n",
       "      <td>0</td>\n",
       "    </tr>\n",
       "    <tr>\n",
       "      <th>Adventure</th>\n",
       "      <td>0</td>\n",
       "      <td>0</td>\n",
       "      <td>0</td>\n",
       "      <td>0</td>\n",
       "      <td>0</td>\n",
       "      <td>0</td>\n",
       "      <td>0</td>\n",
       "      <td>4</td>\n",
       "      <td>2</td>\n",
       "      <td>0</td>\n",
       "      <td>0</td>\n",
       "      <td>0</td>\n",
       "      <td>0</td>\n",
       "      <td>4</td>\n",
       "      <td>0</td>\n",
       "      <td>0</td>\n",
       "      <td>0</td>\n",
       "      <td>0</td>\n",
       "    </tr>\n",
       "    <tr>\n",
       "      <th>Biography</th>\n",
       "      <td>0</td>\n",
       "      <td>0</td>\n",
       "      <td>0</td>\n",
       "      <td>2</td>\n",
       "      <td>0</td>\n",
       "      <td>0</td>\n",
       "      <td>0</td>\n",
       "      <td>4</td>\n",
       "      <td>0</td>\n",
       "      <td>0</td>\n",
       "      <td>0</td>\n",
       "      <td>6</td>\n",
       "      <td>0</td>\n",
       "      <td>8</td>\n",
       "      <td>0</td>\n",
       "      <td>0</td>\n",
       "      <td>0</td>\n",
       "      <td>0</td>\n",
       "    </tr>\n",
       "    <tr>\n",
       "      <th>Comedy</th>\n",
       "      <td>2</td>\n",
       "      <td>2</td>\n",
       "      <td>2</td>\n",
       "      <td>6</td>\n",
       "      <td>6</td>\n",
       "      <td>10</td>\n",
       "      <td>20</td>\n",
       "      <td>16</td>\n",
       "      <td>8</td>\n",
       "      <td>16</td>\n",
       "      <td>16</td>\n",
       "      <td>12</td>\n",
       "      <td>28</td>\n",
       "      <td>8</td>\n",
       "      <td>10</td>\n",
       "      <td>8</td>\n",
       "      <td>0</td>\n",
       "      <td>4</td>\n",
       "    </tr>\n",
       "    <tr>\n",
       "      <th>Crime</th>\n",
       "      <td>0</td>\n",
       "      <td>0</td>\n",
       "      <td>0</td>\n",
       "      <td>4</td>\n",
       "      <td>2</td>\n",
       "      <td>4</td>\n",
       "      <td>2</td>\n",
       "      <td>6</td>\n",
       "      <td>2</td>\n",
       "      <td>4</td>\n",
       "      <td>0</td>\n",
       "      <td>12</td>\n",
       "      <td>14</td>\n",
       "      <td>10</td>\n",
       "      <td>0</td>\n",
       "      <td>0</td>\n",
       "      <td>0</td>\n",
       "      <td>0</td>\n",
       "    </tr>\n",
       "    <tr>\n",
       "      <th>Drama</th>\n",
       "      <td>0</td>\n",
       "      <td>0</td>\n",
       "      <td>0</td>\n",
       "      <td>2</td>\n",
       "      <td>10</td>\n",
       "      <td>4</td>\n",
       "      <td>8</td>\n",
       "      <td>10</td>\n",
       "      <td>14</td>\n",
       "      <td>14</td>\n",
       "      <td>4</td>\n",
       "      <td>8</td>\n",
       "      <td>14</td>\n",
       "      <td>32</td>\n",
       "      <td>0</td>\n",
       "      <td>8</td>\n",
       "      <td>0</td>\n",
       "      <td>0</td>\n",
       "    </tr>\n",
       "    <tr>\n",
       "      <th>Musical</th>\n",
       "      <td>0</td>\n",
       "      <td>0</td>\n",
       "      <td>0</td>\n",
       "      <td>0</td>\n",
       "      <td>0</td>\n",
       "      <td>0</td>\n",
       "      <td>0</td>\n",
       "      <td>2</td>\n",
       "      <td>0</td>\n",
       "      <td>0</td>\n",
       "      <td>0</td>\n",
       "      <td>0</td>\n",
       "      <td>0</td>\n",
       "      <td>0</td>\n",
       "      <td>0</td>\n",
       "      <td>0</td>\n",
       "      <td>0</td>\n",
       "      <td>0</td>\n",
       "    </tr>\n",
       "    <tr>\n",
       "      <th>Mystery</th>\n",
       "      <td>0</td>\n",
       "      <td>0</td>\n",
       "      <td>0</td>\n",
       "      <td>0</td>\n",
       "      <td>0</td>\n",
       "      <td>0</td>\n",
       "      <td>0</td>\n",
       "      <td>0</td>\n",
       "      <td>0</td>\n",
       "      <td>0</td>\n",
       "      <td>0</td>\n",
       "      <td>0</td>\n",
       "      <td>4</td>\n",
       "      <td>0</td>\n",
       "      <td>0</td>\n",
       "      <td>0</td>\n",
       "      <td>0</td>\n",
       "      <td>0</td>\n",
       "    </tr>\n",
       "  </tbody>\n",
       "</table>\n",
       "</div>"
      ],
      "text/plain": [
       "rating     6.9  7.0  7.1  7.2  7.3  7.4  7.5  7.6  7.7  7.8  7.9  8.0  8.1  \\\n",
       "genre                                                                        \n",
       "Action       0    0    2    8    8   14    6   16   14   32    8   24   30   \n",
       "Adventure    0    0    0    0    0    0    0    4    2    0    0    0    0   \n",
       "Biography    0    0    0    2    0    0    0    4    0    0    0    6    0   \n",
       "Comedy       2    2    2    6    6   10   20   16    8   16   16   12   28   \n",
       "Crime        0    0    0    4    2    4    2    6    2    4    0   12   14   \n",
       "Drama        0    0    0    2   10    4    8   10   14   14    4    8   14   \n",
       "Musical      0    0    0    0    0    0    0    2    0    0    0    0    0   \n",
       "Mystery      0    0    0    0    0    0    0    0    0    0    0    0    4   \n",
       "\n",
       "rating     8.2  8.3  8.4  8.5  8.6  \n",
       "genre                               \n",
       "Action      20   10    4    4    0  \n",
       "Adventure    4    0    0    0    0  \n",
       "Biography    8    0    0    0    0  \n",
       "Comedy       8   10    8    0    4  \n",
       "Crime       10    0    0    0    0  \n",
       "Drama       32    0    8    0    0  \n",
       "Musical      0    0    0    0    0  \n",
       "Mystery      0    0    0    0    0  "
      ]
     },
     "execution_count": 17,
     "metadata": {},
     "output_type": "execute_result"
    }
   ],
   "source": [
    "crosstab = pd.crosstab(df[\"genre\"], df['rating'])\n",
    "crosstab"
   ]
  },
  {
   "cell_type": "code",
   "execution_count": 18,
   "metadata": {},
   "outputs": [
    {
     "data": {
      "text/plain": [
       "<AxesSubplot:xlabel='genre'>"
      ]
     },
     "execution_count": 18,
     "metadata": {},
     "output_type": "execute_result"
    },
    {
     "data": {
      "image/png": "[encoded data removed]",
      "text/plain": [
       "<Figure size 432x288 with 1 Axes>"
      ]
     },
     "metadata": {
      "needs_background": "light"
     },
     "output_type": "display_data"
    }
   ],
   "source": [
    "crosstab.plot(kind=\"bar\",stacked=True)"
   ]
  },
  {
   "cell_type": "markdown",
   "metadata": {},
   "source": [
    "# Here in order to find the most rating movies under the genre, I had used the crosstab and plot them in the bar graph ,here the most rating given by the users is \"Comedy\" with (8.6).\n",
    "# From that we had observed that the viewers mostly liked the films under the category of COMEDY and ACTION"
   ]
  },
  {
   "cell_type": "code",
   "execution_count": 19,
   "metadata": {},
   "outputs": [
    {
     "data": {
      "text/html": [
       "<div>\n",
       "<style scoped>\n",
       "    .dataframe tbody tr th:only-of-type {\n",
       "        vertical-align: middle;\n",
       "    }\n",
       "\n",
       "    .dataframe tbody tr th {\n",
       "        vertical-align: top;\n",
       "    }\n",
       "\n",
       "    .dataframe thead th {\n",
       "        text-align: right;\n",
       "    }\n",
       "</style>\n",
       "<table border=\"1\" class=\"dataframe\">\n",
       "  <thead>\n",
       "    <tr style=\"text-align: right;\">\n",
       "      <th>director</th>\n",
       "      <th>A.R. Murugadoss</th>\n",
       "      <th>Aamir Khan</th>\n",
       "      <th>Aanand L. Rai</th>\n",
       "      <th>Abbas Alibhai Burmawalla</th>\n",
       "      <th>Abbas Tyrewala</th>\n",
       "      <th>Abhinay Deo</th>\n",
       "      <th>Abhishek Chaubey</th>\n",
       "      <th>Abhishek Kapoor</th>\n",
       "      <th>Abhishek Sharma</th>\n",
       "      <th>Aditya Chopra</th>\n",
       "      <th>...</th>\n",
       "      <th>Umesh Shukla</th>\n",
       "      <th>Vijay Anand</th>\n",
       "      <th>Vikas Bahl</th>\n",
       "      <th>Vikram Bhatt</th>\n",
       "      <th>Vikramaditya Motwane</th>\n",
       "      <th>Vipul Amrutlal Shah</th>\n",
       "      <th>Vishal Bhardwaj</th>\n",
       "      <th>Vivek Agnihotri</th>\n",
       "      <th>Yash Chopra</th>\n",
       "      <th>Zoya Akhtar</th>\n",
       "    </tr>\n",
       "    <tr>\n",
       "      <th>genre</th>\n",
       "      <th></th>\n",
       "      <th></th>\n",
       "      <th></th>\n",
       "      <th></th>\n",
       "      <th></th>\n",
       "      <th></th>\n",
       "      <th></th>\n",
       "      <th></th>\n",
       "      <th></th>\n",
       "      <th></th>\n",
       "      <th></th>\n",
       "      <th></th>\n",
       "      <th></th>\n",
       "      <th></th>\n",
       "      <th></th>\n",
       "      <th></th>\n",
       "      <th></th>\n",
       "      <th></th>\n",
       "      <th></th>\n",
       "      <th></th>\n",
       "      <th></th>\n",
       "    </tr>\n",
       "  </thead>\n",
       "  <tbody>\n",
       "    <tr>\n",
       "      <th>Action</th>\n",
       "      <td>2</td>\n",
       "      <td>0</td>\n",
       "      <td>0</td>\n",
       "      <td>2</td>\n",
       "      <td>0</td>\n",
       "      <td>2</td>\n",
       "      <td>4</td>\n",
       "      <td>0</td>\n",
       "      <td>2</td>\n",
       "      <td>0</td>\n",
       "      <td>...</td>\n",
       "      <td>0</td>\n",
       "      <td>0</td>\n",
       "      <td>0</td>\n",
       "      <td>2</td>\n",
       "      <td>0</td>\n",
       "      <td>0</td>\n",
       "      <td>10</td>\n",
       "      <td>0</td>\n",
       "      <td>8</td>\n",
       "      <td>0</td>\n",
       "    </tr>\n",
       "    <tr>\n",
       "      <th>Adventure</th>\n",
       "      <td>0</td>\n",
       "      <td>0</td>\n",
       "      <td>0</td>\n",
       "      <td>0</td>\n",
       "      <td>0</td>\n",
       "      <td>0</td>\n",
       "      <td>0</td>\n",
       "      <td>0</td>\n",
       "      <td>0</td>\n",
       "      <td>0</td>\n",
       "      <td>...</td>\n",
       "      <td>0</td>\n",
       "      <td>0</td>\n",
       "      <td>4</td>\n",
       "      <td>0</td>\n",
       "      <td>0</td>\n",
       "      <td>0</td>\n",
       "      <td>0</td>\n",
       "      <td>0</td>\n",
       "      <td>0</td>\n",
       "      <td>0</td>\n",
       "    </tr>\n",
       "    <tr>\n",
       "      <th>Biography</th>\n",
       "      <td>0</td>\n",
       "      <td>0</td>\n",
       "      <td>0</td>\n",
       "      <td>0</td>\n",
       "      <td>0</td>\n",
       "      <td>0</td>\n",
       "      <td>0</td>\n",
       "      <td>0</td>\n",
       "      <td>0</td>\n",
       "      <td>0</td>\n",
       "      <td>...</td>\n",
       "      <td>0</td>\n",
       "      <td>0</td>\n",
       "      <td>0</td>\n",
       "      <td>0</td>\n",
       "      <td>0</td>\n",
       "      <td>0</td>\n",
       "      <td>0</td>\n",
       "      <td>0</td>\n",
       "      <td>0</td>\n",
       "      <td>0</td>\n",
       "    </tr>\n",
       "    <tr>\n",
       "      <th>Comedy</th>\n",
       "      <td>0</td>\n",
       "      <td>0</td>\n",
       "      <td>2</td>\n",
       "      <td>0</td>\n",
       "      <td>2</td>\n",
       "      <td>0</td>\n",
       "      <td>2</td>\n",
       "      <td>0</td>\n",
       "      <td>0</td>\n",
       "      <td>0</td>\n",
       "      <td>...</td>\n",
       "      <td>6</td>\n",
       "      <td>0</td>\n",
       "      <td>2</td>\n",
       "      <td>0</td>\n",
       "      <td>0</td>\n",
       "      <td>2</td>\n",
       "      <td>0</td>\n",
       "      <td>0</td>\n",
       "      <td>0</td>\n",
       "      <td>4</td>\n",
       "    </tr>\n",
       "    <tr>\n",
       "      <th>Crime</th>\n",
       "      <td>0</td>\n",
       "      <td>0</td>\n",
       "      <td>0</td>\n",
       "      <td>2</td>\n",
       "      <td>0</td>\n",
       "      <td>0</td>\n",
       "      <td>0</td>\n",
       "      <td>0</td>\n",
       "      <td>0</td>\n",
       "      <td>0</td>\n",
       "      <td>...</td>\n",
       "      <td>0</td>\n",
       "      <td>0</td>\n",
       "      <td>0</td>\n",
       "      <td>0</td>\n",
       "      <td>0</td>\n",
       "      <td>2</td>\n",
       "      <td>4</td>\n",
       "      <td>0</td>\n",
       "      <td>0</td>\n",
       "      <td>0</td>\n",
       "    </tr>\n",
       "    <tr>\n",
       "      <th>Drama</th>\n",
       "      <td>0</td>\n",
       "      <td>4</td>\n",
       "      <td>2</td>\n",
       "      <td>0</td>\n",
       "      <td>0</td>\n",
       "      <td>0</td>\n",
       "      <td>0</td>\n",
       "      <td>6</td>\n",
       "      <td>0</td>\n",
       "      <td>4</td>\n",
       "      <td>...</td>\n",
       "      <td>0</td>\n",
       "      <td>4</td>\n",
       "      <td>0</td>\n",
       "      <td>0</td>\n",
       "      <td>8</td>\n",
       "      <td>0</td>\n",
       "      <td>0</td>\n",
       "      <td>2</td>\n",
       "      <td>4</td>\n",
       "      <td>2</td>\n",
       "    </tr>\n",
       "    <tr>\n",
       "      <th>Musical</th>\n",
       "      <td>0</td>\n",
       "      <td>0</td>\n",
       "      <td>0</td>\n",
       "      <td>0</td>\n",
       "      <td>0</td>\n",
       "      <td>0</td>\n",
       "      <td>0</td>\n",
       "      <td>0</td>\n",
       "      <td>0</td>\n",
       "      <td>0</td>\n",
       "      <td>...</td>\n",
       "      <td>0</td>\n",
       "      <td>0</td>\n",
       "      <td>0</td>\n",
       "      <td>0</td>\n",
       "      <td>0</td>\n",
       "      <td>0</td>\n",
       "      <td>0</td>\n",
       "      <td>0</td>\n",
       "      <td>0</td>\n",
       "      <td>0</td>\n",
       "    </tr>\n",
       "    <tr>\n",
       "      <th>Mystery</th>\n",
       "      <td>0</td>\n",
       "      <td>0</td>\n",
       "      <td>0</td>\n",
       "      <td>0</td>\n",
       "      <td>0</td>\n",
       "      <td>0</td>\n",
       "      <td>0</td>\n",
       "      <td>0</td>\n",
       "      <td>0</td>\n",
       "      <td>0</td>\n",
       "      <td>...</td>\n",
       "      <td>0</td>\n",
       "      <td>0</td>\n",
       "      <td>0</td>\n",
       "      <td>0</td>\n",
       "      <td>0</td>\n",
       "      <td>0</td>\n",
       "      <td>0</td>\n",
       "      <td>0</td>\n",
       "      <td>0</td>\n",
       "      <td>0</td>\n",
       "    </tr>\n",
       "  </tbody>\n",
       "</table>\n",
       "<p>8 rows × 120 columns</p>\n",
       "</div>"
      ],
      "text/plain": [
       "director   A.R. Murugadoss  Aamir Khan  Aanand L. Rai  \\\n",
       "genre                                                   \n",
       "Action                   2           0              0   \n",
       "Adventure                0           0              0   \n",
       "Biography                0           0              0   \n",
       "Comedy                   0           0              2   \n",
       "Crime                    0           0              0   \n",
       "Drama                    0           4              2   \n",
       "Musical                  0           0              0   \n",
       "Mystery                  0           0              0   \n",
       "\n",
       "director   Abbas Alibhai Burmawalla  Abbas Tyrewala  Abhinay Deo  \\\n",
       "genre                                                              \n",
       "Action                            2               0            2   \n",
       "Adventure                         0               0            0   \n",
       "Biography                         0               0            0   \n",
       "Comedy                            0               2            0   \n",
       "Crime                             2               0            0   \n",
       "Drama                             0               0            0   \n",
       "Musical                           0               0            0   \n",
       "Mystery                           0               0            0   \n",
       "\n",
       "director   Abhishek Chaubey  Abhishek Kapoor  Abhishek Sharma  Aditya Chopra  \\\n",
       "genre                                                                          \n",
       "Action                    4                0                2              0   \n",
       "Adventure                 0                0                0              0   \n",
       "Biography                 0                0                0              0   \n",
       "Comedy                    2                0                0              0   \n",
       "Crime                     0                0                0              0   \n",
       "Drama                     0                6                0              4   \n",
       "Musical                   0                0                0              0   \n",
       "Mystery                   0                0                0              0   \n",
       "\n",
       "director   ...  Umesh Shukla  Vijay Anand  Vikas Bahl  Vikram Bhatt  \\\n",
       "genre      ...                                                        \n",
       "Action     ...             0            0           0             2   \n",
       "Adventure  ...             0            0           4             0   \n",
       "Biography  ...             0            0           0             0   \n",
       "Comedy     ...             6            0           2             0   \n",
       "Crime      ...             0            0           0             0   \n",
       "Drama      ...             0            4           0             0   \n",
       "Musical    ...             0            0           0             0   \n",
       "Mystery    ...             0            0           0             0   \n",
       "\n",
       "director   Vikramaditya Motwane  Vipul Amrutlal Shah  Vishal Bhardwaj  \\\n",
       "genre                                                                   \n",
       "Action                        0                    0               10   \n",
       "Adventure                     0                    0                0   \n",
       "Biography                     0                    0                0   \n",
       "Comedy                        0                    2                0   \n",
       "Crime                         0                    2                4   \n",
       "Drama                         8                    0                0   \n",
       "Musical                       0                    0                0   \n",
       "Mystery                       0                    0                0   \n",
       "\n",
       "director   Vivek Agnihotri  Yash Chopra  Zoya Akhtar  \n",
       "genre                                                 \n",
       "Action                   0            8            0  \n",
       "Adventure                0            0            0  \n",
       "Biography                0            0            0  \n",
       "Comedy                   0            0            4  \n",
       "Crime                    0            0            0  \n",
       "Drama                    2            4            2  \n",
       "Musical                  0            0            0  \n",
       "Mystery                  0            0            0  \n",
       "\n",
       "[8 rows x 120 columns]"
      ]
     },
     "execution_count": 19,
     "metadata": {},
     "output_type": "execute_result"
    }
   ],
   "source": [
    "crosstab = pd.crosstab(df[\"genre\"], df[\"director\"])\n",
    "crosstab"
   ]
  },
  {
   "cell_type": "code",
   "execution_count": 26,
   "metadata": {},
   "outputs": [
    {
     "data": {
      "application/vnd.plotly.v1+json": {
       "config": {
        "plotlyServerURL": "https://plot.ly"
       },
       "data": [
        {
         "alignmentgroup": "True",
         "hovertemplate": "director=%{x}<br>genre=%{y}<extra></extra>",
         "legendgroup": "",
         "marker": {
          "color": "#636efa",
          "pattern": {
           "shape": ""
          }
         },
         "name": "",
         "offsetgroup": "",
         "orientation": "v",
         "showlegend": false,
         "textposition": "auto",
         "type": "bar",
         "x": [
          "Aniruddha Roy Chowdhury",
          "Neeraj Ghaywan",
          "Meghna Gulzar",
          "Yash Chopra",
          "Shimit Amin",
          "Rajkumar Santoshi",
          "Nagesh Kukunoor",
          "Hrishikesh Mukherjee",
          "Nikkhil Advani",
          "Kundan Shah",
          "Dibakar Banerjee",
          "Rajkumar Hirani",
          "Nishikant Kamat",
          "Ram Gopal Varma",
          "Mukul Anand",
          "S.S. Rajamouli",
          "Gauri Shinde",
          "Vishal Bhardwaj",
          "Abhishek Chaubey",
          "K. Asif",
          "Kabir Khan",
          "Aamir Khan",
          "Sujoy Ghosh",
          "Farhan Akhtar",
          "Imtiaz Ali",
          "Karan Johar",
          "Mani Ratnam",
          "Yash Chopra",
          "Umesh Shukla",
          "Shekhar Kapur",
          "Vishal Bhardwaj",
          "Anurag Kashyap",
          "Anurag Kashyap",
          "Rakeysh Omprakash Mehra",
          "Ketan Mehta",
          "Mansoor Khan",
          "Ram Gopal Varma",
          "Zoya Akhtar",
          "Advait Chandan",
          "R. Balki",
          "Shoojit Sircar",
          "Mahesh Manjrekar",
          "Vijay Anand",
          "Neeraj Pandey",
          "Anurag Kashyap",
          "J.P. Dutta",
          "Neeraj Pandey",
          "Amit Ravindernath Sharma",
          "Ashutosh Gowariker",
          "Abhishek Kapoor",
          "John Mathew Matthan",
          "Dibakar Banerjee",
          "Meghna Gulzar",
          "Anurag Kashyap",
          "Vishal Bhardwaj",
          "S.S. Rajamouli",
          "Deepa Mehta",
          "Rajkumar Hirani",
          "Chandra Barot",
          "Vikas Bahl",
          "Rajkumar Hirani",
          "Sagar Ballary",
          "Mani Ratnam",
          "Rajat Kapoor",
          "Shakun Batra",
          "Raja Menon",
          "Sanjay Leela Bhansali",
          "Neeraj Pandey",
          "Aditya Chopra",
          "Rajkumar Hirani",
          "Ram Madhvani",
          "Tigmanshu Dhulia",
          "Shashant Shah",
          "Shoojit Sircar",
          "Anurag Kashyap",
          "Rakeysh Omprakash Mehra",
          "Ram Gopal Varma",
          "Nitesh Tiwari",
          "Kundan Shah",
          "Ramesh Sippy",
          "Ashutosh Gowariker",
          "Priyadarshan",
          "Hrishikesh Mukherjee",
          "Vikramaditya Motwane",
          "Saket Chaudhary",
          "S. Shankar",
          "Mehboob Khan",
          "Amit Masurkar",
          "Farhan Akhtar",
          "Sriram Raghavan",
          "Navdeep Singh",
          "Kamal Haasan",
          "Rajkumar Santoshi",
          "Hansal Mehta",
          "Shimit Amin",
          "Anurag Basu",
          "Prakash Jha",
          "Hrishikesh Mukherjee",
          "Yash Chopra",
          "Ritesh Batra",
          "Mukul Anand",
          "Shakun Batra",
          "Ravi Udyawar",
          "Priyadarshan",
          "Lawrence D'Souza",
          "Shimit Amin",
          "Rakeysh Omprakash Mehra",
          "Vikas Bahl",
          "Rajat Kapoor",
          "R. Balki",
          "Mira Nair",
          "Abhishek Kapoor",
          "Dibakar Banerjee",
          "Gautham Vasudev Menon",
          "Akarsh Khurana",
          "A.R. Murugadoss",
          "Mani Ratnam",
          "Sooraj R. Barjatya",
          "Hrishikesh Mukherjee",
          "Yash Chopra",
          "Nitesh Tiwari",
          "Rajkumar Santoshi",
          "Anurag Kashyap",
          "Aamir Khan",
          "Reema Kagti",
          "Imtiaz Ali",
          "Ram Gopal Varma",
          "Anurag Kashyap",
          "Vipul Amrutlal Shah",
          "Raaj Shaandilyaa",
          "Aanand L. Rai",
          "Zoya Akhtar",
          "Deepa Mehta",
          "S. Shankar",
          "Amit Masurkar",
          "Advait Chandan",
          "Pan Nalin",
          "Umesh Shukla",
          "Nikkhil Advani",
          "Anubhav Sinha",
          "Subhash Kapoor",
          "Mani Ratnam",
          "Raj Kumar Gupta",
          "Manmohan Desai",
          "Ramesh Sippy",
          "Farhan Akhtar",
          "Neeraj Pandey",
          "Vikramaditya Motwane",
          "Dibakar Banerjee",
          "Ashutosh Gowariker",
          "Anurag Kashyap",
          "Anurag Kashyap",
          "Madhur Bhandarkar",
          "Rajkumar Hirani",
          "Rajkumar Santoshi",
          "Ashutosh Gowariker",
          "Sudha Kongara",
          "Abhinay Deo",
          "Abbas Alibhai Burmawalla",
          "Sriram Raghavan",
          "Kundan Shah",
          "Vikramaditya Motwane",
          "Karan Johar",
          "Sidharth Malhotra",
          "Abbas Alibhai Burmawalla",
          "Neeraj Ghaywan",
          "Mansoor Khan",
          "Rajkumar Hirani",
          "Priyadarshan",
          "Rajkumar Hirani",
          "Shoojit Sircar",
          "Sanjay Leela Bhansali",
          "Vishal Bhardwaj",
          "Hrishikesh Mukherjee",
          "Ram Gopal Varma",
          "Vikram Bhatt",
          "Sooraj R. Barjatya",
          "Mansoor Khan",
          "S.S. Rajamouli",
          "Ashutosh Gowariker",
          "Ram Gopal Varma",
          "Neeraj Pandey",
          "Ram Madhvani",
          "Abhishek Chaubey",
          "Imtiaz Ali",
          "Trivikram Srinivas",
          "Abbas Tyrewala",
          "Ravi Chopra",
          "Anil Sharma",
          "Ashwiny Iyer Tiwari",
          "Aditya Dhar",
          "Tigmanshu Dhulia",
          "S. Shankar",
          "Shoojit Sircar",
          "Vishal Bhardwaj",
          "Sujoy Ghosh",
          "Anusha Rizvi",
          "Shekhar Kapur",
          "Milan Luthria",
          "Meghna Gulzar",
          "Mrighdeep Lamba",
          "Raj Kumar Gupta",
          "Rakeysh Omprakash Mehra",
          "Anurag Basu",
          "Gauri Shinde",
          "Ribhu Dasgupta",
          "Sagar Ballary",
          "Vijay Anand",
          "Bejoy Nambiar",
          "Shoojit Sircar",
          "Vipul Amrutlal Shah",
          "Shree Narayan Singh",
          "Yash Chopra",
          "Nishikant Kamat",
          "Aanand L. Rai",
          "Rajkumar Santoshi",
          "Raja Menon",
          "Pradeep Sarkar",
          "Sriram Raghavan",
          "Sriram Raghavan",
          "Sandeep Reddy Vanga",
          "Rohit Shetty",
          "Kundan Shah",
          "Shashant Shah",
          "Neeraj Pandey",
          "Amit Ravindernath Sharma",
          "Vivek Agnihotri",
          "Ketan Mehta",
          "Nitesh Tiwari",
          "Pradeep Sarkar",
          "Sankalp Reddy",
          "Kamal Haasan",
          "Abhishek Chaubey",
          "Nikkhil Advani",
          "Mohit Suri",
          "Sanjay Leela Bhansali",
          "Subhash Kapoor",
          "Abhishek Kapoor",
          "Mani Ratnam",
          "Anurag Basu",
          "Suresh Krishna",
          "Vikramaditya Motwane",
          "Kamal Haasan",
          "Sanjay Leela Bhansali",
          "Anand Gandhi",
          "John Mathew Matthan",
          "Chandra Barot",
          "Umesh Shukla",
          "Milan Luthria",
          "Navdeep Singh",
          "Hrishikesh Mukherjee",
          "Imtiaz Ali",
          "Mahesh Manjrekar",
          "Vishal Bhardwaj",
          "K. Asif",
          "Nishikant Kamat",
          "Imtiaz Ali",
          "Navdeep Singh",
          "Nagesh Kukunoor",
          "Karan Johar",
          "Maneesh Sharma",
          "Anurag Kashyap",
          "Shoojit Sircar",
          "Zoya Akhtar",
          "Ajay Bahl",
          "Karan Johar",
          "Meghna Gulzar",
          "Ratnaa Sinha",
          "Yash Chopra",
          "Hansal Mehta",
          "Shimit Amin",
          "Dibakar Banerjee",
          "S. Shankar",
          "Ritesh Batra",
          "Prakash Jha",
          "Dibakar Banerjee",
          "Sanjay Leela Bhansali",
          "S. Shankar",
          "Neeraj Pandey",
          "Kabir Khan",
          "Gauri Shinde",
          "Rajkumar Hirani",
          "Farhan Akhtar",
          "J.P. Dutta",
          "Shimit Amin",
          "Aniruddha Roy Chowdhury",
          "Mehboob Khan",
          "Vishal Bhardwaj",
          "Aditya Chopra",
          "Vikas Bahl",
          "Sharat Katariya",
          "S.S. Rajamouli",
          "Ram Gopal Varma",
          "Priyadarshan",
          "Abhishek Sharma",
          "Mani Ratnam",
          "Saket Chaudhary",
          "Ayan Mukherjee",
          "Anurag Kashyap",
          "Vikas Bahl",
          "Ajay Bahl",
          "Abhishek Kapoor",
          "Vipul Amrutlal Shah",
          "Vijay Anand",
          "Tigmanshu Dhulia",
          "Vishal Bhardwaj",
          "Navdeep Singh",
          "Nishikant Kamat",
          "Imtiaz Ali",
          "Neeraj Pandey",
          "Sudha Kongara",
          "Mani Ratnam",
          "Dibakar Banerjee",
          "Ram Madhvani",
          "Priyadarshan",
          "Ram Gopal Varma",
          "Saket Chaudhary",
          "Pradeep Sarkar",
          "Vipul Amrutlal Shah",
          "Deepa Mehta",
          "Aniruddha Roy Chowdhury",
          "Karan Johar",
          "Milan Luthria",
          "Rakeysh Omprakash Mehra",
          "Anurag Kashyap",
          "Sanjay Leela Bhansali",
          "Ram Gopal Varma",
          "Gauri Shinde",
          "Zoya Akhtar",
          "Rajkumar Hirani",
          "Imtiaz Ali",
          "Manmohan Desai",
          "Abhishek Sharma",
          "John Mathew Matthan",
          "Shree Narayan Singh",
          "Anurag Kashyap",
          "Farhan Akhtar",
          "Hrishikesh Mukherjee",
          "Trivikram Srinivas",
          "S.S. Rajamouli",
          "Yash Chopra",
          "Nishikant Kamat",
          "Shimit Amin",
          "Mani Ratnam",
          "Yash Chopra",
          "Akarsh Khurana",
          "Dibakar Banerjee",
          "Vishal Bhardwaj",
          "Mani Ratnam",
          "Ritesh Batra",
          "Kabir Khan",
          "Nitesh Tiwari",
          "Vishal Bhardwaj",
          "Neeraj Pandey",
          "Mohit Suri",
          "Rakeysh Omprakash Mehra",
          "Prakash Jha",
          "Umesh Shukla",
          "Sriram Raghavan",
          "Mansoor Khan",
          "Sanjay Leela Bhansali",
          "Sooraj R. Barjatya",
          "Vikramaditya Motwane",
          "S. Shankar",
          "Ribhu Dasgupta",
          "Rajkumar Santoshi",
          "Bejoy Nambiar",
          "Shakun Batra",
          "Dibakar Banerjee",
          "S. Shankar",
          "Mani Ratnam",
          "Anurag Kashyap",
          "Neeraj Pandey",
          "Kamal Haasan",
          "Lawrence D'Souza",
          "Milan Luthria",
          "Nitesh Tiwari",
          "Imtiaz Ali",
          "Abhishek Chaubey",
          "Navdeep Singh",
          "Anand Gandhi",
          "Aditya Chopra",
          "Amit Ravindernath Sharma",
          "Ravi Udyawar",
          "Shoojit Sircar",
          "S. Shankar",
          "Ratnaa Sinha",
          "Rajkumar Hirani",
          "Ashwiny Iyer Tiwari",
          "Ashutosh Gowariker",
          "Anil Sharma",
          "Sooraj R. Barjatya",
          "R. Balki",
          "Sankalp Reddy",
          "Dibakar Banerjee",
          "S.S. Rajamouli",
          "Suresh Krishna",
          "Abhishek Kapoor",
          "Sujoy Ghosh",
          "Yash Chopra",
          "Karan Johar",
          "Chandra Barot",
          "A.R. Murugadoss",
          "Ketan Mehta",
          "Shimit Amin",
          "Karan Johar",
          "Abhinay Deo",
          "Subhash Kapoor",
          "Priyadarshan",
          "Kundan Shah",
          "Pradeep Sarkar",
          "Rajkumar Hirani",
          "Raaj Shaandilyaa",
          "Madhur Bhandarkar",
          "Raja Menon",
          "Sriram Raghavan",
          "Farhan Akhtar",
          "Ashutosh Gowariker",
          "Rajat Kapoor",
          "Anubhav Sinha",
          "Umesh Shukla",
          "Anurag Kashyap",
          "Aamir Khan",
          "Vikramaditya Motwane",
          "Ramesh Sippy",
          "Hansal Mehta",
          "Mira Nair",
          "Sagar Ballary",
          "Zoya Akhtar",
          "Abhishek Chaubey",
          "Aanand L. Rai",
          "Sandeep Reddy Vanga",
          "Reema Kagti",
          "Aanand L. Rai",
          "Raj Kumar Gupta",
          "Sidharth Malhotra",
          "Kundan Shah",
          "Vikramaditya Motwane",
          "Anurag Kashyap",
          "Raj Kumar Gupta",
          "Sanjay Leela Bhansali",
          "Mehboob Khan",
          "Sharat Katariya",
          "Shekhar Kapur",
          "Abbas Tyrewala",
          "Vishal Bhardwaj",
          "Nikkhil Advani",
          "Mukul Anand",
          "Gauri Shinde",
          "Anusha Rizvi",
          "S. Shankar",
          "Nikkhil Advani",
          "Anurag Kashyap",
          "Subhash Kapoor",
          "Shoojit Sircar",
          "Rajkumar Santoshi",
          "Amit Masurkar",
          "Mahesh Manjrekar",
          "Kamal Haasan",
          "Neeraj Pandey",
          "K. Asif",
          "Imtiaz Ali",
          "Abbas Alibhai Burmawalla",
          "J.P. Dutta",
          "Shimit Amin",
          "Neeraj Ghaywan",
          "Meghna Gulzar",
          "Ram Gopal Varma",
          "Shashant Shah",
          "Mansoor Khan",
          "Anurag Basu",
          "Rohit Shetty",
          "Vikram Bhatt",
          "Vivek Agnihotri",
          "Hrishikesh Mukherjee",
          "Meghna Gulzar",
          "Shoojit Sircar",
          "Priyadarshan",
          "Ayan Mukherjee",
          "Abbas Alibhai Burmawalla",
          "Mrighdeep Lamba",
          "Vikas Bahl",
          "Hrishikesh Mukherjee",
          "Ashutosh Gowariker",
          "Sanjay Leela Bhansali",
          "Anurag Basu",
          "Ram Gopal Varma",
          "Rajkumar Santoshi",
          "Maneesh Sharma",
          "Ravi Chopra",
          "Shoojit Sircar",
          "Aditya Dhar",
          "Nagesh Kukunoor",
          "Gautham Vasudev Menon",
          "Rajkumar Hirani",
          "Pan Nalin",
          "Advait Chandan",
          "Sriram Raghavan",
          "Anurag Kashyap",
          "Chandra Barot",
          "Shimit Amin",
          "Vishal Bhardwaj",
          "Shoojit Sircar",
          "Rakeysh Omprakash Mehra",
          "Rajat Kapoor",
          "Ashutosh Gowariker",
          "Nitesh Tiwari",
          "Nikkhil Advani",
          "Meghna Gulzar",
          "Ram Gopal Varma",
          "Rajkumar Hirani",
          "R. Balki",
          "Zoya Akhtar",
          "Farhan Akhtar",
          "Imtiaz Ali",
          "Neeraj Pandey",
          "Rajkumar Hirani",
          "Vishal Bhardwaj",
          "Gauri Shinde",
          "Vikas Bahl",
          "Yash Chopra",
          "Ram Madhvani",
          "Karan Johar",
          "Navdeep Singh",
          "Anurag Kashyap",
          "Amit Masurkar",
          "Mehboob Khan",
          "Shoojit Sircar",
          "Dibakar Banerjee",
          "Kundan Shah",
          "Rajkumar Hirani",
          "Advait Chandan",
          "Ketan Mehta",
          "S.S. Rajamouli",
          "Meghna Gulzar",
          "Vishal Bhardwaj",
          "Mansoor Khan",
          "Anurag Kashyap",
          "Rajkumar Santoshi",
          "Kamal Haasan",
          "Vikramaditya Motwane",
          "Ramesh Sippy",
          "Neeraj Pandey",
          "Rakeysh Omprakash Mehra",
          "Yash Chopra",
          "Ashutosh Gowariker",
          "Shekhar Kapur",
          "Sriram Raghavan",
          "Ram Gopal Varma",
          "Hrishikesh Mukherjee",
          "Raja Menon",
          "Aamir Khan",
          "Neeraj Ghaywan",
          "Ram Gopal Varma",
          "Prakash Jha",
          "S.S. Rajamouli",
          "Anurag Basu",
          "Aditya Chopra",
          "Aniruddha Roy Chowdhury",
          "Rajkumar Santoshi",
          "Sagar Ballary",
          "Saket Chaudhary",
          "Amit Ravindernath Sharma",
          "Hrishikesh Mukherjee",
          "Mani Ratnam",
          "Shimit Amin",
          "Rajkumar Hirani",
          "Hansal Mehta",
          "Abhishek Kapoor",
          "Abhishek Chaubey",
          "Vijay Anand",
          "K. Asif",
          "Tigmanshu Dhulia",
          "Anurag Kashyap",
          "John Mathew Matthan",
          "Shashant Shah",
          "Neeraj Pandey",
          "Anurag Kashyap",
          "Farhan Akhtar",
          "Nagesh Kukunoor",
          "Mukul Anand",
          "Sanjay Leela Bhansali",
          "Mani Ratnam",
          "Yash Chopra",
          "Nishikant Kamat",
          "Sujoy Ghosh",
          "Umesh Shukla",
          "S. Shankar",
          "Deepa Mehta",
          "Priyadarshan",
          "Shakun Batra",
          "Kabir Khan",
          "J.P. Dutta",
          "Mahesh Manjrekar",
          "Dibakar Banerjee",
          "Hrishikesh Mukherjee",
          "Kundan Shah",
          "Ritesh Batra"
         ],
         "xaxis": "x",
         "y": [
          "Crime",
          "Drama",
          "Crime",
          "Action",
          "Action",
          "Action",
          "Drama",
          "Comedy",
          "Comedy",
          "Comedy",
          "Action",
          "Comedy",
          "Crime",
          "Action",
          "Action",
          "Action",
          "Comedy",
          "Crime",
          "Action",
          "Drama",
          "Action",
          "Drama",
          "Mystery",
          "Action",
          "Comedy",
          "Drama",
          "Drama",
          "Drama",
          "Comedy",
          "Action",
          "Action",
          "Action",
          "Comedy",
          "Biography",
          "Biography",
          "Comedy",
          "Action",
          "Comedy",
          "Drama",
          "Comedy",
          "Comedy",
          "Action",
          "Drama",
          "Crime",
          "Action",
          "Action",
          "Action",
          "Comedy",
          "Drama",
          "Drama",
          "Action",
          "Comedy",
          "Action",
          "Crime",
          "Action",
          "Action",
          "Drama",
          "Comedy",
          "Action",
          "Adventure",
          "Comedy",
          "Comedy",
          "Drama",
          "Comedy",
          "Comedy",
          "Drama",
          "Drama",
          "Action",
          "Drama",
          "Comedy",
          "Biography",
          "Action",
          "Comedy",
          "Action",
          "Crime",
          "Comedy",
          "Action",
          "Action",
          "Comedy",
          "Action",
          "Drama",
          "Action",
          "Comedy",
          "Drama",
          "Comedy",
          "Action",
          "Action",
          "Comedy",
          "Comedy",
          "Crime",
          "Crime",
          "Crime",
          "Action",
          "Biography",
          "Drama",
          "Comedy",
          "Action",
          "Drama",
          "Action",
          "Drama",
          "Action",
          "Comedy",
          "Crime",
          "Action",
          "Drama",
          "Action",
          "Biography",
          "Comedy",
          "Comedy",
          "Comedy",
          "Comedy",
          "Drama",
          "Crime",
          "Musical",
          "Adventure",
          "Action",
          "Drama",
          "Drama",
          "Comedy",
          "Drama",
          "Comedy",
          "Action",
          "Comedy",
          "Drama",
          "Crime",
          "Comedy",
          "Comedy",
          "Action",
          "Crime",
          "Comedy",
          "Drama",
          "Drama",
          "Drama",
          "Action",
          "Comedy",
          "Drama",
          "Adventure",
          "Comedy",
          "Comedy",
          "Crime",
          "Comedy",
          "Drama",
          "Biography",
          "Action",
          "Action",
          "Action",
          "Crime",
          "Drama",
          "Action",
          "Drama",
          "Action",
          "Crime",
          "Drama",
          "Comedy",
          "Action",
          "Drama",
          "Action",
          "Action",
          "Crime",
          "Crime",
          "Comedy",
          "Drama",
          "Drama",
          "Comedy",
          "Action",
          "Drama",
          "Drama",
          "Comedy",
          "Comedy",
          "Comedy",
          "Comedy",
          "Drama",
          "Action",
          "Comedy",
          "Action",
          "Action",
          "Comedy",
          "Comedy",
          "Action",
          "Action",
          "Action",
          "Biography",
          "Biography",
          "Comedy",
          "Drama",
          "Action",
          "Comedy",
          "Drama",
          "Action",
          "Comedy",
          "Action",
          "Action",
          "Action",
          "Action",
          "Action",
          "Mystery",
          "Comedy",
          "Action",
          "Comedy",
          "Action",
          "Comedy",
          "Action",
          "Comedy",
          "Comedy",
          "Drama",
          "Drama",
          "Comedy",
          "Drama",
          "Action",
          "Comedy",
          "Comedy",
          "Comedy",
          "Action",
          "Crime",
          "Comedy",
          "Action",
          "Drama",
          "Action",
          "Action",
          "Crime",
          "Action",
          "Action",
          "Comedy",
          "Comedy",
          "Action",
          "Comedy",
          "Drama",
          "Biography",
          "Action",
          "Drama",
          "Action",
          "Comedy",
          "Action",
          "Action",
          "Action",
          "Drama",
          "Comedy",
          "Drama",
          "Action",
          "Comedy",
          "Action",
          "Drama",
          "Crime",
          "Drama",
          "Drama",
          "Action",
          "Action",
          "Comedy",
          "Action",
          "Action",
          "Drama",
          "Crime",
          "Action",
          "Crime",
          "Drama",
          "Adventure",
          "Comedy",
          "Crime",
          "Drama",
          "Comedy",
          "Comedy",
          "Crime",
          "Drama",
          "Comedy",
          "Crime",
          "Drama",
          "Crime",
          "Drama",
          "Action",
          "Biography",
          "Comedy",
          "Action",
          "Action",
          "Drama",
          "Action",
          "Comedy",
          "Comedy",
          "Action",
          "Action",
          "Action",
          "Comedy",
          "Comedy",
          "Comedy",
          "Action",
          "Drama",
          "Crime",
          "Action",
          "Action",
          "Drama",
          "Adventure",
          "Comedy",
          "Action",
          "Action",
          "Comedy",
          "Action",
          "Drama",
          "Comedy",
          "Comedy",
          "Crime",
          "Adventure",
          "Crime",
          "Drama",
          "Crime",
          "Drama",
          "Action",
          "Crime",
          "Crime",
          "Crime",
          "Crime",
          "Action",
          "Action",
          "Drama",
          "Comedy",
          "Biography",
          "Comedy",
          "Action",
          "Comedy",
          "Drama",
          "Comedy",
          "Drama",
          "Crime",
          "Drama",
          "Comedy",
          "Comedy",
          "Crime",
          "Drama",
          "Comedy",
          "Comedy",
          "Comedy",
          "Comedy",
          "Drama",
          "Action",
          "Action",
          "Action",
          "Comedy",
          "Crime",
          "Comedy",
          "Comedy",
          "Action",
          "Action",
          "Action",
          "Adventure",
          "Action",
          "Drama",
          "Drama",
          "Adventure",
          "Action",
          "Action",
          "Action",
          "Drama",
          "Action",
          "Comedy",
          "Action",
          "Crime",
          "Action",
          "Biography",
          "Action",
          "Comedy",
          "Action",
          "Comedy",
          "Drama",
          "Drama",
          "Drama",
          "Action",
          "Drama",
          "Action",
          "Action",
          "Comedy",
          "Action",
          "Action",
          "Drama",
          "Comedy",
          "Action",
          "Comedy",
          "Drama",
          "Action",
          "Action",
          "Comedy",
          "Comedy",
          "Action",
          "Drama",
          "Drama",
          "Comedy",
          "Crime",
          "Comedy",
          "Action",
          "Drama",
          "Comedy",
          "Comedy",
          "Action",
          "Action",
          "Comedy",
          "Comedy",
          "Action",
          "Crime",
          "Action",
          "Action",
          "Drama",
          "Mystery",
          "Action",
          "Comedy",
          "Action",
          "Action",
          "Biography",
          "Drama",
          "Drama",
          "Action",
          "Comedy",
          "Comedy",
          "Comedy",
          "Action",
          "Comedy",
          "Comedy",
          "Drama",
          "Drama",
          "Crime",
          "Action",
          "Drama",
          "Comedy",
          "Crime",
          "Comedy",
          "Crime",
          "Drama",
          "Drama",
          "Action",
          "Biography",
          "Comedy",
          "Comedy",
          "Drama",
          "Action",
          "Comedy",
          "Action",
          "Crime",
          "Drama",
          "Action",
          "Comedy",
          "Comedy",
          "Drama",
          "Action",
          "Biography",
          "Drama",
          "Action",
          "Comedy",
          "Action",
          "Comedy",
          "Action",
          "Comedy",
          "Action",
          "Drama",
          "Comedy",
          "Action",
          "Action",
          "Action",
          "Comedy",
          "Action",
          "Action",
          "Comedy",
          "Action",
          "Crime",
          "Biography",
          "Drama",
          "Comedy",
          "Crime",
          "Action",
          "Comedy",
          "Drama",
          "Action",
          "Action",
          "Comedy",
          "Drama",
          "Comedy",
          "Action",
          "Action",
          "Drama",
          "Drama",
          "Crime",
          "Drama",
          "Action",
          "Comedy",
          "Action",
          "Comedy",
          "Comedy",
          "Comedy",
          "Drama",
          "Comedy",
          "Comedy",
          "Action",
          "Action",
          "Comedy",
          "Drama",
          "Comedy",
          "Action",
          "Drama",
          "Musical",
          "Comedy",
          "Adventure",
          "Drama",
          "Crime",
          "Action",
          "Action",
          "Drama",
          "Crime",
          "Action",
          "Biography",
          "Comedy",
          "Drama",
          "Action",
          "Comedy",
          "Action",
          "Action",
          "Comedy",
          "Comedy",
          "Comedy",
          "Action",
          "Comedy",
          "Action",
          "Comedy",
          "Action",
          "Comedy",
          "Adventure",
          "Action",
          "Biography",
          "Drama",
          "Crime",
          "Crime",
          "Comedy",
          "Action",
          "Comedy",
          "Comedy",
          "Comedy",
          "Comedy",
          "Drama",
          "Biography",
          "Action",
          "Crime",
          "Action",
          "Comedy",
          "Comedy",
          "Action",
          "Crime",
          "Drama",
          "Action",
          "Action",
          "Comedy",
          "Drama",
          "Drama",
          "Action",
          "Crime",
          "Action",
          "Comedy",
          "Drama",
          "Drama",
          "Drama",
          "Action",
          "Action",
          "Action",
          "Comedy",
          "Drama",
          "Crime",
          "Action",
          "Comedy",
          "Comedy",
          "Comedy",
          "Drama",
          "Drama",
          "Action",
          "Comedy",
          "Biography",
          "Drama",
          "Action",
          "Drama",
          "Drama",
          "Action",
          "Crime",
          "Action",
          "Comedy",
          "Crime",
          "Action",
          "Comedy",
          "Drama",
          "Action",
          "Drama",
          "Drama",
          "Action",
          "Crime",
          "Mystery",
          "Comedy",
          "Action",
          "Drama",
          "Action",
          "Comedy",
          "Action",
          "Action",
          "Action",
          "Action",
          "Comedy",
          "Comedy",
          "Drama"
         ],
         "yaxis": "y"
        }
       ],
       "layout": {
        "barmode": "relative",
        "legend": {
         "tracegroupgap": 0
        },
        "margin": {
         "t": 60
        },
        "template": {
         "data": {
          "bar": [
           {
            "error_x": {
             "color": "#2a3f5f"
            },
            "error_y": {
             "color": "#2a3f5f"
            },
            "marker": {
             "line": {
              "color": "#E5ECF6",
              "width": 0.5
             },
             "pattern": {
              "fillmode": "overlay",
              "size": 10,
              "solidity": 0.2
             }
            },
            "type": "bar"
           }
          ],
          "barpolar": [
           {
            "marker": {
             "line": {
              "color": "#E5ECF6",
              "width": 0.5
             },
             "pattern": {
              "fillmode": "overlay",
              "size": 10,
              "solidity": 0.2
             }
            },
            "type": "barpolar"
           }
          ],
          "carpet": [
           {
            "aaxis": {
             "endlinecolor": "#2a3f5f",
             "gridcolor": "white",
             "linecolor": "white",
             "minorgridcolor": "white",
             "startlinecolor": "#2a3f5f"
            },
            "baxis": {
             "endlinecolor": "#2a3f5f",
             "gridcolor": "white",
             "linecolor": "white",
             "minorgridcolor": "white",
             "startlinecolor": "#2a3f5f"
            },
            "type": "carpet"
           }
          ],
          "choropleth": [
           {
            "colorbar": {
             "outlinewidth": 0,
             "ticks": ""
            },
            "type": "choropleth"
           }
          ],
          "contour": [
           {
            "colorbar": {
             "outlinewidth": 0,
             "ticks": ""
            },
            "colorscale": [
             [
              0,
              "#0d0887"
             ],
             [
              0.1111111111111111,
              "#46039f"
             ],
             [
              0.2222222222222222,
              "#7201a8"
             ],
             [
              0.3333333333333333,
              "#9c179e"
             ],
             [
              0.4444444444444444,
              "#bd3786"
             ],
             [
              0.5555555555555556,
              "#d8576b"
             ],
             [
              0.6666666666666666,
              "#ed7953"
             ],
             [
              0.7777777777777778,
              "#fb9f3a"
             ],
             [
              0.8888888888888888,
              "#fdca26"
             ],
             [
              1,
              "#f0f921"
             ]
            ],
            "type": "contour"
           }
          ],
          "contourcarpet": [
           {
            "colorbar": {
             "outlinewidth": 0,
             "ticks": ""
            },
            "type": "contourcarpet"
           }
          ],
          "heatmap": [
           {
            "colorbar": {
             "outlinewidth": 0,
             "ticks": ""
            },
            "colorscale": [
             [
              0,
              "#0d0887"
             ],
             [
              0.1111111111111111,
              "#46039f"
             ],
             [
              0.2222222222222222,
              "#7201a8"
             ],
             [
              0.3333333333333333,
              "#9c179e"
             ],
             [
              0.4444444444444444,
              "#bd3786"
             ],
             [
              0.5555555555555556,
              "#d8576b"
             ],
             [
              0.6666666666666666,
              "#ed7953"
             ],
             [
              0.7777777777777778,
              "#fb9f3a"
             ],
             [
              0.8888888888888888,
              "#fdca26"
             ],
             [
              1,
              "#f0f921"
             ]
            ],
            "type": "heatmap"
           }
          ],
          "heatmapgl": [
           {
            "colorbar": {
             "outlinewidth": 0,
             "ticks": ""
            },
            "colorscale": [
             [
              0,
              "#0d0887"
             ],
             [
              0.1111111111111111,
              "#46039f"
             ],
             [
              0.2222222222222222,
              "#7201a8"
             ],
             [
              0.3333333333333333,
              "#9c179e"
             ],
             [
              0.4444444444444444,
              "#bd3786"
             ],
             [
              0.5555555555555556,
              "#d8576b"
             ],
             [
              0.6666666666666666,
              "#ed7953"
             ],
             [
              0.7777777777777778,
              "#fb9f3a"
             ],
             [
              0.8888888888888888,
              "#fdca26"
             ],
             [
              1,
              "#f0f921"
             ]
            ],
            "type": "heatmapgl"
           }
          ],
          "histogram": [
           {
            "marker": {
             "pattern": {
              "fillmode": "overlay",
              "size": 10,
              "solidity": 0.2
             }
            },
            "type": "histogram"
           }
          ],
          "histogram2d": [
           {
            "colorbar": {
             "outlinewidth": 0,
             "ticks": ""
            },
            "colorscale": [
             [
              0,
              "#0d0887"
             ],
             [
              0.1111111111111111,
              "#46039f"
             ],
             [
              0.2222222222222222,
              "#7201a8"
             ],
             [
              0.3333333333333333,
              "#9c179e"
             ],
             [
              0.4444444444444444,
              "#bd3786"
             ],
             [
              0.5555555555555556,
              "#d8576b"
             ],
             [
              0.6666666666666666,
              "#ed7953"
             ],
             [
              0.7777777777777778,
              "#fb9f3a"
             ],
             [
              0.8888888888888888,
              "#fdca26"
             ],
             [
              1,
              "#f0f921"
             ]
            ],
            "type": "histogram2d"
           }
          ],
          "histogram2dcontour": [
           {
            "colorbar": {
             "outlinewidth": 0,
             "ticks": ""
            },
            "colorscale": [
             [
              0,
              "#0d0887"
             ],
             [
              0.1111111111111111,
              "#46039f"
             ],
             [
              0.2222222222222222,
              "#7201a8"
             ],
             [
              0.3333333333333333,
              "#9c179e"
             ],
             [
              0.4444444444444444,
              "#bd3786"
             ],
             [
              0.5555555555555556,
              "#d8576b"
             ],
             [
              0.6666666666666666,
              "#ed7953"
             ],
             [
              0.7777777777777778,
              "#fb9f3a"
             ],
             [
              0.8888888888888888,
              "#fdca26"
             ],
             [
              1,
              "#f0f921"
             ]
            ],
            "type": "histogram2dcontour"
           }
          ],
          "mesh3d": [
           {
            "colorbar": {
             "outlinewidth": 0,
             "ticks": ""
            },
            "type": "mesh3d"
           }
          ],
          "parcoords": [
           {
            "line": {
             "colorbar": {
              "outlinewidth": 0,
              "ticks": ""
             }
            },
            "type": "parcoords"
           }
          ],
          "pie": [
           {
            "automargin": true,
            "type": "pie"
           }
          ],
          "scatter": [
           {
            "marker": {
             "colorbar": {
              "outlinewidth": 0,
              "ticks": ""
             }
            },
            "type": "scatter"
           }
          ],
          "scatter3d": [
           {
            "line": {
             "colorbar": {
              "outlinewidth": 0,
              "ticks": ""
             }
            },
            "marker": {
             "colorbar": {
              "outlinewidth": 0,
              "ticks": ""
             }
            },
            "type": "scatter3d"
           }
          ],
          "scattercarpet": [
           {
            "marker": {
             "colorbar": {
              "outlinewidth": 0,
              "ticks": ""
             }
            },
            "type": "scattercarpet"
           }
          ],
          "scattergeo": [
           {
            "marker": {
             "colorbar": {
              "outlinewidth": 0,
              "ticks": ""
             }
            },
            "type": "scattergeo"
           }
          ],
          "scattergl": [
           {
            "marker": {
             "colorbar": {
              "outlinewidth": 0,
              "ticks": ""
             }
            },
            "type": "scattergl"
           }
          ],
          "scattermapbox": [
           {
            "marker": {
             "colorbar": {
              "outlinewidth": 0,
              "ticks": ""
             }
            },
            "type": "scattermapbox"
           }
          ],
          "scatterpolar": [
           {
            "marker": {
             "colorbar": {
              "outlinewidth": 0,
              "ticks": ""
             }
            },
            "type": "scatterpolar"
           }
          ],
          "scatterpolargl": [
           {
            "marker": {
             "colorbar": {
              "outlinewidth": 0,
              "ticks": ""
             }
            },
            "type": "scatterpolargl"
           }
          ],
          "scatterternary": [
           {
            "marker": {
             "colorbar": {
              "outlinewidth": 0,
              "ticks": ""
             }
            },
            "type": "scatterternary"
           }
          ],
          "surface": [
           {
            "colorbar": {
             "outlinewidth": 0,
             "ticks": ""
            },
            "colorscale": [
             [
              0,
              "#0d0887"
             ],
             [
              0.1111111111111111,
              "#46039f"
             ],
             [
              0.2222222222222222,
              "#7201a8"
             ],
             [
              0.3333333333333333,
              "#9c179e"
             ],
             [
              0.4444444444444444,
              "#bd3786"
             ],
             [
              0.5555555555555556,
              "#d8576b"
             ],
             [
              0.6666666666666666,
              "#ed7953"
             ],
             [
              0.7777777777777778,
              "#fb9f3a"
             ],
             [
              0.8888888888888888,
              "#fdca26"
             ],
             [
              1,
              "#f0f921"
             ]
            ],
            "type": "surface"
           }
          ],
          "table": [
           {
            "cells": {
             "fill": {
              "color": "#EBF0F8"
             },
             "line": {
              "color": "white"
             }
            },
            "header": {
             "fill": {
              "color": "#C8D4E3"
             },
             "line": {
              "color": "white"
             }
            },
            "type": "table"
           }
          ]
         },
         "layout": {
          "annotationdefaults": {
           "arrowcolor": "#2a3f5f",
           "arrowhead": 0,
           "arrowwidth": 1
          },
          "autotypenumbers": "strict",
          "coloraxis": {
           "colorbar": {
            "outlinewidth": 0,
            "ticks": ""
           }
          },
          "colorscale": {
           "diverging": [
            [
             0,
             "#8e0152"
            ],
            [
             0.1,
             "#c51b7d"
            ],
            [
             0.2,
             "#de77ae"
            ],
            [
             0.3,
             "#f1b6da"
            ],
            [
             0.4,
             "#fde0ef"
            ],
            [
             0.5,
             "#f7f7f7"
            ],
            [
             0.6,
             "#e6f5d0"
            ],
            [
             0.7,
             "#b8e186"
            ],
            [
             0.8,
             "#7fbc41"
            ],
            [
             0.9,
             "#4d9221"
            ],
            [
             1,
             "#276419"
            ]
           ],
           "sequential": [
            [
             0,
             "#0d0887"
            ],
            [
             0.1111111111111111,
             "#46039f"
            ],
            [
             0.2222222222222222,
             "#7201a8"
            ],
            [
             0.3333333333333333,
             "#9c179e"
            ],
            [
             0.4444444444444444,
             "#bd3786"
            ],
            [
             0.5555555555555556,
             "#d8576b"
            ],
            [
             0.6666666666666666,
             "#ed7953"
            ],
            [
             0.7777777777777778,
             "#fb9f3a"
            ],
            [
             0.8888888888888888,
             "#fdca26"
            ],
            [
             1,
             "#f0f921"
            ]
           ],
           "sequentialminus": [
            [
             0,
             "#0d0887"
            ],
            [
             0.1111111111111111,
             "#46039f"
            ],
            [
             0.2222222222222222,
             "#7201a8"
            ],
            [
             0.3333333333333333,
             "#9c179e"
            ],
            [
             0.4444444444444444,
             "#bd3786"
            ],
            [
             0.5555555555555556,
             "#d8576b"
            ],
            [
             0.6666666666666666,
             "#ed7953"
            ],
            [
             0.7777777777777778,
             "#fb9f3a"
            ],
            [
             0.8888888888888888,
             "#fdca26"
            ],
            [
             1,
             "#f0f921"
            ]
           ]
          },
          "colorway": [
           "#636efa",
           "#EF553B",
           "#00cc96",
           "#ab63fa",
           "#FFA15A",
           "#19d3f3",
           "#FF6692",
           "#B6E880",
           "#FF97FF",
           "#FECB52"
          ],
          "font": {
           "color": "#2a3f5f"
          },
          "geo": {
           "bgcolor": "white",
           "lakecolor": "white",
           "landcolor": "#E5ECF6",
           "showlakes": true,
           "showland": true,
           "subunitcolor": "white"
          },
          "hoverlabel": {
           "align": "left"
          },
          "hovermode": "closest",
          "mapbox": {
           "style": "light"
          },
          "paper_bgcolor": "white",
          "plot_bgcolor": "#E5ECF6",
          "polar": {
           "angularaxis": {
            "gridcolor": "white",
            "linecolor": "white",
            "ticks": ""
           },
           "bgcolor": "#E5ECF6",
           "radialaxis": {
            "gridcolor": "white",
            "linecolor": "white",
            "ticks": ""
           }
          },
          "scene": {
           "xaxis": {
            "backgroundcolor": "#E5ECF6",
            "gridcolor": "white",
            "gridwidth": 2,
            "linecolor": "white",
            "showbackground": true,
            "ticks": "",
            "zerolinecolor": "white"
           },
           "yaxis": {
            "backgroundcolor": "#E5ECF6",
            "gridcolor": "white",
            "gridwidth": 2,
            "linecolor": "white",
            "showbackground": true,
            "ticks": "",
            "zerolinecolor": "white"
           },
           "zaxis": {
            "backgroundcolor": "#E5ECF6",
            "gridcolor": "white",
            "gridwidth": 2,
            "linecolor": "white",
            "showbackground": true,
            "ticks": "",
            "zerolinecolor": "white"
           }
          },
          "shapedefaults": {
           "line": {
            "color": "#2a3f5f"
           }
          },
          "ternary": {
           "aaxis": {
            "gridcolor": "white",
            "linecolor": "white",
            "ticks": ""
           },
           "baxis": {
            "gridcolor": "white",
            "linecolor": "white",
            "ticks": ""
           },
           "bgcolor": "#E5ECF6",
           "caxis": {
            "gridcolor": "white",
            "linecolor": "white",
            "ticks": ""
           }
          },
          "title": {
           "x": 0.05
          },
          "xaxis": {
           "automargin": true,
           "gridcolor": "white",
           "linecolor": "white",
           "ticks": "",
           "title": {
            "standoff": 15
           },
           "zerolinecolor": "white",
           "zerolinewidth": 2
          },
          "yaxis": {
           "automargin": true,
           "gridcolor": "white",
           "linecolor": "white",
           "ticks": "",
           "title": {
            "standoff": 15
           },
           "zerolinecolor": "white",
           "zerolinewidth": 2
          }
         }
        },
        "xaxis": {
         "anchor": "y",
         "domain": [
          0,
          1
         ],
         "title": {
          "text": "director"
         }
        },
        "yaxis": {
         "anchor": "x",
         "domain": [
          0,
          1
         ],
         "title": {
          "text": "genre"
         }
        }
       }
      },
      "text/html": [
       "<div>                            <div id=\"ecc68324-4d8f-4c78-85f9-8862e176891a\" class=\"plotly-graph-div\" style=\"height:525px; width:100%;\"></div>            <script type=\"text/javascript\">                require([\"plotly\"], function(Plotly) {                    window.PLOTLYENV=window.PLOTLYENV || {};                                    if (document.getElementById(\"ecc68324-4d8f-4c78-85f9-8862e176891a\")) {                    Plotly.newPlot(                        \"ecc68324-4d8f-4c78-85f9-8862e176891a\",                        [{\"alignmentgroup\":\"True\",\"hovertemplate\":\"director=%{x}<br>genre=%{y}<extra></extra>\",\"legendgroup\":\"\",\"marker\":{\"color\":\"#636efa\",\"pattern\":{\"shape\":\"\"}},\"name\":\"\",\"offsetgroup\":\"\",\"orientation\":\"v\",\"showlegend\":false,\"textposition\":\"auto\",\"x\":[\"Aniruddha Roy Chowdhury\",\"Neeraj Ghaywan\",\"Meghna Gulzar\",\"Yash Chopra\",\"Shimit Amin\",\"Rajkumar Santoshi\",\"Nagesh Kukunoor\",\"Hrishikesh Mukherjee\",\"Nikkhil Advani\",\"Kundan Shah\",\"Dibakar Banerjee\",\"Rajkumar Hirani\",\"Nishikant Kamat\",\"Ram Gopal Varma\",\"Mukul Anand\",\"S.S. Rajamouli\",\"Gauri Shinde\",\"Vishal Bhardwaj\",\"Abhishek Chaubey\",\"K. Asif\",\"Kabir Khan\",\"Aamir Khan\",\"Sujoy Ghosh\",\"Farhan Akhtar\",\"Imtiaz Ali\",\"Karan Johar\",\"Mani Ratnam\",\"Yash Chopra\",\"Umesh Shukla\",\"Shekhar Kapur\",\"Vishal Bhardwaj\",\"Anurag Kashyap\",\"Anurag Kashyap\",\"Rakeysh Omprakash Mehra\",\"Ketan Mehta\",\"Mansoor Khan\",\"Ram Gopal Varma\",\"Zoya Akhtar\",\"Advait Chandan\",\"R. Balki\",\"Shoojit Sircar\",\"Mahesh Manjrekar\",\"Vijay Anand\",\"Neeraj Pandey\",\"Anurag Kashyap\",\"J.P. Dutta\",\"Neeraj Pandey\",\"Amit Ravindernath Sharma\",\"Ashutosh Gowariker\",\"Abhishek Kapoor\",\"John Mathew Matthan\",\"Dibakar Banerjee\",\"Meghna Gulzar\",\"Anurag Kashyap\",\"Vishal Bhardwaj\",\"S.S. Rajamouli\",\"Deepa Mehta\",\"Rajkumar Hirani\",\"Chandra Barot\",\"Vikas Bahl\",\"Rajkumar Hirani\",\"Sagar Ballary\",\"Mani Ratnam\",\"Rajat Kapoor\",\"Shakun Batra\",\"Raja Menon\",\"Sanjay Leela Bhansali\",\"Neeraj Pandey\",\"Aditya Chopra\",\"Rajkumar Hirani\",\"Ram Madhvani\",\"Tigmanshu Dhulia\",\"Shashant Shah\",\"Shoojit Sircar\",\"Anurag Kashyap\",\"Rakeysh Omprakash Mehra\",\"Ram Gopal Varma\",\"Nitesh Tiwari\",\"Kundan Shah\",\"Ramesh Sippy\",\"Ashutosh Gowariker\",\"Priyadarshan\",\"Hrishikesh Mukherjee\",\"Vikramaditya Motwane\",\"Saket Chaudhary\",\"S. Shankar\",\"Mehboob Khan\",\"Amit Masurkar\",\"Farhan Akhtar\",\"Sriram Raghavan\",\"Navdeep Singh\",\"Kamal Haasan\",\"Rajkumar Santoshi\",\"Hansal Mehta\",\"Shimit Amin\",\"Anurag Basu\",\"Prakash Jha\",\"Hrishikesh Mukherjee\",\"Yash Chopra\",\"Ritesh Batra\",\"Mukul Anand\",\"Shakun Batra\",\"Ravi Udyawar\",\"Priyadarshan\",\"Lawrence D'Souza\",\"Shimit Amin\",\"Rakeysh Omprakash Mehra\",\"Vikas Bahl\",\"Rajat Kapoor\",\"R. Balki\",\"Mira Nair\",\"Abhishek Kapoor\",\"Dibakar Banerjee\",\"Gautham Vasudev Menon\",\"Akarsh Khurana\",\"A.R. Murugadoss\",\"Mani Ratnam\",\"Sooraj R. Barjatya\",\"Hrishikesh Mukherjee\",\"Yash Chopra\",\"Nitesh Tiwari\",\"Rajkumar Santoshi\",\"Anurag Kashyap\",\"Aamir Khan\",\"Reema Kagti\",\"Imtiaz Ali\",\"Ram Gopal Varma\",\"Anurag Kashyap\",\"Vipul Amrutlal Shah\",\"Raaj Shaandilyaa\",\"Aanand L. Rai\",\"Zoya Akhtar\",\"Deepa Mehta\",\"S. Shankar\",\"Amit Masurkar\",\"Advait Chandan\",\"Pan Nalin\",\"Umesh Shukla\",\"Nikkhil Advani\",\"Anubhav Sinha\",\"Subhash Kapoor\",\"Mani Ratnam\",\"Raj Kumar Gupta\",\"Manmohan Desai\",\"Ramesh Sippy\",\"Farhan Akhtar\",\"Neeraj Pandey\",\"Vikramaditya Motwane\",\"Dibakar Banerjee\",\"Ashutosh Gowariker\",\"Anurag Kashyap\",\"Anurag Kashyap\",\"Madhur Bhandarkar\",\"Rajkumar Hirani\",\"Rajkumar Santoshi\",\"Ashutosh Gowariker\",\"Sudha Kongara\",\"Abhinay Deo\",\"Abbas Alibhai Burmawalla\",\"Sriram Raghavan\",\"Kundan Shah\",\"Vikramaditya Motwane\",\"Karan Johar\",\"Sidharth Malhotra\",\"Abbas Alibhai Burmawalla\",\"Neeraj Ghaywan\",\"Mansoor Khan\",\"Rajkumar Hirani\",\"Priyadarshan\",\"Rajkumar Hirani\",\"Shoojit Sircar\",\"Sanjay Leela Bhansali\",\"Vishal Bhardwaj\",\"Hrishikesh Mukherjee\",\"Ram Gopal Varma\",\"Vikram Bhatt\",\"Sooraj R. Barjatya\",\"Mansoor Khan\",\"S.S. Rajamouli\",\"Ashutosh Gowariker\",\"Ram Gopal Varma\",\"Neeraj Pandey\",\"Ram Madhvani\",\"Abhishek Chaubey\",\"Imtiaz Ali\",\"Trivikram Srinivas\",\"Abbas Tyrewala\",\"Ravi Chopra\",\"Anil Sharma\",\"Ashwiny Iyer Tiwari\",\"Aditya Dhar\",\"Tigmanshu Dhulia\",\"S. Shankar\",\"Shoojit Sircar\",\"Vishal Bhardwaj\",\"Sujoy Ghosh\",\"Anusha Rizvi\",\"Shekhar Kapur\",\"Milan Luthria\",\"Meghna Gulzar\",\"Mrighdeep Lamba\",\"Raj Kumar Gupta\",\"Rakeysh Omprakash Mehra\",\"Anurag Basu\",\"Gauri Shinde\",\"Ribhu Dasgupta\",\"Sagar Ballary\",\"Vijay Anand\",\"Bejoy Nambiar\",\"Shoojit Sircar\",\"Vipul Amrutlal Shah\",\"Shree Narayan Singh\",\"Yash Chopra\",\"Nishikant Kamat\",\"Aanand L. Rai\",\"Rajkumar Santoshi\",\"Raja Menon\",\"Pradeep Sarkar\",\"Sriram Raghavan\",\"Sriram Raghavan\",\"Sandeep Reddy Vanga\",\"Rohit Shetty\",\"Kundan Shah\",\"Shashant Shah\",\"Neeraj Pandey\",\"Amit Ravindernath Sharma\",\"Vivek Agnihotri\",\"Ketan Mehta\",\"Nitesh Tiwari\",\"Pradeep Sarkar\",\"Sankalp Reddy\",\"Kamal Haasan\",\"Abhishek Chaubey\",\"Nikkhil Advani\",\"Mohit Suri\",\"Sanjay Leela Bhansali\",\"Subhash Kapoor\",\"Abhishek Kapoor\",\"Mani Ratnam\",\"Anurag Basu\",\"Suresh Krishna\",\"Vikramaditya Motwane\",\"Kamal Haasan\",\"Sanjay Leela Bhansali\",\"Anand Gandhi\",\"John Mathew Matthan\",\"Chandra Barot\",\"Umesh Shukla\",\"Milan Luthria\",\"Navdeep Singh\",\"Hrishikesh Mukherjee\",\"Imtiaz Ali\",\"Mahesh Manjrekar\",\"Vishal Bhardwaj\",\"K. Asif\",\"Nishikant Kamat\",\"Imtiaz Ali\",\"Navdeep Singh\",\"Nagesh Kukunoor\",\"Karan Johar\",\"Maneesh Sharma\",\"Anurag Kashyap\",\"Shoojit Sircar\",\"Zoya Akhtar\",\"Ajay Bahl\",\"Karan Johar\",\"Meghna Gulzar\",\"Ratnaa Sinha\",\"Yash Chopra\",\"Hansal Mehta\",\"Shimit Amin\",\"Dibakar Banerjee\",\"S. Shankar\",\"Ritesh Batra\",\"Prakash Jha\",\"Dibakar Banerjee\",\"Sanjay Leela Bhansali\",\"S. Shankar\",\"Neeraj Pandey\",\"Kabir Khan\",\"Gauri Shinde\",\"Rajkumar Hirani\",\"Farhan Akhtar\",\"J.P. Dutta\",\"Shimit Amin\",\"Aniruddha Roy Chowdhury\",\"Mehboob Khan\",\"Vishal Bhardwaj\",\"Aditya Chopra\",\"Vikas Bahl\",\"Sharat Katariya\",\"S.S. Rajamouli\",\"Ram Gopal Varma\",\"Priyadarshan\",\"Abhishek Sharma\",\"Mani Ratnam\",\"Saket Chaudhary\",\"Ayan Mukherjee\",\"Anurag Kashyap\",\"Vikas Bahl\",\"Ajay Bahl\",\"Abhishek Kapoor\",\"Vipul Amrutlal Shah\",\"Vijay Anand\",\"Tigmanshu Dhulia\",\"Vishal Bhardwaj\",\"Navdeep Singh\",\"Nishikant Kamat\",\"Imtiaz Ali\",\"Neeraj Pandey\",\"Sudha Kongara\",\"Mani Ratnam\",\"Dibakar Banerjee\",\"Ram Madhvani\",\"Priyadarshan\",\"Ram Gopal Varma\",\"Saket Chaudhary\",\"Pradeep Sarkar\",\"Vipul Amrutlal Shah\",\"Deepa Mehta\",\"Aniruddha Roy Chowdhury\",\"Karan Johar\",\"Milan Luthria\",\"Rakeysh Omprakash Mehra\",\"Anurag Kashyap\",\"Sanjay Leela Bhansali\",\"Ram Gopal Varma\",\"Gauri Shinde\",\"Zoya Akhtar\",\"Rajkumar Hirani\",\"Imtiaz Ali\",\"Manmohan Desai\",\"Abhishek Sharma\",\"John Mathew Matthan\",\"Shree Narayan Singh\",\"Anurag Kashyap\",\"Farhan Akhtar\",\"Hrishikesh Mukherjee\",\"Trivikram Srinivas\",\"S.S. Rajamouli\",\"Yash Chopra\",\"Nishikant Kamat\",\"Shimit Amin\",\"Mani Ratnam\",\"Yash Chopra\",\"Akarsh Khurana\",\"Dibakar Banerjee\",\"Vishal Bhardwaj\",\"Mani Ratnam\",\"Ritesh Batra\",\"Kabir Khan\",\"Nitesh Tiwari\",\"Vishal Bhardwaj\",\"Neeraj Pandey\",\"Mohit Suri\",\"Rakeysh Omprakash Mehra\",\"Prakash Jha\",\"Umesh Shukla\",\"Sriram Raghavan\",\"Mansoor Khan\",\"Sanjay Leela Bhansali\",\"Sooraj R. Barjatya\",\"Vikramaditya Motwane\",\"S. Shankar\",\"Ribhu Dasgupta\",\"Rajkumar Santoshi\",\"Bejoy Nambiar\",\"Shakun Batra\",\"Dibakar Banerjee\",\"S. Shankar\",\"Mani Ratnam\",\"Anurag Kashyap\",\"Neeraj Pandey\",\"Kamal Haasan\",\"Lawrence D'Souza\",\"Milan Luthria\",\"Nitesh Tiwari\",\"Imtiaz Ali\",\"Abhishek Chaubey\",\"Navdeep Singh\",\"Anand Gandhi\",\"Aditya Chopra\",\"Amit Ravindernath Sharma\",\"Ravi Udyawar\",\"Shoojit Sircar\",\"S. Shankar\",\"Ratnaa Sinha\",\"Rajkumar Hirani\",\"Ashwiny Iyer Tiwari\",\"Ashutosh Gowariker\",\"Anil Sharma\",\"Sooraj R. Barjatya\",\"R. Balki\",\"Sankalp Reddy\",\"Dibakar Banerjee\",\"S.S. Rajamouli\",\"Suresh Krishna\",\"Abhishek Kapoor\",\"Sujoy Ghosh\",\"Yash Chopra\",\"Karan Johar\",\"Chandra Barot\",\"A.R. Murugadoss\",\"Ketan Mehta\",\"Shimit Amin\",\"Karan Johar\",\"Abhinay Deo\",\"Subhash Kapoor\",\"Priyadarshan\",\"Kundan Shah\",\"Pradeep Sarkar\",\"Rajkumar Hirani\",\"Raaj Shaandilyaa\",\"Madhur Bhandarkar\",\"Raja Menon\",\"Sriram Raghavan\",\"Farhan Akhtar\",\"Ashutosh Gowariker\",\"Rajat Kapoor\",\"Anubhav Sinha\",\"Umesh Shukla\",\"Anurag Kashyap\",\"Aamir Khan\",\"Vikramaditya Motwane\",\"Ramesh Sippy\",\"Hansal Mehta\",\"Mira Nair\",\"Sagar Ballary\",\"Zoya Akhtar\",\"Abhishek Chaubey\",\"Aanand L. Rai\",\"Sandeep Reddy Vanga\",\"Reema Kagti\",\"Aanand L. Rai\",\"Raj Kumar Gupta\",\"Sidharth Malhotra\",\"Kundan Shah\",\"Vikramaditya Motwane\",\"Anurag Kashyap\",\"Raj Kumar Gupta\",\"Sanjay Leela Bhansali\",\"Mehboob Khan\",\"Sharat Katariya\",\"Shekhar Kapur\",\"Abbas Tyrewala\",\"Vishal Bhardwaj\",\"Nikkhil Advani\",\"Mukul Anand\",\"Gauri Shinde\",\"Anusha Rizvi\",\"S. Shankar\",\"Nikkhil Advani\",\"Anurag Kashyap\",\"Subhash Kapoor\",\"Shoojit Sircar\",\"Rajkumar Santoshi\",\"Amit Masurkar\",\"Mahesh Manjrekar\",\"Kamal Haasan\",\"Neeraj Pandey\",\"K. Asif\",\"Imtiaz Ali\",\"Abbas Alibhai Burmawalla\",\"J.P. Dutta\",\"Shimit Amin\",\"Neeraj Ghaywan\",\"Meghna Gulzar\",\"Ram Gopal Varma\",\"Shashant Shah\",\"Mansoor Khan\",\"Anurag Basu\",\"Rohit Shetty\",\"Vikram Bhatt\",\"Vivek Agnihotri\",\"Hrishikesh Mukherjee\",\"Meghna Gulzar\",\"Shoojit Sircar\",\"Priyadarshan\",\"Ayan Mukherjee\",\"Abbas Alibhai Burmawalla\",\"Mrighdeep Lamba\",\"Vikas Bahl\",\"Hrishikesh Mukherjee\",\"Ashutosh Gowariker\",\"Sanjay Leela Bhansali\",\"Anurag Basu\",\"Ram Gopal Varma\",\"Rajkumar Santoshi\",\"Maneesh Sharma\",\"Ravi Chopra\",\"Shoojit Sircar\",\"Aditya Dhar\",\"Nagesh Kukunoor\",\"Gautham Vasudev Menon\",\"Rajkumar Hirani\",\"Pan Nalin\",\"Advait Chandan\",\"Sriram Raghavan\",\"Anurag Kashyap\",\"Chandra Barot\",\"Shimit Amin\",\"Vishal Bhardwaj\",\"Shoojit Sircar\",\"Rakeysh Omprakash Mehra\",\"Rajat Kapoor\",\"Ashutosh Gowariker\",\"Nitesh Tiwari\",\"Nikkhil Advani\",\"Meghna Gulzar\",\"Ram Gopal Varma\",\"Rajkumar Hirani\",\"R. Balki\",\"Zoya Akhtar\",\"Farhan Akhtar\",\"Imtiaz Ali\",\"Neeraj Pandey\",\"Rajkumar Hirani\",\"Vishal Bhardwaj\",\"Gauri Shinde\",\"Vikas Bahl\",\"Yash Chopra\",\"Ram Madhvani\",\"Karan Johar\",\"Navdeep Singh\",\"Anurag Kashyap\",\"Amit Masurkar\",\"Mehboob Khan\",\"Shoojit Sircar\",\"Dibakar Banerjee\",\"Kundan Shah\",\"Rajkumar Hirani\",\"Advait Chandan\",\"Ketan Mehta\",\"S.S. Rajamouli\",\"Meghna Gulzar\",\"Vishal Bhardwaj\",\"Mansoor Khan\",\"Anurag Kashyap\",\"Rajkumar Santoshi\",\"Kamal Haasan\",\"Vikramaditya Motwane\",\"Ramesh Sippy\",\"Neeraj Pandey\",\"Rakeysh Omprakash Mehra\",\"Yash Chopra\",\"Ashutosh Gowariker\",\"Shekhar Kapur\",\"Sriram Raghavan\",\"Ram Gopal Varma\",\"Hrishikesh Mukherjee\",\"Raja Menon\",\"Aamir Khan\",\"Neeraj Ghaywan\",\"Ram Gopal Varma\",\"Prakash Jha\",\"S.S. Rajamouli\",\"Anurag Basu\",\"Aditya Chopra\",\"Aniruddha Roy Chowdhury\",\"Rajkumar Santoshi\",\"Sagar Ballary\",\"Saket Chaudhary\",\"Amit Ravindernath Sharma\",\"Hrishikesh Mukherjee\",\"Mani Ratnam\",\"Shimit Amin\",\"Rajkumar Hirani\",\"Hansal Mehta\",\"Abhishek Kapoor\",\"Abhishek Chaubey\",\"Vijay Anand\",\"K. Asif\",\"Tigmanshu Dhulia\",\"Anurag Kashyap\",\"John Mathew Matthan\",\"Shashant Shah\",\"Neeraj Pandey\",\"Anurag Kashyap\",\"Farhan Akhtar\",\"Nagesh Kukunoor\",\"Mukul Anand\",\"Sanjay Leela Bhansali\",\"Mani Ratnam\",\"Yash Chopra\",\"Nishikant Kamat\",\"Sujoy Ghosh\",\"Umesh Shukla\",\"S. Shankar\",\"Deepa Mehta\",\"Priyadarshan\",\"Shakun Batra\",\"Kabir Khan\",\"J.P. Dutta\",\"Mahesh Manjrekar\",\"Dibakar Banerjee\",\"Hrishikesh Mukherjee\",\"Kundan Shah\",\"Ritesh Batra\"],\"xaxis\":\"x\",\"y\":[\"Crime\",\"Drama\",\"Crime\",\"Action\",\"Action\",\"Action\",\"Drama\",\"Comedy\",\"Comedy\",\"Comedy\",\"Action\",\"Comedy\",\"Crime\",\"Action\",\"Action\",\"Action\",\"Comedy\",\"Crime\",\"Action\",\"Drama\",\"Action\",\"Drama\",\"Mystery\",\"Action\",\"Comedy\",\"Drama\",\"Drama\",\"Drama\",\"Comedy\",\"Action\",\"Action\",\"Action\",\"Comedy\",\"Biography\",\"Biography\",\"Comedy\",\"Action\",\"Comedy\",\"Drama\",\"Comedy\",\"Comedy\",\"Action\",\"Drama\",\"Crime\",\"Action\",\"Action\",\"Action\",\"Comedy\",\"Drama\",\"Drama\",\"Action\",\"Comedy\",\"Action\",\"Crime\",\"Action\",\"Action\",\"Drama\",\"Comedy\",\"Action\",\"Adventure\",\"Comedy\",\"Comedy\",\"Drama\",\"Comedy\",\"Comedy\",\"Drama\",\"Drama\",\"Action\",\"Drama\",\"Comedy\",\"Biography\",\"Action\",\"Comedy\",\"Action\",\"Crime\",\"Comedy\",\"Action\",\"Action\",\"Comedy\",\"Action\",\"Drama\",\"Action\",\"Comedy\",\"Drama\",\"Comedy\",\"Action\",\"Action\",\"Comedy\",\"Comedy\",\"Crime\",\"Crime\",\"Crime\",\"Action\",\"Biography\",\"Drama\",\"Comedy\",\"Action\",\"Drama\",\"Action\",\"Drama\",\"Action\",\"Comedy\",\"Crime\",\"Action\",\"Drama\",\"Action\",\"Biography\",\"Comedy\",\"Comedy\",\"Comedy\",\"Comedy\",\"Drama\",\"Crime\",\"Musical\",\"Adventure\",\"Action\",\"Drama\",\"Drama\",\"Comedy\",\"Drama\",\"Comedy\",\"Action\",\"Comedy\",\"Drama\",\"Crime\",\"Comedy\",\"Comedy\",\"Action\",\"Crime\",\"Comedy\",\"Drama\",\"Drama\",\"Drama\",\"Action\",\"Comedy\",\"Drama\",\"Adventure\",\"Comedy\",\"Comedy\",\"Crime\",\"Comedy\",\"Drama\",\"Biography\",\"Action\",\"Action\",\"Action\",\"Crime\",\"Drama\",\"Action\",\"Drama\",\"Action\",\"Crime\",\"Drama\",\"Comedy\",\"Action\",\"Drama\",\"Action\",\"Action\",\"Crime\",\"Crime\",\"Comedy\",\"Drama\",\"Drama\",\"Comedy\",\"Action\",\"Drama\",\"Drama\",\"Comedy\",\"Comedy\",\"Comedy\",\"Comedy\",\"Drama\",\"Action\",\"Comedy\",\"Action\",\"Action\",\"Comedy\",\"Comedy\",\"Action\",\"Action\",\"Action\",\"Biography\",\"Biography\",\"Comedy\",\"Drama\",\"Action\",\"Comedy\",\"Drama\",\"Action\",\"Comedy\",\"Action\",\"Action\",\"Action\",\"Action\",\"Action\",\"Mystery\",\"Comedy\",\"Action\",\"Comedy\",\"Action\",\"Comedy\",\"Action\",\"Comedy\",\"Comedy\",\"Drama\",\"Drama\",\"Comedy\",\"Drama\",\"Action\",\"Comedy\",\"Comedy\",\"Comedy\",\"Action\",\"Crime\",\"Comedy\",\"Action\",\"Drama\",\"Action\",\"Action\",\"Crime\",\"Action\",\"Action\",\"Comedy\",\"Comedy\",\"Action\",\"Comedy\",\"Drama\",\"Biography\",\"Action\",\"Drama\",\"Action\",\"Comedy\",\"Action\",\"Action\",\"Action\",\"Drama\",\"Comedy\",\"Drama\",\"Action\",\"Comedy\",\"Action\",\"Drama\",\"Crime\",\"Drama\",\"Drama\",\"Action\",\"Action\",\"Comedy\",\"Action\",\"Action\",\"Drama\",\"Crime\",\"Action\",\"Crime\",\"Drama\",\"Adventure\",\"Comedy\",\"Crime\",\"Drama\",\"Comedy\",\"Comedy\",\"Crime\",\"Drama\",\"Comedy\",\"Crime\",\"Drama\",\"Crime\",\"Drama\",\"Action\",\"Biography\",\"Comedy\",\"Action\",\"Action\",\"Drama\",\"Action\",\"Comedy\",\"Comedy\",\"Action\",\"Action\",\"Action\",\"Comedy\",\"Comedy\",\"Comedy\",\"Action\",\"Drama\",\"Crime\",\"Action\",\"Action\",\"Drama\",\"Adventure\",\"Comedy\",\"Action\",\"Action\",\"Comedy\",\"Action\",\"Drama\",\"Comedy\",\"Comedy\",\"Crime\",\"Adventure\",\"Crime\",\"Drama\",\"Crime\",\"Drama\",\"Action\",\"Crime\",\"Crime\",\"Crime\",\"Crime\",\"Action\",\"Action\",\"Drama\",\"Comedy\",\"Biography\",\"Comedy\",\"Action\",\"Comedy\",\"Drama\",\"Comedy\",\"Drama\",\"Crime\",\"Drama\",\"Comedy\",\"Comedy\",\"Crime\",\"Drama\",\"Comedy\",\"Comedy\",\"Comedy\",\"Comedy\",\"Drama\",\"Action\",\"Action\",\"Action\",\"Comedy\",\"Crime\",\"Comedy\",\"Comedy\",\"Action\",\"Action\",\"Action\",\"Adventure\",\"Action\",\"Drama\",\"Drama\",\"Adventure\",\"Action\",\"Action\",\"Action\",\"Drama\",\"Action\",\"Comedy\",\"Action\",\"Crime\",\"Action\",\"Biography\",\"Action\",\"Comedy\",\"Action\",\"Comedy\",\"Drama\",\"Drama\",\"Drama\",\"Action\",\"Drama\",\"Action\",\"Action\",\"Comedy\",\"Action\",\"Action\",\"Drama\",\"Comedy\",\"Action\",\"Comedy\",\"Drama\",\"Action\",\"Action\",\"Comedy\",\"Comedy\",\"Action\",\"Drama\",\"Drama\",\"Comedy\",\"Crime\",\"Comedy\",\"Action\",\"Drama\",\"Comedy\",\"Comedy\",\"Action\",\"Action\",\"Comedy\",\"Comedy\",\"Action\",\"Crime\",\"Action\",\"Action\",\"Drama\",\"Mystery\",\"Action\",\"Comedy\",\"Action\",\"Action\",\"Biography\",\"Drama\",\"Drama\",\"Action\",\"Comedy\",\"Comedy\",\"Comedy\",\"Action\",\"Comedy\",\"Comedy\",\"Drama\",\"Drama\",\"Crime\",\"Action\",\"Drama\",\"Comedy\",\"Crime\",\"Comedy\",\"Crime\",\"Drama\",\"Drama\",\"Action\",\"Biography\",\"Comedy\",\"Comedy\",\"Drama\",\"Action\",\"Comedy\",\"Action\",\"Crime\",\"Drama\",\"Action\",\"Comedy\",\"Comedy\",\"Drama\",\"Action\",\"Biography\",\"Drama\",\"Action\",\"Comedy\",\"Action\",\"Comedy\",\"Action\",\"Comedy\",\"Action\",\"Drama\",\"Comedy\",\"Action\",\"Action\",\"Action\",\"Comedy\",\"Action\",\"Action\",\"Comedy\",\"Action\",\"Crime\",\"Biography\",\"Drama\",\"Comedy\",\"Crime\",\"Action\",\"Comedy\",\"Drama\",\"Action\",\"Action\",\"Comedy\",\"Drama\",\"Comedy\",\"Action\",\"Action\",\"Drama\",\"Drama\",\"Crime\",\"Drama\",\"Action\",\"Comedy\",\"Action\",\"Comedy\",\"Comedy\",\"Comedy\",\"Drama\",\"Comedy\",\"Comedy\",\"Action\",\"Action\",\"Comedy\",\"Drama\",\"Comedy\",\"Action\",\"Drama\",\"Musical\",\"Comedy\",\"Adventure\",\"Drama\",\"Crime\",\"Action\",\"Action\",\"Drama\",\"Crime\",\"Action\",\"Biography\",\"Comedy\",\"Drama\",\"Action\",\"Comedy\",\"Action\",\"Action\",\"Comedy\",\"Comedy\",\"Comedy\",\"Action\",\"Comedy\",\"Action\",\"Comedy\",\"Action\",\"Comedy\",\"Adventure\",\"Action\",\"Biography\",\"Drama\",\"Crime\",\"Crime\",\"Comedy\",\"Action\",\"Comedy\",\"Comedy\",\"Comedy\",\"Comedy\",\"Drama\",\"Biography\",\"Action\",\"Crime\",\"Action\",\"Comedy\",\"Comedy\",\"Action\",\"Crime\",\"Drama\",\"Action\",\"Action\",\"Comedy\",\"Drama\",\"Drama\",\"Action\",\"Crime\",\"Action\",\"Comedy\",\"Drama\",\"Drama\",\"Drama\",\"Action\",\"Action\",\"Action\",\"Comedy\",\"Drama\",\"Crime\",\"Action\",\"Comedy\",\"Comedy\",\"Comedy\",\"Drama\",\"Drama\",\"Action\",\"Comedy\",\"Biography\",\"Drama\",\"Action\",\"Drama\",\"Drama\",\"Action\",\"Crime\",\"Action\",\"Comedy\",\"Crime\",\"Action\",\"Comedy\",\"Drama\",\"Action\",\"Drama\",\"Drama\",\"Action\",\"Crime\",\"Mystery\",\"Comedy\",\"Action\",\"Drama\",\"Action\",\"Comedy\",\"Action\",\"Action\",\"Action\",\"Action\",\"Comedy\",\"Comedy\",\"Drama\"],\"yaxis\":\"y\",\"type\":\"bar\"}],                        {\"template\":{\"data\":{\"bar\":[{\"error_x\":{\"color\":\"#2a3f5f\"},\"error_y\":{\"color\":\"#2a3f5f\"},\"marker\":{\"line\":{\"color\":\"#E5ECF6\",\"width\":0.5},\"pattern\":{\"fillmode\":\"overlay\",\"size\":10,\"solidity\":0.2}},\"type\":\"bar\"}],\"barpolar\":[{\"marker\":{\"line\":{\"color\":\"#E5ECF6\",\"width\":0.5},\"pattern\":{\"fillmode\":\"overlay\",\"size\":10,\"solidity\":0.2}},\"type\":\"barpolar\"}],\"carpet\":[{\"aaxis\":{\"endlinecolor\":\"#2a3f5f\",\"gridcolor\":\"white\",\"linecolor\":\"white\",\"minorgridcolor\":\"white\",\"startlinecolor\":\"#2a3f5f\"},\"baxis\":{\"endlinecolor\":\"#2a3f5f\",\"gridcolor\":\"white\",\"linecolor\":\"white\",\"minorgridcolor\":\"white\",\"startlinecolor\":\"#2a3f5f\"},\"type\":\"carpet\"}],\"choropleth\":[{\"colorbar\":{\"outlinewidth\":0,\"ticks\":\"\"},\"type\":\"choropleth\"}],\"contour\":[{\"colorbar\":{\"outlinewidth\":0,\"ticks\":\"\"},\"colorscale\":[[0.0,\"#0d0887\"],[0.1111111111111111,\"#46039f\"],[0.2222222222222222,\"#7201a8\"],[0.3333333333333333,\"#9c179e\"],[0.4444444444444444,\"#bd3786\"],[0.5555555555555556,\"#d8576b\"],[0.6666666666666666,\"#ed7953\"],[0.7777777777777778,\"#fb9f3a\"],[0.8888888888888888,\"#fdca26\"],[1.0,\"#f0f921\"]],\"type\":\"contour\"}],\"contourcarpet\":[{\"colorbar\":{\"outlinewidth\":0,\"ticks\":\"\"},\"type\":\"contourcarpet\"}],\"heatmap\":[{\"colorbar\":{\"outlinewidth\":0,\"ticks\":\"\"},\"colorscale\":[[0.0,\"#0d0887\"],[0.1111111111111111,\"#46039f\"],[0.2222222222222222,\"#7201a8\"],[0.3333333333333333,\"#9c179e\"],[0.4444444444444444,\"#bd3786\"],[0.5555555555555556,\"#d8576b\"],[0.6666666666666666,\"#ed7953\"],[0.7777777777777778,\"#fb9f3a\"],[0.8888888888888888,\"#fdca26\"],[1.0,\"#f0f921\"]],\"type\":\"heatmap\"}],\"heatmapgl\":[{\"colorbar\":{\"outlinewidth\":0,\"ticks\":\"\"},\"colorscale\":[[0.0,\"#0d0887\"],[0.1111111111111111,\"#46039f\"],[0.2222222222222222,\"#7201a8\"],[0.3333333333333333,\"#9c179e\"],[0.4444444444444444,\"#bd3786\"],[0.5555555555555556,\"#d8576b\"],[0.6666666666666666,\"#ed7953\"],[0.7777777777777778,\"#fb9f3a\"],[0.8888888888888888,\"#fdca26\"],[1.0,\"#f0f921\"]],\"type\":\"heatmapgl\"}],\"histogram\":[{\"marker\":{\"pattern\":{\"fillmode\":\"overlay\",\"size\":10,\"solidity\":0.2}},\"type\":\"histogram\"}],\"histogram2d\":[{\"colorbar\":{\"outlinewidth\":0,\"ticks\":\"\"},\"colorscale\":[[0.0,\"#0d0887\"],[0.1111111111111111,\"#46039f\"],[0.2222222222222222,\"#7201a8\"],[0.3333333333333333,\"#9c179e\"],[0.4444444444444444,\"#bd3786\"],[0.5555555555555556,\"#d8576b\"],[0.6666666666666666,\"#ed7953\"],[0.7777777777777778,\"#fb9f3a\"],[0.8888888888888888,\"#fdca26\"],[1.0,\"#f0f921\"]],\"type\":\"histogram2d\"}],\"histogram2dcontour\":[{\"colorbar\":{\"outlinewidth\":0,\"ticks\":\"\"},\"colorscale\":[[0.0,\"#0d0887\"],[0.1111111111111111,\"#46039f\"],[0.2222222222222222,\"#7201a8\"],[0.3333333333333333,\"#9c179e\"],[0.4444444444444444,\"#bd3786\"],[0.5555555555555556,\"#d8576b\"],[0.6666666666666666,\"#ed7953\"],[0.7777777777777778,\"#fb9f3a\"],[0.8888888888888888,\"#fdca26\"],[1.0,\"#f0f921\"]],\"type\":\"histogram2dcontour\"}],\"mesh3d\":[{\"colorbar\":{\"outlinewidth\":0,\"ticks\":\"\"},\"type\":\"mesh3d\"}],\"parcoords\":[{\"line\":{\"colorbar\":{\"outlinewidth\":0,\"ticks\":\"\"}},\"type\":\"parcoords\"}],\"pie\":[{\"automargin\":true,\"type\":\"pie\"}],\"scatter\":[{\"marker\":{\"colorbar\":{\"outlinewidth\":0,\"ticks\":\"\"}},\"type\":\"scatter\"}],\"scatter3d\":[{\"line\":{\"colorbar\":{\"outlinewidth\":0,\"ticks\":\"\"}},\"marker\":{\"colorbar\":{\"outlinewidth\":0,\"ticks\":\"\"}},\"type\":\"scatter3d\"}],\"scattercarpet\":[{\"marker\":{\"colorbar\":{\"outlinewidth\":0,\"ticks\":\"\"}},\"type\":\"scattercarpet\"}],\"scattergeo\":[{\"marker\":{\"colorbar\":{\"outlinewidth\":0,\"ticks\":\"\"}},\"type\":\"scattergeo\"}],\"scattergl\":[{\"marker\":{\"colorbar\":{\"outlinewidth\":0,\"ticks\":\"\"}},\"type\":\"scattergl\"}],\"scattermapbox\":[{\"marker\":{\"colorbar\":{\"outlinewidth\":0,\"ticks\":\"\"}},\"type\":\"scattermapbox\"}],\"scatterpolar\":[{\"marker\":{\"colorbar\":{\"outlinewidth\":0,\"ticks\":\"\"}},\"type\":\"scatterpolar\"}],\"scatterpolargl\":[{\"marker\":{\"colorbar\":{\"outlinewidth\":0,\"ticks\":\"\"}},\"type\":\"scatterpolargl\"}],\"scatterternary\":[{\"marker\":{\"colorbar\":{\"outlinewidth\":0,\"ticks\":\"\"}},\"type\":\"scatterternary\"}],\"surface\":[{\"colorbar\":{\"outlinewidth\":0,\"ticks\":\"\"},\"colorscale\":[[0.0,\"#0d0887\"],[0.1111111111111111,\"#46039f\"],[0.2222222222222222,\"#7201a8\"],[0.3333333333333333,\"#9c179e\"],[0.4444444444444444,\"#bd3786\"],[0.5555555555555556,\"#d8576b\"],[0.6666666666666666,\"#ed7953\"],[0.7777777777777778,\"#fb9f3a\"],[0.8888888888888888,\"#fdca26\"],[1.0,\"#f0f921\"]],\"type\":\"surface\"}],\"table\":[{\"cells\":{\"fill\":{\"color\":\"#EBF0F8\"},\"line\":{\"color\":\"white\"}},\"header\":{\"fill\":{\"color\":\"#C8D4E3\"},\"line\":{\"color\":\"white\"}},\"type\":\"table\"}]},\"layout\":{\"annotationdefaults\":{\"arrowcolor\":\"#2a3f5f\",\"arrowhead\":0,\"arrowwidth\":1},\"autotypenumbers\":\"strict\",\"coloraxis\":{\"colorbar\":{\"outlinewidth\":0,\"ticks\":\"\"}},\"colorscale\":{\"diverging\":[[0,\"#8e0152\"],[0.1,\"#c51b7d\"],[0.2,\"#de77ae\"],[0.3,\"#f1b6da\"],[0.4,\"#fde0ef\"],[0.5,\"#f7f7f7\"],[0.6,\"#e6f5d0\"],[0.7,\"#b8e186\"],[0.8,\"#7fbc41\"],[0.9,\"#4d9221\"],[1,\"#276419\"]],\"sequential\":[[0.0,\"#0d0887\"],[0.1111111111111111,\"#46039f\"],[0.2222222222222222,\"#7201a8\"],[0.3333333333333333,\"#9c179e\"],[0.4444444444444444,\"#bd3786\"],[0.5555555555555556,\"#d8576b\"],[0.6666666666666666,\"#ed7953\"],[0.7777777777777778,\"#fb9f3a\"],[0.8888888888888888,\"#fdca26\"],[1.0,\"#f0f921\"]],\"sequentialminus\":[[0.0,\"#0d0887\"],[0.1111111111111111,\"#46039f\"],[0.2222222222222222,\"#7201a8\"],[0.3333333333333333,\"#9c179e\"],[0.4444444444444444,\"#bd3786\"],[0.5555555555555556,\"#d8576b\"],[0.6666666666666666,\"#ed7953\"],[0.7777777777777778,\"#fb9f3a\"],[0.8888888888888888,\"#fdca26\"],[1.0,\"#f0f921\"]]},\"colorway\":[\"#636efa\",\"#EF553B\",\"#00cc96\",\"#ab63fa\",\"#FFA15A\",\"#19d3f3\",\"#FF6692\",\"#B6E880\",\"#FF97FF\",\"#FECB52\"],\"font\":{\"color\":\"#2a3f5f\"},\"geo\":{\"bgcolor\":\"white\",\"lakecolor\":\"white\",\"landcolor\":\"#E5ECF6\",\"showlakes\":true,\"showland\":true,\"subunitcolor\":\"white\"},\"hoverlabel\":{\"align\":\"left\"},\"hovermode\":\"closest\",\"mapbox\":{\"style\":\"light\"},\"paper_bgcolor\":\"white\",\"plot_bgcolor\":\"#E5ECF6\",\"polar\":{\"angularaxis\":{\"gridcolor\":\"white\",\"linecolor\":\"white\",\"ticks\":\"\"},\"bgcolor\":\"#E5ECF6\",\"radialaxis\":{\"gridcolor\":\"white\",\"linecolor\":\"white\",\"ticks\":\"\"}},\"scene\":{\"xaxis\":{\"backgroundcolor\":\"#E5ECF6\",\"gridcolor\":\"white\",\"gridwidth\":2,\"linecolor\":\"white\",\"showbackground\":true,\"ticks\":\"\",\"zerolinecolor\":\"white\"},\"yaxis\":{\"backgroundcolor\":\"#E5ECF6\",\"gridcolor\":\"white\",\"gridwidth\":2,\"linecolor\":\"white\",\"showbackground\":true,\"ticks\":\"\",\"zerolinecolor\":\"white\"},\"zaxis\":{\"backgroundcolor\":\"#E5ECF6\",\"gridcolor\":\"white\",\"gridwidth\":2,\"linecolor\":\"white\",\"showbackground\":true,\"ticks\":\"\",\"zerolinecolor\":\"white\"}},\"shapedefaults\":{\"line\":{\"color\":\"#2a3f5f\"}},\"ternary\":{\"aaxis\":{\"gridcolor\":\"white\",\"linecolor\":\"white\",\"ticks\":\"\"},\"baxis\":{\"gridcolor\":\"white\",\"linecolor\":\"white\",\"ticks\":\"\"},\"bgcolor\":\"#E5ECF6\",\"caxis\":{\"gridcolor\":\"white\",\"linecolor\":\"white\",\"ticks\":\"\"}},\"title\":{\"x\":0.05},\"xaxis\":{\"automargin\":true,\"gridcolor\":\"white\",\"linecolor\":\"white\",\"ticks\":\"\",\"title\":{\"standoff\":15},\"zerolinecolor\":\"white\",\"zerolinewidth\":2},\"yaxis\":{\"automargin\":true,\"gridcolor\":\"white\",\"linecolor\":\"white\",\"ticks\":\"\",\"title\":{\"standoff\":15},\"zerolinecolor\":\"white\",\"zerolinewidth\":2}}},\"xaxis\":{\"anchor\":\"y\",\"domain\":[0.0,1.0],\"title\":{\"text\":\"director\"}},\"yaxis\":{\"anchor\":\"x\",\"domain\":[0.0,1.0],\"title\":{\"text\":\"genre\"}},\"legend\":{\"tracegroupgap\":0},\"margin\":{\"t\":60},\"barmode\":\"relative\"},                        {\"responsive\": true}                    ).then(function(){\n",
       "                            \n",
       "var gd = document.getElementById('ecc68324-4d8f-4c78-85f9-8862e176891a');\n",
       "var x = new MutationObserver(function (mutations, observer) {{\n",
       "        var display = window.getComputedStyle(gd).display;\n",
       "        if (!display || display === 'none') {{\n",
       "            console.log([gd, 'removed!']);\n",
       "            Plotly.purge(gd);\n",
       "            observer.disconnect();\n",
       "        }}\n",
       "}});\n",
       "\n",
       "// Listen for the removal of the full notebook cells\n",
       "var notebookContainer = gd.closest('#notebook-container');\n",
       "if (notebookContainer) {{\n",
       "    x.observe(notebookContainer, {childList: true});\n",
       "}}\n",
       "\n",
       "// Listen for the clearing of the current output cell\n",
       "var outputEl = gd.closest('.output');\n",
       "if (outputEl) {{\n",
       "    x.observe(outputEl, {childList: true});\n",
       "}}\n",
       "\n",
       "                        })                };                });            </script>        </div>"
      ]
     },
     "metadata": {},
     "output_type": "display_data"
    }
   ],
   "source": [
    "px.bar(df,x=\"director\",y=\"genre\")"
   ]
  },
  {
   "cell_type": "markdown",
   "metadata": {},
   "source": [
    "# Here the most comedy movies are directed by the \"Rajkumar hirani\",The graph i had used to find the director who directed most genre  movies.according to my observation most comedy were directed by the \"Rajkumar hirani\""
   ]
  },
  {
   "cell_type": "code",
   "execution_count": 27,
   "metadata": {},
   "outputs": [
    {
     "data": {
      "application/vnd.plotly.v1+json": {
       "config": {
        "plotlyServerURL": "https://plot.ly"
       },
       "data": [
        {
         "alignmentgroup": "True",
         "hovertemplate": "director=%{x}<br>rating=%{y}<extra></extra>",
         "legendgroup": "",
         "marker": {
          "color": "#636efa",
          "pattern": {
           "shape": ""
          }
         },
         "name": "",
         "offsetgroup": "",
         "orientation": "v",
         "showlegend": false,
         "textposition": "auto",
         "type": "bar",
         "x": [
          "Aniruddha Roy Chowdhury",
          "Neeraj Ghaywan",
          "Meghna Gulzar",
          "Yash Chopra",
          "Shimit Amin",
          "Rajkumar Santoshi",
          "Nagesh Kukunoor",
          "Hrishikesh Mukherjee",
          "Nikkhil Advani",
          "Kundan Shah",
          "Dibakar Banerjee",
          "Rajkumar Hirani",
          "Nishikant Kamat",
          "Ram Gopal Varma",
          "Mukul Anand",
          "S.S. Rajamouli",
          "Gauri Shinde",
          "Vishal Bhardwaj",
          "Abhishek Chaubey",
          "K. Asif",
          "Kabir Khan",
          "Aamir Khan",
          "Sujoy Ghosh",
          "Farhan Akhtar",
          "Imtiaz Ali",
          "Karan Johar",
          "Mani Ratnam",
          "Yash Chopra",
          "Umesh Shukla",
          "Shekhar Kapur",
          "Vishal Bhardwaj",
          "Anurag Kashyap",
          "Anurag Kashyap",
          "Rakeysh Omprakash Mehra",
          "Ketan Mehta",
          "Mansoor Khan",
          "Ram Gopal Varma",
          "Zoya Akhtar",
          "Advait Chandan",
          "R. Balki",
          "Shoojit Sircar",
          "Mahesh Manjrekar",
          "Vijay Anand",
          "Neeraj Pandey",
          "Anurag Kashyap",
          "J.P. Dutta",
          "Neeraj Pandey",
          "Amit Ravindernath Sharma",
          "Ashutosh Gowariker",
          "Abhishek Kapoor",
          "John Mathew Matthan",
          "Dibakar Banerjee",
          "Meghna Gulzar",
          "Anurag Kashyap",
          "Vishal Bhardwaj",
          "S.S. Rajamouli",
          "Deepa Mehta",
          "Rajkumar Hirani",
          "Chandra Barot",
          "Vikas Bahl",
          "Rajkumar Hirani",
          "Sagar Ballary",
          "Mani Ratnam",
          "Rajat Kapoor",
          "Shakun Batra",
          "Raja Menon",
          "Sanjay Leela Bhansali",
          "Neeraj Pandey",
          "Aditya Chopra",
          "Rajkumar Hirani",
          "Ram Madhvani",
          "Tigmanshu Dhulia",
          "Shashant Shah",
          "Shoojit Sircar",
          "Anurag Kashyap",
          "Rakeysh Omprakash Mehra",
          "Ram Gopal Varma",
          "Nitesh Tiwari",
          "Kundan Shah",
          "Ramesh Sippy",
          "Ashutosh Gowariker",
          "Priyadarshan",
          "Hrishikesh Mukherjee",
          "Vikramaditya Motwane",
          "Saket Chaudhary",
          "S. Shankar",
          "Mehboob Khan",
          "Amit Masurkar",
          "Farhan Akhtar",
          "Sriram Raghavan",
          "Navdeep Singh",
          "Kamal Haasan",
          "Rajkumar Santoshi",
          "Hansal Mehta",
          "Shimit Amin",
          "Anurag Basu",
          "Prakash Jha",
          "Hrishikesh Mukherjee",
          "Yash Chopra",
          "Ritesh Batra",
          "Mukul Anand",
          "Shakun Batra",
          "Ravi Udyawar",
          "Priyadarshan",
          "Lawrence D'Souza",
          "Shimit Amin",
          "Rakeysh Omprakash Mehra",
          "Vikas Bahl",
          "Rajat Kapoor",
          "R. Balki",
          "Mira Nair",
          "Abhishek Kapoor",
          "Dibakar Banerjee",
          "Gautham Vasudev Menon",
          "Akarsh Khurana",
          "A.R. Murugadoss",
          "Mani Ratnam",
          "Sooraj R. Barjatya",
          "Hrishikesh Mukherjee",
          "Yash Chopra",
          "Nitesh Tiwari",
          "Rajkumar Santoshi",
          "Anurag Kashyap",
          "Aamir Khan",
          "Reema Kagti",
          "Imtiaz Ali",
          "Ram Gopal Varma",
          "Anurag Kashyap",
          "Vipul Amrutlal Shah",
          "Raaj Shaandilyaa",
          "Aanand L. Rai",
          "Zoya Akhtar",
          "Deepa Mehta",
          "S. Shankar",
          "Amit Masurkar",
          "Advait Chandan",
          "Pan Nalin",
          "Umesh Shukla",
          "Nikkhil Advani",
          "Anubhav Sinha",
          "Subhash Kapoor",
          "Mani Ratnam",
          "Raj Kumar Gupta",
          "Manmohan Desai",
          "Ramesh Sippy",
          "Farhan Akhtar",
          "Neeraj Pandey",
          "Vikramaditya Motwane",
          "Dibakar Banerjee",
          "Ashutosh Gowariker",
          "Anurag Kashyap",
          "Anurag Kashyap",
          "Madhur Bhandarkar",
          "Rajkumar Hirani",
          "Rajkumar Santoshi",
          "Ashutosh Gowariker",
          "Sudha Kongara",
          "Abhinay Deo",
          "Abbas Alibhai Burmawalla",
          "Sriram Raghavan",
          "Kundan Shah",
          "Vikramaditya Motwane",
          "Karan Johar",
          "Sidharth Malhotra",
          "Abbas Alibhai Burmawalla",
          "Neeraj Ghaywan",
          "Mansoor Khan",
          "Rajkumar Hirani",
          "Priyadarshan",
          "Rajkumar Hirani",
          "Shoojit Sircar",
          "Sanjay Leela Bhansali",
          "Vishal Bhardwaj",
          "Hrishikesh Mukherjee",
          "Ram Gopal Varma",
          "Vikram Bhatt",
          "Sooraj R. Barjatya",
          "Mansoor Khan",
          "S.S. Rajamouli",
          "Ashutosh Gowariker",
          "Ram Gopal Varma",
          "Neeraj Pandey",
          "Ram Madhvani",
          "Abhishek Chaubey",
          "Imtiaz Ali",
          "Trivikram Srinivas",
          "Abbas Tyrewala",
          "Ravi Chopra",
          "Anil Sharma",
          "Ashwiny Iyer Tiwari",
          "Aditya Dhar",
          "Tigmanshu Dhulia",
          "S. Shankar",
          "Shoojit Sircar",
          "Vishal Bhardwaj",
          "Sujoy Ghosh",
          "Anusha Rizvi",
          "Shekhar Kapur",
          "Milan Luthria",
          "Meghna Gulzar",
          "Mrighdeep Lamba",
          "Raj Kumar Gupta",
          "Rakeysh Omprakash Mehra",
          "Anurag Basu",
          "Gauri Shinde",
          "Ribhu Dasgupta",
          "Sagar Ballary",
          "Vijay Anand",
          "Bejoy Nambiar",
          "Shoojit Sircar",
          "Vipul Amrutlal Shah",
          "Shree Narayan Singh",
          "Yash Chopra",
          "Nishikant Kamat",
          "Aanand L. Rai",
          "Rajkumar Santoshi",
          "Raja Menon",
          "Pradeep Sarkar",
          "Sriram Raghavan",
          "Sriram Raghavan",
          "Sandeep Reddy Vanga",
          "Rohit Shetty",
          "Kundan Shah",
          "Shashant Shah",
          "Neeraj Pandey",
          "Amit Ravindernath Sharma",
          "Vivek Agnihotri",
          "Ketan Mehta",
          "Nitesh Tiwari",
          "Pradeep Sarkar",
          "Sankalp Reddy",
          "Kamal Haasan",
          "Abhishek Chaubey",
          "Nikkhil Advani",
          "Mohit Suri",
          "Sanjay Leela Bhansali",
          "Subhash Kapoor",
          "Abhishek Kapoor",
          "Mani Ratnam",
          "Anurag Basu",
          "Suresh Krishna",
          "Vikramaditya Motwane",
          "Kamal Haasan",
          "Sanjay Leela Bhansali",
          "Anand Gandhi",
          "John Mathew Matthan",
          "Chandra Barot",
          "Umesh Shukla",
          "Milan Luthria",
          "Navdeep Singh",
          "Hrishikesh Mukherjee",
          "Imtiaz Ali",
          "Mahesh Manjrekar",
          "Vishal Bhardwaj",
          "K. Asif",
          "Nishikant Kamat",
          "Imtiaz Ali",
          "Navdeep Singh",
          "Nagesh Kukunoor",
          "Karan Johar",
          "Maneesh Sharma",
          "Anurag Kashyap",
          "Shoojit Sircar",
          "Zoya Akhtar",
          "Ajay Bahl",
          "Karan Johar",
          "Meghna Gulzar",
          "Ratnaa Sinha",
          "Yash Chopra",
          "Hansal Mehta",
          "Shimit Amin",
          "Dibakar Banerjee",
          "S. Shankar",
          "Ritesh Batra",
          "Prakash Jha",
          "Dibakar Banerjee",
          "Sanjay Leela Bhansali",
          "S. Shankar",
          "Neeraj Pandey",
          "Kabir Khan",
          "Gauri Shinde",
          "Rajkumar Hirani",
          "Farhan Akhtar",
          "J.P. Dutta",
          "Shimit Amin",
          "Aniruddha Roy Chowdhury",
          "Mehboob Khan",
          "Vishal Bhardwaj",
          "Aditya Chopra",
          "Vikas Bahl",
          "Sharat Katariya",
          "S.S. Rajamouli",
          "Ram Gopal Varma",
          "Priyadarshan",
          "Abhishek Sharma",
          "Mani Ratnam",
          "Saket Chaudhary",
          "Ayan Mukherjee",
          "Anurag Kashyap",
          "Vikas Bahl",
          "Ajay Bahl",
          "Abhishek Kapoor",
          "Vipul Amrutlal Shah",
          "Vijay Anand",
          "Tigmanshu Dhulia",
          "Vishal Bhardwaj",
          "Navdeep Singh",
          "Nishikant Kamat",
          "Imtiaz Ali",
          "Neeraj Pandey",
          "Sudha Kongara",
          "Mani Ratnam",
          "Dibakar Banerjee",
          "Ram Madhvani",
          "Priyadarshan",
          "Ram Gopal Varma",
          "Saket Chaudhary",
          "Pradeep Sarkar",
          "Vipul Amrutlal Shah",
          "Deepa Mehta",
          "Aniruddha Roy Chowdhury",
          "Karan Johar",
          "Milan Luthria",
          "Rakeysh Omprakash Mehra",
          "Anurag Kashyap",
          "Sanjay Leela Bhansali",
          "Ram Gopal Varma",
          "Gauri Shinde",
          "Zoya Akhtar",
          "Rajkumar Hirani",
          "Imtiaz Ali",
          "Manmohan Desai",
          "Abhishek Sharma",
          "John Mathew Matthan",
          "Shree Narayan Singh",
          "Anurag Kashyap",
          "Farhan Akhtar",
          "Hrishikesh Mukherjee",
          "Trivikram Srinivas",
          "S.S. Rajamouli",
          "Yash Chopra",
          "Nishikant Kamat",
          "Shimit Amin",
          "Mani Ratnam",
          "Yash Chopra",
          "Akarsh Khurana",
          "Dibakar Banerjee",
          "Vishal Bhardwaj",
          "Mani Ratnam",
          "Ritesh Batra",
          "Kabir Khan",
          "Nitesh Tiwari",
          "Vishal Bhardwaj",
          "Neeraj Pandey",
          "Mohit Suri",
          "Rakeysh Omprakash Mehra",
          "Prakash Jha",
          "Umesh Shukla",
          "Sriram Raghavan",
          "Mansoor Khan",
          "Sanjay Leela Bhansali",
          "Sooraj R. Barjatya",
          "Vikramaditya Motwane",
          "S. Shankar",
          "Ribhu Dasgupta",
          "Rajkumar Santoshi",
          "Bejoy Nambiar",
          "Shakun Batra",
          "Dibakar Banerjee",
          "S. Shankar",
          "Mani Ratnam",
          "Anurag Kashyap",
          "Neeraj Pandey",
          "Kamal Haasan",
          "Lawrence D'Souza",
          "Milan Luthria",
          "Nitesh Tiwari",
          "Imtiaz Ali",
          "Abhishek Chaubey",
          "Navdeep Singh",
          "Anand Gandhi",
          "Aditya Chopra",
          "Amit Ravindernath Sharma",
          "Ravi Udyawar",
          "Shoojit Sircar",
          "S. Shankar",
          "Ratnaa Sinha",
          "Rajkumar Hirani",
          "Ashwiny Iyer Tiwari",
          "Ashutosh Gowariker",
          "Anil Sharma",
          "Sooraj R. Barjatya",
          "R. Balki",
          "Sankalp Reddy",
          "Dibakar Banerjee",
          "S.S. Rajamouli",
          "Suresh Krishna",
          "Abhishek Kapoor",
          "Sujoy Ghosh",
          "Yash Chopra",
          "Karan Johar",
          "Chandra Barot",
          "A.R. Murugadoss",
          "Ketan Mehta",
          "Shimit Amin",
          "Karan Johar",
          "Abhinay Deo",
          "Subhash Kapoor",
          "Priyadarshan",
          "Kundan Shah",
          "Pradeep Sarkar",
          "Rajkumar Hirani",
          "Raaj Shaandilyaa",
          "Madhur Bhandarkar",
          "Raja Menon",
          "Sriram Raghavan",
          "Farhan Akhtar",
          "Ashutosh Gowariker",
          "Rajat Kapoor",
          "Anubhav Sinha",
          "Umesh Shukla",
          "Anurag Kashyap",
          "Aamir Khan",
          "Vikramaditya Motwane",
          "Ramesh Sippy",
          "Hansal Mehta",
          "Mira Nair",
          "Sagar Ballary",
          "Zoya Akhtar",
          "Abhishek Chaubey",
          "Aanand L. Rai",
          "Sandeep Reddy Vanga",
          "Reema Kagti",
          "Aanand L. Rai",
          "Raj Kumar Gupta",
          "Sidharth Malhotra",
          "Kundan Shah",
          "Vikramaditya Motwane",
          "Anurag Kashyap",
          "Raj Kumar Gupta",
          "Sanjay Leela Bhansali",
          "Mehboob Khan",
          "Sharat Katariya",
          "Shekhar Kapur",
          "Abbas Tyrewala",
          "Vishal Bhardwaj",
          "Nikkhil Advani",
          "Mukul Anand",
          "Gauri Shinde",
          "Anusha Rizvi",
          "S. Shankar",
          "Nikkhil Advani",
          "Anurag Kashyap",
          "Subhash Kapoor",
          "Shoojit Sircar",
          "Rajkumar Santoshi",
          "Amit Masurkar",
          "Mahesh Manjrekar",
          "Kamal Haasan",
          "Neeraj Pandey",
          "K. Asif",
          "Imtiaz Ali",
          "Abbas Alibhai Burmawalla",
          "J.P. Dutta",
          "Shimit Amin",
          "Neeraj Ghaywan",
          "Meghna Gulzar",
          "Ram Gopal Varma",
          "Shashant Shah",
          "Mansoor Khan",
          "Anurag Basu",
          "Rohit Shetty",
          "Vikram Bhatt",
          "Vivek Agnihotri",
          "Hrishikesh Mukherjee",
          "Meghna Gulzar",
          "Shoojit Sircar",
          "Priyadarshan",
          "Ayan Mukherjee",
          "Abbas Alibhai Burmawalla",
          "Mrighdeep Lamba",
          "Vikas Bahl",
          "Hrishikesh Mukherjee",
          "Ashutosh Gowariker",
          "Sanjay Leela Bhansali",
          "Anurag Basu",
          "Ram Gopal Varma",
          "Rajkumar Santoshi",
          "Maneesh Sharma",
          "Ravi Chopra",
          "Shoojit Sircar",
          "Aditya Dhar",
          "Nagesh Kukunoor",
          "Gautham Vasudev Menon",
          "Rajkumar Hirani",
          "Pan Nalin",
          "Advait Chandan",
          "Sriram Raghavan",
          "Anurag Kashyap",
          "Chandra Barot",
          "Shimit Amin",
          "Vishal Bhardwaj",
          "Shoojit Sircar",
          "Rakeysh Omprakash Mehra",
          "Rajat Kapoor",
          "Ashutosh Gowariker",
          "Nitesh Tiwari",
          "Nikkhil Advani",
          "Meghna Gulzar",
          "Ram Gopal Varma",
          "Rajkumar Hirani",
          "R. Balki",
          "Zoya Akhtar",
          "Farhan Akhtar",
          "Imtiaz Ali",
          "Neeraj Pandey",
          "Rajkumar Hirani",
          "Vishal Bhardwaj",
          "Gauri Shinde",
          "Vikas Bahl",
          "Yash Chopra",
          "Ram Madhvani",
          "Karan Johar",
          "Navdeep Singh",
          "Anurag Kashyap",
          "Amit Masurkar",
          "Mehboob Khan",
          "Shoojit Sircar",
          "Dibakar Banerjee",
          "Kundan Shah",
          "Rajkumar Hirani",
          "Advait Chandan",
          "Ketan Mehta",
          "S.S. Rajamouli",
          "Meghna Gulzar",
          "Vishal Bhardwaj",
          "Mansoor Khan",
          "Anurag Kashyap",
          "Rajkumar Santoshi",
          "Kamal Haasan",
          "Vikramaditya Motwane",
          "Ramesh Sippy",
          "Neeraj Pandey",
          "Rakeysh Omprakash Mehra",
          "Yash Chopra",
          "Ashutosh Gowariker",
          "Shekhar Kapur",
          "Sriram Raghavan",
          "Ram Gopal Varma",
          "Hrishikesh Mukherjee",
          "Raja Menon",
          "Aamir Khan",
          "Neeraj Ghaywan",
          "Ram Gopal Varma",
          "Prakash Jha",
          "S.S. Rajamouli",
          "Anurag Basu",
          "Aditya Chopra",
          "Aniruddha Roy Chowdhury",
          "Rajkumar Santoshi",
          "Sagar Ballary",
          "Saket Chaudhary",
          "Amit Ravindernath Sharma",
          "Hrishikesh Mukherjee",
          "Mani Ratnam",
          "Shimit Amin",
          "Rajkumar Hirani",
          "Hansal Mehta",
          "Abhishek Kapoor",
          "Abhishek Chaubey",
          "Vijay Anand",
          "K. Asif",
          "Tigmanshu Dhulia",
          "Anurag Kashyap",
          "John Mathew Matthan",
          "Shashant Shah",
          "Neeraj Pandey",
          "Anurag Kashyap",
          "Farhan Akhtar",
          "Nagesh Kukunoor",
          "Mukul Anand",
          "Sanjay Leela Bhansali",
          "Mani Ratnam",
          "Yash Chopra",
          "Nishikant Kamat",
          "Sujoy Ghosh",
          "Umesh Shukla",
          "S. Shankar",
          "Deepa Mehta",
          "Priyadarshan",
          "Shakun Batra",
          "Kabir Khan",
          "J.P. Dutta",
          "Mahesh Manjrekar",
          "Dibakar Banerjee",
          "Hrishikesh Mukherjee",
          "Kundan Shah",
          "Ritesh Batra"
         ],
         "xaxis": "x",
         "y": [
          8.1,
          8.2,
          8.2,
          8.1,
          7.8,
          8.1,
          8.1,
          8.3,
          7.9,
          7.8,
          7.7,
          8.1,
          8.2,
          8,
          7.7,
          8,
          7.8,
          8.1,
          7.8,
          8.2,
          8,
          8.4,
          8.1,
          7.9,
          7.9,
          8,
          8.2,
          7.8,
          8.1,
          7.8,
          8.1,
          8.2,
          8,
          8.2,
          8,
          8.2,
          8.3,
          8.2,
          7.8,
          7.9,
          7.8,
          8,
          8.4,
          8,
          8.5,
          7.9,
          8,
          8,
          8.2,
          7.7,
          8.1,
          8.3,
          7.8,
          8.1,
          8.1,
          8.2,
          7.7,
          8.1,
          7.8,
          8.2,
          8.4,
          7.6,
          7.7,
          8,
          7.7,
          8,
          8.2,
          8.1,
          8.1,
          8.1,
          7.6,
          8.2,
          7.8,
          7.7,
          8,
          8.1,
          7.6,
          8.4,
          8.4,
          8.2,
          8.1,
          8.2,
          8.6,
          8.2,
          7.9,
          7.8,
          8,
          7.7,
          8.1,
          7.8,
          7.6,
          8,
          8.1,
          8.2,
          8.2,
          8.1,
          7.8,
          8.2,
          7.8,
          7.8,
          7.7,
          7.7,
          7.3,
          8.2,
          7.3,
          7.8,
          8.2,
          7.5,
          8,
          7.9,
          7.4,
          7.8,
          7.2,
          7.6,
          7.6,
          7.4,
          7.6,
          7.3,
          8.6,
          7.8,
          8.3,
          8.1,
          8,
          8.4,
          7.2,
          7.9,
          7.5,
          8.5,
          7.4,
          7,
          7.6,
          7.9,
          7.7,
          8.3,
          7.7,
          7.8,
          7.7,
          8.1,
          7.9,
          8.2,
          7.6,
          8.2,
          7.2,
          7.5,
          8.2,
          7.9,
          8,
          7.6,
          7.7,
          8.2,
          8.2,
          8,
          7.3,
          8.4,
          8.1,
          8.1,
          7.6,
          7.6,
          7.7,
          7.8,
          8.4,
          7.3,
          7.4,
          7.5,
          7.2,
          8.2,
          7.5,
          8.1,
          7.6,
          8.1,
          7.8,
          7.6,
          8.1,
          8.3,
          8,
          7.3,
          7.5,
          8.2,
          8,
          7.6,
          7.6,
          8,
          7.6,
          7.3,
          7.7,
          7.6,
          7.5,
          7.4,
          7.3,
          7.5,
          8.3,
          8.2,
          7.5,
          7.7,
          8.1,
          8.1,
          7.4,
          7.8,
          7.3,
          7.8,
          6.9,
          7.4,
          8.1,
          7.4,
          7.5,
          7.3,
          7.6,
          8.4,
          7.2,
          7.6,
          7.1,
          7.2,
          7.8,
          8.2,
          7.6,
          7.4,
          8,
          7.3,
          7.4,
          7.5,
          7.1,
          7.5,
          7.8,
          7.8,
          8.1,
          8,
          7.9,
          8,
          8.4,
          7.2,
          7.6,
          7.4,
          7.8,
          7.2,
          7.3,
          8.2,
          7.2,
          7.7,
          7.4,
          8.1,
          8.3,
          8.2,
          8,
          7.5,
          8.1,
          8.1,
          7.8,
          7.5,
          7.4,
          7.2,
          8.2,
          7.6,
          8,
          8.1,
          8.2,
          7.6,
          7.4,
          7.6,
          8.1,
          7.6,
          7.2,
          8.1,
          7.5,
          8.2,
          8.1,
          8,
          8.2,
          7.6,
          8.1,
          8.2,
          7.5,
          7.7,
          7.8,
          7.8,
          7.8,
          8.3,
          7.5,
          8.1,
          8,
          8,
          7.8,
          8.1,
          8.1,
          7.9,
          8.2,
          8.1,
          8,
          7.4,
          8.1,
          8.2,
          7.5,
          8.2,
          8.3,
          7.3,
          7.6,
          7.7,
          7.9,
          7.6,
          7.4,
          8.2,
          8.1,
          7.7,
          7.4,
          8.4,
          8.2,
          8.1,
          7.6,
          8.2,
          7.6,
          8,
          7.6,
          8.2,
          8.3,
          7.6,
          7.6,
          7.6,
          7.9,
          7.2,
          7.1,
          7.7,
          8.1,
          8,
          7.3,
          8.1,
          8.1,
          7.6,
          7.5,
          7.8,
          8.2,
          8.4,
          7.7,
          7.5,
          7.6,
          8.1,
          7.2,
          7.4,
          8.1,
          8.3,
          7.6,
          8,
          7.8,
          7.6,
          7.8,
          7.7,
          7.8,
          7.6,
          7.7,
          7.4,
          7.4,
          7.8,
          8,
          8.3,
          8.1,
          8,
          7.3,
          8.2,
          7.8,
          7.5,
          7.4,
          8.2,
          7.5,
          7.3,
          7.6,
          8.3,
          7.3,
          7.4,
          7.2,
          7.7,
          7.7,
          8.1,
          7.6,
          8,
          8.1,
          7.4,
          7.3,
          7.4,
          8.4,
          7.9,
          7.3,
          7.2,
          8.1,
          8.1,
          8,
          7.3,
          7.6,
          7.5,
          7.6,
          8.1,
          7.5,
          7.6,
          7.3,
          7.5,
          7.9,
          7.6,
          7.2,
          8.2,
          8.3,
          7.8,
          8.1,
          8.1,
          7.6,
          7.8,
          7.4,
          8,
          8.2,
          7.4,
          7.6,
          7.2,
          7.3,
          7.8,
          7.3,
          8.1,
          7,
          7.3,
          8,
          7.5,
          7.9,
          8.2,
          8,
          8.2,
          8.1,
          8,
          8.4,
          7.3,
          8.2,
          8.2,
          7.4,
          7.6,
          7.9,
          7.8,
          7.6,
          7.1,
          7.2,
          7.6,
          7.4,
          7.5,
          8.4,
          8.2,
          8.5,
          7.2,
          8.2,
          8,
          7.5,
          7.8,
          7.5,
          8.1,
          7.9,
          7.7,
          7.5,
          7.4,
          7.8,
          7.2,
          8.2,
          7.6,
          7.7,
          8.1,
          7.7,
          8,
          8,
          8,
          8.2,
          7.4,
          7.7,
          7.9,
          7.5,
          8.2,
          7.8,
          8.3,
          7.8,
          7.5,
          7.4,
          7.5,
          7.3,
          7.9,
          8.2,
          8.2,
          7.5,
          8.2,
          7.6,
          7.2,
          6.9,
          7.5,
          8.6,
          8.1,
          7.5,
          8.1,
          8,
          8.1,
          7.2,
          7.4,
          7.8,
          8.3,
          8.1,
          7.6,
          8.1,
          7.7,
          7.8,
          7.8,
          8.5,
          7.8,
          8.2,
          8.1,
          7.7,
          8.2,
          8,
          8.2,
          8.4,
          7.9,
          7.8,
          8.3,
          8.1,
          7.9,
          8.2,
          7.9,
          7.9,
          8,
          8.1,
          8.1,
          7.8,
          8.2,
          8.1,
          7.6,
          8,
          7.6,
          8.1,
          7.7,
          8,
          7.8,
          8.3,
          7.8,
          8.4,
          7.8,
          8,
          8,
          8.2,
          8.1,
          8.2,
          8,
          8.1,
          8,
          8.2,
          8.2,
          8.1,
          8.1,
          7.8,
          8.1,
          7.8,
          7.8,
          8,
          8.6,
          8,
          8.4,
          8.2,
          7.6,
          7.8,
          8.2,
          8.1,
          8.1,
          8.1,
          8.1,
          7.6,
          7.9,
          8,
          8.2,
          7.7,
          7.8,
          8.1,
          8.2,
          7.7,
          7.8,
          8.4,
          8.2,
          8.2,
          8,
          8.1,
          7.8,
          8,
          8.2,
          8.1,
          8.1,
          7.7,
          8.2,
          8.2,
          7.8,
          8.2,
          8.1,
          8.1,
          7.8,
          7.7,
          8.2,
          7.7,
          8,
          7.9,
          8,
          7.7,
          8.3,
          8.4,
          7.8
         ],
         "yaxis": "y"
        }
       ],
       "layout": {
        "barmode": "relative",
        "legend": {
         "tracegroupgap": 0
        },
        "margin": {
         "t": 60
        },
        "template": {
         "data": {
          "bar": [
           {
            "error_x": {
             "color": "#2a3f5f"
            },
            "error_y": {
             "color": "#2a3f5f"
            },
            "marker": {
             "line": {
              "color": "#E5ECF6",
              "width": 0.5
             },
             "pattern": {
              "fillmode": "overlay",
              "size": 10,
              "solidity": 0.2
             }
            },
            "type": "bar"
           }
          ],
          "barpolar": [
           {
            "marker": {
             "line": {
              "color": "#E5ECF6",
              "width": 0.5
             },
             "pattern": {
              "fillmode": "overlay",
              "size": 10,
              "solidity": 0.2
             }
            },
            "type": "barpolar"
           }
          ],
          "carpet": [
           {
            "aaxis": {
             "endlinecolor": "#2a3f5f",
             "gridcolor": "white",
             "linecolor": "white",
             "minorgridcolor": "white",
             "startlinecolor": "#2a3f5f"
            },
            "baxis": {
             "endlinecolor": "#2a3f5f",
             "gridcolor": "white",
             "linecolor": "white",
             "minorgridcolor": "white",
             "startlinecolor": "#2a3f5f"
            },
            "type": "carpet"
           }
          ],
          "choropleth": [
           {
            "colorbar": {
             "outlinewidth": 0,
             "ticks": ""
            },
            "type": "choropleth"
           }
          ],
          "contour": [
           {
            "colorbar": {
             "outlinewidth": 0,
             "ticks": ""
            },
            "colorscale": [
             [
              0,
              "#0d0887"
             ],
             [
              0.1111111111111111,
              "#46039f"
             ],
             [
              0.2222222222222222,
              "#7201a8"
             ],
             [
              0.3333333333333333,
              "#9c179e"
             ],
             [
              0.4444444444444444,
              "#bd3786"
             ],
             [
              0.5555555555555556,
              "#d8576b"
             ],
             [
              0.6666666666666666,
              "#ed7953"
             ],
             [
              0.7777777777777778,
              "#fb9f3a"
             ],
             [
              0.8888888888888888,
              "#fdca26"
             ],
             [
              1,
              "#f0f921"
             ]
            ],
            "type": "contour"
           }
          ],
          "contourcarpet": [
           {
            "colorbar": {
             "outlinewidth": 0,
             "ticks": ""
            },
            "type": "contourcarpet"
           }
          ],
          "heatmap": [
           {
            "colorbar": {
             "outlinewidth": 0,
             "ticks": ""
            },
            "colorscale": [
             [
              0,
              "#0d0887"
             ],
             [
              0.1111111111111111,
              "#46039f"
             ],
             [
              0.2222222222222222,
              "#7201a8"
             ],
             [
              0.3333333333333333,
              "#9c179e"
             ],
             [
              0.4444444444444444,
              "#bd3786"
             ],
             [
              0.5555555555555556,
              "#d8576b"
             ],
             [
              0.6666666666666666,
              "#ed7953"
             ],
             [
              0.7777777777777778,
              "#fb9f3a"
             ],
             [
              0.8888888888888888,
              "#fdca26"
             ],
             [
              1,
              "#f0f921"
             ]
            ],
            "type": "heatmap"
           }
          ],
          "heatmapgl": [
           {
            "colorbar": {
             "outlinewidth": 0,
             "ticks": ""
            },
            "colorscale": [
             [
              0,
              "#0d0887"
             ],
             [
              0.1111111111111111,
              "#46039f"
             ],
             [
              0.2222222222222222,
              "#7201a8"
             ],
             [
              0.3333333333333333,
              "#9c179e"
             ],
             [
              0.4444444444444444,
              "#bd3786"
             ],
             [
              0.5555555555555556,
              "#d8576b"
             ],
             [
              0.6666666666666666,
              "#ed7953"
             ],
             [
              0.7777777777777778,
              "#fb9f3a"
             ],
             [
              0.8888888888888888,
              "#fdca26"
             ],
             [
              1,
              "#f0f921"
             ]
            ],
            "type": "heatmapgl"
           }
          ],
          "histogram": [
           {
            "marker": {
             "pattern": {
              "fillmode": "overlay",
              "size": 10,
              "solidity": 0.2
             }
            },
            "type": "histogram"
           }
          ],
          "histogram2d": [
           {
            "colorbar": {
             "outlinewidth": 0,
             "ticks": ""
            },
            "colorscale": [
             [
              0,
              "#0d0887"
             ],
             [
              0.1111111111111111,
              "#46039f"
             ],
             [
              0.2222222222222222,
              "#7201a8"
             ],
             [
              0.3333333333333333,
              "#9c179e"
             ],
             [
              0.4444444444444444,
              "#bd3786"
             ],
             [
              0.5555555555555556,
              "#d8576b"
             ],
             [
              0.6666666666666666,
              "#ed7953"
             ],
             [
              0.7777777777777778,
              "#fb9f3a"
             ],
             [
              0.8888888888888888,
              "#fdca26"
             ],
             [
              1,
              "#f0f921"
             ]
            ],
            "type": "histogram2d"
           }
          ],
          "histogram2dcontour": [
           {
            "colorbar": {
             "outlinewidth": 0,
             "ticks": ""
            },
            "colorscale": [
             [
              0,
              "#0d0887"
             ],
             [
              0.1111111111111111,
              "#46039f"
             ],
             [
              0.2222222222222222,
              "#7201a8"
             ],
             [
              0.3333333333333333,
              "#9c179e"
             ],
             [
              0.4444444444444444,
              "#bd3786"
             ],
             [
              0.5555555555555556,
              "#d8576b"
             ],
             [
              0.6666666666666666,
              "#ed7953"
             ],
             [
              0.7777777777777778,
              "#fb9f3a"
             ],
             [
              0.8888888888888888,
              "#fdca26"
             ],
             [
              1,
              "#f0f921"
             ]
            ],
            "type": "histogram2dcontour"
           }
          ],
          "mesh3d": [
           {
            "colorbar": {
             "outlinewidth": 0,
             "ticks": ""
            },
            "type": "mesh3d"
           }
          ],
          "parcoords": [
           {
            "line": {
             "colorbar": {
              "outlinewidth": 0,
              "ticks": ""
             }
            },
            "type": "parcoords"
           }
          ],
          "pie": [
           {
            "automargin": true,
            "type": "pie"
           }
          ],
          "scatter": [
           {
            "marker": {
             "colorbar": {
              "outlinewidth": 0,
              "ticks": ""
             }
            },
            "type": "scatter"
           }
          ],
          "scatter3d": [
           {
            "line": {
             "colorbar": {
              "outlinewidth": 0,
              "ticks": ""
             }
            },
            "marker": {
             "colorbar": {
              "outlinewidth": 0,
              "ticks": ""
             }
            },
            "type": "scatter3d"
           }
          ],
          "scattercarpet": [
           {
            "marker": {
             "colorbar": {
              "outlinewidth": 0,
              "ticks": ""
             }
            },
            "type": "scattercarpet"
           }
          ],
          "scattergeo": [
           {
            "marker": {
             "colorbar": {
              "outlinewidth": 0,
              "ticks": ""
             }
            },
            "type": "scattergeo"
           }
          ],
          "scattergl": [
           {
            "marker": {
             "colorbar": {
              "outlinewidth": 0,
              "ticks": ""
             }
            },
            "type": "scattergl"
           }
          ],
          "scattermapbox": [
           {
            "marker": {
             "colorbar": {
              "outlinewidth": 0,
              "ticks": ""
             }
            },
            "type": "scattermapbox"
           }
          ],
          "scatterpolar": [
           {
            "marker": {
             "colorbar": {
              "outlinewidth": 0,
              "ticks": ""
             }
            },
            "type": "scatterpolar"
           }
          ],
          "scatterpolargl": [
           {
            "marker": {
             "colorbar": {
              "outlinewidth": 0,
              "ticks": ""
             }
            },
            "type": "scatterpolargl"
           }
          ],
          "scatterternary": [
           {
            "marker": {
             "colorbar": {
              "outlinewidth": 0,
              "ticks": ""
             }
            },
            "type": "scatterternary"
           }
          ],
          "surface": [
           {
            "colorbar": {
             "outlinewidth": 0,
             "ticks": ""
            },
            "colorscale": [
             [
              0,
              "#0d0887"
             ],
             [
              0.1111111111111111,
              "#46039f"
             ],
             [
              0.2222222222222222,
              "#7201a8"
             ],
             [
              0.3333333333333333,
              "#9c179e"
             ],
             [
              0.4444444444444444,
              "#bd3786"
             ],
             [
              0.5555555555555556,
              "#d8576b"
             ],
             [
              0.6666666666666666,
              "#ed7953"
             ],
             [
              0.7777777777777778,
              "#fb9f3a"
             ],
             [
              0.8888888888888888,
              "#fdca26"
             ],
             [
              1,
              "#f0f921"
             ]
            ],
            "type": "surface"
           }
          ],
          "table": [
           {
            "cells": {
             "fill": {
              "color": "#EBF0F8"
             },
             "line": {
              "color": "white"
             }
            },
            "header": {
             "fill": {
              "color": "#C8D4E3"
             },
             "line": {
              "color": "white"
             }
            },
            "type": "table"
           }
          ]
         },
         "layout": {
          "annotationdefaults": {
           "arrowcolor": "#2a3f5f",
           "arrowhead": 0,
           "arrowwidth": 1
          },
          "autotypenumbers": "strict",
          "coloraxis": {
           "colorbar": {
            "outlinewidth": 0,
            "ticks": ""
           }
          },
          "colorscale": {
           "diverging": [
            [
             0,
             "#8e0152"
            ],
            [
             0.1,
             "#c51b7d"
            ],
            [
             0.2,
             "#de77ae"
            ],
            [
             0.3,
             "#f1b6da"
            ],
            [
             0.4,
             "#fde0ef"
            ],
            [
             0.5,
             "#f7f7f7"
            ],
            [
             0.6,
             "#e6f5d0"
            ],
            [
             0.7,
             "#b8e186"
            ],
            [
             0.8,
             "#7fbc41"
            ],
            [
             0.9,
             "#4d9221"
            ],
            [
             1,
             "#276419"
            ]
           ],
           "sequential": [
            [
             0,
             "#0d0887"
            ],
            [
             0.1111111111111111,
             "#46039f"
            ],
            [
             0.2222222222222222,
             "#7201a8"
            ],
            [
             0.3333333333333333,
             "#9c179e"
            ],
            [
             0.4444444444444444,
             "#bd3786"
            ],
            [
             0.5555555555555556,
             "#d8576b"
            ],
            [
             0.6666666666666666,
             "#ed7953"
            ],
            [
             0.7777777777777778,
             "#fb9f3a"
            ],
            [
             0.8888888888888888,
             "#fdca26"
            ],
            [
             1,
             "#f0f921"
            ]
           ],
           "sequentialminus": [
            [
             0,
             "#0d0887"
            ],
            [
             0.1111111111111111,
             "#46039f"
            ],
            [
             0.2222222222222222,
             "#7201a8"
            ],
            [
             0.3333333333333333,
             "#9c179e"
            ],
            [
             0.4444444444444444,
             "#bd3786"
            ],
            [
             0.5555555555555556,
             "#d8576b"
            ],
            [
             0.6666666666666666,
             "#ed7953"
            ],
            [
             0.7777777777777778,
             "#fb9f3a"
            ],
            [
             0.8888888888888888,
             "#fdca26"
            ],
            [
             1,
             "#f0f921"
            ]
           ]
          },
          "colorway": [
           "#636efa",
           "#EF553B",
           "#00cc96",
           "#ab63fa",
           "#FFA15A",
           "#19d3f3",
           "#FF6692",
           "#B6E880",
           "#FF97FF",
           "#FECB52"
          ],
          "font": {
           "color": "#2a3f5f"
          },
          "geo": {
           "bgcolor": "white",
           "lakecolor": "white",
           "landcolor": "#E5ECF6",
           "showlakes": true,
           "showland": true,
           "subunitcolor": "white"
          },
          "hoverlabel": {
           "align": "left"
          },
          "hovermode": "closest",
          "mapbox": {
           "style": "light"
          },
          "paper_bgcolor": "white",
          "plot_bgcolor": "#E5ECF6",
          "polar": {
           "angularaxis": {
            "gridcolor": "white",
            "linecolor": "white",
            "ticks": ""
           },
           "bgcolor": "#E5ECF6",
           "radialaxis": {
            "gridcolor": "white",
            "linecolor": "white",
            "ticks": ""
           }
          },
          "scene": {
           "xaxis": {
            "backgroundcolor": "#E5ECF6",
            "gridcolor": "white",
            "gridwidth": 2,
            "linecolor": "white",
            "showbackground": true,
            "ticks": "",
            "zerolinecolor": "white"
           },
           "yaxis": {
            "backgroundcolor": "#E5ECF6",
            "gridcolor": "white",
            "gridwidth": 2,
            "linecolor": "white",
            "showbackground": true,
            "ticks": "",
            "zerolinecolor": "white"
           },
           "zaxis": {
            "backgroundcolor": "#E5ECF6",
            "gridcolor": "white",
            "gridwidth": 2,
            "linecolor": "white",
            "showbackground": true,
            "ticks": "",
            "zerolinecolor": "white"
           }
          },
          "shapedefaults": {
           "line": {
            "color": "#2a3f5f"
           }
          },
          "ternary": {
           "aaxis": {
            "gridcolor": "white",
            "linecolor": "white",
            "ticks": ""
           },
           "baxis": {
            "gridcolor": "white",
            "linecolor": "white",
            "ticks": ""
           },
           "bgcolor": "#E5ECF6",
           "caxis": {
            "gridcolor": "white",
            "linecolor": "white",
            "ticks": ""
           }
          },
          "title": {
           "x": 0.05
          },
          "xaxis": {
           "automargin": true,
           "gridcolor": "white",
           "linecolor": "white",
           "ticks": "",
           "title": {
            "standoff": 15
           },
           "zerolinecolor": "white",
           "zerolinewidth": 2
          },
          "yaxis": {
           "automargin": true,
           "gridcolor": "white",
           "linecolor": "white",
           "ticks": "",
           "title": {
            "standoff": 15
           },
           "zerolinecolor": "white",
           "zerolinewidth": 2
          }
         }
        },
        "xaxis": {
         "anchor": "y",
         "domain": [
          0,
          1
         ],
         "title": {
          "text": "director"
         }
        },
        "yaxis": {
         "anchor": "x",
         "domain": [
          0,
          1
         ],
         "title": {
          "text": "rating"
         }
        }
       }
      },
      "text/html": [
       "<div>                            <div id=\"cc27eb46-c59f-46d2-8834-d07a4a96a238\" class=\"plotly-graph-div\" style=\"height:525px; width:100%;\"></div>            <script type=\"text/javascript\">                require([\"plotly\"], function(Plotly) {                    window.PLOTLYENV=window.PLOTLYENV || {};                                    if (document.getElementById(\"cc27eb46-c59f-46d2-8834-d07a4a96a238\")) {                    Plotly.newPlot(                        \"cc27eb46-c59f-46d2-8834-d07a4a96a238\",                        [{\"alignmentgroup\":\"True\",\"hovertemplate\":\"director=%{x}<br>rating=%{y}<extra></extra>\",\"legendgroup\":\"\",\"marker\":{\"color\":\"#636efa\",\"pattern\":{\"shape\":\"\"}},\"name\":\"\",\"offsetgroup\":\"\",\"orientation\":\"v\",\"showlegend\":false,\"textposition\":\"auto\",\"x\":[\"Aniruddha Roy Chowdhury\",\"Neeraj Ghaywan\",\"Meghna Gulzar\",\"Yash Chopra\",\"Shimit Amin\",\"Rajkumar Santoshi\",\"Nagesh Kukunoor\",\"Hrishikesh Mukherjee\",\"Nikkhil Advani\",\"Kundan Shah\",\"Dibakar Banerjee\",\"Rajkumar Hirani\",\"Nishikant Kamat\",\"Ram Gopal Varma\",\"Mukul Anand\",\"S.S. Rajamouli\",\"Gauri Shinde\",\"Vishal Bhardwaj\",\"Abhishek Chaubey\",\"K. Asif\",\"Kabir Khan\",\"Aamir Khan\",\"Sujoy Ghosh\",\"Farhan Akhtar\",\"Imtiaz Ali\",\"Karan Johar\",\"Mani Ratnam\",\"Yash Chopra\",\"Umesh Shukla\",\"Shekhar Kapur\",\"Vishal Bhardwaj\",\"Anurag Kashyap\",\"Anurag Kashyap\",\"Rakeysh Omprakash Mehra\",\"Ketan Mehta\",\"Mansoor Khan\",\"Ram Gopal Varma\",\"Zoya Akhtar\",\"Advait Chandan\",\"R. Balki\",\"Shoojit Sircar\",\"Mahesh Manjrekar\",\"Vijay Anand\",\"Neeraj Pandey\",\"Anurag Kashyap\",\"J.P. Dutta\",\"Neeraj Pandey\",\"Amit Ravindernath Sharma\",\"Ashutosh Gowariker\",\"Abhishek Kapoor\",\"John Mathew Matthan\",\"Dibakar Banerjee\",\"Meghna Gulzar\",\"Anurag Kashyap\",\"Vishal Bhardwaj\",\"S.S. Rajamouli\",\"Deepa Mehta\",\"Rajkumar Hirani\",\"Chandra Barot\",\"Vikas Bahl\",\"Rajkumar Hirani\",\"Sagar Ballary\",\"Mani Ratnam\",\"Rajat Kapoor\",\"Shakun Batra\",\"Raja Menon\",\"Sanjay Leela Bhansali\",\"Neeraj Pandey\",\"Aditya Chopra\",\"Rajkumar Hirani\",\"Ram Madhvani\",\"Tigmanshu Dhulia\",\"Shashant Shah\",\"Shoojit Sircar\",\"Anurag Kashyap\",\"Rakeysh Omprakash Mehra\",\"Ram Gopal Varma\",\"Nitesh Tiwari\",\"Kundan Shah\",\"Ramesh Sippy\",\"Ashutosh Gowariker\",\"Priyadarshan\",\"Hrishikesh Mukherjee\",\"Vikramaditya Motwane\",\"Saket Chaudhary\",\"S. Shankar\",\"Mehboob Khan\",\"Amit Masurkar\",\"Farhan Akhtar\",\"Sriram Raghavan\",\"Navdeep Singh\",\"Kamal Haasan\",\"Rajkumar Santoshi\",\"Hansal Mehta\",\"Shimit Amin\",\"Anurag Basu\",\"Prakash Jha\",\"Hrishikesh Mukherjee\",\"Yash Chopra\",\"Ritesh Batra\",\"Mukul Anand\",\"Shakun Batra\",\"Ravi Udyawar\",\"Priyadarshan\",\"Lawrence D'Souza\",\"Shimit Amin\",\"Rakeysh Omprakash Mehra\",\"Vikas Bahl\",\"Rajat Kapoor\",\"R. Balki\",\"Mira Nair\",\"Abhishek Kapoor\",\"Dibakar Banerjee\",\"Gautham Vasudev Menon\",\"Akarsh Khurana\",\"A.R. Murugadoss\",\"Mani Ratnam\",\"Sooraj R. Barjatya\",\"Hrishikesh Mukherjee\",\"Yash Chopra\",\"Nitesh Tiwari\",\"Rajkumar Santoshi\",\"Anurag Kashyap\",\"Aamir Khan\",\"Reema Kagti\",\"Imtiaz Ali\",\"Ram Gopal Varma\",\"Anurag Kashyap\",\"Vipul Amrutlal Shah\",\"Raaj Shaandilyaa\",\"Aanand L. Rai\",\"Zoya Akhtar\",\"Deepa Mehta\",\"S. Shankar\",\"Amit Masurkar\",\"Advait Chandan\",\"Pan Nalin\",\"Umesh Shukla\",\"Nikkhil Advani\",\"Anubhav Sinha\",\"Subhash Kapoor\",\"Mani Ratnam\",\"Raj Kumar Gupta\",\"Manmohan Desai\",\"Ramesh Sippy\",\"Farhan Akhtar\",\"Neeraj Pandey\",\"Vikramaditya Motwane\",\"Dibakar Banerjee\",\"Ashutosh Gowariker\",\"Anurag Kashyap\",\"Anurag Kashyap\",\"Madhur Bhandarkar\",\"Rajkumar Hirani\",\"Rajkumar Santoshi\",\"Ashutosh Gowariker\",\"Sudha Kongara\",\"Abhinay Deo\",\"Abbas Alibhai Burmawalla\",\"Sriram Raghavan\",\"Kundan Shah\",\"Vikramaditya Motwane\",\"Karan Johar\",\"Sidharth Malhotra\",\"Abbas Alibhai Burmawalla\",\"Neeraj Ghaywan\",\"Mansoor Khan\",\"Rajkumar Hirani\",\"Priyadarshan\",\"Rajkumar Hirani\",\"Shoojit Sircar\",\"Sanjay Leela Bhansali\",\"Vishal Bhardwaj\",\"Hrishikesh Mukherjee\",\"Ram Gopal Varma\",\"Vikram Bhatt\",\"Sooraj R. Barjatya\",\"Mansoor Khan\",\"S.S. Rajamouli\",\"Ashutosh Gowariker\",\"Ram Gopal Varma\",\"Neeraj Pandey\",\"Ram Madhvani\",\"Abhishek Chaubey\",\"Imtiaz Ali\",\"Trivikram Srinivas\",\"Abbas Tyrewala\",\"Ravi Chopra\",\"Anil Sharma\",\"Ashwiny Iyer Tiwari\",\"Aditya Dhar\",\"Tigmanshu Dhulia\",\"S. Shankar\",\"Shoojit Sircar\",\"Vishal Bhardwaj\",\"Sujoy Ghosh\",\"Anusha Rizvi\",\"Shekhar Kapur\",\"Milan Luthria\",\"Meghna Gulzar\",\"Mrighdeep Lamba\",\"Raj Kumar Gupta\",\"Rakeysh Omprakash Mehra\",\"Anurag Basu\",\"Gauri Shinde\",\"Ribhu Dasgupta\",\"Sagar Ballary\",\"Vijay Anand\",\"Bejoy Nambiar\",\"Shoojit Sircar\",\"Vipul Amrutlal Shah\",\"Shree Narayan Singh\",\"Yash Chopra\",\"Nishikant Kamat\",\"Aanand L. Rai\",\"Rajkumar Santoshi\",\"Raja Menon\",\"Pradeep Sarkar\",\"Sriram Raghavan\",\"Sriram Raghavan\",\"Sandeep Reddy Vanga\",\"Rohit Shetty\",\"Kundan Shah\",\"Shashant Shah\",\"Neeraj Pandey\",\"Amit Ravindernath Sharma\",\"Vivek Agnihotri\",\"Ketan Mehta\",\"Nitesh Tiwari\",\"Pradeep Sarkar\",\"Sankalp Reddy\",\"Kamal Haasan\",\"Abhishek Chaubey\",\"Nikkhil Advani\",\"Mohit Suri\",\"Sanjay Leela Bhansali\",\"Subhash Kapoor\",\"Abhishek Kapoor\",\"Mani Ratnam\",\"Anurag Basu\",\"Suresh Krishna\",\"Vikramaditya Motwane\",\"Kamal Haasan\",\"Sanjay Leela Bhansali\",\"Anand Gandhi\",\"John Mathew Matthan\",\"Chandra Barot\",\"Umesh Shukla\",\"Milan Luthria\",\"Navdeep Singh\",\"Hrishikesh Mukherjee\",\"Imtiaz Ali\",\"Mahesh Manjrekar\",\"Vishal Bhardwaj\",\"K. Asif\",\"Nishikant Kamat\",\"Imtiaz Ali\",\"Navdeep Singh\",\"Nagesh Kukunoor\",\"Karan Johar\",\"Maneesh Sharma\",\"Anurag Kashyap\",\"Shoojit Sircar\",\"Zoya Akhtar\",\"Ajay Bahl\",\"Karan Johar\",\"Meghna Gulzar\",\"Ratnaa Sinha\",\"Yash Chopra\",\"Hansal Mehta\",\"Shimit Amin\",\"Dibakar Banerjee\",\"S. Shankar\",\"Ritesh Batra\",\"Prakash Jha\",\"Dibakar Banerjee\",\"Sanjay Leela Bhansali\",\"S. Shankar\",\"Neeraj Pandey\",\"Kabir Khan\",\"Gauri Shinde\",\"Rajkumar Hirani\",\"Farhan Akhtar\",\"J.P. Dutta\",\"Shimit Amin\",\"Aniruddha Roy Chowdhury\",\"Mehboob Khan\",\"Vishal Bhardwaj\",\"Aditya Chopra\",\"Vikas Bahl\",\"Sharat Katariya\",\"S.S. Rajamouli\",\"Ram Gopal Varma\",\"Priyadarshan\",\"Abhishek Sharma\",\"Mani Ratnam\",\"Saket Chaudhary\",\"Ayan Mukherjee\",\"Anurag Kashyap\",\"Vikas Bahl\",\"Ajay Bahl\",\"Abhishek Kapoor\",\"Vipul Amrutlal Shah\",\"Vijay Anand\",\"Tigmanshu Dhulia\",\"Vishal Bhardwaj\",\"Navdeep Singh\",\"Nishikant Kamat\",\"Imtiaz Ali\",\"Neeraj Pandey\",\"Sudha Kongara\",\"Mani Ratnam\",\"Dibakar Banerjee\",\"Ram Madhvani\",\"Priyadarshan\",\"Ram Gopal Varma\",\"Saket Chaudhary\",\"Pradeep Sarkar\",\"Vipul Amrutlal Shah\",\"Deepa Mehta\",\"Aniruddha Roy Chowdhury\",\"Karan Johar\",\"Milan Luthria\",\"Rakeysh Omprakash Mehra\",\"Anurag Kashyap\",\"Sanjay Leela Bhansali\",\"Ram Gopal Varma\",\"Gauri Shinde\",\"Zoya Akhtar\",\"Rajkumar Hirani\",\"Imtiaz Ali\",\"Manmohan Desai\",\"Abhishek Sharma\",\"John Mathew Matthan\",\"Shree Narayan Singh\",\"Anurag Kashyap\",\"Farhan Akhtar\",\"Hrishikesh Mukherjee\",\"Trivikram Srinivas\",\"S.S. Rajamouli\",\"Yash Chopra\",\"Nishikant Kamat\",\"Shimit Amin\",\"Mani Ratnam\",\"Yash Chopra\",\"Akarsh Khurana\",\"Dibakar Banerjee\",\"Vishal Bhardwaj\",\"Mani Ratnam\",\"Ritesh Batra\",\"Kabir Khan\",\"Nitesh Tiwari\",\"Vishal Bhardwaj\",\"Neeraj Pandey\",\"Mohit Suri\",\"Rakeysh Omprakash Mehra\",\"Prakash Jha\",\"Umesh Shukla\",\"Sriram Raghavan\",\"Mansoor Khan\",\"Sanjay Leela Bhansali\",\"Sooraj R. Barjatya\",\"Vikramaditya Motwane\",\"S. Shankar\",\"Ribhu Dasgupta\",\"Rajkumar Santoshi\",\"Bejoy Nambiar\",\"Shakun Batra\",\"Dibakar Banerjee\",\"S. Shankar\",\"Mani Ratnam\",\"Anurag Kashyap\",\"Neeraj Pandey\",\"Kamal Haasan\",\"Lawrence D'Souza\",\"Milan Luthria\",\"Nitesh Tiwari\",\"Imtiaz Ali\",\"Abhishek Chaubey\",\"Navdeep Singh\",\"Anand Gandhi\",\"Aditya Chopra\",\"Amit Ravindernath Sharma\",\"Ravi Udyawar\",\"Shoojit Sircar\",\"S. Shankar\",\"Ratnaa Sinha\",\"Rajkumar Hirani\",\"Ashwiny Iyer Tiwari\",\"Ashutosh Gowariker\",\"Anil Sharma\",\"Sooraj R. Barjatya\",\"R. Balki\",\"Sankalp Reddy\",\"Dibakar Banerjee\",\"S.S. Rajamouli\",\"Suresh Krishna\",\"Abhishek Kapoor\",\"Sujoy Ghosh\",\"Yash Chopra\",\"Karan Johar\",\"Chandra Barot\",\"A.R. Murugadoss\",\"Ketan Mehta\",\"Shimit Amin\",\"Karan Johar\",\"Abhinay Deo\",\"Subhash Kapoor\",\"Priyadarshan\",\"Kundan Shah\",\"Pradeep Sarkar\",\"Rajkumar Hirani\",\"Raaj Shaandilyaa\",\"Madhur Bhandarkar\",\"Raja Menon\",\"Sriram Raghavan\",\"Farhan Akhtar\",\"Ashutosh Gowariker\",\"Rajat Kapoor\",\"Anubhav Sinha\",\"Umesh Shukla\",\"Anurag Kashyap\",\"Aamir Khan\",\"Vikramaditya Motwane\",\"Ramesh Sippy\",\"Hansal Mehta\",\"Mira Nair\",\"Sagar Ballary\",\"Zoya Akhtar\",\"Abhishek Chaubey\",\"Aanand L. Rai\",\"Sandeep Reddy Vanga\",\"Reema Kagti\",\"Aanand L. Rai\",\"Raj Kumar Gupta\",\"Sidharth Malhotra\",\"Kundan Shah\",\"Vikramaditya Motwane\",\"Anurag Kashyap\",\"Raj Kumar Gupta\",\"Sanjay Leela Bhansali\",\"Mehboob Khan\",\"Sharat Katariya\",\"Shekhar Kapur\",\"Abbas Tyrewala\",\"Vishal Bhardwaj\",\"Nikkhil Advani\",\"Mukul Anand\",\"Gauri Shinde\",\"Anusha Rizvi\",\"S. Shankar\",\"Nikkhil Advani\",\"Anurag Kashyap\",\"Subhash Kapoor\",\"Shoojit Sircar\",\"Rajkumar Santoshi\",\"Amit Masurkar\",\"Mahesh Manjrekar\",\"Kamal Haasan\",\"Neeraj Pandey\",\"K. Asif\",\"Imtiaz Ali\",\"Abbas Alibhai Burmawalla\",\"J.P. Dutta\",\"Shimit Amin\",\"Neeraj Ghaywan\",\"Meghna Gulzar\",\"Ram Gopal Varma\",\"Shashant Shah\",\"Mansoor Khan\",\"Anurag Basu\",\"Rohit Shetty\",\"Vikram Bhatt\",\"Vivek Agnihotri\",\"Hrishikesh Mukherjee\",\"Meghna Gulzar\",\"Shoojit Sircar\",\"Priyadarshan\",\"Ayan Mukherjee\",\"Abbas Alibhai Burmawalla\",\"Mrighdeep Lamba\",\"Vikas Bahl\",\"Hrishikesh Mukherjee\",\"Ashutosh Gowariker\",\"Sanjay Leela Bhansali\",\"Anurag Basu\",\"Ram Gopal Varma\",\"Rajkumar Santoshi\",\"Maneesh Sharma\",\"Ravi Chopra\",\"Shoojit Sircar\",\"Aditya Dhar\",\"Nagesh Kukunoor\",\"Gautham Vasudev Menon\",\"Rajkumar Hirani\",\"Pan Nalin\",\"Advait Chandan\",\"Sriram Raghavan\",\"Anurag Kashyap\",\"Chandra Barot\",\"Shimit Amin\",\"Vishal Bhardwaj\",\"Shoojit Sircar\",\"Rakeysh Omprakash Mehra\",\"Rajat Kapoor\",\"Ashutosh Gowariker\",\"Nitesh Tiwari\",\"Nikkhil Advani\",\"Meghna Gulzar\",\"Ram Gopal Varma\",\"Rajkumar Hirani\",\"R. Balki\",\"Zoya Akhtar\",\"Farhan Akhtar\",\"Imtiaz Ali\",\"Neeraj Pandey\",\"Rajkumar Hirani\",\"Vishal Bhardwaj\",\"Gauri Shinde\",\"Vikas Bahl\",\"Yash Chopra\",\"Ram Madhvani\",\"Karan Johar\",\"Navdeep Singh\",\"Anurag Kashyap\",\"Amit Masurkar\",\"Mehboob Khan\",\"Shoojit Sircar\",\"Dibakar Banerjee\",\"Kundan Shah\",\"Rajkumar Hirani\",\"Advait Chandan\",\"Ketan Mehta\",\"S.S. Rajamouli\",\"Meghna Gulzar\",\"Vishal Bhardwaj\",\"Mansoor Khan\",\"Anurag Kashyap\",\"Rajkumar Santoshi\",\"Kamal Haasan\",\"Vikramaditya Motwane\",\"Ramesh Sippy\",\"Neeraj Pandey\",\"Rakeysh Omprakash Mehra\",\"Yash Chopra\",\"Ashutosh Gowariker\",\"Shekhar Kapur\",\"Sriram Raghavan\",\"Ram Gopal Varma\",\"Hrishikesh Mukherjee\",\"Raja Menon\",\"Aamir Khan\",\"Neeraj Ghaywan\",\"Ram Gopal Varma\",\"Prakash Jha\",\"S.S. Rajamouli\",\"Anurag Basu\",\"Aditya Chopra\",\"Aniruddha Roy Chowdhury\",\"Rajkumar Santoshi\",\"Sagar Ballary\",\"Saket Chaudhary\",\"Amit Ravindernath Sharma\",\"Hrishikesh Mukherjee\",\"Mani Ratnam\",\"Shimit Amin\",\"Rajkumar Hirani\",\"Hansal Mehta\",\"Abhishek Kapoor\",\"Abhishek Chaubey\",\"Vijay Anand\",\"K. Asif\",\"Tigmanshu Dhulia\",\"Anurag Kashyap\",\"John Mathew Matthan\",\"Shashant Shah\",\"Neeraj Pandey\",\"Anurag Kashyap\",\"Farhan Akhtar\",\"Nagesh Kukunoor\",\"Mukul Anand\",\"Sanjay Leela Bhansali\",\"Mani Ratnam\",\"Yash Chopra\",\"Nishikant Kamat\",\"Sujoy Ghosh\",\"Umesh Shukla\",\"S. Shankar\",\"Deepa Mehta\",\"Priyadarshan\",\"Shakun Batra\",\"Kabir Khan\",\"J.P. Dutta\",\"Mahesh Manjrekar\",\"Dibakar Banerjee\",\"Hrishikesh Mukherjee\",\"Kundan Shah\",\"Ritesh Batra\"],\"xaxis\":\"x\",\"y\":[8.1,8.2,8.2,8.1,7.8,8.1,8.1,8.3,7.9,7.8,7.7,8.1,8.2,8.0,7.7,8.0,7.8,8.1,7.8,8.2,8.0,8.4,8.1,7.9,7.9,8.0,8.2,7.8,8.1,7.8,8.1,8.2,8.0,8.2,8.0,8.2,8.3,8.2,7.8,7.9,7.8,8.0,8.4,8.0,8.5,7.9,8.0,8.0,8.2,7.7,8.1,8.3,7.8,8.1,8.1,8.2,7.7,8.1,7.8,8.2,8.4,7.6,7.7,8.0,7.7,8.0,8.2,8.1,8.1,8.1,7.6,8.2,7.8,7.7,8.0,8.1,7.6,8.4,8.4,8.2,8.1,8.2,8.6,8.2,7.9,7.8,8.0,7.7,8.1,7.8,7.6,8.0,8.1,8.2,8.2,8.1,7.8,8.2,7.8,7.8,7.7,7.7,7.3,8.2,7.3,7.8,8.2,7.5,8.0,7.9,7.4,7.8,7.2,7.6,7.6,7.4,7.6,7.3,8.6,7.8,8.3,8.1,8.0,8.4,7.2,7.9,7.5,8.5,7.4,7.0,7.6,7.9,7.7,8.3,7.7,7.8,7.7,8.1,7.9,8.2,7.6,8.2,7.2,7.5,8.2,7.9,8.0,7.6,7.7,8.2,8.2,8.0,7.3,8.4,8.1,8.1,7.6,7.6,7.7,7.8,8.4,7.3,7.4,7.5,7.2,8.2,7.5,8.1,7.6,8.1,7.8,7.6,8.1,8.3,8.0,7.3,7.5,8.2,8.0,7.6,7.6,8.0,7.6,7.3,7.7,7.6,7.5,7.4,7.3,7.5,8.3,8.2,7.5,7.7,8.1,8.1,7.4,7.8,7.3,7.8,6.9,7.4,8.1,7.4,7.5,7.3,7.6,8.4,7.2,7.6,7.1,7.2,7.8,8.2,7.6,7.4,8.0,7.3,7.4,7.5,7.1,7.5,7.8,7.8,8.1,8.0,7.9,8.0,8.4,7.2,7.6,7.4,7.8,7.2,7.3,8.2,7.2,7.7,7.4,8.1,8.3,8.2,8.0,7.5,8.1,8.1,7.8,7.5,7.4,7.2,8.2,7.6,8.0,8.1,8.2,7.6,7.4,7.6,8.1,7.6,7.2,8.1,7.5,8.2,8.1,8.0,8.2,7.6,8.1,8.2,7.5,7.7,7.8,7.8,7.8,8.3,7.5,8.1,8.0,8.0,7.8,8.1,8.1,7.9,8.2,8.1,8.0,7.4,8.1,8.2,7.5,8.2,8.3,7.3,7.6,7.7,7.9,7.6,7.4,8.2,8.1,7.7,7.4,8.4,8.2,8.1,7.6,8.2,7.6,8.0,7.6,8.2,8.3,7.6,7.6,7.6,7.9,7.2,7.1,7.7,8.1,8.0,7.3,8.1,8.1,7.6,7.5,7.8,8.2,8.4,7.7,7.5,7.6,8.1,7.2,7.4,8.1,8.3,7.6,8.0,7.8,7.6,7.8,7.7,7.8,7.6,7.7,7.4,7.4,7.8,8.0,8.3,8.1,8.0,7.3,8.2,7.8,7.5,7.4,8.2,7.5,7.3,7.6,8.3,7.3,7.4,7.2,7.7,7.7,8.1,7.6,8.0,8.1,7.4,7.3,7.4,8.4,7.9,7.3,7.2,8.1,8.1,8.0,7.3,7.6,7.5,7.6,8.1,7.5,7.6,7.3,7.5,7.9,7.6,7.2,8.2,8.3,7.8,8.1,8.1,7.6,7.8,7.4,8.0,8.2,7.4,7.6,7.2,7.3,7.8,7.3,8.1,7.0,7.3,8.0,7.5,7.9,8.2,8.0,8.2,8.1,8.0,8.4,7.3,8.2,8.2,7.4,7.6,7.9,7.8,7.6,7.1,7.2,7.6,7.4,7.5,8.4,8.2,8.5,7.2,8.2,8.0,7.5,7.8,7.5,8.1,7.9,7.7,7.5,7.4,7.8,7.2,8.2,7.6,7.7,8.1,7.7,8.0,8.0,8.0,8.2,7.4,7.7,7.9,7.5,8.2,7.8,8.3,7.8,7.5,7.4,7.5,7.3,7.9,8.2,8.2,7.5,8.2,7.6,7.2,6.9,7.5,8.6,8.1,7.5,8.1,8.0,8.1,7.2,7.4,7.8,8.3,8.1,7.6,8.1,7.7,7.8,7.8,8.5,7.8,8.2,8.1,7.7,8.2,8.0,8.2,8.4,7.9,7.8,8.3,8.1,7.9,8.2,7.9,7.9,8.0,8.1,8.1,7.8,8.2,8.1,7.6,8.0,7.6,8.1,7.7,8.0,7.8,8.3,7.8,8.4,7.8,8.0,8.0,8.2,8.1,8.2,8.0,8.1,8.0,8.2,8.2,8.1,8.1,7.8,8.1,7.8,7.8,8.0,8.6,8.0,8.4,8.2,7.6,7.8,8.2,8.1,8.1,8.1,8.1,7.6,7.9,8.0,8.2,7.7,7.8,8.1,8.2,7.7,7.8,8.4,8.2,8.2,8.0,8.1,7.8,8.0,8.2,8.1,8.1,7.7,8.2,8.2,7.8,8.2,8.1,8.1,7.8,7.7,8.2,7.7,8.0,7.9,8.0,7.7,8.3,8.4,7.8],\"yaxis\":\"y\",\"type\":\"bar\"}],                        {\"template\":{\"data\":{\"bar\":[{\"error_x\":{\"color\":\"#2a3f5f\"},\"error_y\":{\"color\":\"#2a3f5f\"},\"marker\":{\"line\":{\"color\":\"#E5ECF6\",\"width\":0.5},\"pattern\":{\"fillmode\":\"overlay\",\"size\":10,\"solidity\":0.2}},\"type\":\"bar\"}],\"barpolar\":[{\"marker\":{\"line\":{\"color\":\"#E5ECF6\",\"width\":0.5},\"pattern\":{\"fillmode\":\"overlay\",\"size\":10,\"solidity\":0.2}},\"type\":\"barpolar\"}],\"carpet\":[{\"aaxis\":{\"endlinecolor\":\"#2a3f5f\",\"gridcolor\":\"white\",\"linecolor\":\"white\",\"minorgridcolor\":\"white\",\"startlinecolor\":\"#2a3f5f\"},\"baxis\":{\"endlinecolor\":\"#2a3f5f\",\"gridcolor\":\"white\",\"linecolor\":\"white\",\"minorgridcolor\":\"white\",\"startlinecolor\":\"#2a3f5f\"},\"type\":\"carpet\"}],\"choropleth\":[{\"colorbar\":{\"outlinewidth\":0,\"ticks\":\"\"},\"type\":\"choropleth\"}],\"contour\":[{\"colorbar\":{\"outlinewidth\":0,\"ticks\":\"\"},\"colorscale\":[[0.0,\"#0d0887\"],[0.1111111111111111,\"#46039f\"],[0.2222222222222222,\"#7201a8\"],[0.3333333333333333,\"#9c179e\"],[0.4444444444444444,\"#bd3786\"],[0.5555555555555556,\"#d8576b\"],[0.6666666666666666,\"#ed7953\"],[0.7777777777777778,\"#fb9f3a\"],[0.8888888888888888,\"#fdca26\"],[1.0,\"#f0f921\"]],\"type\":\"contour\"}],\"contourcarpet\":[{\"colorbar\":{\"outlinewidth\":0,\"ticks\":\"\"},\"type\":\"contourcarpet\"}],\"heatmap\":[{\"colorbar\":{\"outlinewidth\":0,\"ticks\":\"\"},\"colorscale\":[[0.0,\"#0d0887\"],[0.1111111111111111,\"#46039f\"],[0.2222222222222222,\"#7201a8\"],[0.3333333333333333,\"#9c179e\"],[0.4444444444444444,\"#bd3786\"],[0.5555555555555556,\"#d8576b\"],[0.6666666666666666,\"#ed7953\"],[0.7777777777777778,\"#fb9f3a\"],[0.8888888888888888,\"#fdca26\"],[1.0,\"#f0f921\"]],\"type\":\"heatmap\"}],\"heatmapgl\":[{\"colorbar\":{\"outlinewidth\":0,\"ticks\":\"\"},\"colorscale\":[[0.0,\"#0d0887\"],[0.1111111111111111,\"#46039f\"],[0.2222222222222222,\"#7201a8\"],[0.3333333333333333,\"#9c179e\"],[0.4444444444444444,\"#bd3786\"],[0.5555555555555556,\"#d8576b\"],[0.6666666666666666,\"#ed7953\"],[0.7777777777777778,\"#fb9f3a\"],[0.8888888888888888,\"#fdca26\"],[1.0,\"#f0f921\"]],\"type\":\"heatmapgl\"}],\"histogram\":[{\"marker\":{\"pattern\":{\"fillmode\":\"overlay\",\"size\":10,\"solidity\":0.2}},\"type\":\"histogram\"}],\"histogram2d\":[{\"colorbar\":{\"outlinewidth\":0,\"ticks\":\"\"},\"colorscale\":[[0.0,\"#0d0887\"],[0.1111111111111111,\"#46039f\"],[0.2222222222222222,\"#7201a8\"],[0.3333333333333333,\"#9c179e\"],[0.4444444444444444,\"#bd3786\"],[0.5555555555555556,\"#d8576b\"],[0.6666666666666666,\"#ed7953\"],[0.7777777777777778,\"#fb9f3a\"],[0.8888888888888888,\"#fdca26\"],[1.0,\"#f0f921\"]],\"type\":\"histogram2d\"}],\"histogram2dcontour\":[{\"colorbar\":{\"outlinewidth\":0,\"ticks\":\"\"},\"colorscale\":[[0.0,\"#0d0887\"],[0.1111111111111111,\"#46039f\"],[0.2222222222222222,\"#7201a8\"],[0.3333333333333333,\"#9c179e\"],[0.4444444444444444,\"#bd3786\"],[0.5555555555555556,\"#d8576b\"],[0.6666666666666666,\"#ed7953\"],[0.7777777777777778,\"#fb9f3a\"],[0.8888888888888888,\"#fdca26\"],[1.0,\"#f0f921\"]],\"type\":\"histogram2dcontour\"}],\"mesh3d\":[{\"colorbar\":{\"outlinewidth\":0,\"ticks\":\"\"},\"type\":\"mesh3d\"}],\"parcoords\":[{\"line\":{\"colorbar\":{\"outlinewidth\":0,\"ticks\":\"\"}},\"type\":\"parcoords\"}],\"pie\":[{\"automargin\":true,\"type\":\"pie\"}],\"scatter\":[{\"marker\":{\"colorbar\":{\"outlinewidth\":0,\"ticks\":\"\"}},\"type\":\"scatter\"}],\"scatter3d\":[{\"line\":{\"colorbar\":{\"outlinewidth\":0,\"ticks\":\"\"}},\"marker\":{\"colorbar\":{\"outlinewidth\":0,\"ticks\":\"\"}},\"type\":\"scatter3d\"}],\"scattercarpet\":[{\"marker\":{\"colorbar\":{\"outlinewidth\":0,\"ticks\":\"\"}},\"type\":\"scattercarpet\"}],\"scattergeo\":[{\"marker\":{\"colorbar\":{\"outlinewidth\":0,\"ticks\":\"\"}},\"type\":\"scattergeo\"}],\"scattergl\":[{\"marker\":{\"colorbar\":{\"outlinewidth\":0,\"ticks\":\"\"}},\"type\":\"scattergl\"}],\"scattermapbox\":[{\"marker\":{\"colorbar\":{\"outlinewidth\":0,\"ticks\":\"\"}},\"type\":\"scattermapbox\"}],\"scatterpolar\":[{\"marker\":{\"colorbar\":{\"outlinewidth\":0,\"ticks\":\"\"}},\"type\":\"scatterpolar\"}],\"scatterpolargl\":[{\"marker\":{\"colorbar\":{\"outlinewidth\":0,\"ticks\":\"\"}},\"type\":\"scatterpolargl\"}],\"scatterternary\":[{\"marker\":{\"colorbar\":{\"outlinewidth\":0,\"ticks\":\"\"}},\"type\":\"scatterternary\"}],\"surface\":[{\"colorbar\":{\"outlinewidth\":0,\"ticks\":\"\"},\"colorscale\":[[0.0,\"#0d0887\"],[0.1111111111111111,\"#46039f\"],[0.2222222222222222,\"#7201a8\"],[0.3333333333333333,\"#9c179e\"],[0.4444444444444444,\"#bd3786\"],[0.5555555555555556,\"#d8576b\"],[0.6666666666666666,\"#ed7953\"],[0.7777777777777778,\"#fb9f3a\"],[0.8888888888888888,\"#fdca26\"],[1.0,\"#f0f921\"]],\"type\":\"surface\"}],\"table\":[{\"cells\":{\"fill\":{\"color\":\"#EBF0F8\"},\"line\":{\"color\":\"white\"}},\"header\":{\"fill\":{\"color\":\"#C8D4E3\"},\"line\":{\"color\":\"white\"}},\"type\":\"table\"}]},\"layout\":{\"annotationdefaults\":{\"arrowcolor\":\"#2a3f5f\",\"arrowhead\":0,\"arrowwidth\":1},\"autotypenumbers\":\"strict\",\"coloraxis\":{\"colorbar\":{\"outlinewidth\":0,\"ticks\":\"\"}},\"colorscale\":{\"diverging\":[[0,\"#8e0152\"],[0.1,\"#c51b7d\"],[0.2,\"#de77ae\"],[0.3,\"#f1b6da\"],[0.4,\"#fde0ef\"],[0.5,\"#f7f7f7\"],[0.6,\"#e6f5d0\"],[0.7,\"#b8e186\"],[0.8,\"#7fbc41\"],[0.9,\"#4d9221\"],[1,\"#276419\"]],\"sequential\":[[0.0,\"#0d0887\"],[0.1111111111111111,\"#46039f\"],[0.2222222222222222,\"#7201a8\"],[0.3333333333333333,\"#9c179e\"],[0.4444444444444444,\"#bd3786\"],[0.5555555555555556,\"#d8576b\"],[0.6666666666666666,\"#ed7953\"],[0.7777777777777778,\"#fb9f3a\"],[0.8888888888888888,\"#fdca26\"],[1.0,\"#f0f921\"]],\"sequentialminus\":[[0.0,\"#0d0887\"],[0.1111111111111111,\"#46039f\"],[0.2222222222222222,\"#7201a8\"],[0.3333333333333333,\"#9c179e\"],[0.4444444444444444,\"#bd3786\"],[0.5555555555555556,\"#d8576b\"],[0.6666666666666666,\"#ed7953\"],[0.7777777777777778,\"#fb9f3a\"],[0.8888888888888888,\"#fdca26\"],[1.0,\"#f0f921\"]]},\"colorway\":[\"#636efa\",\"#EF553B\",\"#00cc96\",\"#ab63fa\",\"#FFA15A\",\"#19d3f3\",\"#FF6692\",\"#B6E880\",\"#FF97FF\",\"#FECB52\"],\"font\":{\"color\":\"#2a3f5f\"},\"geo\":{\"bgcolor\":\"white\",\"lakecolor\":\"white\",\"landcolor\":\"#E5ECF6\",\"showlakes\":true,\"showland\":true,\"subunitcolor\":\"white\"},\"hoverlabel\":{\"align\":\"left\"},\"hovermode\":\"closest\",\"mapbox\":{\"style\":\"light\"},\"paper_bgcolor\":\"white\",\"plot_bgcolor\":\"#E5ECF6\",\"polar\":{\"angularaxis\":{\"gridcolor\":\"white\",\"linecolor\":\"white\",\"ticks\":\"\"},\"bgcolor\":\"#E5ECF6\",\"radialaxis\":{\"gridcolor\":\"white\",\"linecolor\":\"white\",\"ticks\":\"\"}},\"scene\":{\"xaxis\":{\"backgroundcolor\":\"#E5ECF6\",\"gridcolor\":\"white\",\"gridwidth\":2,\"linecolor\":\"white\",\"showbackground\":true,\"ticks\":\"\",\"zerolinecolor\":\"white\"},\"yaxis\":{\"backgroundcolor\":\"#E5ECF6\",\"gridcolor\":\"white\",\"gridwidth\":2,\"linecolor\":\"white\",\"showbackground\":true,\"ticks\":\"\",\"zerolinecolor\":\"white\"},\"zaxis\":{\"backgroundcolor\":\"#E5ECF6\",\"gridcolor\":\"white\",\"gridwidth\":2,\"linecolor\":\"white\",\"showbackground\":true,\"ticks\":\"\",\"zerolinecolor\":\"white\"}},\"shapedefaults\":{\"line\":{\"color\":\"#2a3f5f\"}},\"ternary\":{\"aaxis\":{\"gridcolor\":\"white\",\"linecolor\":\"white\",\"ticks\":\"\"},\"baxis\":{\"gridcolor\":\"white\",\"linecolor\":\"white\",\"ticks\":\"\"},\"bgcolor\":\"#E5ECF6\",\"caxis\":{\"gridcolor\":\"white\",\"linecolor\":\"white\",\"ticks\":\"\"}},\"title\":{\"x\":0.05},\"xaxis\":{\"automargin\":true,\"gridcolor\":\"white\",\"linecolor\":\"white\",\"ticks\":\"\",\"title\":{\"standoff\":15},\"zerolinecolor\":\"white\",\"zerolinewidth\":2},\"yaxis\":{\"automargin\":true,\"gridcolor\":\"white\",\"linecolor\":\"white\",\"ticks\":\"\",\"title\":{\"standoff\":15},\"zerolinecolor\":\"white\",\"zerolinewidth\":2}}},\"xaxis\":{\"anchor\":\"y\",\"domain\":[0.0,1.0],\"title\":{\"text\":\"director\"}},\"yaxis\":{\"anchor\":\"x\",\"domain\":[0.0,1.0],\"title\":{\"text\":\"rating\"}},\"legend\":{\"tracegroupgap\":0},\"margin\":{\"t\":60},\"barmode\":\"relative\"},                        {\"responsive\": true}                    ).then(function(){\n",
       "                            \n",
       "var gd = document.getElementById('cc27eb46-c59f-46d2-8834-d07a4a96a238');\n",
       "var x = new MutationObserver(function (mutations, observer) {{\n",
       "        var display = window.getComputedStyle(gd).display;\n",
       "        if (!display || display === 'none') {{\n",
       "            console.log([gd, 'removed!']);\n",
       "            Plotly.purge(gd);\n",
       "            observer.disconnect();\n",
       "        }}\n",
       "}});\n",
       "\n",
       "// Listen for the removal of the full notebook cells\n",
       "var notebookContainer = gd.closest('#notebook-container');\n",
       "if (notebookContainer) {{\n",
       "    x.observe(notebookContainer, {childList: true});\n",
       "}}\n",
       "\n",
       "// Listen for the clearing of the current output cell\n",
       "var outputEl = gd.closest('.output');\n",
       "if (outputEl) {{\n",
       "    x.observe(outputEl, {childList: true});\n",
       "}}\n",
       "\n",
       "                        })                };                });            </script>        </div>"
      ]
     },
     "metadata": {},
     "output_type": "display_data"
    }
   ],
   "source": [
    "px.bar(df,x=\"director\",y= \"rating\")"
   ]
  },
  {
   "cell_type": "markdown",
   "metadata": {},
   "source": [
    "# From the above graph i had observed that the most of movies had highest rating that are directed  by the \"Anurag kashyap\""
   ]
  },
  {
   "cell_type": "code",
   "execution_count": 32,
   "metadata": {},
   "outputs": [
    {
     "data": {
      "image/png": "[encoded data removed]",
      "text/plain": [
       "<Figure size 432x288 with 1 Axes>"
      ]
     },
     "metadata": {
      "needs_background": "light"
     },
     "output_type": "display_data"
    }
   ],
   "source": [
    "\n",
    "sns.boxplot(x = \"director\", y = \"rating\", hue='genre', data = df)\n",
    "plt.show()"
   ]
  },
  {
   "cell_type": "code",
   "execution_count": 34,
   "metadata": {},
   "outputs": [
    {
     "name": "stderr",
     "output_type": "stream",
     "text": [
      "C:\\Users\\91832\\anaconda3\\lib\\site-packages\\seaborn\\_decorators.py:36: FutureWarning:\n",
      "\n",
      "Pass the following variables as keyword args: x, y. From version 0.12, the only valid positional argument will be `data`, and passing other arguments without an explicit keyword will result in an error or misinterpretation.\n",
      "\n"
     ]
    },
    {
     "data": {
      "text/plain": [
       "<AxesSubplot:xlabel='director', ylabel='rating'>"
      ]
     },
     "execution_count": 34,
     "metadata": {},
     "output_type": "execute_result"
    },
    {
     "data": {
      "image/png": "[encoded data removed]",
      "text/plain": [
       "<Figure size 432x288 with 1 Axes>"
      ]
     },
     "metadata": {
      "needs_background": "light"
     },
     "output_type": "display_data"
    }
   ],
   "source": [
    "sns.scatterplot(df[\"director\"],df[\"rating\"],hue=df[\"genre\"])"
   ]
  },
  {
   "cell_type": "code",
   "execution_count": 37,
   "metadata": {},
   "outputs": [
    {
     "data": {
      "application/vnd.plotly.v1+json": {
       "config": {
        "plotlyServerURL": "https://plot.ly"
       },
       "data": [
        {
         "hovertemplate": "director=%{x}<br>rating=%{y}<extra></extra>",
         "legendgroup": "",
         "marker": {
          "color": "#636efa",
          "symbol": "circle"
         },
         "mode": "markers",
         "name": "",
         "orientation": "v",
         "showlegend": false,
         "type": "scatter",
         "x": [
          "Aniruddha Roy Chowdhury",
          "Neeraj Ghaywan",
          "Meghna Gulzar",
          "Yash Chopra",
          "Shimit Amin",
          "Rajkumar Santoshi",
          "Nagesh Kukunoor",
          "Hrishikesh Mukherjee",
          "Nikkhil Advani",
          "Kundan Shah",
          "Dibakar Banerjee",
          "Rajkumar Hirani",
          "Nishikant Kamat",
          "Ram Gopal Varma",
          "Mukul Anand",
          "S.S. Rajamouli",
          "Gauri Shinde",
          "Vishal Bhardwaj",
          "Abhishek Chaubey",
          "K. Asif",
          "Kabir Khan",
          "Aamir Khan",
          "Sujoy Ghosh",
          "Farhan Akhtar",
          "Imtiaz Ali",
          "Karan Johar",
          "Mani Ratnam",
          "Yash Chopra",
          "Umesh Shukla",
          "Shekhar Kapur",
          "Vishal Bhardwaj",
          "Anurag Kashyap",
          "Anurag Kashyap",
          "Rakeysh Omprakash Mehra",
          "Ketan Mehta",
          "Mansoor Khan",
          "Ram Gopal Varma",
          "Zoya Akhtar",
          "Advait Chandan",
          "R. Balki",
          "Shoojit Sircar",
          "Mahesh Manjrekar",
          "Vijay Anand",
          "Neeraj Pandey",
          "Anurag Kashyap",
          "J.P. Dutta",
          "Neeraj Pandey",
          "Amit Ravindernath Sharma",
          "Ashutosh Gowariker",
          "Abhishek Kapoor",
          "John Mathew Matthan",
          "Dibakar Banerjee",
          "Meghna Gulzar",
          "Anurag Kashyap",
          "Vishal Bhardwaj",
          "S.S. Rajamouli",
          "Deepa Mehta",
          "Rajkumar Hirani",
          "Chandra Barot",
          "Vikas Bahl",
          "Rajkumar Hirani",
          "Sagar Ballary",
          "Mani Ratnam",
          "Rajat Kapoor",
          "Shakun Batra",
          "Raja Menon",
          "Sanjay Leela Bhansali",
          "Neeraj Pandey",
          "Aditya Chopra",
          "Rajkumar Hirani",
          "Ram Madhvani",
          "Tigmanshu Dhulia",
          "Shashant Shah",
          "Shoojit Sircar",
          "Anurag Kashyap",
          "Rakeysh Omprakash Mehra",
          "Ram Gopal Varma",
          "Nitesh Tiwari",
          "Kundan Shah",
          "Ramesh Sippy",
          "Ashutosh Gowariker",
          "Priyadarshan",
          "Hrishikesh Mukherjee",
          "Vikramaditya Motwane",
          "Saket Chaudhary",
          "S. Shankar",
          "Mehboob Khan",
          "Amit Masurkar",
          "Farhan Akhtar",
          "Sriram Raghavan",
          "Navdeep Singh",
          "Kamal Haasan",
          "Rajkumar Santoshi",
          "Hansal Mehta",
          "Shimit Amin",
          "Anurag Basu",
          "Prakash Jha",
          "Hrishikesh Mukherjee",
          "Yash Chopra",
          "Ritesh Batra",
          "Mukul Anand",
          "Shakun Batra",
          "Ravi Udyawar",
          "Priyadarshan",
          "Lawrence D'Souza",
          "Shimit Amin",
          "Rakeysh Omprakash Mehra",
          "Vikas Bahl",
          "Rajat Kapoor",
          "R. Balki",
          "Mira Nair",
          "Abhishek Kapoor",
          "Dibakar Banerjee",
          "Gautham Vasudev Menon",
          "Akarsh Khurana",
          "A.R. Murugadoss",
          "Mani Ratnam",
          "Sooraj R. Barjatya",
          "Hrishikesh Mukherjee",
          "Yash Chopra",
          "Nitesh Tiwari",
          "Rajkumar Santoshi",
          "Anurag Kashyap",
          "Aamir Khan",
          "Reema Kagti",
          "Imtiaz Ali",
          "Ram Gopal Varma",
          "Anurag Kashyap",
          "Vipul Amrutlal Shah",
          "Raaj Shaandilyaa",
          "Aanand L. Rai",
          "Zoya Akhtar",
          "Deepa Mehta",
          "S. Shankar",
          "Amit Masurkar",
          "Advait Chandan",
          "Pan Nalin",
          "Umesh Shukla",
          "Nikkhil Advani",
          "Anubhav Sinha",
          "Subhash Kapoor",
          "Mani Ratnam",
          "Raj Kumar Gupta",
          "Manmohan Desai",
          "Ramesh Sippy",
          "Farhan Akhtar",
          "Neeraj Pandey",
          "Vikramaditya Motwane",
          "Dibakar Banerjee",
          "Ashutosh Gowariker",
          "Anurag Kashyap",
          "Anurag Kashyap",
          "Madhur Bhandarkar",
          "Rajkumar Hirani",
          "Rajkumar Santoshi",
          "Ashutosh Gowariker",
          "Sudha Kongara",
          "Abhinay Deo",
          "Abbas Alibhai Burmawalla",
          "Sriram Raghavan",
          "Kundan Shah",
          "Vikramaditya Motwane",
          "Karan Johar",
          "Sidharth Malhotra",
          "Abbas Alibhai Burmawalla",
          "Neeraj Ghaywan",
          "Mansoor Khan",
          "Rajkumar Hirani",
          "Priyadarshan",
          "Rajkumar Hirani",
          "Shoojit Sircar",
          "Sanjay Leela Bhansali",
          "Vishal Bhardwaj",
          "Hrishikesh Mukherjee",
          "Ram Gopal Varma",
          "Vikram Bhatt",
          "Sooraj R. Barjatya",
          "Mansoor Khan",
          "S.S. Rajamouli",
          "Ashutosh Gowariker",
          "Ram Gopal Varma",
          "Neeraj Pandey",
          "Ram Madhvani",
          "Abhishek Chaubey",
          "Imtiaz Ali",
          "Trivikram Srinivas",
          "Abbas Tyrewala",
          "Ravi Chopra",
          "Anil Sharma",
          "Ashwiny Iyer Tiwari",
          "Aditya Dhar",
          "Tigmanshu Dhulia",
          "S. Shankar",
          "Shoojit Sircar",
          "Vishal Bhardwaj",
          "Sujoy Ghosh",
          "Anusha Rizvi",
          "Shekhar Kapur",
          "Milan Luthria",
          "Meghna Gulzar",
          "Mrighdeep Lamba",
          "Raj Kumar Gupta",
          "Rakeysh Omprakash Mehra",
          "Anurag Basu",
          "Gauri Shinde",
          "Ribhu Dasgupta",
          "Sagar Ballary",
          "Vijay Anand",
          "Bejoy Nambiar",
          "Shoojit Sircar",
          "Vipul Amrutlal Shah",
          "Shree Narayan Singh",
          "Yash Chopra",
          "Nishikant Kamat",
          "Aanand L. Rai",
          "Rajkumar Santoshi",
          "Raja Menon",
          "Pradeep Sarkar",
          "Sriram Raghavan",
          "Sriram Raghavan",
          "Sandeep Reddy Vanga",
          "Rohit Shetty",
          "Kundan Shah",
          "Shashant Shah",
          "Neeraj Pandey",
          "Amit Ravindernath Sharma",
          "Vivek Agnihotri",
          "Ketan Mehta",
          "Nitesh Tiwari",
          "Pradeep Sarkar",
          "Sankalp Reddy",
          "Kamal Haasan",
          "Abhishek Chaubey",
          "Nikkhil Advani",
          "Mohit Suri",
          "Sanjay Leela Bhansali",
          "Subhash Kapoor",
          "Abhishek Kapoor",
          "Mani Ratnam",
          "Anurag Basu",
          "Suresh Krishna",
          "Vikramaditya Motwane",
          "Kamal Haasan",
          "Sanjay Leela Bhansali",
          "Anand Gandhi",
          "John Mathew Matthan",
          "Chandra Barot",
          "Umesh Shukla",
          "Milan Luthria",
          "Navdeep Singh",
          "Hrishikesh Mukherjee",
          "Imtiaz Ali",
          "Mahesh Manjrekar",
          "Vishal Bhardwaj",
          "K. Asif",
          "Nishikant Kamat",
          "Imtiaz Ali",
          "Navdeep Singh",
          "Nagesh Kukunoor",
          "Karan Johar",
          "Maneesh Sharma",
          "Anurag Kashyap",
          "Shoojit Sircar",
          "Zoya Akhtar",
          "Ajay Bahl",
          "Karan Johar",
          "Meghna Gulzar",
          "Ratnaa Sinha",
          "Yash Chopra",
          "Hansal Mehta",
          "Shimit Amin",
          "Dibakar Banerjee",
          "S. Shankar",
          "Ritesh Batra",
          "Prakash Jha",
          "Dibakar Banerjee",
          "Sanjay Leela Bhansali",
          "S. Shankar",
          "Neeraj Pandey",
          "Kabir Khan",
          "Gauri Shinde",
          "Rajkumar Hirani",
          "Farhan Akhtar",
          "J.P. Dutta",
          "Shimit Amin",
          "Aniruddha Roy Chowdhury",
          "Mehboob Khan",
          "Vishal Bhardwaj",
          "Aditya Chopra",
          "Vikas Bahl",
          "Sharat Katariya",
          "S.S. Rajamouli",
          "Ram Gopal Varma",
          "Priyadarshan",
          "Abhishek Sharma",
          "Mani Ratnam",
          "Saket Chaudhary",
          "Ayan Mukherjee",
          "Anurag Kashyap",
          "Vikas Bahl",
          "Ajay Bahl",
          "Abhishek Kapoor",
          "Vipul Amrutlal Shah",
          "Vijay Anand",
          "Tigmanshu Dhulia",
          "Vishal Bhardwaj",
          "Navdeep Singh",
          "Nishikant Kamat",
          "Imtiaz Ali",
          "Neeraj Pandey",
          "Sudha Kongara",
          "Mani Ratnam",
          "Dibakar Banerjee",
          "Ram Madhvani",
          "Priyadarshan",
          "Ram Gopal Varma",
          "Saket Chaudhary",
          "Pradeep Sarkar",
          "Vipul Amrutlal Shah",
          "Deepa Mehta",
          "Aniruddha Roy Chowdhury",
          "Karan Johar",
          "Milan Luthria",
          "Rakeysh Omprakash Mehra",
          "Anurag Kashyap",
          "Sanjay Leela Bhansali",
          "Ram Gopal Varma",
          "Gauri Shinde",
          "Zoya Akhtar",
          "Rajkumar Hirani",
          "Imtiaz Ali",
          "Manmohan Desai",
          "Abhishek Sharma",
          "John Mathew Matthan",
          "Shree Narayan Singh",
          "Anurag Kashyap",
          "Farhan Akhtar",
          "Hrishikesh Mukherjee",
          "Trivikram Srinivas",
          "S.S. Rajamouli",
          "Yash Chopra",
          "Nishikant Kamat",
          "Shimit Amin",
          "Mani Ratnam",
          "Yash Chopra",
          "Akarsh Khurana",
          "Dibakar Banerjee",
          "Vishal Bhardwaj",
          "Mani Ratnam",
          "Ritesh Batra",
          "Kabir Khan",
          "Nitesh Tiwari",
          "Vishal Bhardwaj",
          "Neeraj Pandey",
          "Mohit Suri",
          "Rakeysh Omprakash Mehra",
          "Prakash Jha",
          "Umesh Shukla",
          "Sriram Raghavan",
          "Mansoor Khan",
          "Sanjay Leela Bhansali",
          "Sooraj R. Barjatya",
          "Vikramaditya Motwane",
          "S. Shankar",
          "Ribhu Dasgupta",
          "Rajkumar Santoshi",
          "Bejoy Nambiar",
          "Shakun Batra",
          "Dibakar Banerjee",
          "S. Shankar",
          "Mani Ratnam",
          "Anurag Kashyap",
          "Neeraj Pandey",
          "Kamal Haasan",
          "Lawrence D'Souza",
          "Milan Luthria",
          "Nitesh Tiwari",
          "Imtiaz Ali",
          "Abhishek Chaubey",
          "Navdeep Singh",
          "Anand Gandhi",
          "Aditya Chopra",
          "Amit Ravindernath Sharma",
          "Ravi Udyawar",
          "Shoojit Sircar",
          "S. Shankar",
          "Ratnaa Sinha",
          "Rajkumar Hirani",
          "Ashwiny Iyer Tiwari",
          "Ashutosh Gowariker",
          "Anil Sharma",
          "Sooraj R. Barjatya",
          "R. Balki",
          "Sankalp Reddy",
          "Dibakar Banerjee",
          "S.S. Rajamouli",
          "Suresh Krishna",
          "Abhishek Kapoor",
          "Sujoy Ghosh",
          "Yash Chopra",
          "Karan Johar",
          "Chandra Barot",
          "A.R. Murugadoss",
          "Ketan Mehta",
          "Shimit Amin",
          "Karan Johar",
          "Abhinay Deo",
          "Subhash Kapoor",
          "Priyadarshan",
          "Kundan Shah",
          "Pradeep Sarkar",
          "Rajkumar Hirani",
          "Raaj Shaandilyaa",
          "Madhur Bhandarkar",
          "Raja Menon",
          "Sriram Raghavan",
          "Farhan Akhtar",
          "Ashutosh Gowariker",
          "Rajat Kapoor",
          "Anubhav Sinha",
          "Umesh Shukla",
          "Anurag Kashyap",
          "Aamir Khan",
          "Vikramaditya Motwane",
          "Ramesh Sippy",
          "Hansal Mehta",
          "Mira Nair",
          "Sagar Ballary",
          "Zoya Akhtar",
          "Abhishek Chaubey",
          "Aanand L. Rai",
          "Sandeep Reddy Vanga",
          "Reema Kagti",
          "Aanand L. Rai",
          "Raj Kumar Gupta",
          "Sidharth Malhotra",
          "Kundan Shah",
          "Vikramaditya Motwane",
          "Anurag Kashyap",
          "Raj Kumar Gupta",
          "Sanjay Leela Bhansali",
          "Mehboob Khan",
          "Sharat Katariya",
          "Shekhar Kapur",
          "Abbas Tyrewala",
          "Vishal Bhardwaj",
          "Nikkhil Advani",
          "Mukul Anand",
          "Gauri Shinde",
          "Anusha Rizvi",
          "S. Shankar",
          "Nikkhil Advani",
          "Anurag Kashyap",
          "Subhash Kapoor",
          "Shoojit Sircar",
          "Rajkumar Santoshi",
          "Amit Masurkar",
          "Mahesh Manjrekar",
          "Kamal Haasan",
          "Neeraj Pandey",
          "K. Asif",
          "Imtiaz Ali",
          "Abbas Alibhai Burmawalla",
          "J.P. Dutta",
          "Shimit Amin",
          "Neeraj Ghaywan",
          "Meghna Gulzar",
          "Ram Gopal Varma",
          "Shashant Shah",
          "Mansoor Khan",
          "Anurag Basu",
          "Rohit Shetty",
          "Vikram Bhatt",
          "Vivek Agnihotri",
          "Hrishikesh Mukherjee",
          "Meghna Gulzar",
          "Shoojit Sircar",
          "Priyadarshan",
          "Ayan Mukherjee",
          "Abbas Alibhai Burmawalla",
          "Mrighdeep Lamba",
          "Vikas Bahl",
          "Hrishikesh Mukherjee",
          "Ashutosh Gowariker",
          "Sanjay Leela Bhansali",
          "Anurag Basu",
          "Ram Gopal Varma",
          "Rajkumar Santoshi",
          "Maneesh Sharma",
          "Ravi Chopra",
          "Shoojit Sircar",
          "Aditya Dhar",
          "Nagesh Kukunoor",
          "Gautham Vasudev Menon",
          "Rajkumar Hirani",
          "Pan Nalin",
          "Advait Chandan",
          "Sriram Raghavan",
          "Anurag Kashyap",
          "Chandra Barot",
          "Shimit Amin",
          "Vishal Bhardwaj",
          "Shoojit Sircar",
          "Rakeysh Omprakash Mehra",
          "Rajat Kapoor",
          "Ashutosh Gowariker",
          "Nitesh Tiwari",
          "Nikkhil Advani",
          "Meghna Gulzar",
          "Ram Gopal Varma",
          "Rajkumar Hirani",
          "R. Balki",
          "Zoya Akhtar",
          "Farhan Akhtar",
          "Imtiaz Ali",
          "Neeraj Pandey",
          "Rajkumar Hirani",
          "Vishal Bhardwaj",
          "Gauri Shinde",
          "Vikas Bahl",
          "Yash Chopra",
          "Ram Madhvani",
          "Karan Johar",
          "Navdeep Singh",
          "Anurag Kashyap",
          "Amit Masurkar",
          "Mehboob Khan",
          "Shoojit Sircar",
          "Dibakar Banerjee",
          "Kundan Shah",
          "Rajkumar Hirani",
          "Advait Chandan",
          "Ketan Mehta",
          "S.S. Rajamouli",
          "Meghna Gulzar",
          "Vishal Bhardwaj",
          "Mansoor Khan",
          "Anurag Kashyap",
          "Rajkumar Santoshi",
          "Kamal Haasan",
          "Vikramaditya Motwane",
          "Ramesh Sippy",
          "Neeraj Pandey",
          "Rakeysh Omprakash Mehra",
          "Yash Chopra",
          "Ashutosh Gowariker",
          "Shekhar Kapur",
          "Sriram Raghavan",
          "Ram Gopal Varma",
          "Hrishikesh Mukherjee",
          "Raja Menon",
          "Aamir Khan",
          "Neeraj Ghaywan",
          "Ram Gopal Varma",
          "Prakash Jha",
          "S.S. Rajamouli",
          "Anurag Basu",
          "Aditya Chopra",
          "Aniruddha Roy Chowdhury",
          "Rajkumar Santoshi",
          "Sagar Ballary",
          "Saket Chaudhary",
          "Amit Ravindernath Sharma",
          "Hrishikesh Mukherjee",
          "Mani Ratnam",
          "Shimit Amin",
          "Rajkumar Hirani",
          "Hansal Mehta",
          "Abhishek Kapoor",
          "Abhishek Chaubey",
          "Vijay Anand",
          "K. Asif",
          "Tigmanshu Dhulia",
          "Anurag Kashyap",
          "John Mathew Matthan",
          "Shashant Shah",
          "Neeraj Pandey",
          "Anurag Kashyap",
          "Farhan Akhtar",
          "Nagesh Kukunoor",
          "Mukul Anand",
          "Sanjay Leela Bhansali",
          "Mani Ratnam",
          "Yash Chopra",
          "Nishikant Kamat",
          "Sujoy Ghosh",
          "Umesh Shukla",
          "S. Shankar",
          "Deepa Mehta",
          "Priyadarshan",
          "Shakun Batra",
          "Kabir Khan",
          "J.P. Dutta",
          "Mahesh Manjrekar",
          "Dibakar Banerjee",
          "Hrishikesh Mukherjee",
          "Kundan Shah",
          "Ritesh Batra"
         ],
         "xaxis": "x",
         "y": [
          8.1,
          8.2,
          8.2,
          8.1,
          7.8,
          8.1,
          8.1,
          8.3,
          7.9,
          7.8,
          7.7,
          8.1,
          8.2,
          8,
          7.7,
          8,
          7.8,
          8.1,
          7.8,
          8.2,
          8,
          8.4,
          8.1,
          7.9,
          7.9,
          8,
          8.2,
          7.8,
          8.1,
          7.8,
          8.1,
          8.2,
          8,
          8.2,
          8,
          8.2,
          8.3,
          8.2,
          7.8,
          7.9,
          7.8,
          8,
          8.4,
          8,
          8.5,
          7.9,
          8,
          8,
          8.2,
          7.7,
          8.1,
          8.3,
          7.8,
          8.1,
          8.1,
          8.2,
          7.7,
          8.1,
          7.8,
          8.2,
          8.4,
          7.6,
          7.7,
          8,
          7.7,
          8,
          8.2,
          8.1,
          8.1,
          8.1,
          7.6,
          8.2,
          7.8,
          7.7,
          8,
          8.1,
          7.6,
          8.4,
          8.4,
          8.2,
          8.1,
          8.2,
          8.6,
          8.2,
          7.9,
          7.8,
          8,
          7.7,
          8.1,
          7.8,
          7.6,
          8,
          8.1,
          8.2,
          8.2,
          8.1,
          7.8,
          8.2,
          7.8,
          7.8,
          7.7,
          7.7,
          7.3,
          8.2,
          7.3,
          7.8,
          8.2,
          7.5,
          8,
          7.9,
          7.4,
          7.8,
          7.2,
          7.6,
          7.6,
          7.4,
          7.6,
          7.3,
          8.6,
          7.8,
          8.3,
          8.1,
          8,
          8.4,
          7.2,
          7.9,
          7.5,
          8.5,
          7.4,
          7,
          7.6,
          7.9,
          7.7,
          8.3,
          7.7,
          7.8,
          7.7,
          8.1,
          7.9,
          8.2,
          7.6,
          8.2,
          7.2,
          7.5,
          8.2,
          7.9,
          8,
          7.6,
          7.7,
          8.2,
          8.2,
          8,
          7.3,
          8.4,
          8.1,
          8.1,
          7.6,
          7.6,
          7.7,
          7.8,
          8.4,
          7.3,
          7.4,
          7.5,
          7.2,
          8.2,
          7.5,
          8.1,
          7.6,
          8.1,
          7.8,
          7.6,
          8.1,
          8.3,
          8,
          7.3,
          7.5,
          8.2,
          8,
          7.6,
          7.6,
          8,
          7.6,
          7.3,
          7.7,
          7.6,
          7.5,
          7.4,
          7.3,
          7.5,
          8.3,
          8.2,
          7.5,
          7.7,
          8.1,
          8.1,
          7.4,
          7.8,
          7.3,
          7.8,
          6.9,
          7.4,
          8.1,
          7.4,
          7.5,
          7.3,
          7.6,
          8.4,
          7.2,
          7.6,
          7.1,
          7.2,
          7.8,
          8.2,
          7.6,
          7.4,
          8,
          7.3,
          7.4,
          7.5,
          7.1,
          7.5,
          7.8,
          7.8,
          8.1,
          8,
          7.9,
          8,
          8.4,
          7.2,
          7.6,
          7.4,
          7.8,
          7.2,
          7.3,
          8.2,
          7.2,
          7.7,
          7.4,
          8.1,
          8.3,
          8.2,
          8,
          7.5,
          8.1,
          8.1,
          7.8,
          7.5,
          7.4,
          7.2,
          8.2,
          7.6,
          8,
          8.1,
          8.2,
          7.6,
          7.4,
          7.6,
          8.1,
          7.6,
          7.2,
          8.1,
          7.5,
          8.2,
          8.1,
          8,
          8.2,
          7.6,
          8.1,
          8.2,
          7.5,
          7.7,
          7.8,
          7.8,
          7.8,
          8.3,
          7.5,
          8.1,
          8,
          8,
          7.8,
          8.1,
          8.1,
          7.9,
          8.2,
          8.1,
          8,
          7.4,
          8.1,
          8.2,
          7.5,
          8.2,
          8.3,
          7.3,
          7.6,
          7.7,
          7.9,
          7.6,
          7.4,
          8.2,
          8.1,
          7.7,
          7.4,
          8.4,
          8.2,
          8.1,
          7.6,
          8.2,
          7.6,
          8,
          7.6,
          8.2,
          8.3,
          7.6,
          7.6,
          7.6,
          7.9,
          7.2,
          7.1,
          7.7,
          8.1,
          8,
          7.3,
          8.1,
          8.1,
          7.6,
          7.5,
          7.8,
          8.2,
          8.4,
          7.7,
          7.5,
          7.6,
          8.1,
          7.2,
          7.4,
          8.1,
          8.3,
          7.6,
          8,
          7.8,
          7.6,
          7.8,
          7.7,
          7.8,
          7.6,
          7.7,
          7.4,
          7.4,
          7.8,
          8,
          8.3,
          8.1,
          8,
          7.3,
          8.2,
          7.8,
          7.5,
          7.4,
          8.2,
          7.5,
          7.3,
          7.6,
          8.3,
          7.3,
          7.4,
          7.2,
          7.7,
          7.7,
          8.1,
          7.6,
          8,
          8.1,
          7.4,
          7.3,
          7.4,
          8.4,
          7.9,
          7.3,
          7.2,
          8.1,
          8.1,
          8,
          7.3,
          7.6,
          7.5,
          7.6,
          8.1,
          7.5,
          7.6,
          7.3,
          7.5,
          7.9,
          7.6,
          7.2,
          8.2,
          8.3,
          7.8,
          8.1,
          8.1,
          7.6,
          7.8,
          7.4,
          8,
          8.2,
          7.4,
          7.6,
          7.2,
          7.3,
          7.8,
          7.3,
          8.1,
          7,
          7.3,
          8,
          7.5,
          7.9,
          8.2,
          8,
          8.2,
          8.1,
          8,
          8.4,
          7.3,
          8.2,
          8.2,
          7.4,
          7.6,
          7.9,
          7.8,
          7.6,
          7.1,
          7.2,
          7.6,
          7.4,
          7.5,
          8.4,
          8.2,
          8.5,
          7.2,
          8.2,
          8,
          7.5,
          7.8,
          7.5,
          8.1,
          7.9,
          7.7,
          7.5,
          7.4,
          7.8,
          7.2,
          8.2,
          7.6,
          7.7,
          8.1,
          7.7,
          8,
          8,
          8,
          8.2,
          7.4,
          7.7,
          7.9,
          7.5,
          8.2,
          7.8,
          8.3,
          7.8,
          7.5,
          7.4,
          7.5,
          7.3,
          7.9,
          8.2,
          8.2,
          7.5,
          8.2,
          7.6,
          7.2,
          6.9,
          7.5,
          8.6,
          8.1,
          7.5,
          8.1,
          8,
          8.1,
          7.2,
          7.4,
          7.8,
          8.3,
          8.1,
          7.6,
          8.1,
          7.7,
          7.8,
          7.8,
          8.5,
          7.8,
          8.2,
          8.1,
          7.7,
          8.2,
          8,
          8.2,
          8.4,
          7.9,
          7.8,
          8.3,
          8.1,
          7.9,
          8.2,
          7.9,
          7.9,
          8,
          8.1,
          8.1,
          7.8,
          8.2,
          8.1,
          7.6,
          8,
          7.6,
          8.1,
          7.7,
          8,
          7.8,
          8.3,
          7.8,
          8.4,
          7.8,
          8,
          8,
          8.2,
          8.1,
          8.2,
          8,
          8.1,
          8,
          8.2,
          8.2,
          8.1,
          8.1,
          7.8,
          8.1,
          7.8,
          7.8,
          8,
          8.6,
          8,
          8.4,
          8.2,
          7.6,
          7.8,
          8.2,
          8.1,
          8.1,
          8.1,
          8.1,
          7.6,
          7.9,
          8,
          8.2,
          7.7,
          7.8,
          8.1,
          8.2,
          7.7,
          7.8,
          8.4,
          8.2,
          8.2,
          8,
          8.1,
          7.8,
          8,
          8.2,
          8.1,
          8.1,
          7.7,
          8.2,
          8.2,
          7.8,
          8.2,
          8.1,
          8.1,
          7.8,
          7.7,
          8.2,
          7.7,
          8,
          7.9,
          8,
          7.7,
          8.3,
          8.4,
          7.8
         ],
         "yaxis": "y"
        }
       ],
       "layout": {
        "legend": {
         "tracegroupgap": 0
        },
        "margin": {
         "t": 60
        },
        "template": {
         "data": {
          "bar": [
           {
            "error_x": {
             "color": "#2a3f5f"
            },
            "error_y": {
             "color": "#2a3f5f"
            },
            "marker": {
             "line": {
              "color": "#E5ECF6",
              "width": 0.5
             },
             "pattern": {
              "fillmode": "overlay",
              "size": 10,
              "solidity": 0.2
             }
            },
            "type": "bar"
           }
          ],
          "barpolar": [
           {
            "marker": {
             "line": {
              "color": "#E5ECF6",
              "width": 0.5
             },
             "pattern": {
              "fillmode": "overlay",
              "size": 10,
              "solidity": 0.2
             }
            },
            "type": "barpolar"
           }
          ],
          "carpet": [
           {
            "aaxis": {
             "endlinecolor": "#2a3f5f",
             "gridcolor": "white",
             "linecolor": "white",
             "minorgridcolor": "white",
             "startlinecolor": "#2a3f5f"
            },
            "baxis": {
             "endlinecolor": "#2a3f5f",
             "gridcolor": "white",
             "linecolor": "white",
             "minorgridcolor": "white",
             "startlinecolor": "#2a3f5f"
            },
            "type": "carpet"
           }
          ],
          "choropleth": [
           {
            "colorbar": {
             "outlinewidth": 0,
             "ticks": ""
            },
            "type": "choropleth"
           }
          ],
          "contour": [
           {
            "colorbar": {
             "outlinewidth": 0,
             "ticks": ""
            },
            "colorscale": [
             [
              0,
              "#0d0887"
             ],
             [
              0.1111111111111111,
              "#46039f"
             ],
             [
              0.2222222222222222,
              "#7201a8"
             ],
             [
              0.3333333333333333,
              "#9c179e"
             ],
             [
              0.4444444444444444,
              "#bd3786"
             ],
             [
              0.5555555555555556,
              "#d8576b"
             ],
             [
              0.6666666666666666,
              "#ed7953"
             ],
             [
              0.7777777777777778,
              "#fb9f3a"
             ],
             [
              0.8888888888888888,
              "#fdca26"
             ],
             [
              1,
              "#f0f921"
             ]
            ],
            "type": "contour"
           }
          ],
          "contourcarpet": [
           {
            "colorbar": {
             "outlinewidth": 0,
             "ticks": ""
            },
            "type": "contourcarpet"
           }
          ],
          "heatmap": [
           {
            "colorbar": {
             "outlinewidth": 0,
             "ticks": ""
            },
            "colorscale": [
             [
              0,
              "#0d0887"
             ],
             [
              0.1111111111111111,
              "#46039f"
             ],
             [
              0.2222222222222222,
              "#7201a8"
             ],
             [
              0.3333333333333333,
              "#9c179e"
             ],
             [
              0.4444444444444444,
              "#bd3786"
             ],
             [
              0.5555555555555556,
              "#d8576b"
             ],
             [
              0.6666666666666666,
              "#ed7953"
             ],
             [
              0.7777777777777778,
              "#fb9f3a"
             ],
             [
              0.8888888888888888,
              "#fdca26"
             ],
             [
              1,
              "#f0f921"
             ]
            ],
            "type": "heatmap"
           }
          ],
          "heatmapgl": [
           {
            "colorbar": {
             "outlinewidth": 0,
             "ticks": ""
            },
            "colorscale": [
             [
              0,
              "#0d0887"
             ],
             [
              0.1111111111111111,
              "#46039f"
             ],
             [
              0.2222222222222222,
              "#7201a8"
             ],
             [
              0.3333333333333333,
              "#9c179e"
             ],
             [
              0.4444444444444444,
              "#bd3786"
             ],
             [
              0.5555555555555556,
              "#d8576b"
             ],
             [
              0.6666666666666666,
              "#ed7953"
             ],
             [
              0.7777777777777778,
              "#fb9f3a"
             ],
             [
              0.8888888888888888,
              "#fdca26"
             ],
             [
              1,
              "#f0f921"
             ]
            ],
            "type": "heatmapgl"
           }
          ],
          "histogram": [
           {
            "marker": {
             "pattern": {
              "fillmode": "overlay",
              "size": 10,
              "solidity": 0.2
             }
            },
            "type": "histogram"
           }
          ],
          "histogram2d": [
           {
            "colorbar": {
             "outlinewidth": 0,
             "ticks": ""
            },
            "colorscale": [
             [
              0,
              "#0d0887"
             ],
             [
              0.1111111111111111,
              "#46039f"
             ],
             [
              0.2222222222222222,
              "#7201a8"
             ],
             [
              0.3333333333333333,
              "#9c179e"
             ],
             [
              0.4444444444444444,
              "#bd3786"
             ],
             [
              0.5555555555555556,
              "#d8576b"
             ],
             [
              0.6666666666666666,
              "#ed7953"
             ],
             [
              0.7777777777777778,
              "#fb9f3a"
             ],
             [
              0.8888888888888888,
              "#fdca26"
             ],
             [
              1,
              "#f0f921"
             ]
            ],
            "type": "histogram2d"
           }
          ],
          "histogram2dcontour": [
           {
            "colorbar": {
             "outlinewidth": 0,
             "ticks": ""
            },
            "colorscale": [
             [
              0,
              "#0d0887"
             ],
             [
              0.1111111111111111,
              "#46039f"
             ],
             [
              0.2222222222222222,
              "#7201a8"
             ],
             [
              0.3333333333333333,
              "#9c179e"
             ],
             [
              0.4444444444444444,
              "#bd3786"
             ],
             [
              0.5555555555555556,
              "#d8576b"
             ],
             [
              0.6666666666666666,
              "#ed7953"
             ],
             [
              0.7777777777777778,
              "#fb9f3a"
             ],
             [
              0.8888888888888888,
              "#fdca26"
             ],
             [
              1,
              "#f0f921"
             ]
            ],
            "type": "histogram2dcontour"
           }
          ],
          "mesh3d": [
           {
            "colorbar": {
             "outlinewidth": 0,
             "ticks": ""
            },
            "type": "mesh3d"
           }
          ],
          "parcoords": [
           {
            "line": {
             "colorbar": {
              "outlinewidth": 0,
              "ticks": ""
             }
            },
            "type": "parcoords"
           }
          ],
          "pie": [
           {
            "automargin": true,
            "type": "pie"
           }
          ],
          "scatter": [
           {
            "marker": {
             "colorbar": {
              "outlinewidth": 0,
              "ticks": ""
             }
            },
            "type": "scatter"
           }
          ],
          "scatter3d": [
           {
            "line": {
             "colorbar": {
              "outlinewidth": 0,
              "ticks": ""
             }
            },
            "marker": {
             "colorbar": {
              "outlinewidth": 0,
              "ticks": ""
             }
            },
            "type": "scatter3d"
           }
          ],
          "scattercarpet": [
           {
            "marker": {
             "colorbar": {
              "outlinewidth": 0,
              "ticks": ""
             }
            },
            "type": "scattercarpet"
           }
          ],
          "scattergeo": [
           {
            "marker": {
             "colorbar": {
              "outlinewidth": 0,
              "ticks": ""
             }
            },
            "type": "scattergeo"
           }
          ],
          "scattergl": [
           {
            "marker": {
             "colorbar": {
              "outlinewidth": 0,
              "ticks": ""
             }
            },
            "type": "scattergl"
           }
          ],
          "scattermapbox": [
           {
            "marker": {
             "colorbar": {
              "outlinewidth": 0,
              "ticks": ""
             }
            },
            "type": "scattermapbox"
           }
          ],
          "scatterpolar": [
           {
            "marker": {
             "colorbar": {
              "outlinewidth": 0,
              "ticks": ""
             }
            },
            "type": "scatterpolar"
           }
          ],
          "scatterpolargl": [
           {
            "marker": {
             "colorbar": {
              "outlinewidth": 0,
              "ticks": ""
             }
            },
            "type": "scatterpolargl"
           }
          ],
          "scatterternary": [
           {
            "marker": {
             "colorbar": {
              "outlinewidth": 0,
              "ticks": ""
             }
            },
            "type": "scatterternary"
           }
          ],
          "surface": [
           {
            "colorbar": {
             "outlinewidth": 0,
             "ticks": ""
            },
            "colorscale": [
             [
              0,
              "#0d0887"
             ],
             [
              0.1111111111111111,
              "#46039f"
             ],
             [
              0.2222222222222222,
              "#7201a8"
             ],
             [
              0.3333333333333333,
              "#9c179e"
             ],
             [
              0.4444444444444444,
              "#bd3786"
             ],
             [
              0.5555555555555556,
              "#d8576b"
             ],
             [
              0.6666666666666666,
              "#ed7953"
             ],
             [
              0.7777777777777778,
              "#fb9f3a"
             ],
             [
              0.8888888888888888,
              "#fdca26"
             ],
             [
              1,
              "#f0f921"
             ]
            ],
            "type": "surface"
           }
          ],
          "table": [
           {
            "cells": {
             "fill": {
              "color": "#EBF0F8"
             },
             "line": {
              "color": "white"
             }
            },
            "header": {
             "fill": {
              "color": "#C8D4E3"
             },
             "line": {
              "color": "white"
             }
            },
            "type": "table"
           }
          ]
         },
         "layout": {
          "annotationdefaults": {
           "arrowcolor": "#2a3f5f",
           "arrowhead": 0,
           "arrowwidth": 1
          },
          "autotypenumbers": "strict",
          "coloraxis": {
           "colorbar": {
            "outlinewidth": 0,
            "ticks": ""
           }
          },
          "colorscale": {
           "diverging": [
            [
             0,
             "#8e0152"
            ],
            [
             0.1,
             "#c51b7d"
            ],
            [
             0.2,
             "#de77ae"
            ],
            [
             0.3,
             "#f1b6da"
            ],
            [
             0.4,
             "#fde0ef"
            ],
            [
             0.5,
             "#f7f7f7"
            ],
            [
             0.6,
             "#e6f5d0"
            ],
            [
             0.7,
             "#b8e186"
            ],
            [
             0.8,
             "#7fbc41"
            ],
            [
             0.9,
             "#4d9221"
            ],
            [
             1,
             "#276419"
            ]
           ],
           "sequential": [
            [
             0,
             "#0d0887"
            ],
            [
             0.1111111111111111,
             "#46039f"
            ],
            [
             0.2222222222222222,
             "#7201a8"
            ],
            [
             0.3333333333333333,
             "#9c179e"
            ],
            [
             0.4444444444444444,
             "#bd3786"
            ],
            [
             0.5555555555555556,
             "#d8576b"
            ],
            [
             0.6666666666666666,
             "#ed7953"
            ],
            [
             0.7777777777777778,
             "#fb9f3a"
            ],
            [
             0.8888888888888888,
             "#fdca26"
            ],
            [
             1,
             "#f0f921"
            ]
           ],
           "sequentialminus": [
            [
             0,
             "#0d0887"
            ],
            [
             0.1111111111111111,
             "#46039f"
            ],
            [
             0.2222222222222222,
             "#7201a8"
            ],
            [
             0.3333333333333333,
             "#9c179e"
            ],
            [
             0.4444444444444444,
             "#bd3786"
            ],
            [
             0.5555555555555556,
             "#d8576b"
            ],
            [
             0.6666666666666666,
             "#ed7953"
            ],
            [
             0.7777777777777778,
             "#fb9f3a"
            ],
            [
             0.8888888888888888,
             "#fdca26"
            ],
            [
             1,
             "#f0f921"
            ]
           ]
          },
          "colorway": [
           "#636efa",
           "#EF553B",
           "#00cc96",
           "#ab63fa",
           "#FFA15A",
           "#19d3f3",
           "#FF6692",
           "#B6E880",
           "#FF97FF",
           "#FECB52"
          ],
          "font": {
           "color": "#2a3f5f"
          },
          "geo": {
           "bgcolor": "white",
           "lakecolor": "white",
           "landcolor": "#E5ECF6",
           "showlakes": true,
           "showland": true,
           "subunitcolor": "white"
          },
          "hoverlabel": {
           "align": "left"
          },
          "hovermode": "closest",
          "mapbox": {
           "style": "light"
          },
          "paper_bgcolor": "white",
          "plot_bgcolor": "#E5ECF6",
          "polar": {
           "angularaxis": {
            "gridcolor": "white",
            "linecolor": "white",
            "ticks": ""
           },
           "bgcolor": "#E5ECF6",
           "radialaxis": {
            "gridcolor": "white",
            "linecolor": "white",
            "ticks": ""
           }
          },
          "scene": {
           "xaxis": {
            "backgroundcolor": "#E5ECF6",
            "gridcolor": "white",
            "gridwidth": 2,
            "linecolor": "white",
            "showbackground": true,
            "ticks": "",
            "zerolinecolor": "white"
           },
           "yaxis": {
            "backgroundcolor": "#E5ECF6",
            "gridcolor": "white",
            "gridwidth": 2,
            "linecolor": "white",
            "showbackground": true,
            "ticks": "",
            "zerolinecolor": "white"
           },
           "zaxis": {
            "backgroundcolor": "#E5ECF6",
            "gridcolor": "white",
            "gridwidth": 2,
            "linecolor": "white",
            "showbackground": true,
            "ticks": "",
            "zerolinecolor": "white"
           }
          },
          "shapedefaults": {
           "line": {
            "color": "#2a3f5f"
           }
          },
          "ternary": {
           "aaxis": {
            "gridcolor": "white",
            "linecolor": "white",
            "ticks": ""
           },
           "baxis": {
            "gridcolor": "white",
            "linecolor": "white",
            "ticks": ""
           },
           "bgcolor": "#E5ECF6",
           "caxis": {
            "gridcolor": "white",
            "linecolor": "white",
            "ticks": ""
           }
          },
          "title": {
           "x": 0.05
          },
          "xaxis": {
           "automargin": true,
           "gridcolor": "white",
           "linecolor": "white",
           "ticks": "",
           "title": {
            "standoff": 15
           },
           "zerolinecolor": "white",
           "zerolinewidth": 2
          },
          "yaxis": {
           "automargin": true,
           "gridcolor": "white",
           "linecolor": "white",
           "ticks": "",
           "title": {
            "standoff": 15
           },
           "zerolinecolor": "white",
           "zerolinewidth": 2
          }
         }
        },
        "xaxis": {
         "anchor": "y",
         "domain": [
          0,
          1
         ],
         "title": {
          "text": "director"
         }
        },
        "yaxis": {
         "anchor": "x",
         "domain": [
          0,
          1
         ],
         "title": {
          "text": "rating"
         }
        }
       }
      },
      "text/html": [
       "<div>                            <div id=\"dddcb5e2-e1a7-4c5e-b169-81ed8d70047c\" class=\"plotly-graph-div\" style=\"height:525px; width:100%;\"></div>            <script type=\"text/javascript\">                require([\"plotly\"], function(Plotly) {                    window.PLOTLYENV=window.PLOTLYENV || {};                                    if (document.getElementById(\"dddcb5e2-e1a7-4c5e-b169-81ed8d70047c\")) {                    Plotly.newPlot(                        \"dddcb5e2-e1a7-4c5e-b169-81ed8d70047c\",                        [{\"hovertemplate\":\"director=%{x}<br>rating=%{y}<extra></extra>\",\"legendgroup\":\"\",\"marker\":{\"color\":\"#636efa\",\"symbol\":\"circle\"},\"mode\":\"markers\",\"name\":\"\",\"orientation\":\"v\",\"showlegend\":false,\"x\":[\"Aniruddha Roy Chowdhury\",\"Neeraj Ghaywan\",\"Meghna Gulzar\",\"Yash Chopra\",\"Shimit Amin\",\"Rajkumar Santoshi\",\"Nagesh Kukunoor\",\"Hrishikesh Mukherjee\",\"Nikkhil Advani\",\"Kundan Shah\",\"Dibakar Banerjee\",\"Rajkumar Hirani\",\"Nishikant Kamat\",\"Ram Gopal Varma\",\"Mukul Anand\",\"S.S. Rajamouli\",\"Gauri Shinde\",\"Vishal Bhardwaj\",\"Abhishek Chaubey\",\"K. Asif\",\"Kabir Khan\",\"Aamir Khan\",\"Sujoy Ghosh\",\"Farhan Akhtar\",\"Imtiaz Ali\",\"Karan Johar\",\"Mani Ratnam\",\"Yash Chopra\",\"Umesh Shukla\",\"Shekhar Kapur\",\"Vishal Bhardwaj\",\"Anurag Kashyap\",\"Anurag Kashyap\",\"Rakeysh Omprakash Mehra\",\"Ketan Mehta\",\"Mansoor Khan\",\"Ram Gopal Varma\",\"Zoya Akhtar\",\"Advait Chandan\",\"R. Balki\",\"Shoojit Sircar\",\"Mahesh Manjrekar\",\"Vijay Anand\",\"Neeraj Pandey\",\"Anurag Kashyap\",\"J.P. Dutta\",\"Neeraj Pandey\",\"Amit Ravindernath Sharma\",\"Ashutosh Gowariker\",\"Abhishek Kapoor\",\"John Mathew Matthan\",\"Dibakar Banerjee\",\"Meghna Gulzar\",\"Anurag Kashyap\",\"Vishal Bhardwaj\",\"S.S. Rajamouli\",\"Deepa Mehta\",\"Rajkumar Hirani\",\"Chandra Barot\",\"Vikas Bahl\",\"Rajkumar Hirani\",\"Sagar Ballary\",\"Mani Ratnam\",\"Rajat Kapoor\",\"Shakun Batra\",\"Raja Menon\",\"Sanjay Leela Bhansali\",\"Neeraj Pandey\",\"Aditya Chopra\",\"Rajkumar Hirani\",\"Ram Madhvani\",\"Tigmanshu Dhulia\",\"Shashant Shah\",\"Shoojit Sircar\",\"Anurag Kashyap\",\"Rakeysh Omprakash Mehra\",\"Ram Gopal Varma\",\"Nitesh Tiwari\",\"Kundan Shah\",\"Ramesh Sippy\",\"Ashutosh Gowariker\",\"Priyadarshan\",\"Hrishikesh Mukherjee\",\"Vikramaditya Motwane\",\"Saket Chaudhary\",\"S. Shankar\",\"Mehboob Khan\",\"Amit Masurkar\",\"Farhan Akhtar\",\"Sriram Raghavan\",\"Navdeep Singh\",\"Kamal Haasan\",\"Rajkumar Santoshi\",\"Hansal Mehta\",\"Shimit Amin\",\"Anurag Basu\",\"Prakash Jha\",\"Hrishikesh Mukherjee\",\"Yash Chopra\",\"Ritesh Batra\",\"Mukul Anand\",\"Shakun Batra\",\"Ravi Udyawar\",\"Priyadarshan\",\"Lawrence D'Souza\",\"Shimit Amin\",\"Rakeysh Omprakash Mehra\",\"Vikas Bahl\",\"Rajat Kapoor\",\"R. Balki\",\"Mira Nair\",\"Abhishek Kapoor\",\"Dibakar Banerjee\",\"Gautham Vasudev Menon\",\"Akarsh Khurana\",\"A.R. Murugadoss\",\"Mani Ratnam\",\"Sooraj R. Barjatya\",\"Hrishikesh Mukherjee\",\"Yash Chopra\",\"Nitesh Tiwari\",\"Rajkumar Santoshi\",\"Anurag Kashyap\",\"Aamir Khan\",\"Reema Kagti\",\"Imtiaz Ali\",\"Ram Gopal Varma\",\"Anurag Kashyap\",\"Vipul Amrutlal Shah\",\"Raaj Shaandilyaa\",\"Aanand L. Rai\",\"Zoya Akhtar\",\"Deepa Mehta\",\"S. Shankar\",\"Amit Masurkar\",\"Advait Chandan\",\"Pan Nalin\",\"Umesh Shukla\",\"Nikkhil Advani\",\"Anubhav Sinha\",\"Subhash Kapoor\",\"Mani Ratnam\",\"Raj Kumar Gupta\",\"Manmohan Desai\",\"Ramesh Sippy\",\"Farhan Akhtar\",\"Neeraj Pandey\",\"Vikramaditya Motwane\",\"Dibakar Banerjee\",\"Ashutosh Gowariker\",\"Anurag Kashyap\",\"Anurag Kashyap\",\"Madhur Bhandarkar\",\"Rajkumar Hirani\",\"Rajkumar Santoshi\",\"Ashutosh Gowariker\",\"Sudha Kongara\",\"Abhinay Deo\",\"Abbas Alibhai Burmawalla\",\"Sriram Raghavan\",\"Kundan Shah\",\"Vikramaditya Motwane\",\"Karan Johar\",\"Sidharth Malhotra\",\"Abbas Alibhai Burmawalla\",\"Neeraj Ghaywan\",\"Mansoor Khan\",\"Rajkumar Hirani\",\"Priyadarshan\",\"Rajkumar Hirani\",\"Shoojit Sircar\",\"Sanjay Leela Bhansali\",\"Vishal Bhardwaj\",\"Hrishikesh Mukherjee\",\"Ram Gopal Varma\",\"Vikram Bhatt\",\"Sooraj R. Barjatya\",\"Mansoor Khan\",\"S.S. Rajamouli\",\"Ashutosh Gowariker\",\"Ram Gopal Varma\",\"Neeraj Pandey\",\"Ram Madhvani\",\"Abhishek Chaubey\",\"Imtiaz Ali\",\"Trivikram Srinivas\",\"Abbas Tyrewala\",\"Ravi Chopra\",\"Anil Sharma\",\"Ashwiny Iyer Tiwari\",\"Aditya Dhar\",\"Tigmanshu Dhulia\",\"S. Shankar\",\"Shoojit Sircar\",\"Vishal Bhardwaj\",\"Sujoy Ghosh\",\"Anusha Rizvi\",\"Shekhar Kapur\",\"Milan Luthria\",\"Meghna Gulzar\",\"Mrighdeep Lamba\",\"Raj Kumar Gupta\",\"Rakeysh Omprakash Mehra\",\"Anurag Basu\",\"Gauri Shinde\",\"Ribhu Dasgupta\",\"Sagar Ballary\",\"Vijay Anand\",\"Bejoy Nambiar\",\"Shoojit Sircar\",\"Vipul Amrutlal Shah\",\"Shree Narayan Singh\",\"Yash Chopra\",\"Nishikant Kamat\",\"Aanand L. Rai\",\"Rajkumar Santoshi\",\"Raja Menon\",\"Pradeep Sarkar\",\"Sriram Raghavan\",\"Sriram Raghavan\",\"Sandeep Reddy Vanga\",\"Rohit Shetty\",\"Kundan Shah\",\"Shashant Shah\",\"Neeraj Pandey\",\"Amit Ravindernath Sharma\",\"Vivek Agnihotri\",\"Ketan Mehta\",\"Nitesh Tiwari\",\"Pradeep Sarkar\",\"Sankalp Reddy\",\"Kamal Haasan\",\"Abhishek Chaubey\",\"Nikkhil Advani\",\"Mohit Suri\",\"Sanjay Leela Bhansali\",\"Subhash Kapoor\",\"Abhishek Kapoor\",\"Mani Ratnam\",\"Anurag Basu\",\"Suresh Krishna\",\"Vikramaditya Motwane\",\"Kamal Haasan\",\"Sanjay Leela Bhansali\",\"Anand Gandhi\",\"John Mathew Matthan\",\"Chandra Barot\",\"Umesh Shukla\",\"Milan Luthria\",\"Navdeep Singh\",\"Hrishikesh Mukherjee\",\"Imtiaz Ali\",\"Mahesh Manjrekar\",\"Vishal Bhardwaj\",\"K. Asif\",\"Nishikant Kamat\",\"Imtiaz Ali\",\"Navdeep Singh\",\"Nagesh Kukunoor\",\"Karan Johar\",\"Maneesh Sharma\",\"Anurag Kashyap\",\"Shoojit Sircar\",\"Zoya Akhtar\",\"Ajay Bahl\",\"Karan Johar\",\"Meghna Gulzar\",\"Ratnaa Sinha\",\"Yash Chopra\",\"Hansal Mehta\",\"Shimit Amin\",\"Dibakar Banerjee\",\"S. Shankar\",\"Ritesh Batra\",\"Prakash Jha\",\"Dibakar Banerjee\",\"Sanjay Leela Bhansali\",\"S. Shankar\",\"Neeraj Pandey\",\"Kabir Khan\",\"Gauri Shinde\",\"Rajkumar Hirani\",\"Farhan Akhtar\",\"J.P. Dutta\",\"Shimit Amin\",\"Aniruddha Roy Chowdhury\",\"Mehboob Khan\",\"Vishal Bhardwaj\",\"Aditya Chopra\",\"Vikas Bahl\",\"Sharat Katariya\",\"S.S. Rajamouli\",\"Ram Gopal Varma\",\"Priyadarshan\",\"Abhishek Sharma\",\"Mani Ratnam\",\"Saket Chaudhary\",\"Ayan Mukherjee\",\"Anurag Kashyap\",\"Vikas Bahl\",\"Ajay Bahl\",\"Abhishek Kapoor\",\"Vipul Amrutlal Shah\",\"Vijay Anand\",\"Tigmanshu Dhulia\",\"Vishal Bhardwaj\",\"Navdeep Singh\",\"Nishikant Kamat\",\"Imtiaz Ali\",\"Neeraj Pandey\",\"Sudha Kongara\",\"Mani Ratnam\",\"Dibakar Banerjee\",\"Ram Madhvani\",\"Priyadarshan\",\"Ram Gopal Varma\",\"Saket Chaudhary\",\"Pradeep Sarkar\",\"Vipul Amrutlal Shah\",\"Deepa Mehta\",\"Aniruddha Roy Chowdhury\",\"Karan Johar\",\"Milan Luthria\",\"Rakeysh Omprakash Mehra\",\"Anurag Kashyap\",\"Sanjay Leela Bhansali\",\"Ram Gopal Varma\",\"Gauri Shinde\",\"Zoya Akhtar\",\"Rajkumar Hirani\",\"Imtiaz Ali\",\"Manmohan Desai\",\"Abhishek Sharma\",\"John Mathew Matthan\",\"Shree Narayan Singh\",\"Anurag Kashyap\",\"Farhan Akhtar\",\"Hrishikesh Mukherjee\",\"Trivikram Srinivas\",\"S.S. Rajamouli\",\"Yash Chopra\",\"Nishikant Kamat\",\"Shimit Amin\",\"Mani Ratnam\",\"Yash Chopra\",\"Akarsh Khurana\",\"Dibakar Banerjee\",\"Vishal Bhardwaj\",\"Mani Ratnam\",\"Ritesh Batra\",\"Kabir Khan\",\"Nitesh Tiwari\",\"Vishal Bhardwaj\",\"Neeraj Pandey\",\"Mohit Suri\",\"Rakeysh Omprakash Mehra\",\"Prakash Jha\",\"Umesh Shukla\",\"Sriram Raghavan\",\"Mansoor Khan\",\"Sanjay Leela Bhansali\",\"Sooraj R. Barjatya\",\"Vikramaditya Motwane\",\"S. Shankar\",\"Ribhu Dasgupta\",\"Rajkumar Santoshi\",\"Bejoy Nambiar\",\"Shakun Batra\",\"Dibakar Banerjee\",\"S. Shankar\",\"Mani Ratnam\",\"Anurag Kashyap\",\"Neeraj Pandey\",\"Kamal Haasan\",\"Lawrence D'Souza\",\"Milan Luthria\",\"Nitesh Tiwari\",\"Imtiaz Ali\",\"Abhishek Chaubey\",\"Navdeep Singh\",\"Anand Gandhi\",\"Aditya Chopra\",\"Amit Ravindernath Sharma\",\"Ravi Udyawar\",\"Shoojit Sircar\",\"S. Shankar\",\"Ratnaa Sinha\",\"Rajkumar Hirani\",\"Ashwiny Iyer Tiwari\",\"Ashutosh Gowariker\",\"Anil Sharma\",\"Sooraj R. Barjatya\",\"R. Balki\",\"Sankalp Reddy\",\"Dibakar Banerjee\",\"S.S. Rajamouli\",\"Suresh Krishna\",\"Abhishek Kapoor\",\"Sujoy Ghosh\",\"Yash Chopra\",\"Karan Johar\",\"Chandra Barot\",\"A.R. Murugadoss\",\"Ketan Mehta\",\"Shimit Amin\",\"Karan Johar\",\"Abhinay Deo\",\"Subhash Kapoor\",\"Priyadarshan\",\"Kundan Shah\",\"Pradeep Sarkar\",\"Rajkumar Hirani\",\"Raaj Shaandilyaa\",\"Madhur Bhandarkar\",\"Raja Menon\",\"Sriram Raghavan\",\"Farhan Akhtar\",\"Ashutosh Gowariker\",\"Rajat Kapoor\",\"Anubhav Sinha\",\"Umesh Shukla\",\"Anurag Kashyap\",\"Aamir Khan\",\"Vikramaditya Motwane\",\"Ramesh Sippy\",\"Hansal Mehta\",\"Mira Nair\",\"Sagar Ballary\",\"Zoya Akhtar\",\"Abhishek Chaubey\",\"Aanand L. Rai\",\"Sandeep Reddy Vanga\",\"Reema Kagti\",\"Aanand L. Rai\",\"Raj Kumar Gupta\",\"Sidharth Malhotra\",\"Kundan Shah\",\"Vikramaditya Motwane\",\"Anurag Kashyap\",\"Raj Kumar Gupta\",\"Sanjay Leela Bhansali\",\"Mehboob Khan\",\"Sharat Katariya\",\"Shekhar Kapur\",\"Abbas Tyrewala\",\"Vishal Bhardwaj\",\"Nikkhil Advani\",\"Mukul Anand\",\"Gauri Shinde\",\"Anusha Rizvi\",\"S. Shankar\",\"Nikkhil Advani\",\"Anurag Kashyap\",\"Subhash Kapoor\",\"Shoojit Sircar\",\"Rajkumar Santoshi\",\"Amit Masurkar\",\"Mahesh Manjrekar\",\"Kamal Haasan\",\"Neeraj Pandey\",\"K. Asif\",\"Imtiaz Ali\",\"Abbas Alibhai Burmawalla\",\"J.P. Dutta\",\"Shimit Amin\",\"Neeraj Ghaywan\",\"Meghna Gulzar\",\"Ram Gopal Varma\",\"Shashant Shah\",\"Mansoor Khan\",\"Anurag Basu\",\"Rohit Shetty\",\"Vikram Bhatt\",\"Vivek Agnihotri\",\"Hrishikesh Mukherjee\",\"Meghna Gulzar\",\"Shoojit Sircar\",\"Priyadarshan\",\"Ayan Mukherjee\",\"Abbas Alibhai Burmawalla\",\"Mrighdeep Lamba\",\"Vikas Bahl\",\"Hrishikesh Mukherjee\",\"Ashutosh Gowariker\",\"Sanjay Leela Bhansali\",\"Anurag Basu\",\"Ram Gopal Varma\",\"Rajkumar Santoshi\",\"Maneesh Sharma\",\"Ravi Chopra\",\"Shoojit Sircar\",\"Aditya Dhar\",\"Nagesh Kukunoor\",\"Gautham Vasudev Menon\",\"Rajkumar Hirani\",\"Pan Nalin\",\"Advait Chandan\",\"Sriram Raghavan\",\"Anurag Kashyap\",\"Chandra Barot\",\"Shimit Amin\",\"Vishal Bhardwaj\",\"Shoojit Sircar\",\"Rakeysh Omprakash Mehra\",\"Rajat Kapoor\",\"Ashutosh Gowariker\",\"Nitesh Tiwari\",\"Nikkhil Advani\",\"Meghna Gulzar\",\"Ram Gopal Varma\",\"Rajkumar Hirani\",\"R. Balki\",\"Zoya Akhtar\",\"Farhan Akhtar\",\"Imtiaz Ali\",\"Neeraj Pandey\",\"Rajkumar Hirani\",\"Vishal Bhardwaj\",\"Gauri Shinde\",\"Vikas Bahl\",\"Yash Chopra\",\"Ram Madhvani\",\"Karan Johar\",\"Navdeep Singh\",\"Anurag Kashyap\",\"Amit Masurkar\",\"Mehboob Khan\",\"Shoojit Sircar\",\"Dibakar Banerjee\",\"Kundan Shah\",\"Rajkumar Hirani\",\"Advait Chandan\",\"Ketan Mehta\",\"S.S. Rajamouli\",\"Meghna Gulzar\",\"Vishal Bhardwaj\",\"Mansoor Khan\",\"Anurag Kashyap\",\"Rajkumar Santoshi\",\"Kamal Haasan\",\"Vikramaditya Motwane\",\"Ramesh Sippy\",\"Neeraj Pandey\",\"Rakeysh Omprakash Mehra\",\"Yash Chopra\",\"Ashutosh Gowariker\",\"Shekhar Kapur\",\"Sriram Raghavan\",\"Ram Gopal Varma\",\"Hrishikesh Mukherjee\",\"Raja Menon\",\"Aamir Khan\",\"Neeraj Ghaywan\",\"Ram Gopal Varma\",\"Prakash Jha\",\"S.S. Rajamouli\",\"Anurag Basu\",\"Aditya Chopra\",\"Aniruddha Roy Chowdhury\",\"Rajkumar Santoshi\",\"Sagar Ballary\",\"Saket Chaudhary\",\"Amit Ravindernath Sharma\",\"Hrishikesh Mukherjee\",\"Mani Ratnam\",\"Shimit Amin\",\"Rajkumar Hirani\",\"Hansal Mehta\",\"Abhishek Kapoor\",\"Abhishek Chaubey\",\"Vijay Anand\",\"K. Asif\",\"Tigmanshu Dhulia\",\"Anurag Kashyap\",\"John Mathew Matthan\",\"Shashant Shah\",\"Neeraj Pandey\",\"Anurag Kashyap\",\"Farhan Akhtar\",\"Nagesh Kukunoor\",\"Mukul Anand\",\"Sanjay Leela Bhansali\",\"Mani Ratnam\",\"Yash Chopra\",\"Nishikant Kamat\",\"Sujoy Ghosh\",\"Umesh Shukla\",\"S. Shankar\",\"Deepa Mehta\",\"Priyadarshan\",\"Shakun Batra\",\"Kabir Khan\",\"J.P. Dutta\",\"Mahesh Manjrekar\",\"Dibakar Banerjee\",\"Hrishikesh Mukherjee\",\"Kundan Shah\",\"Ritesh Batra\"],\"xaxis\":\"x\",\"y\":[8.1,8.2,8.2,8.1,7.8,8.1,8.1,8.3,7.9,7.8,7.7,8.1,8.2,8.0,7.7,8.0,7.8,8.1,7.8,8.2,8.0,8.4,8.1,7.9,7.9,8.0,8.2,7.8,8.1,7.8,8.1,8.2,8.0,8.2,8.0,8.2,8.3,8.2,7.8,7.9,7.8,8.0,8.4,8.0,8.5,7.9,8.0,8.0,8.2,7.7,8.1,8.3,7.8,8.1,8.1,8.2,7.7,8.1,7.8,8.2,8.4,7.6,7.7,8.0,7.7,8.0,8.2,8.1,8.1,8.1,7.6,8.2,7.8,7.7,8.0,8.1,7.6,8.4,8.4,8.2,8.1,8.2,8.6,8.2,7.9,7.8,8.0,7.7,8.1,7.8,7.6,8.0,8.1,8.2,8.2,8.1,7.8,8.2,7.8,7.8,7.7,7.7,7.3,8.2,7.3,7.8,8.2,7.5,8.0,7.9,7.4,7.8,7.2,7.6,7.6,7.4,7.6,7.3,8.6,7.8,8.3,8.1,8.0,8.4,7.2,7.9,7.5,8.5,7.4,7.0,7.6,7.9,7.7,8.3,7.7,7.8,7.7,8.1,7.9,8.2,7.6,8.2,7.2,7.5,8.2,7.9,8.0,7.6,7.7,8.2,8.2,8.0,7.3,8.4,8.1,8.1,7.6,7.6,7.7,7.8,8.4,7.3,7.4,7.5,7.2,8.2,7.5,8.1,7.6,8.1,7.8,7.6,8.1,8.3,8.0,7.3,7.5,8.2,8.0,7.6,7.6,8.0,7.6,7.3,7.7,7.6,7.5,7.4,7.3,7.5,8.3,8.2,7.5,7.7,8.1,8.1,7.4,7.8,7.3,7.8,6.9,7.4,8.1,7.4,7.5,7.3,7.6,8.4,7.2,7.6,7.1,7.2,7.8,8.2,7.6,7.4,8.0,7.3,7.4,7.5,7.1,7.5,7.8,7.8,8.1,8.0,7.9,8.0,8.4,7.2,7.6,7.4,7.8,7.2,7.3,8.2,7.2,7.7,7.4,8.1,8.3,8.2,8.0,7.5,8.1,8.1,7.8,7.5,7.4,7.2,8.2,7.6,8.0,8.1,8.2,7.6,7.4,7.6,8.1,7.6,7.2,8.1,7.5,8.2,8.1,8.0,8.2,7.6,8.1,8.2,7.5,7.7,7.8,7.8,7.8,8.3,7.5,8.1,8.0,8.0,7.8,8.1,8.1,7.9,8.2,8.1,8.0,7.4,8.1,8.2,7.5,8.2,8.3,7.3,7.6,7.7,7.9,7.6,7.4,8.2,8.1,7.7,7.4,8.4,8.2,8.1,7.6,8.2,7.6,8.0,7.6,8.2,8.3,7.6,7.6,7.6,7.9,7.2,7.1,7.7,8.1,8.0,7.3,8.1,8.1,7.6,7.5,7.8,8.2,8.4,7.7,7.5,7.6,8.1,7.2,7.4,8.1,8.3,7.6,8.0,7.8,7.6,7.8,7.7,7.8,7.6,7.7,7.4,7.4,7.8,8.0,8.3,8.1,8.0,7.3,8.2,7.8,7.5,7.4,8.2,7.5,7.3,7.6,8.3,7.3,7.4,7.2,7.7,7.7,8.1,7.6,8.0,8.1,7.4,7.3,7.4,8.4,7.9,7.3,7.2,8.1,8.1,8.0,7.3,7.6,7.5,7.6,8.1,7.5,7.6,7.3,7.5,7.9,7.6,7.2,8.2,8.3,7.8,8.1,8.1,7.6,7.8,7.4,8.0,8.2,7.4,7.6,7.2,7.3,7.8,7.3,8.1,7.0,7.3,8.0,7.5,7.9,8.2,8.0,8.2,8.1,8.0,8.4,7.3,8.2,8.2,7.4,7.6,7.9,7.8,7.6,7.1,7.2,7.6,7.4,7.5,8.4,8.2,8.5,7.2,8.2,8.0,7.5,7.8,7.5,8.1,7.9,7.7,7.5,7.4,7.8,7.2,8.2,7.6,7.7,8.1,7.7,8.0,8.0,8.0,8.2,7.4,7.7,7.9,7.5,8.2,7.8,8.3,7.8,7.5,7.4,7.5,7.3,7.9,8.2,8.2,7.5,8.2,7.6,7.2,6.9,7.5,8.6,8.1,7.5,8.1,8.0,8.1,7.2,7.4,7.8,8.3,8.1,7.6,8.1,7.7,7.8,7.8,8.5,7.8,8.2,8.1,7.7,8.2,8.0,8.2,8.4,7.9,7.8,8.3,8.1,7.9,8.2,7.9,7.9,8.0,8.1,8.1,7.8,8.2,8.1,7.6,8.0,7.6,8.1,7.7,8.0,7.8,8.3,7.8,8.4,7.8,8.0,8.0,8.2,8.1,8.2,8.0,8.1,8.0,8.2,8.2,8.1,8.1,7.8,8.1,7.8,7.8,8.0,8.6,8.0,8.4,8.2,7.6,7.8,8.2,8.1,8.1,8.1,8.1,7.6,7.9,8.0,8.2,7.7,7.8,8.1,8.2,7.7,7.8,8.4,8.2,8.2,8.0,8.1,7.8,8.0,8.2,8.1,8.1,7.7,8.2,8.2,7.8,8.2,8.1,8.1,7.8,7.7,8.2,7.7,8.0,7.9,8.0,7.7,8.3,8.4,7.8],\"yaxis\":\"y\",\"type\":\"scatter\"}],                        {\"template\":{\"data\":{\"bar\":[{\"error_x\":{\"color\":\"#2a3f5f\"},\"error_y\":{\"color\":\"#2a3f5f\"},\"marker\":{\"line\":{\"color\":\"#E5ECF6\",\"width\":0.5},\"pattern\":{\"fillmode\":\"overlay\",\"size\":10,\"solidity\":0.2}},\"type\":\"bar\"}],\"barpolar\":[{\"marker\":{\"line\":{\"color\":\"#E5ECF6\",\"width\":0.5},\"pattern\":{\"fillmode\":\"overlay\",\"size\":10,\"solidity\":0.2}},\"type\":\"barpolar\"}],\"carpet\":[{\"aaxis\":{\"endlinecolor\":\"#2a3f5f\",\"gridcolor\":\"white\",\"linecolor\":\"white\",\"minorgridcolor\":\"white\",\"startlinecolor\":\"#2a3f5f\"},\"baxis\":{\"endlinecolor\":\"#2a3f5f\",\"gridcolor\":\"white\",\"linecolor\":\"white\",\"minorgridcolor\":\"white\",\"startlinecolor\":\"#2a3f5f\"},\"type\":\"carpet\"}],\"choropleth\":[{\"colorbar\":{\"outlinewidth\":0,\"ticks\":\"\"},\"type\":\"choropleth\"}],\"contour\":[{\"colorbar\":{\"outlinewidth\":0,\"ticks\":\"\"},\"colorscale\":[[0.0,\"#0d0887\"],[0.1111111111111111,\"#46039f\"],[0.2222222222222222,\"#7201a8\"],[0.3333333333333333,\"#9c179e\"],[0.4444444444444444,\"#bd3786\"],[0.5555555555555556,\"#d8576b\"],[0.6666666666666666,\"#ed7953\"],[0.7777777777777778,\"#fb9f3a\"],[0.8888888888888888,\"#fdca26\"],[1.0,\"#f0f921\"]],\"type\":\"contour\"}],\"contourcarpet\":[{\"colorbar\":{\"outlinewidth\":0,\"ticks\":\"\"},\"type\":\"contourcarpet\"}],\"heatmap\":[{\"colorbar\":{\"outlinewidth\":0,\"ticks\":\"\"},\"colorscale\":[[0.0,\"#0d0887\"],[0.1111111111111111,\"#46039f\"],[0.2222222222222222,\"#7201a8\"],[0.3333333333333333,\"#9c179e\"],[0.4444444444444444,\"#bd3786\"],[0.5555555555555556,\"#d8576b\"],[0.6666666666666666,\"#ed7953\"],[0.7777777777777778,\"#fb9f3a\"],[0.8888888888888888,\"#fdca26\"],[1.0,\"#f0f921\"]],\"type\":\"heatmap\"}],\"heatmapgl\":[{\"colorbar\":{\"outlinewidth\":0,\"ticks\":\"\"},\"colorscale\":[[0.0,\"#0d0887\"],[0.1111111111111111,\"#46039f\"],[0.2222222222222222,\"#7201a8\"],[0.3333333333333333,\"#9c179e\"],[0.4444444444444444,\"#bd3786\"],[0.5555555555555556,\"#d8576b\"],[0.6666666666666666,\"#ed7953\"],[0.7777777777777778,\"#fb9f3a\"],[0.8888888888888888,\"#fdca26\"],[1.0,\"#f0f921\"]],\"type\":\"heatmapgl\"}],\"histogram\":[{\"marker\":{\"pattern\":{\"fillmode\":\"overlay\",\"size\":10,\"solidity\":0.2}},\"type\":\"histogram\"}],\"histogram2d\":[{\"colorbar\":{\"outlinewidth\":0,\"ticks\":\"\"},\"colorscale\":[[0.0,\"#0d0887\"],[0.1111111111111111,\"#46039f\"],[0.2222222222222222,\"#7201a8\"],[0.3333333333333333,\"#9c179e\"],[0.4444444444444444,\"#bd3786\"],[0.5555555555555556,\"#d8576b\"],[0.6666666666666666,\"#ed7953\"],[0.7777777777777778,\"#fb9f3a\"],[0.8888888888888888,\"#fdca26\"],[1.0,\"#f0f921\"]],\"type\":\"histogram2d\"}],\"histogram2dcontour\":[{\"colorbar\":{\"outlinewidth\":0,\"ticks\":\"\"},\"colorscale\":[[0.0,\"#0d0887\"],[0.1111111111111111,\"#46039f\"],[0.2222222222222222,\"#7201a8\"],[0.3333333333333333,\"#9c179e\"],[0.4444444444444444,\"#bd3786\"],[0.5555555555555556,\"#d8576b\"],[0.6666666666666666,\"#ed7953\"],[0.7777777777777778,\"#fb9f3a\"],[0.8888888888888888,\"#fdca26\"],[1.0,\"#f0f921\"]],\"type\":\"histogram2dcontour\"}],\"mesh3d\":[{\"colorbar\":{\"outlinewidth\":0,\"ticks\":\"\"},\"type\":\"mesh3d\"}],\"parcoords\":[{\"line\":{\"colorbar\":{\"outlinewidth\":0,\"ticks\":\"\"}},\"type\":\"parcoords\"}],\"pie\":[{\"automargin\":true,\"type\":\"pie\"}],\"scatter\":[{\"marker\":{\"colorbar\":{\"outlinewidth\":0,\"ticks\":\"\"}},\"type\":\"scatter\"}],\"scatter3d\":[{\"line\":{\"colorbar\":{\"outlinewidth\":0,\"ticks\":\"\"}},\"marker\":{\"colorbar\":{\"outlinewidth\":0,\"ticks\":\"\"}},\"type\":\"scatter3d\"}],\"scattercarpet\":[{\"marker\":{\"colorbar\":{\"outlinewidth\":0,\"ticks\":\"\"}},\"type\":\"scattercarpet\"}],\"scattergeo\":[{\"marker\":{\"colorbar\":{\"outlinewidth\":0,\"ticks\":\"\"}},\"type\":\"scattergeo\"}],\"scattergl\":[{\"marker\":{\"colorbar\":{\"outlinewidth\":0,\"ticks\":\"\"}},\"type\":\"scattergl\"}],\"scattermapbox\":[{\"marker\":{\"colorbar\":{\"outlinewidth\":0,\"ticks\":\"\"}},\"type\":\"scattermapbox\"}],\"scatterpolar\":[{\"marker\":{\"colorbar\":{\"outlinewidth\":0,\"ticks\":\"\"}},\"type\":\"scatterpolar\"}],\"scatterpolargl\":[{\"marker\":{\"colorbar\":{\"outlinewidth\":0,\"ticks\":\"\"}},\"type\":\"scatterpolargl\"}],\"scatterternary\":[{\"marker\":{\"colorbar\":{\"outlinewidth\":0,\"ticks\":\"\"}},\"type\":\"scatterternary\"}],\"surface\":[{\"colorbar\":{\"outlinewidth\":0,\"ticks\":\"\"},\"colorscale\":[[0.0,\"#0d0887\"],[0.1111111111111111,\"#46039f\"],[0.2222222222222222,\"#7201a8\"],[0.3333333333333333,\"#9c179e\"],[0.4444444444444444,\"#bd3786\"],[0.5555555555555556,\"#d8576b\"],[0.6666666666666666,\"#ed7953\"],[0.7777777777777778,\"#fb9f3a\"],[0.8888888888888888,\"#fdca26\"],[1.0,\"#f0f921\"]],\"type\":\"surface\"}],\"table\":[{\"cells\":{\"fill\":{\"color\":\"#EBF0F8\"},\"line\":{\"color\":\"white\"}},\"header\":{\"fill\":{\"color\":\"#C8D4E3\"},\"line\":{\"color\":\"white\"}},\"type\":\"table\"}]},\"layout\":{\"annotationdefaults\":{\"arrowcolor\":\"#2a3f5f\",\"arrowhead\":0,\"arrowwidth\":1},\"autotypenumbers\":\"strict\",\"coloraxis\":{\"colorbar\":{\"outlinewidth\":0,\"ticks\":\"\"}},\"colorscale\":{\"diverging\":[[0,\"#8e0152\"],[0.1,\"#c51b7d\"],[0.2,\"#de77ae\"],[0.3,\"#f1b6da\"],[0.4,\"#fde0ef\"],[0.5,\"#f7f7f7\"],[0.6,\"#e6f5d0\"],[0.7,\"#b8e186\"],[0.8,\"#7fbc41\"],[0.9,\"#4d9221\"],[1,\"#276419\"]],\"sequential\":[[0.0,\"#0d0887\"],[0.1111111111111111,\"#46039f\"],[0.2222222222222222,\"#7201a8\"],[0.3333333333333333,\"#9c179e\"],[0.4444444444444444,\"#bd3786\"],[0.5555555555555556,\"#d8576b\"],[0.6666666666666666,\"#ed7953\"],[0.7777777777777778,\"#fb9f3a\"],[0.8888888888888888,\"#fdca26\"],[1.0,\"#f0f921\"]],\"sequentialminus\":[[0.0,\"#0d0887\"],[0.1111111111111111,\"#46039f\"],[0.2222222222222222,\"#7201a8\"],[0.3333333333333333,\"#9c179e\"],[0.4444444444444444,\"#bd3786\"],[0.5555555555555556,\"#d8576b\"],[0.6666666666666666,\"#ed7953\"],[0.7777777777777778,\"#fb9f3a\"],[0.8888888888888888,\"#fdca26\"],[1.0,\"#f0f921\"]]},\"colorway\":[\"#636efa\",\"#EF553B\",\"#00cc96\",\"#ab63fa\",\"#FFA15A\",\"#19d3f3\",\"#FF6692\",\"#B6E880\",\"#FF97FF\",\"#FECB52\"],\"font\":{\"color\":\"#2a3f5f\"},\"geo\":{\"bgcolor\":\"white\",\"lakecolor\":\"white\",\"landcolor\":\"#E5ECF6\",\"showlakes\":true,\"showland\":true,\"subunitcolor\":\"white\"},\"hoverlabel\":{\"align\":\"left\"},\"hovermode\":\"closest\",\"mapbox\":{\"style\":\"light\"},\"paper_bgcolor\":\"white\",\"plot_bgcolor\":\"#E5ECF6\",\"polar\":{\"angularaxis\":{\"gridcolor\":\"white\",\"linecolor\":\"white\",\"ticks\":\"\"},\"bgcolor\":\"#E5ECF6\",\"radialaxis\":{\"gridcolor\":\"white\",\"linecolor\":\"white\",\"ticks\":\"\"}},\"scene\":{\"xaxis\":{\"backgroundcolor\":\"#E5ECF6\",\"gridcolor\":\"white\",\"gridwidth\":2,\"linecolor\":\"white\",\"showbackground\":true,\"ticks\":\"\",\"zerolinecolor\":\"white\"},\"yaxis\":{\"backgroundcolor\":\"#E5ECF6\",\"gridcolor\":\"white\",\"gridwidth\":2,\"linecolor\":\"white\",\"showbackground\":true,\"ticks\":\"\",\"zerolinecolor\":\"white\"},\"zaxis\":{\"backgroundcolor\":\"#E5ECF6\",\"gridcolor\":\"white\",\"gridwidth\":2,\"linecolor\":\"white\",\"showbackground\":true,\"ticks\":\"\",\"zerolinecolor\":\"white\"}},\"shapedefaults\":{\"line\":{\"color\":\"#2a3f5f\"}},\"ternary\":{\"aaxis\":{\"gridcolor\":\"white\",\"linecolor\":\"white\",\"ticks\":\"\"},\"baxis\":{\"gridcolor\":\"white\",\"linecolor\":\"white\",\"ticks\":\"\"},\"bgcolor\":\"#E5ECF6\",\"caxis\":{\"gridcolor\":\"white\",\"linecolor\":\"white\",\"ticks\":\"\"}},\"title\":{\"x\":0.05},\"xaxis\":{\"automargin\":true,\"gridcolor\":\"white\",\"linecolor\":\"white\",\"ticks\":\"\",\"title\":{\"standoff\":15},\"zerolinecolor\":\"white\",\"zerolinewidth\":2},\"yaxis\":{\"automargin\":true,\"gridcolor\":\"white\",\"linecolor\":\"white\",\"ticks\":\"\",\"title\":{\"standoff\":15},\"zerolinecolor\":\"white\",\"zerolinewidth\":2}}},\"xaxis\":{\"anchor\":\"y\",\"domain\":[0.0,1.0],\"title\":{\"text\":\"director\"}},\"yaxis\":{\"anchor\":\"x\",\"domain\":[0.0,1.0],\"title\":{\"text\":\"rating\"}},\"legend\":{\"tracegroupgap\":0},\"margin\":{\"t\":60}},                        {\"responsive\": true}                    ).then(function(){\n",
       "                            \n",
       "var gd = document.getElementById('dddcb5e2-e1a7-4c5e-b169-81ed8d70047c');\n",
       "var x = new MutationObserver(function (mutations, observer) {{\n",
       "        var display = window.getComputedStyle(gd).display;\n",
       "        if (!display || display === 'none') {{\n",
       "            console.log([gd, 'removed!']);\n",
       "            Plotly.purge(gd);\n",
       "            observer.disconnect();\n",
       "        }}\n",
       "}});\n",
       "\n",
       "// Listen for the removal of the full notebook cells\n",
       "var notebookContainer = gd.closest('#notebook-container');\n",
       "if (notebookContainer) {{\n",
       "    x.observe(notebookContainer, {childList: true});\n",
       "}}\n",
       "\n",
       "// Listen for the clearing of the current output cell\n",
       "var outputEl = gd.closest('.output');\n",
       "if (outputEl) {{\n",
       "    x.observe(outputEl, {childList: true});\n",
       "}}\n",
       "\n",
       "                        })                };                });            </script>        </div>"
      ]
     },
     "metadata": {},
     "output_type": "display_data"
    }
   ],
   "source": [
    "px.scatter(df,df[\"director\"],df[\"rating\"])"
   ]
  },
  {
   "cell_type": "code",
   "execution_count": null,
   "metadata": {},
   "outputs": [],
   "source": []
  }
 ],
 "metadata": {
  "kernelspec": {
   "display_name": "Python 3",
   "language": "python",
   "name": "python3"
  },
  "language_info": {
   "codemirror_mode": {
    "name": "ipython",
    "version": 3
   },
   "file_extension": ".py",
   "mimetype": "text/x-python",
   "name": "python",
   "nbconvert_exporter": "python",
   "pygments_lexer": "ipython3",
   "version": "3.8.5"
  }
 },
 "nbformat": 4,
 "nbformat_minor": 5
}
