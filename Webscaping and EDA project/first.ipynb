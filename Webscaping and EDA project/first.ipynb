{
 "cells": [
  {
   "cell_type": "markdown",
   "metadata": {},
   "source": [
    "Markdown **Ex**\n"
   ]
  },
  {
   "cell_type": "code",
   "execution_count": null,
   "metadata": {},
   "outputs": [],
   "source": [
    "1256+32568\n"
   ]
  },
  {
   "cell_type": "markdown",
   "metadata": {},
   "source": [
    " Multi _Ex_\n"
   ]
  },
  {
   "cell_type": "code",
   "execution_count": null,
   "metadata": {},
   "outputs": [],
   "source": [
    "25*2"
   ]
  },
  {
   "cell_type": "markdown",
   "metadata": {},
   "source": [
    "# Ex2"
   ]
  },
  {
   "cell_type": "code",
   "execution_count": null,
   "metadata": {},
   "outputs": [],
   "source": [
    "a=int(input(\"Enter value: \"))\n",
    "b=a//2\n",
    "for i in range(a):\n",
    "    if b<pow(2,i):\n",
    "        break\n",
    "r=a-pow(2,i)\n",
    "final=(r*2)+1\n",
    "print(final)"
   ]
  },
  {
   "cell_type": "code",
   "execution_count": null,
   "metadata": {},
   "outputs": [],
   "source": [
    "word = '1000'\n",
    "counter=0\n",
    "for i in range(len(word)-1):\n",
    "    if word[i]==word[i+1]:\n",
    "        counter +=1\n",
    "        print(word[i],counter)\n",
    "        \n",
    "    else:\n",
    "        counter=1\n",
    "        print(word[i],counter)"
   ]
  },
  {
   "cell_type": "code",
   "execution_count": null,
   "metadata": {},
   "outputs": [],
   "source": []
  },
  {
   "cell_type": "code",
   "execution_count": null,
   "metadata": {},
   "outputs": [],
   "source": []
  },
  {
   "cell_type": "code",
   "execution_count": 2,
   "metadata": {},
   "outputs": [],
   "source": [
    " dict1={}"
   ]
  },
  {
   "cell_type": "code",
   "execution_count": 24,
   "metadata": {},
   "outputs": [
    {
     "name": "stdout",
     "output_type": "stream",
     "text": [
      "1. Display Phone Numbers\n",
      "2. Add a Phone Number\n",
      "3. Search contact\n",
      "4. Quit\n",
      "Type in a number (1-4):3\n",
      "Enter name you are searching for?hari\n",
      "hari 265321\n",
      "hari krishna 8645321463\n",
      "============================================================\n",
      "Type in a number (1-4):3\n",
      "Enter name you are searching for?krishna\n",
      "hari 265321\n",
      "hari krishna 8645321463\n",
      "============================================================\n",
      "Type in a number (1-4):4\n",
      "============================================================\n"
     ]
    }
   ],
   "source": [
    "print(\"1. Display Phone Numbers\\n2. Add a Phone Number\\n3. Search contact\\n4. Quit\")\n",
    "def Telephone_Directory(a): \n",
    "    if a==1:\n",
    "        print(\"=\"*20,\"Telephone Numbers:\",\"=\"*20)\n",
    "        for x,y in dict1.items():\n",
    "            print(\"name: \",x)\n",
    "            print(\"number: \",y)\n",
    "        print(\"=\"*60)\n",
    "        Telephone_Directory(int(input(\"Type in a number (1-4):\")))\n",
    "       \n",
    "    elif a==2:\n",
    "        print(\"Add Name and Number\")\n",
    "        name=input(\"Enter Name:\")\n",
    "        number=int(input(\"Phone Number:\"))\n",
    "        dict1[name.lower()]=number\n",
    "        print(\"=\"*60)\n",
    "        Telephone_Directory(int(input(\"Type in a number (1-4):\")))\n",
    "       \n",
    "    elif a==3:\n",
    "        search=(input(\"Enter name you are searching for?\")).lower()\n",
    "        for i,j in dict1.items():\n",
    "            c=list(search) \n",
    "            for x in range(len(c)):\n",
    "                if c[x] in i:\n",
    "                    print(i,j)\n",
    "            #break\n",
    "        print(\"=\"*60)\n",
    "        Telephone_Directory(int(input(\"Type in a number (1-4):\")))            \n",
    "    elif a==4:\n",
    "        pass\n",
    "        print(\"=\"*60)\n",
    "Telephone_Directory(int(input(\"Type in a number (1-4):\")))"
   ]
  },
  {
   "cell_type": "code",
   "execution_count": 13,
   "metadata": {},
   "outputs": [],
   "source": [
    "c=(\"hari krishna\")"
   ]
  },
  {
   "cell_type": "code",
   "execution_count": 25,
   "metadata": {},
   "outputs": [
    {
     "data": {
      "text/plain": [
       "['hari', 'krishna']"
      ]
     },
     "execution_count": 25,
     "metadata": {},
     "output_type": "execute_result"
    }
   ],
   "source": [
    "c.split()"
   ]
  },
  {
   "cell_type": "code",
   "execution_count": null,
   "metadata": {},
   "outputs": [],
   "source": [
    "dict2[b]=84653129630\n",
    "dict2"
   ]
  },
  {
   "cell_type": "code",
   "execution_count": null,
   "metadata": {},
   "outputs": [],
   "source": [
    "a=\"hari\"\n",
    "c=list(a.split())\n",
    "c"
   ]
  },
  {
   "cell_type": "code",
   "execution_count": null,
   "metadata": {},
   "outputs": [],
   "source": [
    "if c[0] in x:\n",
    "    print(x)"
   ]
  },
  {
   "cell_type": "code",
   "execution_count": null,
   "metadata": {},
   "outputs": [],
   "source": [
    "x"
   ]
  },
  {
   "cell_type": "code",
   "execution_count": null,
   "metadata": {},
   "outputs": [],
   "source": [
    "x"
   ]
  },
  {
   "cell_type": "code",
   "execution_count": null,
   "metadata": {},
   "outputs": [],
   "source": [
    "a=int(input(\"Type in a number (1-4):\"))\n",
    "if a==3:\n",
    "    search=input(\"Enter name you are searching for?\")\n",
    "    for i,j in dict1.items():\n",
    "        c=list(search.split())\n",
    "        for x in range(len(c)):\n",
    "            if c[x] in i:\n",
    "                print(i)\n",
    "                print(\"=\"*60)\n",
    "#Telephone_Directory(int(input(\"Type in a number (1-4):\")))\n",
    "else:\n",
    "      pass"
   ]
  },
  {
   "cell_type": "code",
   "execution_count": 42,
   "metadata": {},
   "outputs": [],
   "source": [
    "a=\"Python is an interpreted, object-oriented, high-level programming language with dynamic semantics language\""
   ]
  },
  {
   "cell_type": "code",
   "execution_count": 67,
   "metadata": {},
   "outputs": [
    {
     "name": "stdout",
     "output_type": "stream",
     "text": [
      "7\n"
     ]
    }
   ],
   "source": [
    "d=(a.split())\n",
    "for i in range(len(a)-1):\n",
    "    if d[i]==b:\n",
    "        print(i)\n",
    "        break"
   ]
  },
  {
   "cell_type": "code",
   "execution_count": 55,
   "metadata": {},
   "outputs": [],
   "source": [
    "b=\"language\""
   ]
  },
  {
   "cell_type": "code",
   "execution_count": 61,
   "metadata": {},
   "outputs": [
    {
     "data": {
      "text/plain": [
       "'a'"
      ]
     },
     "execution_count": 61,
     "metadata": {},
     "output_type": "execute_result"
    }
   ],
   "source": [
    "d[10]"
   ]
  },
  {
   "cell_type": "code",
   "execution_count": 1,
   "metadata": {},
   "outputs": [],
   "source": [
    "a=\"\"\"Python is an interpreted, object-oriented, high-level programming language\n",
    "\n",
    "with dynamic semantics.\"\"\""
   ]
  },
  {
   "cell_type": "code",
   "execution_count": 2,
   "metadata": {},
   "outputs": [],
   "source": [
    "b=\"language\""
   ]
  },
  {
   "cell_type": "code",
   "execution_count": null,
   "metadata": {},
   "outputs": [],
   "source": [
    "for b in a:\n",
    "    a.find(b)"
   ]
  },
  {
   "cell_type": "code",
   "execution_count": 3,
   "metadata": {},
   "outputs": [
    {
     "data": {
      "text/plain": [
       "66"
      ]
     },
     "execution_count": 3,
     "metadata": {},
     "output_type": "execute_result"
    }
   ],
   "source": [
    "a.find(b)"
   ]
  },
  {
   "cell_type": "code",
   "execution_count": 7,
   "metadata": {},
   "outputs": [],
   "source": [
    "a=\"Python is an interpreted. python is object-oriented. python is high-level programming language with dynamic semantics. Its high-level built in data structures. Python supports modules and packages. The Python interpreter and the extensive standard library are  available in source or binary form without charge for all major platforms, and can be freely distributed\"\n"
   ]
  },
  {
   "cell_type": "code",
   "execution_count": 10,
   "metadata": {},
   "outputs": [],
   "source": [
    "b=a.split(\".\")"
   ]
  },
  {
   "cell_type": "code",
   "execution_count": 11,
   "metadata": {},
   "outputs": [
    {
     "data": {
      "text/plain": [
       "['Python is an interpreted',\n",
       " ' python is high-level programming language with dynamic semantics',\n",
       " ' Python supports modules and packages']"
      ]
     },
     "execution_count": 11,
     "metadata": {},
     "output_type": "execute_result"
    }
   ],
   "source": [
    "b[::2]"
   ]
  },
  {
   "cell_type": "code",
   "execution_count": 13,
   "metadata": {},
   "outputs": [],
   "source": [
    "p= \"Python is an interpreted. python is object-oriented. python is high-level programming language with dynamic semantics. Its high-level built in data structures. Python supports modules and packages. The Python interpreter and the extensive standard library are available in source or binary form without charge for all major platforms, and can be freely distributed\""
   ]
  },
  {
   "cell_type": "code",
   "execution_count": 34,
   "metadata": {},
   "outputs": [
    {
     "name": "stdout",
     "output_type": "stream",
     "text": [
      "['python', 'is', 'an', 'interpreted.', 'python', 'is', 'object-oriented.', 'python', 'is', 'high-level', 'programming', 'language', 'with', 'dynamic', 'semantics.', 'its', 'high-level', 'built', 'in', 'data', 'structures.', 'python', 'supports', 'modules', 'and', 'packages.', 'the', 'python', 'interpreter', 'and', 'the', 'extensive', 'standard', 'library', 'are', 'available', 'in', 'source', 'or', 'binary', 'form', 'without', 'charge', 'for', 'all', 'major', 'platforms,', 'and', 'can', 'be', 'freely', 'distributed']\n"
     ]
    }
   ],
   "source": [
    "d=list(p.lower().split())\n",
    "print(d)\n",
    "e=set(d)"
   ]
  },
  {
   "cell_type": "code",
   "execution_count": 33,
   "metadata": {},
   "outputs": [
    {
     "name": "stdout",
     "output_type": "stream",
     "text": [
      "{'all', 'language', 'be', 'object-oriented.', 'semantics.', 'data', 'major', 'standard', 'built', 'modules', 'available', 'platforms,', 'programming', 'source', 'is', 'dynamic', 'in', 'packages.', 'binary', 'or', 'structures.', 'the', 'freely', 'can', 'library', 'interpreter', 'high-level', 'without', 'and', 'with', 'supports', 'its', 'form', 'interpreted.', 'are', 'charge', 'extensive', 'for', 'distributed', 'python', 'an'}\n"
     ]
    }
   ],
   "source": [
    "c=(set(d))\n",
    "print(c)"
   ]
  },
  {
   "cell_type": "code",
   "execution_count": 37,
   "metadata": {},
   "outputs": [
    {
     "data": {
      "text/plain": [
       "set()"
      ]
     },
     "execution_count": 37,
     "metadata": {},
     "output_type": "execute_result"
    }
   ],
   "source": [
    "r=e-c\n",
    "r"
   ]
  },
  {
   "cell_type": "code",
   "execution_count": 38,
   "metadata": {},
   "outputs": [
    {
     "name": "stdout",
     "output_type": "stream",
     "text": [
      "2080\n"
     ]
    }
   ],
   "source": [
    "count=0\n",
    "for i in d:\n",
    "    for j in c:\n",
    "        if i!=j:\n",
    "            count=count+1\n",
    "print(count)"
   ]
  },
  {
   "cell_type": "code",
   "execution_count": 40,
   "metadata": {},
   "outputs": [
    {
     "name": "stdout",
     "output_type": "stream",
     "text": [
      "\"Python is an interpreted. python is object-oriented. python is high-level programming language with dynamic semantics. Its high-level built in data structures. Python supports modules and packages. The Python interpreter and the extensive standard library are available in source or binary form without charge for all major platforms, and can be freely distributed\"\n"
     ]
    }
   ],
   "source": [
    "paragraph=input(\"\")\n",
    "a=len((paragraph.lower()).split())\n",
    "b=len((set(paragraph.lower())))"
   ]
  },
  {
   "cell_type": "code",
   "execution_count": 41,
   "metadata": {},
   "outputs": [
    {
     "data": {
      "text/plain": [
       "52"
      ]
     },
     "execution_count": 41,
     "metadata": {},
     "output_type": "execute_result"
    }
   ],
   "source": [
    "a\n"
   ]
  },
  {
   "cell_type": "code",
   "execution_count": 42,
   "metadata": {},
   "outputs": [
    {
     "data": {
      "text/plain": [
       "29"
      ]
     },
     "execution_count": 42,
     "metadata": {},
     "output_type": "execute_result"
    }
   ],
   "source": [
    "b"
   ]
  },
  {
   "cell_type": "code",
   "execution_count": 71,
   "metadata": {},
   "outputs": [
    {
     "data": {
      "text/plain": [
       "'b'"
      ]
     },
     "execution_count": 71,
     "metadata": {},
     "output_type": "execute_result"
    }
   ],
   "source": [
    "a"
   ]
  },
  {
   "cell_type": "code",
   "execution_count": 1,
   "metadata": {},
   "outputs": [],
   "source": [
    "a={\"ram\":'5296',\n",
    "\n",
    "            \"Raghu\":'2345',\n",
    "\n",
    "            \"Kanav\":'9876',\n",
    "\n",
    "            \"Kiran\":'3456'}"
   ]
  },
  {
   "cell_type": "code",
   "execution_count": 2,
   "metadata": {},
   "outputs": [
    {
     "data": {
      "text/plain": [
       "{'ram': '5296', 'Raghu': '2345', 'Kanav': '9876', 'Kiran': '3456'}"
      ]
     },
     "execution_count": 2,
     "metadata": {},
     "output_type": "execute_result"
    }
   ],
   "source": [
    "a"
   ]
  },
  {
   "cell_type": "code",
   "execution_count": 47,
   "metadata": {},
   "outputs": [
    {
     "data": {
      "text/plain": [
       "{'Kanav': ['6', '7', '8', '9'],\n",
       " 'Kiran': ['3', '4', '5', '6'],\n",
       " 'Raghu': ['2', '3', '4', '5'],\n",
       " 'ram': ['2', '5', '6', '9']}"
      ]
     },
     "execution_count": 47,
     "metadata": {},
     "output_type": "execute_result"
    }
   ],
   "source": [
    "\n",
    "dict2={}\n",
    "for i,j in sorted(a.items()):\n",
    "        dict2[(i)]=list(sorted(j))\n",
    "dict2"
   ]
  },
  {
   "cell_type": "code",
   "execution_count": null,
   "metadata": {},
   "outputs": [],
   "source": []
  },
  {
   "cell_type": "code",
   "execution_count": null,
   "metadata": {},
   "outputs": [],
   "source": []
  },
  {
   "cell_type": "code",
   "execution_count": null,
   "metadata": {},
   "outputs": [],
   "source": []
  },
  {
   "cell_type": "code",
   "execution_count": null,
   "metadata": {},
   "outputs": [],
   "source": []
  },
  {
   "cell_type": "code",
   "execution_count": null,
   "metadata": {},
   "outputs": [],
   "source": []
  },
  {
   "cell_type": "code",
   "execution_count": null,
   "metadata": {},
   "outputs": [],
   "source": []
  },
  {
   "cell_type": "code",
   "execution_count": null,
   "metadata": {},
   "outputs": [],
   "source": []
  },
  {
   "cell_type": "code",
   "execution_count": null,
   "metadata": {},
   "outputs": [],
   "source": []
  },
  {
   "cell_type": "code",
   "execution_count": null,
   "metadata": {},
   "outputs": [],
   "source": []
  },
  {
   "cell_type": "code",
   "execution_count": null,
   "metadata": {},
   "outputs": [],
   "source": []
  },
  {
   "cell_type": "code",
   "execution_count": null,
   "metadata": {},
   "outputs": [],
   "source": []
  },
  {
   "cell_type": "code",
   "execution_count": null,
   "metadata": {},
   "outputs": [],
   "source": []
  },
  {
   "cell_type": "code",
   "execution_count": null,
   "metadata": {},
   "outputs": [],
   "source": []
  },
  {
   "cell_type": "code",
   "execution_count": null,
   "metadata": {},
   "outputs": [],
   "source": []
  },
  {
   "cell_type": "code",
   "execution_count": null,
   "metadata": {},
   "outputs": [],
   "source": []
  },
  {
   "cell_type": "code",
   "execution_count": null,
   "metadata": {},
   "outputs": [],
   "source": []
  },
  {
   "cell_type": "code",
   "execution_count": null,
   "metadata": {},
   "outputs": [],
   "source": []
  },
  {
   "cell_type": "code",
   "execution_count": null,
   "metadata": {},
   "outputs": [],
   "source": []
  },
  {
   "cell_type": "code",
   "execution_count": null,
   "metadata": {},
   "outputs": [],
   "source": []
  },
  {
   "cell_type": "code",
   "execution_count": null,
   "metadata": {},
   "outputs": [],
   "source": []
  },
  {
   "cell_type": "code",
   "execution_count": null,
   "metadata": {},
   "outputs": [],
   "source": []
  },
  {
   "cell_type": "code",
   "execution_count": null,
   "metadata": {},
   "outputs": [],
   "source": []
  },
  {
   "cell_type": "code",
   "execution_count": null,
   "metadata": {},
   "outputs": [],
   "source": []
  },
  {
   "cell_type": "code",
   "execution_count": null,
   "metadata": {},
   "outputs": [],
   "source": []
  },
  {
   "cell_type": "code",
   "execution_count": null,
   "metadata": {},
   "outputs": [],
   "source": []
  },
  {
   "cell_type": "code",
   "execution_count": null,
   "metadata": {},
   "outputs": [],
   "source": []
  },
  {
   "cell_type": "code",
   "execution_count": null,
   "metadata": {},
   "outputs": [],
   "source": []
  },
  {
   "cell_type": "code",
   "execution_count": null,
   "metadata": {},
   "outputs": [],
   "source": []
  },
  {
   "cell_type": "code",
   "execution_count": null,
   "metadata": {},
   "outputs": [],
   "source": []
  },
  {
   "cell_type": "code",
   "execution_count": 1,
   "metadata": {},
   "outputs": [],
   "source": [
    "dict1={\n",
    "    \n",
    "}"
   ]
  },
  {
   "cell_type": "code",
   "execution_count": 33,
   "metadata": {},
   "outputs": [
    {
     "name": "stdout",
     "output_type": "stream",
     "text": [
      "Enter the linkhttps://mdbootstrap.com/docs/standard/extended/login/#!\n"
     ]
    }
   ],
   "source": [
    "import random as rm\n",
    "n=rm.randint(50,100)\n",
    "le=str(n)+chr(n)\n",
    "link=input(\"Enter the link\")\n",
    "dict1[le]=link"
   ]
  },
  {
   "cell_type": "code",
   "execution_count": 34,
   "metadata": {},
   "outputs": [
    {
     "data": {
      "text/plain": [
       "{'98b': 'https://www.pythonpool.com/python-alphabet/',\n",
       " '60<': 'https://pythonguides.com/python-generate-random-number/',\n",
       " '63?': 'https://mdbootstrap.com/docs/standard/extended/login/#!'}"
      ]
     },
     "execution_count": 34,
     "metadata": {},
     "output_type": "execute_result"
    }
   ],
   "source": [
    "dict1"
   ]
  },
  {
   "cell_type": "code",
   "execution_count": 35,
   "metadata": {},
   "outputs": [
    {
     "data": {
      "text/plain": [
       "'https://mdbootstrap.com/docs/standard/extended/login/#!'"
      ]
     },
     "execution_count": 35,
     "metadata": {},
     "output_type": "execute_result"
    }
   ],
   "source": [
    "dict1[\"63?\"]"
   ]
  },
  {
   "cell_type": "code",
   "execution_count": null,
   "metadata": {},
   "outputs": [],
   "source": []
  }
 ],
 "metadata": {
  "kernelspec": {
   "display_name": "Python 3",
   "language": "python",
   "name": "python3"
  },
  "language_info": {
   "codemirror_mode": {
    "name": "ipython",
    "version": 3
   },
   "file_extension": ".py",
   "mimetype": "text/x-python",
   "name": "python",
   "nbconvert_exporter": "python",
   "pygments_lexer": "ipython3",
   "version": "3.8.5"
  }
 },
 "nbformat": 4,
 "nbformat_minor": 4
}
